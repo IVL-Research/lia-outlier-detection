{
 "cells": [
  {
   "cell_type": "code",
   "execution_count": 4,
   "metadata": {},
   "outputs": [],
   "source": [
    "from tensorflow.keras.models import Sequential\n",
    "from tensorflow.keras.layers import LSTM, Dropout, RepeatVector, Dense, TimeDistributed\n",
    "from sklearn.model_selection import RandomizedSearchCV\n",
    "from tensorflow.keras.wrappers.scikit_learn import KerasRegressor\n",
    "from tensorflow.keras.optimizers import Adam\n",
    "import numpy as np\n",
    "import pandas as pd\n",
    "from sklearn.preprocessing import StandardScaler"
   ]
  },
  {
   "cell_type": "code",
   "execution_count": 17,
   "metadata": {},
   "outputs": [],
   "source": [
    "# Börja med att testa en av varje och sen utöka. Kolla best_params och försök att lägga värden som ligger i närheten av resultaten\n",
    "param_dist = {\n",
    "    'num_lstm_units': [32], # , 64, 128\n",
    "    'dropout_rate': [0.1],  # , 0.2, 0.3\n",
    "    'lr': [0.0001],  # , 0.001, 0.01\n",
    "    'batch_size': [32],  # , 64\n",
    "    'epochs': [10],  # , 20\n",
    "    'activation': [\"relu\"],  # , \"linear\" , \"sigmoid\", \"tanh\", \"softmax\"\n",
    "    # \"optimizer\": [\"adam\", \"rmsprop\", \"nadam\"],  # adagrad är bra när vi har lite data, adadelta passar för noisy gradients\n",
    "    # \"loss\": [\"mae\", \"mse\", \"binary cross-entropy\"]\n",
    "}"
   ]
  },
  {
   "cell_type": "code",
   "execution_count": 18,
   "metadata": {},
   "outputs": [],
   "source": [
    "def create_dataset(X, y, time_steps=1):\n",
    "    Xs, ys = [], []\n",
    "    for i in range(len(X) - time_steps):\n",
    "        v = X.iloc[i:(i + time_steps)].values\n",
    "        Xs.append(v)\n",
    "        ys.append(y.iloc[i + time_steps])\n",
    "\n",
    "    return np.array(Xs), np.array(ys)"
   ]
  },
  {
   "cell_type": "code",
   "execution_count": 19,
   "metadata": {},
   "outputs": [
    {
     "name": "stderr",
     "output_type": "stream",
     "text": [
      "C:\\Users\\johanna4303\\AppData\\Local\\Temp\\ipykernel_10452\\217021375.py:11: SettingWithCopyWarning: \n",
      "A value is trying to be set on a copy of a slice from a DataFrame.\n",
      "Try using .loc[row_indexer,col_indexer] = value instead\n",
      "\n",
      "See the caveats in the documentation: https://pandas.pydata.org/pandas-docs/stable/user_guide/indexing.html#returning-a-view-versus-a-copy\n",
      "  train[\"Water level, Nap (cm)\"] = scaler.transform(train[[\"Water level, Nap (cm)\"]])\n",
      "C:\\Users\\johanna4303\\AppData\\Local\\Temp\\ipykernel_10452\\217021375.py:12: SettingWithCopyWarning: \n",
      "A value is trying to be set on a copy of a slice from a DataFrame.\n",
      "Try using .loc[row_indexer,col_indexer] = value instead\n",
      "\n",
      "See the caveats in the documentation: https://pandas.pydata.org/pandas-docs/stable/user_guide/indexing.html#returning-a-view-versus-a-copy\n",
      "  test[\"Water level, Nap (cm)\"] = scaler.transform(test[[\"Water level, Nap (cm)\"]])\n"
     ]
    }
   ],
   "source": [
    "df = pd.read_csv(\"data/asset-data-export_O12QnL6kAl-640876dfe5066-1678276319.csv\", delimiter=\";\", header=3, index_col=\"Date/Time\") \n",
    "\n",
    "train_size = int(len(df) * .95)\n",
    "test_size = len(df) - train_size\n",
    "\n",
    "train, test = df.iloc[0:train_size], df.iloc[train_size:len(df)]\n",
    "\n",
    "scaler = StandardScaler()\n",
    "scaler = scaler.fit(train[[\"Water level, Nap (cm)\"]])\n",
    "\n",
    "train[\"Water level, Nap (cm)\"] = scaler.transform(train[[\"Water level, Nap (cm)\"]])\n",
    "test[\"Water level, Nap (cm)\"] = scaler.transform(test[[\"Water level, Nap (cm)\"]])\n",
    "\n",
    "TIME_STEPS = 30\n",
    "\n",
    "X_train, y_train = create_dataset(\n",
    "    train[[\"Water level, Nap (cm)\"]], \n",
    "    train[[\"Water level, Nap (cm)\"]], \n",
    "    TIME_STEPS)\n",
    "\n",
    "X_test, y_test = create_dataset(\n",
    "    test[[\"Water level, Nap (cm)\"]], \n",
    "    test[[\"Water level, Nap (cm)\"]], \n",
    "    TIME_STEPS)"
   ]
  },
  {
   "cell_type": "code",
   "execution_count": 20,
   "metadata": {},
   "outputs": [],
   "source": [
    "def create_model(num_lstm_units=50, dropout_rate=0.2, lr=0.001, activation='relu'):\n",
    "    model = Sequential()\n",
    "    model.add(LSTM(num_lstm_units, input_shape=(X_train.shape[1], X_train.shape[2])))\n",
    "    model.add(Dropout(dropout_rate))\n",
    "    model.add(RepeatVector(n=X_train.shape[1]))\n",
    "    model.add(LSTM(num_lstm_units, return_sequences=True))\n",
    "    model.add(Dropout(dropout_rate))\n",
    "    model.add(TimeDistributed(Dense(units=X_train.shape[2], activation=activation\n",
    "    )))\n",
    "    optimizer = Adam(lr=lr)\n",
    "    model.compile(loss='mae', optimizer=optimizer)\n",
    "    return model"
   ]
  },
  {
   "cell_type": "code",
   "execution_count": 21,
   "metadata": {},
   "outputs": [
    {
     "name": "stderr",
     "output_type": "stream",
     "text": [
      "C:\\Users\\johanna4303\\AppData\\Local\\Temp\\ipykernel_10452\\816287366.py:1: DeprecationWarning: KerasRegressor is deprecated, use Sci-Keras (https://github.com/adriangb/scikeras) instead. See https://www.adriangb.com/scikeras/stable/migration.html for help migrating.\n",
      "  model = KerasRegressor(build_fn=create_model, verbose=0)\n"
     ]
    }
   ],
   "source": [
    "\n",
    "model = KerasRegressor(build_fn=create_model, verbose=0)\n",
    "\n",
    "random_search = RandomizedSearchCV(estimator=model, param_distributions=param_dist,\n",
    "                                   cv=3, n_iter=10, n_jobs=-1, verbose=1)"
   ]
  },
  {
   "cell_type": "code",
   "execution_count": 22,
   "metadata": {},
   "outputs": [
    {
     "name": "stdout",
     "output_type": "stream",
     "text": [
      "Fitting 3 folds for each of 10 candidates, totalling 30 fits\n"
     ]
    },
    {
     "ename": "",
     "evalue": "",
     "output_type": "error",
     "traceback": [
      "\u001b[1;31mFailed to interrupt the Kernel. \n",
      "\u001b[1;31mUnable to start Kernel 'venv (Python 3.11.2)' due to connection timeout. \n",
      "\u001b[1;31mView Jupyter <a href='command:jupyter.viewOutput'>log</a> for further details."
     ]
    }
   ],
   "source": [
    "random_search_results = random_search.fit(X_train, y_train)"
   ]
  },
  {
   "cell_type": "code",
   "execution_count": null,
   "metadata": {},
   "outputs": [],
   "source": [
    "print(\"Best MAE score:\", -random_search_results.best_score_)\n",
    "print(\"Best hyperparameters:\", random_search_results.best_params_)"
   ]
  }
 ],
 "metadata": {
  "kernelspec": {
   "display_name": "venv",
   "language": "python",
   "name": "python3"
  },
  "language_info": {
   "codemirror_mode": {
    "name": "ipython",
    "version": 3
   },
   "file_extension": ".py",
   "mimetype": "text/x-python",
   "name": "python",
   "nbconvert_exporter": "python",
   "pygments_lexer": "ipython3",
   "version": "3.11.2"
  },
  "orig_nbformat": 4
 },
 "nbformat": 4,
 "nbformat_minor": 2
}
