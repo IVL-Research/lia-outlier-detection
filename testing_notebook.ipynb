{
 "cells": [
  {
   "cell_type": "code",
   "execution_count": 51,
   "metadata": {},
   "outputs": [],
   "source": [
    "#!/usr/bin/env python\n",
    "# coding: utf-8\n",
    "\n",
    "import sys\n",
    "import os\n",
    "import matplotlib.pyplot as plt\n",
    "import glob\n",
    "\n",
    "from datetime import datetime\n",
    "from datetime import timedelta\n",
    "from plotly.subplots import make_subplots\n",
    "import plotly.graph_objs as go\n",
    "from ipywidgets import interactive, HBox, VBox\n",
    "# import keras\n",
    "import pandas as pd\n",
    "import numpy as np\n",
    "import random\n",
    "from dash import Dash, dcc, html, Input, Output\n",
    "import plotly.express as px\n",
    "from functools import partial\n",
    "\n",
    "class interactive_data_chooser:\n",
    "    \"\"\"\n",
    "    Class for selecting data graphically and displaying it\n",
    "    \"\"\"\n",
    "    def __init__(self, df, columns):\n",
    "        # we don't need this dataframe, make a df_copy instead?\n",
    "        self.outlier_df = pd.DataFrame()\n",
    "\n",
    "        # self.df = df\n",
    "        self.df_copy = df.copy()\n",
    "        self.columns = columns\n",
    "        self.df_copy[\"manual_outlier\"] = -1\n",
    "        self.df_copy[\"model_outlier\"] = 0\n",
    "\n",
    "        self.axis_dropdowns = None\n",
    "        self.chosen_color_column = self.df_copy[\"manual_outlier\"]\n",
    "    \n",
    "    def activate_plot(self):\n",
    "        \"\"\"\n",
    "        Display interactive plot where images (data points in the plot)\n",
    "        can be selected using box select or lasso select. \n",
    "        \"\"\"\n",
    "        # TODO: cmin and cmax depending on chosen_color_column (manual_outlier will always be -1 to 1) \n",
    "        self.df_copy.reset_index(inplace=True,drop=True)\n",
    "        numeric_df = self.df_copy.select_dtypes(include=np.number)\n",
    "        numeric_columns = numeric_df.columns\n",
    "        \n",
    "        self.f = go.FigureWidget([go.Scatter(y = self.df_copy[self.columns[0]], x = self.df_copy[self.columns[1]], mode = 'markers+lines',\n",
    "                                       selected_marker_color = \"red\",\n",
    "                                             marker=dict(color=numeric_df[numeric_columns[0]], \n",
    "                                                        colorscale=[\"blue\", \"green\", \"orange\"],\n",
    "                                                        size=10))])\n",
    "        \n",
    "        self.f.add_trace(go.Scatter(y=[None], mode='markers',\n",
    "                         marker=dict(symbol='circle', color='blue'),\n",
    "                         name='Not manually chosen'\n",
    "                         ))\n",
    "        \n",
    "        self.f.add_trace(go.Scatter(y=[None], mode='markers',\n",
    "                         marker=dict(symbol='triangle-up', color='green'),\n",
    "                         name='Not outlier',\n",
    "                         ))\n",
    "        \n",
    "        self.f.add_trace(go.Scatter(y=[None], mode='markers',\n",
    "                         marker=dict(symbol='x', color='orange'),\n",
    "                         name='Outlier',\n",
    "                         ))\n",
    "        \n",
    "        \n",
    "        \n",
    "        scatter = self.f.data[0]\n",
    "        scatter.marker.opacity = 0.5\n",
    "        \n",
    "        self.axis_dropdowns = interactive(self.update_axes, yaxis = self.columns, xaxis = self.columns, color = numeric_columns)\n",
    "        # fig.for_each_trace(lambda trace: trace.on_selection(on_selection))\n",
    "        scatter.on_selection(self.selection_fn)\n",
    "        \n",
    "        # Put everything together\n",
    "        return VBox((HBox(self.axis_dropdowns.children),self.f))\n",
    "    \n",
    "    def update_axes(self, xaxis, yaxis,color):\n",
    "        scatter = self.f.data[0]\n",
    "        scatter.x = self.df_copy[xaxis]\n",
    "        scatter.y = self.df_copy[yaxis]\n",
    "        scatter.marker.color = self.df_copy[color]\n",
    "        with self.f.batch_update():\n",
    "            self.f.layout.xaxis.title = xaxis\n",
    "            self.f.layout.yaxis.title = yaxis\n",
    "   \n",
    "    def update_manual_outlier(self, row):\n",
    "        row[\"manual_outlier\"] = 1 if self.df_copy[row[0]][\"manual_outlier\"] != 1 else 0\n",
    "        return row\n",
    "    \n",
    "    # def multiply_rows(row): Use this solution instead of iterrows\n",
    "        # return row['column1'] * row['column2']\n",
    "\n",
    "        # my_df['multiplied'] = my_df.apply(multiply_rows,axis=1)\n",
    "\n",
    "    def update_temp_df_last_sel(self, row, last_selected):\n",
    "        row[\"last_selected\"] = last_selected\n",
    "        return row\n",
    "\n",
    "    def selection_fn(self,trace,points,selector):\n",
    "        \"\"\"\n",
    "        Keeping track of points manually selected and change values in column [\"manual_outlier\"].\n",
    "        Value for points not manually selected is -1. If selected to be an outlier, value is set to 1 (and displayed as an x).\n",
    "        If selected again not to be an outlier, value is set to 0 (and displayed as a triangle). Previous value is stored for future \n",
    "        possibility to undo selection. TODO: Skip previous value since undo button is not required?\n",
    "\n",
    "        Each selection is stored in a temp_df and all temp_df's are stored in self.outlier_df.\n",
    "        The dataframe drop_duplicates_df is the df which will be used to train the model, where only \n",
    "        the last manually made change to a data point is included. \n",
    "        \"\"\"\n",
    "        temp_df = self.df_copy.loc[points.point_inds]\n",
    "        self.chosen_color_column = self.axis_dropdowns.children[2].value  \n",
    "        \n",
    "        last_selected = len(temp_df)\n",
    "        \n",
    "        # temp_df[\"last_selected\"] = temp_df.apply(lambda row: self.update_temp_df_last_sel(row, last_selected), axis=1)\n",
    "        for i in temp_df.iterrows():\n",
    "            idx = i[0]\n",
    "            temp_df.at[idx, \"last_selected\"] = last_selected\n",
    "            # This is needed for keeping track of the changes\n",
    "            temp_df.at[idx, \"manual_outlier\"] = 1 if self.df_copy.at[idx, \"manual_outlier\"] != 1 else 0\n",
    "            # This is needed for displaying values in the plot\n",
    "            self.df_copy.at[idx, \"manual_outlier\"] = 1 if self.df_copy.at[idx, \"manual_outlier\"] != 1 else 0\n",
    "\n",
    "        self.outlier_df = pd.concat([self.outlier_df, temp_df], ignore_index=False, axis=0)\n",
    "\n",
    "        # Needed? Just for printing in the notebook\n",
    "        no_points = \"point\" if last_selected == 1 else \"points\"\n",
    "        print(f\"Selected {last_selected} new {no_points}. Total: {len(self.outlier_df)}\")\n",
    "\n",
    "        # Drop duplicates (needed?) \n",
    "        drop_duplicates_df = self.outlier_df.drop_duplicates(subset=[\"x\", \"y1\"], keep=\"last\")\n",
    "        drop_duplicates_df.sort_values(by=[\"x\"], inplace=True)\n",
    "        print(f\"Unique points selected ({len(drop_duplicates_df)}):\")\n",
    "        for i in drop_duplicates_df.iterrows():\n",
    "            outlier = \"yes\" if i[1][3] == 1 else \"no\"\n",
    "            print(f\"x: {int(i[1][0])}, y1: {int(i[1][1])}, outlier: {outlier}\")\n",
    "\n",
    "        # Update color and symbols based on value in manual_outlier\n",
    "        symbols = self.df_copy[\"manual_outlier\"].map({-1: \"circle\", 0: \"triangle-up\", 1: \"x\"})\n",
    "        trace.update(marker_color=self.df_copy[self.chosen_color_column], marker_symbol=symbols)\n",
    "\n",
    "    def clear_selection(self):\n",
    "        self.outlier_df = self.outlier_df.iloc[0:0]\n",
    "    \n",
    "    def show_selected(self):\n",
    "        for index, row in self.outlier_df.iterrows():\n",
    "            plt.figure()\n",
    "            plt.imshow(plt.imread(row['file']))\n",
    "            plt.title(f\"{row['time']}, wl: {row['wl']}, turb_s: {row['turb_sensor']}, turb_p: {row['turb_post']}\")\n",
    "\n",
    "    # create train model function based on outlier status in self.df\n",
    "\n",
    "    # visualize result in graph\n",
    "\n",
    "    # function to mark point as non-outlier DONE\n",
    "\n",
    "    # button to undo choice\n",
    "\n",
    "    # button to confirm (then train model), disable if not choosen areas == 1\n",
    "\n"
   ]
  },
  {
   "cell_type": "code",
   "execution_count": 52,
   "metadata": {},
   "outputs": [
    {
     "data": {
      "application/vnd.jupyter.widget-view+json": {
       "model_id": "f032bb484ed34eb28b697b3d42d855b5",
       "version_major": 2,
       "version_minor": 0
      },
      "text/plain": [
       "VBox(children=(HBox(children=(Dropdown(description='xaxis', options=('x', 'y1', 'y2'), value='x'), Dropdown(de…"
      ]
     },
     "execution_count": 52,
     "metadata": {},
     "output_type": "execute_result"
    },
    {
     "name": "stdout",
     "output_type": "stream",
     "text": [
      "Selected 7 new points. Total: 7\n",
      "Unique points selected (7):\n",
      "x: 489, y1: 76, outlier: yes\n",
      "x: 492, y1: 94, outlier: yes\n",
      "x: 496, y1: 90, outlier: yes\n",
      "x: 500, y1: 78, outlier: yes\n",
      "x: 501, y1: 77, outlier: yes\n",
      "x: 505, y1: 82, outlier: yes\n",
      "x: 506, y1: 88, outlier: yes\n",
      "Selected 5 new points. Total: 12\n",
      "Unique points selected (8):\n",
      "x: 489, y1: 76, outlier: no\n",
      "x: 492, y1: 94, outlier: yes\n",
      "x: 495, y1: 57, outlier: yes\n",
      "x: 496, y1: 90, outlier: no\n",
      "x: 500, y1: 78, outlier: no\n",
      "x: 501, y1: 77, outlier: no\n",
      "x: 505, y1: 82, outlier: yes\n",
      "x: 506, y1: 88, outlier: yes\n"
     ]
    },
    {
     "name": "stderr",
     "output_type": "stream",
     "text": [
      "C:\\Users\\johanna4303\\AppData\\Local\\Temp\\ipykernel_8900\\175077228.py:137: SettingWithCopyWarning:\n",
      "\n",
      "\n",
      "A value is trying to be set on a copy of a slice from a DataFrame\n",
      "\n",
      "See the caveats in the documentation: https://pandas.pydata.org/pandas-docs/stable/user_guide/indexing.html#returning-a-view-versus-a-copy\n",
      "\n"
     ]
    },
    {
     "name": "stdout",
     "output_type": "stream",
     "text": [
      "Selected 4 new points. Total: 16\n",
      "Unique points selected (12):\n",
      "x: 489, y1: 76, outlier: no\n",
      "x: 492, y1: 94, outlier: yes\n",
      "x: 495, y1: 57, outlier: yes\n",
      "x: 496, y1: 90, outlier: no\n",
      "x: 500, y1: 78, outlier: no\n",
      "x: 501, y1: 77, outlier: no\n",
      "x: 505, y1: 82, outlier: yes\n",
      "x: 506, y1: 88, outlier: yes\n",
      "x: 528, y1: 96, outlier: yes\n",
      "x: 530, y1: 73, outlier: yes\n",
      "x: 531, y1: 100, outlier: yes\n",
      "x: 532, y1: 90, outlier: yes\n"
     ]
    },
    {
     "name": "stderr",
     "output_type": "stream",
     "text": [
      "C:\\Users\\johanna4303\\AppData\\Local\\Temp\\ipykernel_8900\\175077228.py:137: SettingWithCopyWarning:\n",
      "\n",
      "\n",
      "A value is trying to be set on a copy of a slice from a DataFrame\n",
      "\n",
      "See the caveats in the documentation: https://pandas.pydata.org/pandas-docs/stable/user_guide/indexing.html#returning-a-view-versus-a-copy\n",
      "\n"
     ]
    }
   ],
   "source": [
    "#!/usr/bin/env python\n",
    "# coding: utf-8\n",
    "\n",
    "from dash import Dash, dcc, html, Input, Output\n",
    "import plotly.express as px\n",
    "\n",
    "def create_fake_df(n):\n",
    "    \"\"\"\n",
    "    Creates a dataframe with n rows and columns \"x\", \"y1\" and \"y2\". \n",
    "    The data are integers, 0-100.\n",
    "    \"\"\"\n",
    "    x = []\n",
    "    y1 = []\n",
    "    y2 = []\n",
    "\n",
    "    for i in range(n):    \n",
    "        x_int = i\n",
    "        x.append(x_int)\n",
    "        y1_int = random.randint(0, 100)\n",
    "        y1.append(y1_int)\n",
    "        y2_int = random.randint(0, 100)\n",
    "        y2.append(y2_int)\n",
    "\n",
    "    int_dict = {\"x\": np.sort(x), \"y1\": y1, \"y2\": y2}\n",
    "    df = pd.DataFrame(int_dict)\n",
    "    return df\n",
    "\n",
    "df = create_fake_df(1000)\n",
    "chooser = interactive_data_chooser(df, df.columns)\n",
    "chooser.activate_plot()\n"
   ]
  },
  {
   "cell_type": "code",
   "execution_count": 27,
   "metadata": {},
   "outputs": [
    {
     "data": {
      "application/vnd.plotly.v1+json": {
       "config": {
        "plotlyServerURL": "https://plot.ly"
       },
       "data": [
        {
         "marker": {
          "symbol": "circle"
         },
         "mode": "markers",
         "type": "scatter",
         "x": [
          1
         ],
         "y": [
          10
         ]
        },
        {
         "marker": {
          "symbol": "square"
         },
         "mode": "markers",
         "type": "scatter",
         "x": [
          2
         ],
         "y": [
          11
         ]
        },
        {
         "marker": {
          "symbol": "diamond"
         },
         "mode": "markers",
         "type": "scatter",
         "x": [
          3
         ],
         "y": [
          12
         ]
        },
        {
         "marker": {
          "symbol": "cross"
         },
         "mode": "markers",
         "type": "scatter",
         "x": [
          4
         ],
         "y": [
          13
         ]
        }
       ],
       "layout": {
        "legend": {
         "orientation": "h",
         "title": {
          "text": "Symbol Legend"
         },
         "y": -0.2
        },
        "template": {
         "data": {
          "bar": [
           {
            "error_x": {
             "color": "#2a3f5f"
            },
            "error_y": {
             "color": "#2a3f5f"
            },
            "marker": {
             "line": {
              "color": "#E5ECF6",
              "width": 0.5
             },
             "pattern": {
              "fillmode": "overlay",
              "size": 10,
              "solidity": 0.2
             }
            },
            "type": "bar"
           }
          ],
          "barpolar": [
           {
            "marker": {
             "line": {
              "color": "#E5ECF6",
              "width": 0.5
             },
             "pattern": {
              "fillmode": "overlay",
              "size": 10,
              "solidity": 0.2
             }
            },
            "type": "barpolar"
           }
          ],
          "carpet": [
           {
            "aaxis": {
             "endlinecolor": "#2a3f5f",
             "gridcolor": "white",
             "linecolor": "white",
             "minorgridcolor": "white",
             "startlinecolor": "#2a3f5f"
            },
            "baxis": {
             "endlinecolor": "#2a3f5f",
             "gridcolor": "white",
             "linecolor": "white",
             "minorgridcolor": "white",
             "startlinecolor": "#2a3f5f"
            },
            "type": "carpet"
           }
          ],
          "choropleth": [
           {
            "colorbar": {
             "outlinewidth": 0,
             "ticks": ""
            },
            "type": "choropleth"
           }
          ],
          "contour": [
           {
            "colorbar": {
             "outlinewidth": 0,
             "ticks": ""
            },
            "colorscale": [
             [
              0,
              "#0d0887"
             ],
             [
              0.1111111111111111,
              "#46039f"
             ],
             [
              0.2222222222222222,
              "#7201a8"
             ],
             [
              0.3333333333333333,
              "#9c179e"
             ],
             [
              0.4444444444444444,
              "#bd3786"
             ],
             [
              0.5555555555555556,
              "#d8576b"
             ],
             [
              0.6666666666666666,
              "#ed7953"
             ],
             [
              0.7777777777777778,
              "#fb9f3a"
             ],
             [
              0.8888888888888888,
              "#fdca26"
             ],
             [
              1,
              "#f0f921"
             ]
            ],
            "type": "contour"
           }
          ],
          "contourcarpet": [
           {
            "colorbar": {
             "outlinewidth": 0,
             "ticks": ""
            },
            "type": "contourcarpet"
           }
          ],
          "heatmap": [
           {
            "colorbar": {
             "outlinewidth": 0,
             "ticks": ""
            },
            "colorscale": [
             [
              0,
              "#0d0887"
             ],
             [
              0.1111111111111111,
              "#46039f"
             ],
             [
              0.2222222222222222,
              "#7201a8"
             ],
             [
              0.3333333333333333,
              "#9c179e"
             ],
             [
              0.4444444444444444,
              "#bd3786"
             ],
             [
              0.5555555555555556,
              "#d8576b"
             ],
             [
              0.6666666666666666,
              "#ed7953"
             ],
             [
              0.7777777777777778,
              "#fb9f3a"
             ],
             [
              0.8888888888888888,
              "#fdca26"
             ],
             [
              1,
              "#f0f921"
             ]
            ],
            "type": "heatmap"
           }
          ],
          "heatmapgl": [
           {
            "colorbar": {
             "outlinewidth": 0,
             "ticks": ""
            },
            "colorscale": [
             [
              0,
              "#0d0887"
             ],
             [
              0.1111111111111111,
              "#46039f"
             ],
             [
              0.2222222222222222,
              "#7201a8"
             ],
             [
              0.3333333333333333,
              "#9c179e"
             ],
             [
              0.4444444444444444,
              "#bd3786"
             ],
             [
              0.5555555555555556,
              "#d8576b"
             ],
             [
              0.6666666666666666,
              "#ed7953"
             ],
             [
              0.7777777777777778,
              "#fb9f3a"
             ],
             [
              0.8888888888888888,
              "#fdca26"
             ],
             [
              1,
              "#f0f921"
             ]
            ],
            "type": "heatmapgl"
           }
          ],
          "histogram": [
           {
            "marker": {
             "pattern": {
              "fillmode": "overlay",
              "size": 10,
              "solidity": 0.2
             }
            },
            "type": "histogram"
           }
          ],
          "histogram2d": [
           {
            "colorbar": {
             "outlinewidth": 0,
             "ticks": ""
            },
            "colorscale": [
             [
              0,
              "#0d0887"
             ],
             [
              0.1111111111111111,
              "#46039f"
             ],
             [
              0.2222222222222222,
              "#7201a8"
             ],
             [
              0.3333333333333333,
              "#9c179e"
             ],
             [
              0.4444444444444444,
              "#bd3786"
             ],
             [
              0.5555555555555556,
              "#d8576b"
             ],
             [
              0.6666666666666666,
              "#ed7953"
             ],
             [
              0.7777777777777778,
              "#fb9f3a"
             ],
             [
              0.8888888888888888,
              "#fdca26"
             ],
             [
              1,
              "#f0f921"
             ]
            ],
            "type": "histogram2d"
           }
          ],
          "histogram2dcontour": [
           {
            "colorbar": {
             "outlinewidth": 0,
             "ticks": ""
            },
            "colorscale": [
             [
              0,
              "#0d0887"
             ],
             [
              0.1111111111111111,
              "#46039f"
             ],
             [
              0.2222222222222222,
              "#7201a8"
             ],
             [
              0.3333333333333333,
              "#9c179e"
             ],
             [
              0.4444444444444444,
              "#bd3786"
             ],
             [
              0.5555555555555556,
              "#d8576b"
             ],
             [
              0.6666666666666666,
              "#ed7953"
             ],
             [
              0.7777777777777778,
              "#fb9f3a"
             ],
             [
              0.8888888888888888,
              "#fdca26"
             ],
             [
              1,
              "#f0f921"
             ]
            ],
            "type": "histogram2dcontour"
           }
          ],
          "mesh3d": [
           {
            "colorbar": {
             "outlinewidth": 0,
             "ticks": ""
            },
            "type": "mesh3d"
           }
          ],
          "parcoords": [
           {
            "line": {
             "colorbar": {
              "outlinewidth": 0,
              "ticks": ""
             }
            },
            "type": "parcoords"
           }
          ],
          "pie": [
           {
            "automargin": true,
            "type": "pie"
           }
          ],
          "scatter": [
           {
            "fillpattern": {
             "fillmode": "overlay",
             "size": 10,
             "solidity": 0.2
            },
            "type": "scatter"
           }
          ],
          "scatter3d": [
           {
            "line": {
             "colorbar": {
              "outlinewidth": 0,
              "ticks": ""
             }
            },
            "marker": {
             "colorbar": {
              "outlinewidth": 0,
              "ticks": ""
             }
            },
            "type": "scatter3d"
           }
          ],
          "scattercarpet": [
           {
            "marker": {
             "colorbar": {
              "outlinewidth": 0,
              "ticks": ""
             }
            },
            "type": "scattercarpet"
           }
          ],
          "scattergeo": [
           {
            "marker": {
             "colorbar": {
              "outlinewidth": 0,
              "ticks": ""
             }
            },
            "type": "scattergeo"
           }
          ],
          "scattergl": [
           {
            "marker": {
             "colorbar": {
              "outlinewidth": 0,
              "ticks": ""
             }
            },
            "type": "scattergl"
           }
          ],
          "scattermapbox": [
           {
            "marker": {
             "colorbar": {
              "outlinewidth": 0,
              "ticks": ""
             }
            },
            "type": "scattermapbox"
           }
          ],
          "scatterpolar": [
           {
            "marker": {
             "colorbar": {
              "outlinewidth": 0,
              "ticks": ""
             }
            },
            "type": "scatterpolar"
           }
          ],
          "scatterpolargl": [
           {
            "marker": {
             "colorbar": {
              "outlinewidth": 0,
              "ticks": ""
             }
            },
            "type": "scatterpolargl"
           }
          ],
          "scatterternary": [
           {
            "marker": {
             "colorbar": {
              "outlinewidth": 0,
              "ticks": ""
             }
            },
            "type": "scatterternary"
           }
          ],
          "surface": [
           {
            "colorbar": {
             "outlinewidth": 0,
             "ticks": ""
            },
            "colorscale": [
             [
              0,
              "#0d0887"
             ],
             [
              0.1111111111111111,
              "#46039f"
             ],
             [
              0.2222222222222222,
              "#7201a8"
             ],
             [
              0.3333333333333333,
              "#9c179e"
             ],
             [
              0.4444444444444444,
              "#bd3786"
             ],
             [
              0.5555555555555556,
              "#d8576b"
             ],
             [
              0.6666666666666666,
              "#ed7953"
             ],
             [
              0.7777777777777778,
              "#fb9f3a"
             ],
             [
              0.8888888888888888,
              "#fdca26"
             ],
             [
              1,
              "#f0f921"
             ]
            ],
            "type": "surface"
           }
          ],
          "table": [
           {
            "cells": {
             "fill": {
              "color": "#EBF0F8"
             },
             "line": {
              "color": "white"
             }
            },
            "header": {
             "fill": {
              "color": "#C8D4E3"
             },
             "line": {
              "color": "white"
             }
            },
            "type": "table"
           }
          ]
         },
         "layout": {
          "annotationdefaults": {
           "arrowcolor": "#2a3f5f",
           "arrowhead": 0,
           "arrowwidth": 1
          },
          "autotypenumbers": "strict",
          "coloraxis": {
           "colorbar": {
            "outlinewidth": 0,
            "ticks": ""
           }
          },
          "colorscale": {
           "diverging": [
            [
             0,
             "#8e0152"
            ],
            [
             0.1,
             "#c51b7d"
            ],
            [
             0.2,
             "#de77ae"
            ],
            [
             0.3,
             "#f1b6da"
            ],
            [
             0.4,
             "#fde0ef"
            ],
            [
             0.5,
             "#f7f7f7"
            ],
            [
             0.6,
             "#e6f5d0"
            ],
            [
             0.7,
             "#b8e186"
            ],
            [
             0.8,
             "#7fbc41"
            ],
            [
             0.9,
             "#4d9221"
            ],
            [
             1,
             "#276419"
            ]
           ],
           "sequential": [
            [
             0,
             "#0d0887"
            ],
            [
             0.1111111111111111,
             "#46039f"
            ],
            [
             0.2222222222222222,
             "#7201a8"
            ],
            [
             0.3333333333333333,
             "#9c179e"
            ],
            [
             0.4444444444444444,
             "#bd3786"
            ],
            [
             0.5555555555555556,
             "#d8576b"
            ],
            [
             0.6666666666666666,
             "#ed7953"
            ],
            [
             0.7777777777777778,
             "#fb9f3a"
            ],
            [
             0.8888888888888888,
             "#fdca26"
            ],
            [
             1,
             "#f0f921"
            ]
           ],
           "sequentialminus": [
            [
             0,
             "#0d0887"
            ],
            [
             0.1111111111111111,
             "#46039f"
            ],
            [
             0.2222222222222222,
             "#7201a8"
            ],
            [
             0.3333333333333333,
             "#9c179e"
            ],
            [
             0.4444444444444444,
             "#bd3786"
            ],
            [
             0.5555555555555556,
             "#d8576b"
            ],
            [
             0.6666666666666666,
             "#ed7953"
            ],
            [
             0.7777777777777778,
             "#fb9f3a"
            ],
            [
             0.8888888888888888,
             "#fdca26"
            ],
            [
             1,
             "#f0f921"
            ]
           ]
          },
          "colorway": [
           "#636efa",
           "#EF553B",
           "#00cc96",
           "#ab63fa",
           "#FFA15A",
           "#19d3f3",
           "#FF6692",
           "#B6E880",
           "#FF97FF",
           "#FECB52"
          ],
          "font": {
           "color": "#2a3f5f"
          },
          "geo": {
           "bgcolor": "white",
           "lakecolor": "white",
           "landcolor": "#E5ECF6",
           "showlakes": true,
           "showland": true,
           "subunitcolor": "white"
          },
          "hoverlabel": {
           "align": "left"
          },
          "hovermode": "closest",
          "mapbox": {
           "style": "light"
          },
          "paper_bgcolor": "white",
          "plot_bgcolor": "#E5ECF6",
          "polar": {
           "angularaxis": {
            "gridcolor": "white",
            "linecolor": "white",
            "ticks": ""
           },
           "bgcolor": "#E5ECF6",
           "radialaxis": {
            "gridcolor": "white",
            "linecolor": "white",
            "ticks": ""
           }
          },
          "scene": {
           "xaxis": {
            "backgroundcolor": "#E5ECF6",
            "gridcolor": "white",
            "gridwidth": 2,
            "linecolor": "white",
            "showbackground": true,
            "ticks": "",
            "zerolinecolor": "white"
           },
           "yaxis": {
            "backgroundcolor": "#E5ECF6",
            "gridcolor": "white",
            "gridwidth": 2,
            "linecolor": "white",
            "showbackground": true,
            "ticks": "",
            "zerolinecolor": "white"
           },
           "zaxis": {
            "backgroundcolor": "#E5ECF6",
            "gridcolor": "white",
            "gridwidth": 2,
            "linecolor": "white",
            "showbackground": true,
            "ticks": "",
            "zerolinecolor": "white"
           }
          },
          "shapedefaults": {
           "line": {
            "color": "#2a3f5f"
           }
          },
          "ternary": {
           "aaxis": {
            "gridcolor": "white",
            "linecolor": "white",
            "ticks": ""
           },
           "baxis": {
            "gridcolor": "white",
            "linecolor": "white",
            "ticks": ""
           },
           "bgcolor": "#E5ECF6",
           "caxis": {
            "gridcolor": "white",
            "linecolor": "white",
            "ticks": ""
           }
          },
          "title": {
           "x": 0.05
          },
          "xaxis": {
           "automargin": true,
           "gridcolor": "white",
           "linecolor": "white",
           "ticks": "",
           "title": {
            "standoff": 15
           },
           "zerolinecolor": "white",
           "zerolinewidth": 2
          },
          "yaxis": {
           "automargin": true,
           "gridcolor": "white",
           "linecolor": "white",
           "ticks": "",
           "title": {
            "standoff": 15
           },
           "zerolinecolor": "white",
           "zerolinewidth": 2
          }
         }
        },
        "title": {
         "text": "My Plot"
        },
        "xaxis": {
         "title": {
          "text": "X-axis"
         }
        },
        "yaxis": {
         "title": {
          "text": "Y-axis"
         }
        }
       }
      }
     },
     "metadata": {},
     "output_type": "display_data"
    }
   ],
   "source": [
    "import plotly.graph_objects as go\n",
    "\n",
    "# Create your plot data\n",
    "x = [1, 2, 3, 4]\n",
    "y = [10, 11, 12, 13]\n",
    "symbols = ['circle', 'square', 'diamond', 'cross']\n",
    "\n",
    "# Create a trace for each symbol\n",
    "traces = []\n",
    "for i in range(len(symbols)):\n",
    "    traces.append(go.Scatter(\n",
    "        x=[x[i]],\n",
    "        y=[y[i]],\n",
    "        mode='markers',\n",
    "        marker=dict(symbol=symbols[i])\n",
    "    ))\n",
    "\n",
    "# Create the layout\n",
    "layout = go.Layout(\n",
    "    title='My Plot',\n",
    "    xaxis=dict(title='X-axis'),\n",
    "    yaxis=dict(title='Y-axis'),\n",
    "    legend=dict(\n",
    "        title='Symbol Legend',\n",
    "        orientation='h',\n",
    "        y=-0.2\n",
    "    )\n",
    ")\n",
    "\n",
    "# Create the figure and add the traces and layout\n",
    "fig = go.Figure(data=traces, layout=layout)\n",
    "\n",
    "# Show the figure\n",
    "fig.show()\n",
    "\n"
   ]
  },
  {
   "cell_type": "code",
   "execution_count": 3,
   "metadata": {},
   "outputs": [
    {
     "data": {
      "application/vnd.plotly.v1+json": {
       "config": {
        "plotlyServerURL": "https://plot.ly"
       },
       "data": [
        {
         "mode": "markers",
         "type": "scatter",
         "x": [
          0,
          0.06346651825433926,
          0.12693303650867852,
          0.1903995547630178,
          0.25386607301735703,
          0.3173325912716963,
          0.3807991095260356,
          0.4442656277803748,
          0.5077321460347141,
          0.5711986642890533,
          0.6346651825433925,
          0.6981317007977318,
          0.7615982190520711,
          0.8250647373064104,
          0.8885312555607496,
          0.9519977738150889,
          1.0154642920694281,
          1.0789308103237674,
          1.1423973285781066,
          1.2058638468324459,
          1.269330365086785,
          1.3327968833411243,
          1.3962634015954636,
          1.4597299198498028,
          1.5231964381041423,
          1.5866629563584815,
          1.6501294746128208,
          1.71359599286716,
          1.7770625111214993,
          1.8405290293758385,
          1.9039955476301778,
          1.967462065884517,
          2.0309285841388562,
          2.0943951023931957,
          2.1578616206475347,
          2.221328138901874,
          2.284794657156213,
          2.3482611754105527,
          2.4117276936648917,
          2.475194211919231,
          2.53866073017357,
          2.6021272484279097,
          2.6655937666822487,
          2.729060284936588,
          2.792526803190927,
          2.8559933214452666,
          2.9194598396996057,
          2.982926357953945,
          3.0463928762082846,
          3.1098593944626236,
          3.173325912716963,
          3.236792430971302,
          3.3002589492256416,
          3.3637254674799806,
          3.42719198573432,
          3.490658503988659,
          3.5541250222429985,
          3.6175915404973376,
          3.681058058751677,
          3.744524577006016,
          3.8079910952603555,
          3.8714576135146945,
          3.934924131769034,
          3.998390650023373,
          4.0618571682777125,
          4.1253236865320515,
          4.188790204786391,
          4.25225672304073,
          4.3157232412950695,
          4.3791897595494085,
          4.442656277803748,
          4.506122796058087,
          4.569589314312426,
          4.6330558325667655,
          4.696522350821105,
          4.759988869075444,
          4.823455387329783,
          4.886921905584122,
          4.950388423838462,
          5.013854942092801,
          5.07732146034714,
          5.14078797860148,
          5.204254496855819,
          5.267721015110158,
          5.331187533364497,
          5.394654051618837,
          5.458120569873176,
          5.521587088127515,
          5.585053606381854,
          5.648520124636194,
          5.711986642890533,
          5.775453161144872,
          5.838919679399211,
          5.902386197653551,
          5.96585271590789,
          6.029319234162229,
          6.092785752416569,
          6.156252270670908,
          6.219718788925247,
          6.283185307179586
         ],
         "y": [
          0,
          0.0634239196565645,
          0.12659245357374926,
          0.18925124436041021,
          0.2511479871810792,
          0.3120334456984871,
          0.3716624556603276,
          0.42979491208917164,
          0.4861967361004687,
          0.5406408174555976,
          0.5929079290546404,
          0.6427876096865393,
          0.690079011482112,
          0.7345917086575333,
          0.7761464642917568,
          0.8145759520503357,
          0.8497254299495144,
          0.8814533634475821,
          0.9096319953545183,
          0.9341478602651067,
          0.9549022414440739,
          0.9718115683235417,
          0.984807753012208,
          0.9938384644612541,
          0.998867339183008,
          0.9998741276738751,
          0.9968547759519424,
          0.9898214418809327,
          0.9788024462147787,
          0.963842158559942,
          0.9450008187146685,
          0.9223542941045814,
          0.8959937742913359,
          0.8660254037844386,
          0.8325698546347714,
          0.795761840530832,
          0.7557495743542583,
          0.7126941713788627,
          0.6667690005162916,
          0.6181589862206052,
          0.5670598638627709,
          0.5136773915734063,
          0.4582265217274105,
          0.4009305354066136,
          0.3420201433256689,
          0.28173255684142967,
          0.2203105327865408,
          0.1580013959733499,
          0.09505604330418244,
          0.031727933498067656,
          -0.03172793349806786,
          -0.09505604330418263,
          -0.15800139597335008,
          -0.22031053278654056,
          -0.28173255684142984,
          -0.34202014332566866,
          -0.4009305354066138,
          -0.4582265217274103,
          -0.5136773915734064,
          -0.5670598638627706,
          -0.6181589862206053,
          -0.6667690005162915,
          -0.7126941713788629,
          -0.7557495743542582,
          -0.7957618405308321,
          -0.8325698546347713,
          -0.8660254037844388,
          -0.895993774291336,
          -0.9223542941045814,
          -0.9450008187146683,
          -0.9638421585599422,
          -0.9788024462147787,
          -0.9898214418809327,
          -0.9968547759519423,
          -0.9998741276738751,
          -0.998867339183008,
          -0.9938384644612541,
          -0.9848077530122081,
          -0.9718115683235417,
          -0.9549022414440739,
          -0.9341478602651068,
          -0.9096319953545182,
          -0.881453363447582,
          -0.8497254299495144,
          -0.8145759520503358,
          -0.7761464642917566,
          -0.7345917086575331,
          -0.690079011482112,
          -0.6427876096865396,
          -0.5929079290546402,
          -0.5406408174555974,
          -0.4861967361004688,
          -0.4297949120891719,
          -0.37166245566032724,
          -0.31203344569848707,
          -0.2511479871810794,
          -0.18925124436040974,
          -0.12659245357374904,
          -0.06342391965656452,
          -2.4492935982947064e-16
         ]
        }
       ],
       "layout": {
        "annotations": [
         {
          "font": {
           "size": 16
          },
          "showarrow": false,
          "text": "Draw a box around the points to select",
          "x": 0.5,
          "xref": "paper",
          "y": 1.1,
          "yref": "paper"
         }
        ],
        "dragmode": "select",
        "images": [
         {
          "sizex": 0.2,
          "sizey": 0.2,
          "source": "https://raw.githubusercontent.com/plotly/plotly.js/master/test/image/gitbook/images/lasso.png",
          "x": 1.05,
          "xanchor": "right",
          "xref": "paper",
          "y": 1.2,
          "yanchor": "bottom",
          "yref": "paper"
         }
        ],
        "template": {
         "data": {
          "bar": [
           {
            "error_x": {
             "color": "#2a3f5f"
            },
            "error_y": {
             "color": "#2a3f5f"
            },
            "marker": {
             "line": {
              "color": "#E5ECF6",
              "width": 0.5
             },
             "pattern": {
              "fillmode": "overlay",
              "size": 10,
              "solidity": 0.2
             }
            },
            "type": "bar"
           }
          ],
          "barpolar": [
           {
            "marker": {
             "line": {
              "color": "#E5ECF6",
              "width": 0.5
             },
             "pattern": {
              "fillmode": "overlay",
              "size": 10,
              "solidity": 0.2
             }
            },
            "type": "barpolar"
           }
          ],
          "carpet": [
           {
            "aaxis": {
             "endlinecolor": "#2a3f5f",
             "gridcolor": "white",
             "linecolor": "white",
             "minorgridcolor": "white",
             "startlinecolor": "#2a3f5f"
            },
            "baxis": {
             "endlinecolor": "#2a3f5f",
             "gridcolor": "white",
             "linecolor": "white",
             "minorgridcolor": "white",
             "startlinecolor": "#2a3f5f"
            },
            "type": "carpet"
           }
          ],
          "choropleth": [
           {
            "colorbar": {
             "outlinewidth": 0,
             "ticks": ""
            },
            "type": "choropleth"
           }
          ],
          "contour": [
           {
            "colorbar": {
             "outlinewidth": 0,
             "ticks": ""
            },
            "colorscale": [
             [
              0,
              "#0d0887"
             ],
             [
              0.1111111111111111,
              "#46039f"
             ],
             [
              0.2222222222222222,
              "#7201a8"
             ],
             [
              0.3333333333333333,
              "#9c179e"
             ],
             [
              0.4444444444444444,
              "#bd3786"
             ],
             [
              0.5555555555555556,
              "#d8576b"
             ],
             [
              0.6666666666666666,
              "#ed7953"
             ],
             [
              0.7777777777777778,
              "#fb9f3a"
             ],
             [
              0.8888888888888888,
              "#fdca26"
             ],
             [
              1,
              "#f0f921"
             ]
            ],
            "type": "contour"
           }
          ],
          "contourcarpet": [
           {
            "colorbar": {
             "outlinewidth": 0,
             "ticks": ""
            },
            "type": "contourcarpet"
           }
          ],
          "heatmap": [
           {
            "colorbar": {
             "outlinewidth": 0,
             "ticks": ""
            },
            "colorscale": [
             [
              0,
              "#0d0887"
             ],
             [
              0.1111111111111111,
              "#46039f"
             ],
             [
              0.2222222222222222,
              "#7201a8"
             ],
             [
              0.3333333333333333,
              "#9c179e"
             ],
             [
              0.4444444444444444,
              "#bd3786"
             ],
             [
              0.5555555555555556,
              "#d8576b"
             ],
             [
              0.6666666666666666,
              "#ed7953"
             ],
             [
              0.7777777777777778,
              "#fb9f3a"
             ],
             [
              0.8888888888888888,
              "#fdca26"
             ],
             [
              1,
              "#f0f921"
             ]
            ],
            "type": "heatmap"
           }
          ],
          "heatmapgl": [
           {
            "colorbar": {
             "outlinewidth": 0,
             "ticks": ""
            },
            "colorscale": [
             [
              0,
              "#0d0887"
             ],
             [
              0.1111111111111111,
              "#46039f"
             ],
             [
              0.2222222222222222,
              "#7201a8"
             ],
             [
              0.3333333333333333,
              "#9c179e"
             ],
             [
              0.4444444444444444,
              "#bd3786"
             ],
             [
              0.5555555555555556,
              "#d8576b"
             ],
             [
              0.6666666666666666,
              "#ed7953"
             ],
             [
              0.7777777777777778,
              "#fb9f3a"
             ],
             [
              0.8888888888888888,
              "#fdca26"
             ],
             [
              1,
              "#f0f921"
             ]
            ],
            "type": "heatmapgl"
           }
          ],
          "histogram": [
           {
            "marker": {
             "pattern": {
              "fillmode": "overlay",
              "size": 10,
              "solidity": 0.2
             }
            },
            "type": "histogram"
           }
          ],
          "histogram2d": [
           {
            "colorbar": {
             "outlinewidth": 0,
             "ticks": ""
            },
            "colorscale": [
             [
              0,
              "#0d0887"
             ],
             [
              0.1111111111111111,
              "#46039f"
             ],
             [
              0.2222222222222222,
              "#7201a8"
             ],
             [
              0.3333333333333333,
              "#9c179e"
             ],
             [
              0.4444444444444444,
              "#bd3786"
             ],
             [
              0.5555555555555556,
              "#d8576b"
             ],
             [
              0.6666666666666666,
              "#ed7953"
             ],
             [
              0.7777777777777778,
              "#fb9f3a"
             ],
             [
              0.8888888888888888,
              "#fdca26"
             ],
             [
              1,
              "#f0f921"
             ]
            ],
            "type": "histogram2d"
           }
          ],
          "histogram2dcontour": [
           {
            "colorbar": {
             "outlinewidth": 0,
             "ticks": ""
            },
            "colorscale": [
             [
              0,
              "#0d0887"
             ],
             [
              0.1111111111111111,
              "#46039f"
             ],
             [
              0.2222222222222222,
              "#7201a8"
             ],
             [
              0.3333333333333333,
              "#9c179e"
             ],
             [
              0.4444444444444444,
              "#bd3786"
             ],
             [
              0.5555555555555556,
              "#d8576b"
             ],
             [
              0.6666666666666666,
              "#ed7953"
             ],
             [
              0.7777777777777778,
              "#fb9f3a"
             ],
             [
              0.8888888888888888,
              "#fdca26"
             ],
             [
              1,
              "#f0f921"
             ]
            ],
            "type": "histogram2dcontour"
           }
          ],
          "mesh3d": [
           {
            "colorbar": {
             "outlinewidth": 0,
             "ticks": ""
            },
            "type": "mesh3d"
           }
          ],
          "parcoords": [
           {
            "line": {
             "colorbar": {
              "outlinewidth": 0,
              "ticks": ""
             }
            },
            "type": "parcoords"
           }
          ],
          "pie": [
           {
            "automargin": true,
            "type": "pie"
           }
          ],
          "scatter": [
           {
            "fillpattern": {
             "fillmode": "overlay",
             "size": 10,
             "solidity": 0.2
            },
            "type": "scatter"
           }
          ],
          "scatter3d": [
           {
            "line": {
             "colorbar": {
              "outlinewidth": 0,
              "ticks": ""
             }
            },
            "marker": {
             "colorbar": {
              "outlinewidth": 0,
              "ticks": ""
             }
            },
            "type": "scatter3d"
           }
          ],
          "scattercarpet": [
           {
            "marker": {
             "colorbar": {
              "outlinewidth": 0,
              "ticks": ""
             }
            },
            "type": "scattercarpet"
           }
          ],
          "scattergeo": [
           {
            "marker": {
             "colorbar": {
              "outlinewidth": 0,
              "ticks": ""
             }
            },
            "type": "scattergeo"
           }
          ],
          "scattergl": [
           {
            "marker": {
             "colorbar": {
              "outlinewidth": 0,
              "ticks": ""
             }
            },
            "type": "scattergl"
           }
          ],
          "scattermapbox": [
           {
            "marker": {
             "colorbar": {
              "outlinewidth": 0,
              "ticks": ""
             }
            },
            "type": "scattermapbox"
           }
          ],
          "scatterpolar": [
           {
            "marker": {
             "colorbar": {
              "outlinewidth": 0,
              "ticks": ""
             }
            },
            "type": "scatterpolar"
           }
          ],
          "scatterpolargl": [
           {
            "marker": {
             "colorbar": {
              "outlinewidth": 0,
              "ticks": ""
             }
            },
            "type": "scatterpolargl"
           }
          ],
          "scatterternary": [
           {
            "marker": {
             "colorbar": {
              "outlinewidth": 0,
              "ticks": ""
             }
            },
            "type": "scatterternary"
           }
          ],
          "surface": [
           {
            "colorbar": {
             "outlinewidth": 0,
             "ticks": ""
            },
            "colorscale": [
             [
              0,
              "#0d0887"
             ],
             [
              0.1111111111111111,
              "#46039f"
             ],
             [
              0.2222222222222222,
              "#7201a8"
             ],
             [
              0.3333333333333333,
              "#9c179e"
             ],
             [
              0.4444444444444444,
              "#bd3786"
             ],
             [
              0.5555555555555556,
              "#d8576b"
             ],
             [
              0.6666666666666666,
              "#ed7953"
             ],
             [
              0.7777777777777778,
              "#fb9f3a"
             ],
             [
              0.8888888888888888,
              "#fdca26"
             ],
             [
              1,
              "#f0f921"
             ]
            ],
            "type": "surface"
           }
          ],
          "table": [
           {
            "cells": {
             "fill": {
              "color": "#EBF0F8"
             },
             "line": {
              "color": "white"
             }
            },
            "header": {
             "fill": {
              "color": "#C8D4E3"
             },
             "line": {
              "color": "white"
             }
            },
            "type": "table"
           }
          ]
         },
         "layout": {
          "annotationdefaults": {
           "arrowcolor": "#2a3f5f",
           "arrowhead": 0,
           "arrowwidth": 1
          },
          "autotypenumbers": "strict",
          "coloraxis": {
           "colorbar": {
            "outlinewidth": 0,
            "ticks": ""
           }
          },
          "colorscale": {
           "diverging": [
            [
             0,
             "#8e0152"
            ],
            [
             0.1,
             "#c51b7d"
            ],
            [
             0.2,
             "#de77ae"
            ],
            [
             0.3,
             "#f1b6da"
            ],
            [
             0.4,
             "#fde0ef"
            ],
            [
             0.5,
             "#f7f7f7"
            ],
            [
             0.6,
             "#e6f5d0"
            ],
            [
             0.7,
             "#b8e186"
            ],
            [
             0.8,
             "#7fbc41"
            ],
            [
             0.9,
             "#4d9221"
            ],
            [
             1,
             "#276419"
            ]
           ],
           "sequential": [
            [
             0,
             "#0d0887"
            ],
            [
             0.1111111111111111,
             "#46039f"
            ],
            [
             0.2222222222222222,
             "#7201a8"
            ],
            [
             0.3333333333333333,
             "#9c179e"
            ],
            [
             0.4444444444444444,
             "#bd3786"
            ],
            [
             0.5555555555555556,
             "#d8576b"
            ],
            [
             0.6666666666666666,
             "#ed7953"
            ],
            [
             0.7777777777777778,
             "#fb9f3a"
            ],
            [
             0.8888888888888888,
             "#fdca26"
            ],
            [
             1,
             "#f0f921"
            ]
           ],
           "sequentialminus": [
            [
             0,
             "#0d0887"
            ],
            [
             0.1111111111111111,
             "#46039f"
            ],
            [
             0.2222222222222222,
             "#7201a8"
            ],
            [
             0.3333333333333333,
             "#9c179e"
            ],
            [
             0.4444444444444444,
             "#bd3786"
            ],
            [
             0.5555555555555556,
             "#d8576b"
            ],
            [
             0.6666666666666666,
             "#ed7953"
            ],
            [
             0.7777777777777778,
             "#fb9f3a"
            ],
            [
             0.8888888888888888,
             "#fdca26"
            ],
            [
             1,
             "#f0f921"
            ]
           ]
          },
          "colorway": [
           "#636efa",
           "#EF553B",
           "#00cc96",
           "#ab63fa",
           "#FFA15A",
           "#19d3f3",
           "#FF6692",
           "#B6E880",
           "#FF97FF",
           "#FECB52"
          ],
          "font": {
           "color": "#2a3f5f"
          },
          "geo": {
           "bgcolor": "white",
           "lakecolor": "white",
           "landcolor": "#E5ECF6",
           "showlakes": true,
           "showland": true,
           "subunitcolor": "white"
          },
          "hoverlabel": {
           "align": "left"
          },
          "hovermode": "closest",
          "mapbox": {
           "style": "light"
          },
          "paper_bgcolor": "white",
          "plot_bgcolor": "#E5ECF6",
          "polar": {
           "angularaxis": {
            "gridcolor": "white",
            "linecolor": "white",
            "ticks": ""
           },
           "bgcolor": "#E5ECF6",
           "radialaxis": {
            "gridcolor": "white",
            "linecolor": "white",
            "ticks": ""
           }
          },
          "scene": {
           "xaxis": {
            "backgroundcolor": "#E5ECF6",
            "gridcolor": "white",
            "gridwidth": 2,
            "linecolor": "white",
            "showbackground": true,
            "ticks": "",
            "zerolinecolor": "white"
           },
           "yaxis": {
            "backgroundcolor": "#E5ECF6",
            "gridcolor": "white",
            "gridwidth": 2,
            "linecolor": "white",
            "showbackground": true,
            "ticks": "",
            "zerolinecolor": "white"
           },
           "zaxis": {
            "backgroundcolor": "#E5ECF6",
            "gridcolor": "white",
            "gridwidth": 2,
            "linecolor": "white",
            "showbackground": true,
            "ticks": "",
            "zerolinecolor": "white"
           }
          },
          "shapedefaults": {
           "line": {
            "color": "#2a3f5f"
           }
          },
          "ternary": {
           "aaxis": {
            "gridcolor": "white",
            "linecolor": "white",
            "ticks": ""
           },
           "baxis": {
            "gridcolor": "white",
            "linecolor": "white",
            "ticks": ""
           },
           "bgcolor": "#E5ECF6",
           "caxis": {
            "gridcolor": "white",
            "linecolor": "white",
            "ticks": ""
           }
          },
          "title": {
           "x": 0.05
          },
          "xaxis": {
           "automargin": true,
           "gridcolor": "white",
           "linecolor": "white",
           "ticks": "",
           "title": {
            "standoff": 15
           },
           "zerolinecolor": "white",
           "zerolinewidth": 2
          },
          "yaxis": {
           "automargin": true,
           "gridcolor": "white",
           "linecolor": "white",
           "ticks": "",
           "title": {
            "standoff": 15
           },
           "zerolinecolor": "white",
           "zerolinewidth": 2
          }
         }
        },
        "title": {
         "text": "Box Select and Dropdown Example"
        },
        "updatemenus": [
         {
          "buttons": [
           {
            "args": [
             {
              "selectedpoints": [
               0
              ]
             }
            ],
            "label": "Mean",
            "method": "restyle"
           },
           {
            "args": [
             {
              "selectedpoints": [
               0
              ]
             }
            ],
            "label": "Median",
            "method": "restyle"
           }
          ],
          "direction": "down",
          "showactive": true
         }
        ],
        "xaxis": {
         "title": {
          "text": "X Axis Title"
         }
        },
        "yaxis": {
         "title": {
          "text": "Y Axis Title"
         }
        }
       }
      }
     },
     "metadata": {},
     "output_type": "display_data"
    }
   ],
   "source": [
    "import plotly.graph_objs as go\n",
    "from plotly.subplots import make_subplots\n",
    "\n",
    "# Create example data\n",
    "import numpy as np\n",
    "x = np.linspace(0, 2*np.pi, 100)\n",
    "y = np.sin(x)\n",
    "\n",
    "# Create scatter plot\n",
    "fig = go.Figure()\n",
    "fig.add_trace(go.Scatter(x=x, y=y, mode='markers'))\n",
    "\n",
    "# Add dropdown menu\n",
    "updatemenus = [{'buttons': [{'args': [{'selectedpoints': [0]}],\n",
    "                              'label': 'Mean',\n",
    "                              'method': 'restyle'},\n",
    "                             {'args': [{'selectedpoints': [0]}],\n",
    "                              'label': 'Median',\n",
    "                              'method': 'restyle'}],\n",
    "                'direction': 'down',\n",
    "                'showactive': True}]\n",
    "fig.update_layout(updatemenus=updatemenus)\n",
    "\n",
    "# Add box select event handler\n",
    "fig.add_layout_image(dict(\n",
    "    source=\"https://raw.githubusercontent.com/plotly/plotly.js/master/test/image/gitbook/images/lasso.png\",\n",
    "    xref=\"paper\", yref=\"paper\",\n",
    "    x=1.05, y=1.2,\n",
    "    sizex=0.2, sizey=0.2,\n",
    "    xanchor=\"right\", yanchor=\"bottom\"\n",
    "))\n",
    "\n",
    "fig.update_layout(\n",
    "    dragmode=\"select\",\n",
    "    annotations=[\n",
    "        dict(\n",
    "            text=\"Draw a box around the points to select\",\n",
    "            showarrow=False,\n",
    "            xref=\"paper\", yref=\"paper\",\n",
    "            x=0.5, y=1.1, font_size=16\n",
    "        )\n",
    "    ]\n",
    ")\n",
    "\n",
    "fig.update_layout(\n",
    "    xaxis_title=\"X Axis Title\",\n",
    "    yaxis_title=\"Y Axis Title\",\n",
    "    title=\"Box Select and Dropdown Example\"\n",
    ")\n",
    "\n",
    "# Define callback function for dropdown menu\n",
    "def update_fig(selection):\n",
    "    if selection == 'Mean':\n",
    "        fig.update_traces(marker=dict(color='red', size=10))\n",
    "        selected_points = fig.data[0].selectedpoints\n",
    "        if selected_points:\n",
    "            mean_value = np.mean(y[selected_points])\n",
    "            fig.add_annotation(text=f\"Mean: {mean_value:.2f}\", xref=\"paper\", yref=\"paper\",\n",
    "            x=0.8, y=0.9, showarrow=False, font_size=16)\n",
    "    elif selection == 'Median':\n",
    "        fig.update_traces(marker=dict(color='green', size=10))\n",
    "        selected_points = fig.data[0].selectedpoints\n",
    "        if selected_points:\n",
    "            median_value = np.median(y[selected_points])\n",
    "            fig.add_annotation(text=f\"Median: {median_value:.2f}\", xref=\"paper\", yref=\"paper\",\n",
    "            x=0.8, y=0.8, showarrow=False, font_size=16)\n",
    "\n",
    "# Set up callback for dropdown menu\n",
    "fig.for_each_trace(lambda trace: trace.on_selection(lambda x,y,trace=trace: update_fig('Mean')))\n",
    "\n",
    "fig.show()\n"
   ]
  },
  {
   "cell_type": "code",
   "execution_count": 2,
   "metadata": {},
   "outputs": [
    {
     "ename": "ValueError",
     "evalue": "Invalid property specification(s): ['selectedpoints']",
     "output_type": "error",
     "traceback": [
      "\u001b[1;31m---------------------------------------------------------------------------\u001b[0m",
      "\u001b[1;31mValueError\u001b[0m                                Traceback (most recent call last)",
      "Cell \u001b[1;32mIn[2], line 29\u001b[0m\n\u001b[0;32m     26\u001b[0m     display(dropdown)\n\u001b[0;32m     28\u001b[0m \u001b[39m# Add event handler function to the plotly plot\u001b[39;00m\n\u001b[1;32m---> 29\u001b[0m fig\u001b[39m.\u001b[39;49mlayout\u001b[39m.\u001b[39;49mon_change(handle_selection, \u001b[39m'\u001b[39;49m\u001b[39mselectedpoints\u001b[39;49m\u001b[39m'\u001b[39;49m)\n\u001b[0;32m     31\u001b[0m \u001b[39m# Create a button to clear the selection and hide the dropdown menu\u001b[39;00m\n\u001b[0;32m     32\u001b[0m button \u001b[39m=\u001b[39m Button(description\u001b[39m=\u001b[39m\u001b[39m'\u001b[39m\u001b[39mClear Selection\u001b[39m\u001b[39m'\u001b[39m)\n",
      "File \u001b[1;32mc:\\lia-outlier-detection\\venv\\Lib\\site-packages\\plotly\\basedatatypes.py:5553\u001b[0m, in \u001b[0;36mBasePlotlyType.on_change\u001b[1;34m(self, callback, *args, **kwargs)\u001b[0m\n\u001b[0;32m   5551\u001b[0m invalid_args \u001b[39m=\u001b[39m [arg \u001b[39mfor\u001b[39;00m arg \u001b[39min\u001b[39;00m args \u001b[39mif\u001b[39;00m arg \u001b[39mnot\u001b[39;00m \u001b[39min\u001b[39;00m \u001b[39mself\u001b[39m]\n\u001b[0;32m   5552\u001b[0m \u001b[39mif\u001b[39;00m invalid_args:\n\u001b[1;32m-> 5553\u001b[0m     \u001b[39mraise\u001b[39;00m \u001b[39mValueError\u001b[39;00m(\u001b[39m\"\u001b[39m\u001b[39mInvalid property specification(s): \u001b[39m\u001b[39m%s\u001b[39;00m\u001b[39m\"\u001b[39m \u001b[39m%\u001b[39m invalid_args)\n\u001b[0;32m   5555\u001b[0m \u001b[39m# Process append option\u001b[39;00m\n\u001b[0;32m   5556\u001b[0m \u001b[39m# ---------------------\u001b[39;00m\n\u001b[0;32m   5557\u001b[0m append \u001b[39m=\u001b[39m kwargs\u001b[39m.\u001b[39mget(\u001b[39m\"\u001b[39m\u001b[39mappend\u001b[39m\u001b[39m\"\u001b[39m, \u001b[39mFalse\u001b[39;00m)\n",
      "\u001b[1;31mValueError\u001b[0m: Invalid property specification(s): ['selectedpoints']"
     ]
    }
   ],
   "source": [
    "import plotly.graph_objs as go\n",
    "from ipywidgets import Button, Dropdown\n",
    "from IPython.display import display\n",
    "\n",
    "# Create example data\n",
    "x = [1, 2, 3, 4, 5]\n",
    "y = [10, 20, 30, 40, 50]\n",
    "\n",
    "# Create plotly plot with box select enabled\n",
    "trace = go.Scatter(x=x, y=y, mode='markers')\n",
    "layout = go.Layout(title='Selected Points', xaxis=dict(range=[0, 6]), yaxis=dict(range=[0, 60]), dragmode='select')\n",
    "fig = go.Figure(data=[trace], layout=layout)\n",
    "\n",
    "# Define event handler function to display dropdown menu\n",
    "def handle_selection(event):\n",
    "    if event is None or len(event) == 0:\n",
    "        return\n",
    "    \n",
    "    # Create the dropdown menu with the selected values\n",
    "    dropdown_options = [\n",
    "        {'label': 'Mean', 'value': 'mean'},\n",
    "        {'label': 'Max', 'value': 'max'},\n",
    "        {'label': 'Min', 'value': 'min'},\n",
    "    ]\n",
    "    dropdown = Dropdown(options=dropdown_options, description='Select an operation')\n",
    "    display(dropdown)\n",
    "    \n",
    "# Add event handler function to the plotly plot\n",
    "fig.layout.on_change(handle_selection, 'selectedpoints')\n",
    "\n",
    "# Create a button to clear the selection and hide the dropdown menu\n",
    "button = Button(description='Clear Selection')\n",
    "button.on_click(lambda _: dropdown.close() if 'dropdown' in globals() else None)\n",
    "display(fig, button)\n",
    "\n",
    "\n"
   ]
  },
  {
   "cell_type": "code",
   "execution_count": 5,
   "metadata": {},
   "outputs": [
    {
     "data": {
      "text/html": [
       "<div>\n",
       "<style scoped>\n",
       "    .dataframe tbody tr th:only-of-type {\n",
       "        vertical-align: middle;\n",
       "    }\n",
       "\n",
       "    .dataframe tbody tr th {\n",
       "        vertical-align: top;\n",
       "    }\n",
       "\n",
       "    .dataframe thead th {\n",
       "        text-align: right;\n",
       "    }\n",
       "</style>\n",
       "<table border=\"1\" class=\"dataframe\">\n",
       "  <thead>\n",
       "    <tr style=\"text-align: right;\">\n",
       "      <th></th>\n",
       "      <th>Asset name;\"NU4202 Naset\"</th>\n",
       "    </tr>\n",
       "  </thead>\n",
       "  <tbody>\n",
       "    <tr>\n",
       "      <th>Exported on;\"8 March 2023</th>\n",
       "      <td>12:51:59\"</td>\n",
       "    </tr>\n",
       "    <tr>\n",
       "      <th>Timezone;\"UTC +1\"</th>\n",
       "      <td>NaN</td>\n",
       "    </tr>\n",
       "    <tr>\n",
       "      <th>Date/Time;\"Water level</th>\n",
       "      <td>Nap (cm)\"</td>\n",
       "    </tr>\n",
       "    <tr>\n",
       "      <th>2022-03-08 00:00:04;24</th>\n",
       "      <td>NaN</td>\n",
       "    </tr>\n",
       "    <tr>\n",
       "      <th>2022-03-08 00:30:00;24</th>\n",
       "      <td>NaN</td>\n",
       "    </tr>\n",
       "    <tr>\n",
       "      <th>...</th>\n",
       "      <td>...</td>\n",
       "    </tr>\n",
       "    <tr>\n",
       "      <th>2023-03-07 23:00:00;26</th>\n",
       "      <td>NaN</td>\n",
       "    </tr>\n",
       "    <tr>\n",
       "      <th>2023-03-07 23:30:00;25</th>\n",
       "      <td>NaN</td>\n",
       "    </tr>\n",
       "    <tr>\n",
       "      <th>2023-03-08 00:00:04;25</th>\n",
       "      <td>NaN</td>\n",
       "    </tr>\n",
       "    <tr>\n",
       "      <th>2023-03-08 00:30:00;25</th>\n",
       "      <td>NaN</td>\n",
       "    </tr>\n",
       "    <tr>\n",
       "      <th>2023-03-08 01:00:00;23</th>\n",
       "      <td>NaN</td>\n",
       "    </tr>\n",
       "  </tbody>\n",
       "</table>\n",
       "<p>17526 rows × 1 columns</p>\n",
       "</div>"
      ],
      "text/plain": [
       "                          Asset name;\"NU4202 Naset\"\n",
       "Exported on;\"8 March 2023                 12:51:59\"\n",
       "Timezone;\"UTC +1\"                               NaN\n",
       "Date/Time;\"Water level                    Nap (cm)\"\n",
       "2022-03-08 00:00:04;24                          NaN\n",
       "2022-03-08 00:30:00;24                          NaN\n",
       "...                                             ...\n",
       "2023-03-07 23:00:00;26                          NaN\n",
       "2023-03-07 23:30:00;25                          NaN\n",
       "2023-03-08 00:00:04;25                          NaN\n",
       "2023-03-08 00:30:00;25                          NaN\n",
       "2023-03-08 01:00:00;23                          NaN\n",
       "\n",
       "[17526 rows x 1 columns]"
      ]
     },
     "execution_count": 5,
     "metadata": {},
     "output_type": "execute_result"
    }
   ],
   "source": [
    "glen_1 = pd.read_csv(\"data/asset-data-export_O12QnL6kAl-640876dfe5066-1678276319.csv\")\n",
    "glen_1"
   ]
  },
  {
   "cell_type": "code",
   "execution_count": 6,
   "metadata": {},
   "outputs": [
    {
     "data": {
      "text/html": [
       "<div>\n",
       "<style scoped>\n",
       "    .dataframe tbody tr th:only-of-type {\n",
       "        vertical-align: middle;\n",
       "    }\n",
       "\n",
       "    .dataframe tbody tr th {\n",
       "        vertical-align: top;\n",
       "    }\n",
       "\n",
       "    .dataframe thead th {\n",
       "        text-align: right;\n",
       "    }\n",
       "</style>\n",
       "<table border=\"1\" class=\"dataframe\">\n",
       "  <thead>\n",
       "    <tr style=\"text-align: right;\">\n",
       "      <th></th>\n",
       "      <th>Asset name;NU4201 Spektrumgatan</th>\n",
       "    </tr>\n",
       "  </thead>\n",
       "  <tbody>\n",
       "    <tr>\n",
       "      <th>Exported on;9 March 2023</th>\n",
       "      <td>08:37:32</td>\n",
       "    </tr>\n",
       "    <tr>\n",
       "      <th>Timezone;UTC +1</th>\n",
       "      <td>NaN</td>\n",
       "    </tr>\n",
       "    <tr>\n",
       "      <th>;</th>\n",
       "      <td>NaN</td>\n",
       "    </tr>\n",
       "    <tr>\n",
       "      <th>Date/Time;Water level</th>\n",
       "      <td>Nap (cm)</td>\n",
       "    </tr>\n",
       "    <tr>\n",
       "      <th>2022-03-09 00:00;5</th>\n",
       "      <td>NaN</td>\n",
       "    </tr>\n",
       "    <tr>\n",
       "      <th>...</th>\n",
       "      <td>...</td>\n",
       "    </tr>\n",
       "    <tr>\n",
       "      <th>2023-03-08 23:00;1</th>\n",
       "      <td>NaN</td>\n",
       "    </tr>\n",
       "    <tr>\n",
       "      <th>2023-03-08 23:30;1</th>\n",
       "      <td>NaN</td>\n",
       "    </tr>\n",
       "    <tr>\n",
       "      <th>2023-03-09 00:00;1</th>\n",
       "      <td>NaN</td>\n",
       "    </tr>\n",
       "    <tr>\n",
       "      <th>2023-03-09 00:30;1</th>\n",
       "      <td>NaN</td>\n",
       "    </tr>\n",
       "    <tr>\n",
       "      <th>2023-03-09 01:00;1</th>\n",
       "      <td>NaN</td>\n",
       "    </tr>\n",
       "  </tbody>\n",
       "</table>\n",
       "<p>17527 rows × 1 columns</p>\n",
       "</div>"
      ],
      "text/plain": [
       "                         Asset name;NU4201 Spektrumgatan\n",
       "Exported on;9 March 2023                        08:37:32\n",
       "Timezone;UTC +1                                      NaN\n",
       ";                                                    NaN\n",
       "Date/Time;Water level                           Nap (cm)\n",
       "2022-03-09 00:00;5                                   NaN\n",
       "...                                                  ...\n",
       "2023-03-08 23:00;1                                   NaN\n",
       "2023-03-08 23:30;1                                   NaN\n",
       "2023-03-09 00:00;1                                   NaN\n",
       "2023-03-09 00:30;1                                   NaN\n",
       "2023-03-09 01:00;1                                   NaN\n",
       "\n",
       "[17527 rows x 1 columns]"
      ]
     },
     "execution_count": 6,
     "metadata": {},
     "output_type": "execute_result"
    }
   ],
   "source": [
    "glen_2 = pd.read_csv(\"data/asset-data-export_Zga3AM63oO-64098cbc36e23-1678347452.csv\")\n",
    "glen_2"
   ]
  },
  {
   "cell_type": "code",
   "execution_count": 12,
   "metadata": {},
   "outputs": [
    {
     "data": {
      "text/html": [
       "<div>\n",
       "<style scoped>\n",
       "    .dataframe tbody tr th:only-of-type {\n",
       "        vertical-align: middle;\n",
       "    }\n",
       "\n",
       "    .dataframe tbody tr th {\n",
       "        vertical-align: top;\n",
       "    }\n",
       "\n",
       "    .dataframe thead th {\n",
       "        text-align: right;\n",
       "    }\n",
       "</style>\n",
       "<table border=\"1\" class=\"dataframe\">\n",
       "  <thead>\n",
       "    <tr style=\"text-align: right;\">\n",
       "      <th></th>\n",
       "      <th>Asset name;NU3328 Strandvägen</th>\n",
       "    </tr>\n",
       "  </thead>\n",
       "  <tbody>\n",
       "    <tr>\n",
       "      <th>Exported on;9 March 2023</th>\n",
       "      <td>08:39:05</td>\n",
       "    </tr>\n",
       "    <tr>\n",
       "      <th>Timezone;UTC +1</th>\n",
       "      <td>NaN</td>\n",
       "    </tr>\n",
       "    <tr>\n",
       "      <th>;</th>\n",
       "      <td>NaN</td>\n",
       "    </tr>\n",
       "    <tr>\n",
       "      <th>Date/Time;Water level</th>\n",
       "      <td>Nap (cm)</td>\n",
       "    </tr>\n",
       "    <tr>\n",
       "      <th>2022-04-22 12:47;11</th>\n",
       "      <td>NaN</td>\n",
       "    </tr>\n",
       "  </tbody>\n",
       "</table>\n",
       "</div>"
      ],
      "text/plain": [
       "                         Asset name;NU3328 Strandvägen\n",
       "Exported on;9 March 2023                      08:39:05\n",
       "Timezone;UTC +1                                    NaN\n",
       ";                                                  NaN\n",
       "Date/Time;Water level                         Nap (cm)\n",
       "2022-04-22 12:47;11                                NaN"
      ]
     },
     "execution_count": 12,
     "metadata": {},
     "output_type": "execute_result"
    }
   ],
   "source": [
    "glen_3 = pd.read_csv(\"data/asset-data-export_vEm3Jd5916-64098d190a5ca-1678347545.csv\")\n",
    "glen_3.head()"
   ]
  },
  {
   "cell_type": "code",
   "execution_count": null,
   "metadata": {},
   "outputs": [],
   "source": []
  }
 ],
 "metadata": {
  "kernelspec": {
   "display_name": "venv",
   "language": "python",
   "name": "python3"
  },
  "language_info": {
   "codemirror_mode": {
    "name": "ipython",
    "version": 3
   },
   "file_extension": ".py",
   "mimetype": "text/x-python",
   "name": "python",
   "nbconvert_exporter": "python",
   "pygments_lexer": "ipython3",
   "version": "3.11.2"
  },
  "orig_nbformat": 4,
  "vscode": {
   "interpreter": {
    "hash": "80012d8e32ffc63016233ad2f4a2a527f20cadf1ddc05e8297dcaeb58aebe3af"
   }
  }
 },
 "nbformat": 4,
 "nbformat_minor": 2
}
