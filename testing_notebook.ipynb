{
 "cells": [
  {
   "cell_type": "code",
   "execution_count": 93,
   "metadata": {},
   "outputs": [],
   "source": [
    "#!/usr/bin/env python\n",
    "# coding: utf-8\n",
    "\n",
    "import sys\n",
    "import os\n",
    "import matplotlib.pyplot as plt\n",
    "import glob\n",
    "\n",
    "from datetime import datetime\n",
    "from datetime import timedelta\n",
    "from plotly.subplots import make_subplots\n",
    "import plotly.graph_objs as go\n",
    "from ipywidgets import interactive, HBox, VBox\n",
    "# import keras\n",
    "import pandas as pd\n",
    "import numpy as np\n",
    "import random\n",
    "from dash import Dash, dcc, html, Input, Output\n",
    "import plotly.express as px\n",
    "from functools import partial\n",
    "from tensorflow import keras\n",
    "\n",
    "\n",
    "def load_model():  \n",
    "    \"\"\"\n",
    "    Load the most recent Keras model file from the './models' directory.\n",
    "\n",
    "    Returns:\n",
    "    -------\n",
    "    keras.engine.training.Model\n",
    "        The loaded Keras model.\n",
    "    \"\"\"\n",
    "    model_dir = \"./models\"\n",
    "    model_files = glob.glob(os.path.join(model_dir, \"*.h5\"))\n",
    "    model_files.sort(key=os.path.getctime, reverse=True)\n",
    "    latest_model_file = model_files[0]\n",
    "    loaded_model = keras.saving.load_model(latest_model_file)\n",
    "    return loaded_model\n",
    "\n",
    "\n",
    "def create_dataset(X, y, time_steps=1):\n",
    "    \"\"\"\n",
    "    Create a time series dataset from the input and target data.\n",
    "\n",
    "    Parameters:\n",
    "    ----------\n",
    "    X : pandas.DataFrame\n",
    "        The input data.\n",
    "    y : pandas.Series\n",
    "        The target data.\n",
    "    time_steps : int, optional (default=1)\n",
    "        The number of time steps to include in each sample.\n",
    "\n",
    "    Returns:\n",
    "    -------\n",
    "    tuple of numpy.ndarray\n",
    "        The input and target data formatted as a time series dataset.\n",
    "\n",
    "    Raises:\n",
    "    ------\n",
    "    ValueError\n",
    "        If the length of X and y are different.\n",
    "    \"\"\"\n",
    "    if len(X) != len(y):  \n",
    "        raise ValueError(\"X and y must have the same length.\")    \n",
    "    \n",
    "    Xs, ys = [], []\n",
    "    for i in range(len(X) - time_steps):\n",
    "        v = X.iloc[i:(i + time_steps)].values\n",
    "        Xs.append(v)\n",
    "        ys.append(y.iloc[i + time_steps])\n",
    "\n",
    "    return np.array(Xs), np.array(ys)\n",
    "\n",
    "\n",
    "def create_test_score_df(test, time_steps, mae_loss, threshold, column):\n",
    "    \"\"\"\n",
    "    Create a pandas DataFrame with test score information for anomaly detection.\n",
    "\n",
    "    Parameters:\n",
    "    ----------\n",
    "    test : pandas.DataFrame\n",
    "        The test data used for anomaly detection.\n",
    "    time_steps : int\n",
    "        The number of time steps used to detect anomalies.\n",
    "    mae_loss : float\n",
    "        The mean absolute error loss threshold used for anomaly detection.\n",
    "    threshold : float\n",
    "        The anomaly detection threshold value.\n",
    "    column : str\n",
    "        The column name for the data being tested.\n",
    "\n",
    "    Returns:\n",
    "    -------\n",
    "    pandas.DataFrame\n",
    "        A DataFrame containing test score information for anomaly detection.\n",
    "    \"\"\"\n",
    "    test_score_df = pd.DataFrame(index=test[time_steps:].index)\n",
    "    test_score_df[\"Date/Time\"] = test[\"Date/Time\"]\n",
    "    test_score_df[\"Loss\"] = mae_loss\n",
    "    test_score_df[\"Threshold\"] = threshold\n",
    "    test_score_df[\"Anomaly\"] = test_score_df.Loss > test_score_df.Threshold\n",
    "    test_score_df[\"Water_level\"] = test[time_steps:][column]\n",
    "    return test_score_df\n",
    "\n",
    "\n",
    "def mae_loss(X_pred, X):\n",
    "    \"\"\"\n",
    "    Calculates the mean absolute error (MAE) loss between predicted values and true values.\n",
    "\n",
    "    Parameters:\n",
    "        X_pred (array-like): Predicted values.\n",
    "        X (array-like): True values.\n",
    "\n",
    "    Returns:\n",
    "        float: Mean absolute error (MAE) loss.\n",
    "    \"\"\"\n",
    "    return np.mean(np.abs(X_pred, X), axis=1)\n",
    "\n",
    "\n",
    "def get_anomalies_df(model, df, column, time_steps):\n",
    "    \"\"\"\n",
    "    Obtains a DataFrame of anomalies detected by a given model on a specified column of a DataFrame.\n",
    "\n",
    "    Parameters:\n",
    "        model (object): An anomaly detection model capable of predicting anomalies.\n",
    "        df (pandas.DataFrame): The DataFrame containing the data to be analyzed.\n",
    "        column (str): The name of the column in the DataFrame to analyze for anomalies.\n",
    "        time_steps (int): The number of time steps used when analyzing if a data point is an anomaly or not.\n",
    "\n",
    "    Returns:\n",
    "        pandas.DataFrame: A DataFrame containing the detected anomalies.\n",
    "    \"\"\"\n",
    "    X, _ = create_dataset(df[[\"Date/Time-unix\"]], df[[column]], time_steps)\n",
    "    pred = model.predict(X)\n",
    "    X = X.astype(\"float64\")\n",
    "    data_mae_loss = mae_loss(pred, X)\n",
    "    THRESHOLD = 0.8\n",
    "    score_df = create_test_score_df(df, time_steps, data_mae_loss, THRESHOLD, column)\n",
    "    anomalies = score_df[score_df.Anomaly == True]\n",
    "    return anomalies\n",
    "\n",
    "\n",
    "def parse_to_datetime(x):\n",
    "    \"\"\"\n",
    "    Parses a given input into a datetime object.\n",
    "\n",
    "    Parameters:\n",
    "        x (str or datetime): The input to be parsed into a datetime object.\n",
    "\n",
    "    Returns:\n",
    "        datetime: A datetime object representing the parsed value.\n",
    "    \"\"\"\n",
    "    if isinstance(x, datetime):\n",
    "        return x\n",
    "    try:\n",
    "        return datetime.strptime(x, '%Y-%m-%d %H:%M:%S')\n",
    "    except ValueError:\n",
    "        try:\n",
    "            return datetime.strptime(x, '%Y-%m-%d %H:%M')\n",
    "        except ValueError:\n",
    "            try:\n",
    "                return datetime.strptime(x, '%Y-%m-%d %H')\n",
    "            except ValueError:\n",
    "                return datetime.strptime(x, '%Y-%m-%d')  # Get rid of data points without hours and/or minutes?\n",
    "\n",
    "class interactive_data_chooser:\n",
    "    \"\"\"\n",
    "    Class for selecting data graphically and displaying it\n",
    "    \"\"\"\n",
    "    def __init__(self, df, columns):\n",
    "        self.df = df.copy()\n",
    "        self.columns = columns\n",
    "        self.df[\"Manual_Outlier\"] = -1\n",
    "        self.df[\"Model_Outlier\"] = 0\n",
    "        self.axis_dropdowns = None\n",
    "        self.chosen_color_column = self.df[\"Manual_Outlier\"]\n",
    "        self.trace1_color = None\n",
    "        self.trace2_color = None\n",
    "    \n",
    "    def activate_plot(self):\n",
    "        \"\"\"\n",
    "        Activates the plot by initializing the necessary traces, adding dummy traces for the legend, and configuring the layout.\n",
    "\n",
    "        Returns:\n",
    "            ipywidgets.VBox: A VBox containing the plot and necessary controls.\n",
    "        \"\"\"\n",
    "        self.df.reset_index(inplace=True,drop=True)\n",
    "        numeric_df = self.df.select_dtypes(include=np.number)\n",
    "        numeric_columns = numeric_df.columns\n",
    "        model = load_model()\n",
    "\n",
    "        # Get anomalies calculated by the model and set the value in \"Model_Outlier\" to 1\n",
    "        anomalies = get_anomalies_df(model, self.df, 'Water level, Nap (cm)', 30)\n",
    "        self.df.loc[self.df[\"Date/Time\"].isin(anomalies[\"Date/Time\"]), \"Model_Outlier\"] = 1\n",
    "        \n",
    "        # Trace1 is the non-outlier trace, where manually confirmed non-outlier data points are marked \n",
    "        # as triangles and the other data points as circles\n",
    "        trace1 = go.Scatter(x=self.df[(self.df[\"Model_Outlier\"] != 1) | \\\n",
    "                                        (self.df[\"Model_Outlier\"] == 1) & (self.df[\"Manual_Outlier\"] == 0)][\"Date/Time\"], \n",
    "                            y=self.df[(self.df[\"Model_Outlier\"] != 1) | \\\n",
    "                                        (self.df[\"Model_Outlier\"] == 1) & (self.df[\"Manual_Outlier\"] == 0)][\"Water level, Nap (cm)\"],\n",
    "                            mode=\"markers+lines\", \n",
    "                            selected_marker_color = \"orange\",\n",
    "                            visible=True,\n",
    "                            opacity=1.0,\n",
    "                            marker=dict(size=10,\n",
    "                                        colorscale=[\"blue\", \"green\"], \n",
    "                                        color=self.trace1_color), \n",
    "                                        marker_symbol=[\"circle\", \"triangle-up\"],\n",
    "                                        showlegend=True,\n",
    "                                        name=\"non-outlier\")\n",
    "\n",
    "        # Trace 2 is the outlier trace, data points are marked with a chross\n",
    "        trace2 = go.Scatter(x=self.df[(self.df[\"Model_Outlier\"] == 1) & (self.df[\"Manual_Outlier\"] != 0)][\"Date/Time\"],  \n",
    "                            y=self.df[(self.df[\"Model_Outlier\"] == 1) & (self.df[\"Manual_Outlier\"] != 0)][\"Water level, Nap (cm)\"],\n",
    "                            mode=\"markers\", \n",
    "                            selected_marker_color = \"orange\",\n",
    "                            visible=True,\n",
    "                            opacity=1.0,\n",
    "                            marker=dict(size=10, \n",
    "                                        colorscale=[\"blue\", \"red\"], \n",
    "                                        color=self.trace2_color), \n",
    "                                        marker_symbol=\"x\", \n",
    "                                        showlegend=True,\n",
    "                                        name=\"outlier\")\n",
    "        \n",
    "        # Create scatter plot with two different colors based on the \"color\" column\n",
    "        self.f = go.FigureWidget(data=[trace1, trace2])\n",
    "\n",
    "        # Add dummy traces for a legend that explains the marker symbols\n",
    "        self.f.add_trace(go.Scatter(x=[None], y=[None], mode=\"markers\",\n",
    "                         marker=dict(symbol=\"circle\", color=\"blue\", size=10),\n",
    "                         name=\"Not manually chosen\", legendgroup=\"Dummy Traces\"\n",
    "                         ))\n",
    "        self.f.add_trace(go.Scatter(x=[None], y=[None], mode=\"markers\",\n",
    "                         marker=dict(symbol=\"triangle-up\", color=\"green\", size=10),\n",
    "                         name=\"Not outlier\", legendgroup=\"Dummy Traces\"\n",
    "                         ))\n",
    "        self.f.add_trace(go.Scatter(x=[None], y=[None],mode=\"markers\",\n",
    "                         marker=dict(symbol=\"x\", color=\"red\", size=10),\n",
    "                         name=\"Outlier\", legendgroup=\"Dummy Traces\"\n",
    "                         ))\n",
    "        \n",
    "        # Add title annotation above the dummy traces legend group\n",
    "        self.f.add_annotation(\n",
    "            x=1.125, y=0.78,\n",
    "            xref=\"paper\", yref=\"paper\",\n",
    "            text=\"<b>Marker symbols</b>\",\n",
    "            showarrow=False,\n",
    "            font=dict(size=12)\n",
    "        )\n",
    "\n",
    "        # Drop down menus for axes and plot color, not used for the moment\n",
    "        # self.axis_dropdowns = interactive(self.update_axes, yaxis = self.columns, xaxis = self.columns, color = numeric_columns)  # , trace_idx=0\n",
    "\n",
    "        # Add x-axis and y-axis labels and add space between the traces in the legend\n",
    "        self.f.update_layout(xaxis_title=\"Date/Time\", yaxis_title=\"Water level, Nap (cm)\", legend=dict(tracegroupgap=15))  \n",
    "\n",
    "        # For both traces, activate selection_fn if user marks datapoints in them\n",
    "        self.f.data[0].on_selection(self.selection_fn)\n",
    "        self.f.data[1].on_selection(self.selection_fn)\n",
    "        \n",
    "        return VBox((HBox(), self.f)) \n",
    "        # return VBox((HBox(self.axis_dropdowns.children), self.f))  # Use instead of the line above if drop downs are wanted\n",
    "    \n",
    "    def update_axes(self, xaxis, yaxis, color):  # Not used for the moment, self.f.data now consists of two traces and this method has not been implemented\n",
    "        \"\"\"\n",
    "        Update the axes and marker color of the scatter plot.\n",
    "\n",
    "        Parameters:\n",
    "            xaxis (str): The column name for the x-axis.\n",
    "            yaxis (str): The column name for the y-axis.\n",
    "            color (str): The column name for the marker color.\n",
    "        \"\"\"\n",
    "        scatter = self.f.data[0]  \n",
    "        scatter.x = self.df[xaxis]\n",
    "        scatter.y = self.df[yaxis]\n",
    "        scatter.marker.color = self.df[color]\n",
    "        with self.f.batch_update():\n",
    "            self.f.layout.xaxis.title = xaxis\n",
    "            self.f.layout.yaxis.title = yaxis     \n",
    "\n",
    "    def remove_selected_data_points(self, current_list_x, current_list_y, points):\n",
    "        \"\"\"\n",
    "        Remove the selected data points from the current lists of x and y coordinates.\n",
    "\n",
    "        Parameters:\n",
    "            current_list_x (numpy.ndarray): The current list of x coordinates.\n",
    "            current_list_y (numpy.ndarray): The current list of y coordinates.\n",
    "            points (plotly.graph_objects.FigureWidget.PointSelection): The selected data points.\n",
    "\n",
    "        Returns:\n",
    "            tuple: A tuple containing the updated lists of x and y coordinates.\n",
    "        \"\"\"\n",
    "        current_list_x = np.delete(current_list_x, points.point_inds) \n",
    "        current_list_y = np.delete(current_list_y, points.point_inds)\n",
    "        return current_list_x, current_list_y\n",
    "\n",
    "    def get_x_and_y_values_current_trace(self, trace):  \n",
    "        \"\"\"\n",
    "        Get the x and y values for the current trace.\n",
    "\n",
    "        Parameters:\n",
    "            trace (plotly.graph_objects.Scatter): The trace.\n",
    "\n",
    "        Returns:\n",
    "            tuple: A tuple containing the x and y values of the current trace.\n",
    "        \"\"\"\n",
    "        trace_value = 0 if trace.name == \"non-outlier\" else 1\n",
    "        x_values, y_values = self.get_x_and_y_values(trace_value)\n",
    "        return x_values, y_values\n",
    "    \n",
    "    def get_x_and_y_values_other_trace(self, trace):\n",
    "        \"\"\"\n",
    "        Get the x and y values for the other trace.\n",
    "\n",
    "        Parameters:\n",
    "            trace (plotly.graph_objects.Scatter): The trace.\n",
    "\n",
    "        Returns:\n",
    "            tuple: A tuple containing the x and y values of the other trace.\n",
    "        \"\"\"\n",
    "        trace_value = 0 if trace.name == \"outlier\" else 1\n",
    "        x_values, y_values = self.get_x_and_y_values(trace_value)\n",
    "        return x_values, y_values  \n",
    "    \n",
    "    def get_x_and_y_values(self, trace_value):\n",
    "        \"\"\"\n",
    "        Get the x and y values for a specific trace.\n",
    "\n",
    "        Parameters:\n",
    "            trace_value (int): The index of the trace.\n",
    "\n",
    "        Returns:\n",
    "            tuple: A tuple containing the x and y values of the trace.\n",
    "        \"\"\"\n",
    "        x_values = np.array(self.f.data[trace_value].x)\n",
    "        y_values = np.array(self.f.data[trace_value].y)\n",
    "        return x_values, y_values\n",
    "\n",
    "    def append_selected_data_points(self, x_values, y_values, points):\n",
    "        \"\"\"\n",
    "        Append the selected data points in points to the lists of x and y values.\n",
    "\n",
    "        Parameters:\n",
    "            x_values (np.ndarray): The current list of x values.\n",
    "            y_values (np.ndarray): The current list of y values.\n",
    "            points (plotly.graph_objs.Points): The selected data points.\n",
    "\n",
    "        Returns:\n",
    "            tuple: A tuple containing the x and y values with the new values appended using the correct data type.\n",
    "        \"\"\"\n",
    "        xs_to_datetime = []\n",
    "        for x in points.xs:  \n",
    "            x = parse_to_datetime(x)\n",
    "            xs_to_datetime.append(x)\n",
    "\n",
    "        appended_list_x = np.append(x_values, xs_to_datetime)\n",
    "        appended_list_y = np.append(y_values, points.ys)\n",
    "        return appended_list_x, appended_list_y\n",
    "\n",
    "    def selection_fn(self,trace,points,selector):\n",
    "        \"\"\"\n",
    "        Updates the plot and data based on the selected data points. Selected data points switch trace.\n",
    "\n",
    "        Parameters:\n",
    "            trace (go.Scatter): The current trace. The method is called once for each of the two traces (non-outlier and outlier).\n",
    "            points (dict): The selected data points containing the x-values in 'xs' and the y-values in 'ys'.\n",
    "            selector (dict): The selector used to identify the trace.\n",
    "\n",
    "        Returns:\n",
    "            None\n",
    "        \"\"\"     \n",
    "        # Set \"Manual_Outlier\" values for the data points selected\n",
    "        mask = self.df[\"Date/Time\"].isin(points.xs)     \n",
    "        self.df.loc[mask, 'Manual_Outlier'] = self.df.loc[mask, 'Manual_Outlier'].apply(lambda x: 0 if x == 1 else 1)\n",
    "        \n",
    "        # Add selected data points to the other trace\n",
    "        other_trace_x, other_trace_y = self.get_x_and_y_values_other_trace(trace)\n",
    "        other_trace_x, other_trace_y = self.append_selected_data_points(other_trace_x, other_trace_y, points)\n",
    "        \n",
    "        # If data points in \"outlier\" have been added to \"non-outlier\"-trace, then sort x axis on datetime \n",
    "        other_trace_name = \"outlier\" if trace.name == \"non-outlier\" else \"non-outlier\"\n",
    "        if trace.name == \"outlier\":\n",
    "            sort_indices = np.argsort(other_trace_x)\n",
    "            other_trace_x = other_trace_x[sort_indices]\n",
    "            other_trace_y = other_trace_y[sort_indices]\n",
    "            self.df.loc[mask, \"Manual_Outlier\"] = 0  \n",
    "        \n",
    "        # Update the other trace \n",
    "        self.f.update_traces(x=other_trace_x, y=other_trace_y, selector=dict(name=other_trace_name))\n",
    "\n",
    "        # Remove selected data points from current trace and update it\n",
    "        trace_x, trace_y = self.get_x_and_y_values_current_trace(trace)\n",
    "        trace_x, trace_y = self.remove_selected_data_points(trace_x, trace_y, points)\n",
    "        self.f.update_traces(x=trace_x, y=trace_y, selector=dict(name=trace.name))\n",
    "        \n",
    "        # Update marker symbol in trace1, non-outlier\n",
    "        symbols = {-1: \"circle\", 0: \"triangle-up\"}\n",
    "        trace1_x_values = self.f.data[0].x\n",
    "        self.trace1_color = [x[\"Manual_Outlier\"] for _, x in self.df.iterrows() if x[\"Date/Time\"] in trace1_x_values and x[\"Manual_Outlier\"] != 1]\n",
    "        marker_symbols = [symbols[i] for i in self.trace1_color]  \n",
    "        self.f.update_traces(marker_color=self.trace1_color, marker_symbol=marker_symbols, selector=dict(name=\"non-outlier\")) \n",
    "\n",
    "\n",
    "\n"
   ]
  },
  {
   "cell_type": "code",
   "execution_count": 94,
   "metadata": {},
   "outputs": [
    {
     "name": "stdout",
     "output_type": "stream",
     "text": [
      "3/3 [==============================] - 1s 8ms/step\n",
      "70\n",
      "             Date/Time  Loss  Threshold  Anomaly  Water_level\n",
      "30 2022-04-22 22:40:00   1.0        0.8     True           10\n",
      "31 2022-04-22 23:00:00   1.0        0.8     True            7\n",
      "32 2022-04-22 23:20:00   1.0        0.8     True            6\n",
      "33 2022-04-22 23:40:00   1.0        0.8     True            5\n",
      "34 2022-04-23 00:00:00   1.0        0.8     True            5\n",
      "..                 ...   ...        ...      ...          ...\n",
      "95 2022-04-23 20:20:00   1.0        0.8     True            0\n",
      "96 2022-04-23 20:40:00   1.0        0.8     True            2\n",
      "97 2022-04-23 21:00:00   1.0        0.8     True            2\n",
      "98 2022-04-23 21:20:00   1.0        0.8     True            3\n",
      "99 2022-04-23 21:40:00   1.0        0.8     True            9\n",
      "\n",
      "[70 rows x 5 columns]\n"
     ]
    },
    {
     "data": {
      "application/vnd.jupyter.widget-view+json": {
       "model_id": "6c84b43b8e394ce499757296068e8d47",
       "version_major": 2,
       "version_minor": 0
      },
      "text/plain": [
       "VBox(children=(HBox(), FigureWidget({\n",
       "    'data': [{'marker': {'colorscale': [[0.0, 'blue'], [1.0, 'green']], …"
      ]
     },
     "execution_count": 94,
     "metadata": {},
     "output_type": "execute_result"
    }
   ],
   "source": [
    "#!/usr/bin/env python\n",
    "# coding: utf-8\n",
    "\n",
    "from dash import Dash, dcc, html, Input, Output\n",
    "import plotly.express as px\n",
    "import time\n",
    "\n",
    "df = pd.read_csv(\"data/asset-data-export_vEm3Jd5916-64098d190a5ca-1678347545.csv\", delimiter=\";\", header=4) \n",
    "\n",
    "df[\"Date/Time\"] = pd.to_datetime(df[\"Date/Time\"]) \n",
    "df[\"Date/Time-unix\"] = df[\"Date/Time\"].apply(lambda x: int(time.mktime(x.timetuple())))\n",
    "\n",
    "chooser = interactive_data_chooser(df[:100], df.columns)  \n",
    "chooser.activate_plot()\n"
   ]
  },
  {
   "cell_type": "code",
   "execution_count": 63,
   "metadata": {},
   "outputs": [
    {
     "data": {
      "application/vnd.plotly.v1+json": {
       "config": {
        "plotlyServerURL": "https://plot.ly"
       },
       "data": [
        {
         "marker": {
          "colorscale": [
           [
            0,
            "blue"
           ],
           [
            1,
            "green"
           ]
          ],
          "size": 10
         },
         "mode": "markers+lines",
         "name": "non-outlier",
         "opacity": 1,
         "selected": {
          "marker": {
           "color": "orange"
          }
         },
         "showlegend": true,
         "type": "scatter",
         "uid": "dd09ff4c-bde2-4e00-a47e-f3be43f3706a",
         "visible": true,
         "x": [
          "2022-03-08T00:00:04",
          "2022-03-08T00:30:00",
          "2022-03-08T01:00:00",
          "2022-03-08T01:30:00",
          "2022-03-08T02:00:00",
          "2022-03-08T02:30:00",
          "2022-03-08T03:00:00",
          "2022-03-08T03:30:04",
          "2022-03-08T04:00:00",
          "2022-03-08T04:30:00",
          "2022-03-08T05:00:00",
          "2022-03-08T05:30:04",
          "2022-03-08T06:00:00",
          "2022-03-08T06:30:00",
          "2022-03-08T07:00:00",
          "2022-03-08T07:30:04",
          "2022-03-08T08:00:00",
          "2022-03-08T08:30:00",
          "2022-03-08T09:00:00",
          "2022-03-08T09:30:04",
          "2022-03-08T10:00:00",
          "2022-03-08T10:30:00",
          "2022-03-08T11:00:00",
          "2022-03-08T11:30:04",
          "2022-03-08T12:00:00",
          "2022-03-08T12:30:00",
          "2022-03-08T13:00:00",
          "2022-03-08T13:30:04",
          "2022-03-08T14:00:00",
          "2022-03-08T14:30:00"
         ],
         "y": [
          24,
          24,
          24,
          20,
          20,
          20,
          20,
          20,
          17,
          17,
          24,
          24,
          24,
          24,
          24,
          25,
          25,
          26,
          26,
          26,
          150,
          26,
          26,
          26,
          26,
          26,
          26,
          26,
          26,
          24
         ]
        }
       ],
       "layout": {
        "template": {
         "data": {
          "bar": [
           {
            "error_x": {
             "color": "#2a3f5f"
            },
            "error_y": {
             "color": "#2a3f5f"
            },
            "marker": {
             "line": {
              "color": "#E5ECF6",
              "width": 0.5
             },
             "pattern": {
              "fillmode": "overlay",
              "size": 10,
              "solidity": 0.2
             }
            },
            "type": "bar"
           }
          ],
          "barpolar": [
           {
            "marker": {
             "line": {
              "color": "#E5ECF6",
              "width": 0.5
             },
             "pattern": {
              "fillmode": "overlay",
              "size": 10,
              "solidity": 0.2
             }
            },
            "type": "barpolar"
           }
          ],
          "carpet": [
           {
            "aaxis": {
             "endlinecolor": "#2a3f5f",
             "gridcolor": "white",
             "linecolor": "white",
             "minorgridcolor": "white",
             "startlinecolor": "#2a3f5f"
            },
            "baxis": {
             "endlinecolor": "#2a3f5f",
             "gridcolor": "white",
             "linecolor": "white",
             "minorgridcolor": "white",
             "startlinecolor": "#2a3f5f"
            },
            "type": "carpet"
           }
          ],
          "choropleth": [
           {
            "colorbar": {
             "outlinewidth": 0,
             "ticks": ""
            },
            "type": "choropleth"
           }
          ],
          "contour": [
           {
            "colorbar": {
             "outlinewidth": 0,
             "ticks": ""
            },
            "colorscale": [
             [
              0,
              "#0d0887"
             ],
             [
              0.1111111111111111,
              "#46039f"
             ],
             [
              0.2222222222222222,
              "#7201a8"
             ],
             [
              0.3333333333333333,
              "#9c179e"
             ],
             [
              0.4444444444444444,
              "#bd3786"
             ],
             [
              0.5555555555555556,
              "#d8576b"
             ],
             [
              0.6666666666666666,
              "#ed7953"
             ],
             [
              0.7777777777777778,
              "#fb9f3a"
             ],
             [
              0.8888888888888888,
              "#fdca26"
             ],
             [
              1,
              "#f0f921"
             ]
            ],
            "type": "contour"
           }
          ],
          "contourcarpet": [
           {
            "colorbar": {
             "outlinewidth": 0,
             "ticks": ""
            },
            "type": "contourcarpet"
           }
          ],
          "heatmap": [
           {
            "colorbar": {
             "outlinewidth": 0,
             "ticks": ""
            },
            "colorscale": [
             [
              0,
              "#0d0887"
             ],
             [
              0.1111111111111111,
              "#46039f"
             ],
             [
              0.2222222222222222,
              "#7201a8"
             ],
             [
              0.3333333333333333,
              "#9c179e"
             ],
             [
              0.4444444444444444,
              "#bd3786"
             ],
             [
              0.5555555555555556,
              "#d8576b"
             ],
             [
              0.6666666666666666,
              "#ed7953"
             ],
             [
              0.7777777777777778,
              "#fb9f3a"
             ],
             [
              0.8888888888888888,
              "#fdca26"
             ],
             [
              1,
              "#f0f921"
             ]
            ],
            "type": "heatmap"
           }
          ],
          "heatmapgl": [
           {
            "colorbar": {
             "outlinewidth": 0,
             "ticks": ""
            },
            "colorscale": [
             [
              0,
              "#0d0887"
             ],
             [
              0.1111111111111111,
              "#46039f"
             ],
             [
              0.2222222222222222,
              "#7201a8"
             ],
             [
              0.3333333333333333,
              "#9c179e"
             ],
             [
              0.4444444444444444,
              "#bd3786"
             ],
             [
              0.5555555555555556,
              "#d8576b"
             ],
             [
              0.6666666666666666,
              "#ed7953"
             ],
             [
              0.7777777777777778,
              "#fb9f3a"
             ],
             [
              0.8888888888888888,
              "#fdca26"
             ],
             [
              1,
              "#f0f921"
             ]
            ],
            "type": "heatmapgl"
           }
          ],
          "histogram": [
           {
            "marker": {
             "pattern": {
              "fillmode": "overlay",
              "size": 10,
              "solidity": 0.2
             }
            },
            "type": "histogram"
           }
          ],
          "histogram2d": [
           {
            "colorbar": {
             "outlinewidth": 0,
             "ticks": ""
            },
            "colorscale": [
             [
              0,
              "#0d0887"
             ],
             [
              0.1111111111111111,
              "#46039f"
             ],
             [
              0.2222222222222222,
              "#7201a8"
             ],
             [
              0.3333333333333333,
              "#9c179e"
             ],
             [
              0.4444444444444444,
              "#bd3786"
             ],
             [
              0.5555555555555556,
              "#d8576b"
             ],
             [
              0.6666666666666666,
              "#ed7953"
             ],
             [
              0.7777777777777778,
              "#fb9f3a"
             ],
             [
              0.8888888888888888,
              "#fdca26"
             ],
             [
              1,
              "#f0f921"
             ]
            ],
            "type": "histogram2d"
           }
          ],
          "histogram2dcontour": [
           {
            "colorbar": {
             "outlinewidth": 0,
             "ticks": ""
            },
            "colorscale": [
             [
              0,
              "#0d0887"
             ],
             [
              0.1111111111111111,
              "#46039f"
             ],
             [
              0.2222222222222222,
              "#7201a8"
             ],
             [
              0.3333333333333333,
              "#9c179e"
             ],
             [
              0.4444444444444444,
              "#bd3786"
             ],
             [
              0.5555555555555556,
              "#d8576b"
             ],
             [
              0.6666666666666666,
              "#ed7953"
             ],
             [
              0.7777777777777778,
              "#fb9f3a"
             ],
             [
              0.8888888888888888,
              "#fdca26"
             ],
             [
              1,
              "#f0f921"
             ]
            ],
            "type": "histogram2dcontour"
           }
          ],
          "mesh3d": [
           {
            "colorbar": {
             "outlinewidth": 0,
             "ticks": ""
            },
            "type": "mesh3d"
           }
          ],
          "parcoords": [
           {
            "line": {
             "colorbar": {
              "outlinewidth": 0,
              "ticks": ""
             }
            },
            "type": "parcoords"
           }
          ],
          "pie": [
           {
            "automargin": true,
            "type": "pie"
           }
          ],
          "scatter": [
           {
            "fillpattern": {
             "fillmode": "overlay",
             "size": 10,
             "solidity": 0.2
            },
            "type": "scatter"
           }
          ],
          "scatter3d": [
           {
            "line": {
             "colorbar": {
              "outlinewidth": 0,
              "ticks": ""
             }
            },
            "marker": {
             "colorbar": {
              "outlinewidth": 0,
              "ticks": ""
             }
            },
            "type": "scatter3d"
           }
          ],
          "scattercarpet": [
           {
            "marker": {
             "colorbar": {
              "outlinewidth": 0,
              "ticks": ""
             }
            },
            "type": "scattercarpet"
           }
          ],
          "scattergeo": [
           {
            "marker": {
             "colorbar": {
              "outlinewidth": 0,
              "ticks": ""
             }
            },
            "type": "scattergeo"
           }
          ],
          "scattergl": [
           {
            "marker": {
             "colorbar": {
              "outlinewidth": 0,
              "ticks": ""
             }
            },
            "type": "scattergl"
           }
          ],
          "scattermapbox": [
           {
            "marker": {
             "colorbar": {
              "outlinewidth": 0,
              "ticks": ""
             }
            },
            "type": "scattermapbox"
           }
          ],
          "scatterpolar": [
           {
            "marker": {
             "colorbar": {
              "outlinewidth": 0,
              "ticks": ""
             }
            },
            "type": "scatterpolar"
           }
          ],
          "scatterpolargl": [
           {
            "marker": {
             "colorbar": {
              "outlinewidth": 0,
              "ticks": ""
             }
            },
            "type": "scatterpolargl"
           }
          ],
          "scatterternary": [
           {
            "marker": {
             "colorbar": {
              "outlinewidth": 0,
              "ticks": ""
             }
            },
            "type": "scatterternary"
           }
          ],
          "surface": [
           {
            "colorbar": {
             "outlinewidth": 0,
             "ticks": ""
            },
            "colorscale": [
             [
              0,
              "#0d0887"
             ],
             [
              0.1111111111111111,
              "#46039f"
             ],
             [
              0.2222222222222222,
              "#7201a8"
             ],
             [
              0.3333333333333333,
              "#9c179e"
             ],
             [
              0.4444444444444444,
              "#bd3786"
             ],
             [
              0.5555555555555556,
              "#d8576b"
             ],
             [
              0.6666666666666666,
              "#ed7953"
             ],
             [
              0.7777777777777778,
              "#fb9f3a"
             ],
             [
              0.8888888888888888,
              "#fdca26"
             ],
             [
              1,
              "#f0f921"
             ]
            ],
            "type": "surface"
           }
          ],
          "table": [
           {
            "cells": {
             "fill": {
              "color": "#EBF0F8"
             },
             "line": {
              "color": "white"
             }
            },
            "header": {
             "fill": {
              "color": "#C8D4E3"
             },
             "line": {
              "color": "white"
             }
            },
            "type": "table"
           }
          ]
         },
         "layout": {
          "annotationdefaults": {
           "arrowcolor": "#2a3f5f",
           "arrowhead": 0,
           "arrowwidth": 1
          },
          "autotypenumbers": "strict",
          "coloraxis": {
           "colorbar": {
            "outlinewidth": 0,
            "ticks": ""
           }
          },
          "colorscale": {
           "diverging": [
            [
             0,
             "#8e0152"
            ],
            [
             0.1,
             "#c51b7d"
            ],
            [
             0.2,
             "#de77ae"
            ],
            [
             0.3,
             "#f1b6da"
            ],
            [
             0.4,
             "#fde0ef"
            ],
            [
             0.5,
             "#f7f7f7"
            ],
            [
             0.6,
             "#e6f5d0"
            ],
            [
             0.7,
             "#b8e186"
            ],
            [
             0.8,
             "#7fbc41"
            ],
            [
             0.9,
             "#4d9221"
            ],
            [
             1,
             "#276419"
            ]
           ],
           "sequential": [
            [
             0,
             "#0d0887"
            ],
            [
             0.1111111111111111,
             "#46039f"
            ],
            [
             0.2222222222222222,
             "#7201a8"
            ],
            [
             0.3333333333333333,
             "#9c179e"
            ],
            [
             0.4444444444444444,
             "#bd3786"
            ],
            [
             0.5555555555555556,
             "#d8576b"
            ],
            [
             0.6666666666666666,
             "#ed7953"
            ],
            [
             0.7777777777777778,
             "#fb9f3a"
            ],
            [
             0.8888888888888888,
             "#fdca26"
            ],
            [
             1,
             "#f0f921"
            ]
           ],
           "sequentialminus": [
            [
             0,
             "#0d0887"
            ],
            [
             0.1111111111111111,
             "#46039f"
            ],
            [
             0.2222222222222222,
             "#7201a8"
            ],
            [
             0.3333333333333333,
             "#9c179e"
            ],
            [
             0.4444444444444444,
             "#bd3786"
            ],
            [
             0.5555555555555556,
             "#d8576b"
            ],
            [
             0.6666666666666666,
             "#ed7953"
            ],
            [
             0.7777777777777778,
             "#fb9f3a"
            ],
            [
             0.8888888888888888,
             "#fdca26"
            ],
            [
             1,
             "#f0f921"
            ]
           ]
          },
          "colorway": [
           "#636efa",
           "#EF553B",
           "#00cc96",
           "#ab63fa",
           "#FFA15A",
           "#19d3f3",
           "#FF6692",
           "#B6E880",
           "#FF97FF",
           "#FECB52"
          ],
          "font": {
           "color": "#2a3f5f"
          },
          "geo": {
           "bgcolor": "white",
           "lakecolor": "white",
           "landcolor": "#E5ECF6",
           "showlakes": true,
           "showland": true,
           "subunitcolor": "white"
          },
          "hoverlabel": {
           "align": "left"
          },
          "hovermode": "closest",
          "mapbox": {
           "style": "light"
          },
          "paper_bgcolor": "white",
          "plot_bgcolor": "#E5ECF6",
          "polar": {
           "angularaxis": {
            "gridcolor": "white",
            "linecolor": "white",
            "ticks": ""
           },
           "bgcolor": "#E5ECF6",
           "radialaxis": {
            "gridcolor": "white",
            "linecolor": "white",
            "ticks": ""
           }
          },
          "scene": {
           "xaxis": {
            "backgroundcolor": "#E5ECF6",
            "gridcolor": "white",
            "gridwidth": 2,
            "linecolor": "white",
            "showbackground": true,
            "ticks": "",
            "zerolinecolor": "white"
           },
           "yaxis": {
            "backgroundcolor": "#E5ECF6",
            "gridcolor": "white",
            "gridwidth": 2,
            "linecolor": "white",
            "showbackground": true,
            "ticks": "",
            "zerolinecolor": "white"
           },
           "zaxis": {
            "backgroundcolor": "#E5ECF6",
            "gridcolor": "white",
            "gridwidth": 2,
            "linecolor": "white",
            "showbackground": true,
            "ticks": "",
            "zerolinecolor": "white"
           }
          },
          "shapedefaults": {
           "line": {
            "color": "#2a3f5f"
           }
          },
          "ternary": {
           "aaxis": {
            "gridcolor": "white",
            "linecolor": "white",
            "ticks": ""
           },
           "baxis": {
            "gridcolor": "white",
            "linecolor": "white",
            "ticks": ""
           },
           "bgcolor": "#E5ECF6",
           "caxis": {
            "gridcolor": "white",
            "linecolor": "white",
            "ticks": ""
           }
          },
          "title": {
           "x": 0.05
          },
          "xaxis": {
           "automargin": true,
           "gridcolor": "white",
           "linecolor": "white",
           "ticks": "",
           "title": {
            "standoff": 15
           },
           "zerolinecolor": "white",
           "zerolinewidth": 2
          },
          "yaxis": {
           "automargin": true,
           "gridcolor": "white",
           "linecolor": "white",
           "ticks": "",
           "title": {
            "standoff": 15
           },
           "zerolinecolor": "white",
           "zerolinewidth": 2
          }
         }
        },
        "title": {
         "text": "Simple Scatter Plot"
        },
        "xaxis": {
         "title": {
          "text": "X-axis"
         }
        },
        "yaxis": {
         "title": {
          "text": "Y-axis"
         }
        }
       }
      }
     },
     "metadata": {},
     "output_type": "display_data"
    }
   ],
   "source": [
    "\n",
    "df = pd.read_csv(\"data/manipulated_data.csv\", delimiter=\";\", header=3)  #, index_col=\"Date/Time\") \n",
    "df[\"Date/Time\"] = pd.to_datetime(df[\"Date/Time\"]) \n",
    "df[\"Date/Time-unix\"] = df[\"Date/Time\"].apply(lambda x: int(time.mktime(x.timetuple())))\n",
    "df[\"Model_Outlier\"] = 0\n",
    "df[\"Manual_Outlier\"] = -1\n",
    "df = df[:100]\n",
    "# df.loc[30:][\"Model_Outlier\"] = 1 Den här funkar inte, då finns alla 100 datapunkter med i trace och alla 100 plottas\n",
    "df.loc[30:, \"Model_Outlier\"] = 1  # Den här funkar, då finns enbart de första 30 datapunkterna med i trace och dessa 30 plottas\n",
    "trace = go.Scatter(x=df[(df[\"Model_Outlier\"] != 1) | \\\n",
    "                                           (df[\"Model_Outlier\"] == 1) & (df[\"Manual_Outlier\"] == 0)][\"Date/Time\"], \n",
    "                                y=df[(df[\"Model_Outlier\"] != 1) | \\\n",
    "                                           (df[\"Model_Outlier\"] == 1) & (df[\"Manual_Outlier\"] == 0)][\"Water level, Nap (cm)\"],\n",
    "                                mode=\"markers+lines\", \n",
    "                                selected_marker_color = \"orange\",\n",
    "                                visible=True,\n",
    "                                opacity=1.0,\n",
    "                                marker=dict(size=10, \n",
    "                                            colorscale=[\"blue\", \"green\"]), # color=numeric_df[numeric_columns[0]]),\n",
    "                                            showlegend=True,\n",
    "                                            name=\"non-outlier\") \n",
    "layout = go.Layout(title=\"Simple Scatter Plot\",\n",
    "                   xaxis=dict(title=\"X-axis\"),\n",
    "                   yaxis=dict(title=\"Y-axis\"))\n",
    "\n",
    "fig = go.FigureWidget(data=trace, layout=layout)\n",
    "fig.show()"
   ]
  },
  {
   "cell_type": "code",
   "execution_count": null,
   "metadata": {},
   "outputs": [],
   "source": []
  }
 ],
 "metadata": {
  "kernelspec": {
   "display_name": "venv",
   "language": "python",
   "name": "python3"
  },
  "language_info": {
   "codemirror_mode": {
    "name": "ipython",
    "version": 3
   },
   "file_extension": ".py",
   "mimetype": "text/x-python",
   "name": "python",
   "nbconvert_exporter": "python",
   "pygments_lexer": "ipython3",
   "version": "3.11.2"
  },
  "orig_nbformat": 4,
  "vscode": {
   "interpreter": {
    "hash": "80012d8e32ffc63016233ad2f4a2a527f20cadf1ddc05e8297dcaeb58aebe3af"
   }
  }
 },
 "nbformat": 4,
 "nbformat_minor": 2
}
