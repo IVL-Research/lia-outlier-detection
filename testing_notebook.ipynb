{
 "cells": [
  {
   "cell_type": "code",
   "execution_count": 74,
   "metadata": {},
   "outputs": [],
   "source": [
    "#!/usr/bin/env python\n",
    "# coding: utf-8\n",
    "\n",
    "import sys\n",
    "import os\n",
    "import matplotlib.pyplot as plt\n",
    "import glob\n",
    "\n",
    "from datetime import datetime\n",
    "from datetime import timedelta\n",
    "from plotly.subplots import make_subplots\n",
    "import plotly.graph_objs as go\n",
    "from ipywidgets import interactive, HBox, VBox\n",
    "# import keras\n",
    "import pandas as pd\n",
    "import numpy as np\n",
    "import random\n",
    "from dash import Dash, dcc, html, Input, Output\n",
    "import plotly.express as px\n",
    "from functools import partial\n",
    "\n",
    "class interactive_data_chooser:\n",
    "    \"\"\"\n",
    "    Class for selecting data graphically and displaying it\n",
    "    \"\"\"\n",
    "    def __init__(self, df, columns):\n",
    "        # we don't need this dataframe, make a df_copy instead?\n",
    "        self.outlier_df = pd.DataFrame()\n",
    "\n",
    "        # self.df = df\n",
    "        self.df_copy = df.copy()\n",
    "        self.columns = columns\n",
    "        self.df_copy[\"manual_outlier\"] = -1\n",
    "        self.df_copy[\"model_outlier\"] = 0\n",
    "\n",
    "        self.axis_dropdowns = None\n",
    "        self.chosen_color_column = self.df_copy[\"manual_outlier\"]\n",
    "    \n",
    "    def activate_plot(self):\n",
    "        \"\"\"\n",
    "        Display interactive plot where images (data points in the plot)\n",
    "        can be selected using box select or lasso select. \n",
    "        \"\"\"\n",
    "        # TODO: cmin and cmax depending on chosen_color_column (manual_outlier will always be -1 to 1) \n",
    "        # color_continuous_scale=[(0, \"red\"), (0.5, \"green\"), (1, \"blue\")]) maybe work to not have dynamic values?\n",
    "        self.df_copy.reset_index(inplace=True,drop=True)\n",
    "        numeric_df = self.df_copy.select_dtypes(include=np.number)\n",
    "        numeric_columns = numeric_df.columns\n",
    "        # y = self.df_copy[self.columns[0]], x = self.df_copy[self.columns[1]]\n",
    "        # Hur sätter jag x- och y-axeln?\n",
    "        # Kolla upp varför symbolerna inte ändras. Vad är det som visas? \n",
    "        # Varför lägger sig non-outlier-tracen som en matta innan jag ändrat axlarna?\n",
    "        # Hur är det med self.f och trace? Något annat som är fel? \n",
    "        \n",
    "        \n",
    "        \"\"\" self.f = go.FigureWidget([go.Scatter(y = self.df_copy[self.columns[0]], \n",
    "                                             x = self.df_copy[self.columns[1]], \n",
    "                                             mode = 'markers',\n",
    "                                             selected_marker_color = \"red\", \n",
    "                                             name=\"default\",\n",
    "                                             marker=dict(color=numeric_df[numeric_columns[0]],\n",
    "                                                        colorbar=dict(thickness=10), \n",
    "                                                        colorscale=[\"blue\", \"green\", \"orange\"]))]) \"\"\"\n",
    "        \n",
    "        \n",
    "\n",
    "        # Create the scatter plot with markers and lines for z < 1\n",
    "        trace1 = go.Scatter(x=self.df_copy.loc[self.chosen_color_column < 1, 'x'], \n",
    "                                    y=self.df_copy.loc[self.chosen_color_column < 1, 'y1'],\n",
    "                                    mode='markers+lines', \n",
    "                                    selected_marker_color = \"red\", \n",
    "                                    marker=dict(size=10, \n",
    "                                                colorscale=[\"blue\", \"green\", \"orange\"], \n",
    "                                                color=numeric_df[numeric_columns[0]]),\n",
    "                                                legendgroup=\"Trace\",\n",
    "                                                showlegend=True,\n",
    "                                                name=\"non-outlier\")\n",
    "        \"\"\" self.f.add_trace(go.Scatter(x=self.df_copy.loc[self.chosen_color_column < 1, 'x'], \n",
    "                                    y=self.df_copy.loc[self.chosen_color_column < 1, 'y1'],\n",
    "                                    mode='markers+lines', \n",
    "                                    selected_marker_color = \"red\", \n",
    "                                    marker=dict(size=10, \n",
    "                                                colorscale=[\"blue\", \"green\", \"orange\"], \n",
    "                                                color=numeric_df[numeric_columns[0]]),\n",
    "                                                legendgroup=\"Trace\",\n",
    "                                                showlegend=True,\n",
    "                                                name=\"non-outlier\")) \"\"\"\n",
    "\n",
    "        # Add a second scatter trace with markers only for z = 1\n",
    "        trace2 = go.Scatter(x=self.df_copy.loc[self.chosen_color_column == 1]['x'], \n",
    "                                    y=self.df_copy.loc[self.chosen_color_column == 1]['y1'],\n",
    "                                    mode='markers', \n",
    "                                    selected_marker_color = \"red\", \n",
    "                                    marker=dict(size=10, \n",
    "                                                colorscale=[\"blue\", \"green\", \"orange\"], \n",
    "                                                color=numeric_df[numeric_columns[0]]),\n",
    "                                                legendgroup=\"Trace\", \n",
    "                                                showlegend=True,\n",
    "                                                name=\"outlier\")\n",
    "        \"\"\" self.f.add_trace(go.Scatter(x=self.df_copy.loc[self.chosen_color_column == 1]['x'], \n",
    "                                    y=self.df_copy.loc[self.chosen_color_column == 1]['y1'],\n",
    "                                    mode='markers', \n",
    "                                    selected_marker_color = \"red\", \n",
    "                                    marker=dict(size=10, \n",
    "                                                colorscale=[\"blue\", \"green\", \"orange\"], \n",
    "                                                color=numeric_df[numeric_columns[0]]),\n",
    "                                                legendgroup=\"Trace\", \n",
    "                                                showlegend=True,\n",
    "                                                name=\"outlier\")) \"\"\"\n",
    "        \n",
    "        \n",
    "        \n",
    "        trace1.hovertemplate = '<b>Trace 1</b><br>X: %{x}<br>Y: %{y}'\n",
    "        trace2.hovertemplate = '<b>Trace 2</b><br>X: %{x}<br>Y: %{y}'\n",
    "        \n",
    "        self.f = go.FigureWidget(data=[trace1, trace2])\n",
    "\n",
    "        # Customized legend\n",
    "        self.f.add_trace(go.Scatter(y=[None], mode='markers',\n",
    "                         marker=dict(symbol='circle', color='blue'),\n",
    "                         name='Not manually chosen'\n",
    "                         ))\n",
    "        self.f.add_trace(go.Scatter(y=[None], mode='markers',\n",
    "                         marker=dict(symbol='triangle-up', color='green'),\n",
    "                         name='Not outlier',\n",
    "                         ))\n",
    "        self.f.add_trace(go.Scatter(y=[None], mode='markers',\n",
    "                         marker=dict(symbol='x', color='orange'),\n",
    "                         name='Outlier',\n",
    "                         ))\n",
    "        self.f.data[0].showlegend = True\n",
    "        \n",
    "        scatter = self.f.data[0]\n",
    "        scatter.marker.opacity = 0.5\n",
    "        \n",
    "        self.axis_dropdowns = interactive(self.update_axes, yaxis = self.columns, xaxis = self.columns, color = numeric_columns)\n",
    "        scatter.on_selection(self.selection_fn)\n",
    "        \n",
    "        # Put everything together\n",
    "        return VBox((HBox(self.axis_dropdowns.children),self.f))\n",
    "    \n",
    "    def update_axes(self, xaxis, yaxis,color):\n",
    "        scatter = self.f.data[0]\n",
    "        scatter.x = self.df_copy[xaxis]\n",
    "        scatter.y = self.df_copy[yaxis]\n",
    "        scatter.marker.color = self.df_copy[color]\n",
    "        with self.f.batch_update():\n",
    "            self.f.layout.xaxis.title = xaxis\n",
    "            self.f.layout.yaxis.title = yaxis\n",
    "   \n",
    "    def update_manual_outlier(self, row):\n",
    "        row[\"manual_outlier\"] = 1 if self.df_copy[row[0]][\"manual_outlier\"] != 1 else 0\n",
    "        return row\n",
    "    \n",
    "    # def multiply_rows(row): Use this solution instead of iterrows\n",
    "        # return row['column1'] * row['column2']\n",
    "\n",
    "        # my_df['multiplied'] = my_df.apply(multiply_rows,axis=1)\n",
    "\n",
    "    def update_temp_df_last_sel(self, row, last_selected):\n",
    "        row[\"last_selected\"] = last_selected\n",
    "        return row\n",
    "    \n",
    "    \"\"\"\n",
    "    selected_indices = [p['pointIndex'] for p in points['points']]\n",
    "    # set the skip mask to NaN for the selected points\n",
    "    skip_mask[selected_indices] = np.nan\n",
    "    # update the x and y data of the scatter trace with the skip mask applied\n",
    "    trace.x = df['x'] * skip_mask\n",
    "    trace.y = df['y'] * skip_mask\n",
    "\n",
    "    \"\"\"\n",
    "    def skip_line_to_outlier(self, trace, points, selector):\n",
    "        skip_mask = np.ones(self.df_copy.shape[0], dtype=bool)\n",
    "        selected_indices = [p for p in points.point_inds]\n",
    "        skip_mask[selected_indices] = False\n",
    "\n",
    "        trace.x = self.df_copy[ \"x\"]\n",
    "        trace.y = self.df_copy[\"y1\"]\n",
    "        trace.mode = \"markers+lines\"\n",
    "\n",
    "        trace.update_traces(\n",
    "            x=self.df_copy.loc[skip_mask, \"x\"],\n",
    "            y=self.df_copy.loc[skip_mask, \"y1\"],\n",
    "            mode='markers',\n",
    "            marker=dict(symbol='x')\n",
    "\n",
    "        )\n",
    "\n",
    "        return trace\n",
    "        \n",
    "\n",
    "    def selection_fn(self,trace,points,selector):\n",
    "        \"\"\"\n",
    "        Keeping track of points manually selected and change values in column [\"manual_outlier\"].\n",
    "        Value for points not manually selected is -1. If selected to be an outlier, value is set to 1 (and displayed as an x).\n",
    "        If selected again not to be an outlier, value is set to 0 (and displayed as a triangle). Previous value is stored for future \n",
    "        possibility to undo selection. TODO: Skip previous value since undo button is not required?\n",
    "\n",
    "        Each selection is stored in a temp_df and all temp_df's are stored in self.outlier_df.\n",
    "        The dataframe drop_duplicates_df is the df which will be used to train the model, where only \n",
    "        the last manually made change to a data point is included. \n",
    "        \"\"\"\n",
    "        \n",
    "        temp_df = self.df_copy.loc[points.point_inds]\n",
    "        # temp_df = trace något\n",
    "        self.chosen_color_column = self.axis_dropdowns.children[2].value  \n",
    "        \n",
    "        last_selected = len(temp_df)\n",
    "        \n",
    "        # temp_df[\"last_selected\"] = temp_df.apply(lambda row: self.update_temp_df_last_sel(row, last_selected), axis=1)\n",
    "        for i in temp_df.iterrows():\n",
    "            idx = i[0]\n",
    "            temp_df.at[idx, \"last_selected\"] = last_selected\n",
    "            # This is needed for keeping track of the changes\n",
    "            temp_df.at[idx, \"manual_outlier\"] = 1 if self.df_copy.at[idx, \"manual_outlier\"] != 1 else 0\n",
    "            # This is needed for displaying values in the plot\n",
    "            self.df_copy.at[idx, \"manual_outlier\"] = 1 if self.df_copy.at[idx, \"manual_outlier\"] != 1 else 0\n",
    "\n",
    "        self.outlier_df = pd.concat([self.outlier_df, temp_df], ignore_index=False, axis=0)\n",
    "\n",
    "        # Needed? Just for printing in the notebook\n",
    "        no_points = \"point\" if last_selected == 1 else \"points\"\n",
    "        print(f\"Selected {last_selected} new {no_points}. Total: {len(self.outlier_df)}\")\n",
    "\n",
    "        # Drop duplicates (needed?) \n",
    "        drop_duplicates_df = self.outlier_df.drop_duplicates(subset=[\"x\", \"y1\"], keep=\"last\")\n",
    "        drop_duplicates_df.sort_values(by=[\"x\"], inplace=True)\n",
    "        print(f\"Unique points selected ({len(drop_duplicates_df)}):\")\n",
    "        for i in drop_duplicates_df.iterrows():\n",
    "            outlier = \"yes\" if i[1][3] == 1 else \"no\"\n",
    "            print(f\"x: {int(i[1][0])}, y1: {int(i[1][1])}, outlier: {outlier}\")\n",
    "\n",
    "        # Update color and symbols based on value in manual_outlier\n",
    "        symbols = self.df_copy[\"manual_outlier\"].map({-1: \"circle\", 0: \"triangle-up\", 1: \"x\"})\n",
    "        trace.update(marker_color=self.df_copy[self.chosen_color_column], marker_symbol=symbols)\n",
    "        \n",
    "        # Switch trace of the selected data points to exclude outliers from connected data points\n",
    "        \"\"\" points: Points(point_inds=[220, 221, 222],\n",
    "                xs=[220, 221, 222],\n",
    "                ys=[83, 90, 98],\n",
    "                trace_name='non-outlier',\n",
    "                trace_index=0)\n",
    "              \n",
    "            trace: Scatter({\n",
    "                'hovertemplate': '<b>Trace 1</b><br>X: %{x}<br>Y: %{y}',\n",
    "                'legendgroup': 'Trace',\n",
    "                'marker': {'color': array([-1, -1, -1, ..., -1, -1, -1], dtype=int64),\n",
    "                        'colorscale': [[0.0, 'blue'], [0.5, 'green'], [1.0, 'orange']],\n",
    "                        'opacity': 0.5,\n",
    "                        'size': 10,\n",
    "                        'symbol': array(['circle', 'circle', 'circle', ..., 'circle', 'circle', 'circle'],\n",
    "                                        dtype=object)},\n",
    "                'mode': 'markers+lines',\n",
    "                'name': 'non-outlier',\n",
    "                'selected': {'marker': {'color': 'red'}},\n",
    "                'selectedpoints': [293, 294, 296],\n",
    "                'showlegend': True,\n",
    "                'uid': '33a04aab-e909-4aac-8828-0eb63485f182',\n",
    "                'x': array([  0,   1,   2, ..., 997, 998, 999]),\n",
    "                'y': array([49, 71, 82, ...,  5, 64, 49], dtype=int64)\n",
    "})  \n",
    "            selected_trace_id: 0\n",
    "            selected_point-idx: [287, 288]\n",
    "              \"\"\"\n",
    "        selected_data = trace.selectedpoints\n",
    "        \"\"\"\n",
    "        def update_traces(trace, points, selector):\n",
    "            # get the data from the selected points in trace1\n",
    "            selected_data = trace.data[0].selectedpoints\n",
    "            x = [trace.data[0].x[i] for i in selected_data]\n",
    "            y = [trace.data[0].y[i] for i in selected_data]\n",
    "\n",
    "            # add the selected data to trace2\n",
    "            trace2 = go.Scatter(x=x, y=y, mode='markers', marker=dict(color='blue'))\n",
    "            f.add_trace(trace2)\n",
    "\n",
    "            # remove the selected data from trace1\n",
    "            trace.data[0].x = [trace.data[0].x[i] for i in range(len(trace.data[0].x)) if i not in selected_data]\n",
    "            trace.data[0].y = [trace.data[0].y[i] for i in range(len(trace.data[0].y)) if i not in selected_data]\n",
    "\n",
    "            # update the selected points in trace1\n",
    "            trace.data[0].selectedpoints = []\n",
    "        \"\"\"\n",
    "\n",
    "        # arr = np.array([[0,2,4],[6,8,10]]) \n",
    "        # app_arr = np.append(arr, [13,15,17])\n",
    "        x = np.array([trace.x[i] for i in selected_data])\n",
    "        y = np.array([trace.y[i] for i in selected_data])\n",
    "        outlier_x = np.array(self.f.data[1].x)\n",
    "        outlier_y = np.array(self.f.data[1].y)\n",
    "        outlier_x = np.append(outlier_x, x)\n",
    "        outlier_y = np.append(outlier_y, y)\n",
    "        print(outlier_x)\n",
    "        \n",
    "        self.f.update_traces(y=outlier_y, x=outlier_x, selector=dict(name=\"outlier\"))\n",
    "        trace.x = [trace.x[i] for i in range(len(trace.x)) if i not in selected_data]\n",
    "        trace.y = [trace.y[i] for i in range(len(trace.y)) if i not in selected_data]\n",
    "        self.f.update_traces(y=trace.y, x=trace.x, selector=dict(name=\"non-outlier\")) \n",
    "        print(f\"trace: {trace}\")\n",
    "        print(f\"self.f: {self.f}\")\n",
    "        # 1. Det som händer nu är att punkten jag markerat flyttas till trace2, alltså outlier, och blir en röd cirkel utanför linjen. Men nästa punkt i \n",
    "        # trace1 blir istället ett x trots att den inte markerats.\n",
    "        # 2. Om jag sedan markerar punkten som felaktigt blivit ett x försvinner punkten jag markerade i förra omgången, punkten (alltså krysset) jag markerade nu\n",
    "        # blir en röd cirkel och nästa punkt i trace1 blir en triangel.\n",
    "\n",
    "        # Efter att ha lagt till outlier_x samt outlier_y flyttas inte längre punkterna över till trace2, utan får rätt symbol, men har fortfarande linjen kvar och stannar kvar.\n",
    "        # get the trace ID of the selected points\n",
    "        # selected_trace_id = points.trace_index  # 0, points.trace_name='non-outlier'\n",
    "         \n",
    "        # get the index of the selected points in the selected trace\n",
    "        # selected_points_idx = points.point_inds\n",
    "        \n",
    "        \n",
    "        # get the data of the selected points\n",
    "        # selected_points = trace[selected_points_idx] ChatGPT\n",
    "        # selected_points = {x, y, trace_name for x, y, name in trace}\n",
    "        # print(f\"selected_point: {selected_points}\")\n",
    "        \"\"\"\n",
    "        # remove the selected points from the selected trace\n",
    "        trace[selected_points_idx] = None  # Do I need this?\n",
    "\n",
    "        # add the selected points to the other trace\n",
    "        other_trace_idx = 1 - selected_trace_id\n",
    "        self.f.data[other_trace_idx].add_trace(selected_points) \"\"\"\n",
    "\n",
    "        # TODO: If it works, change this\n",
    "        \"\"\" self.f.layout = go.Layout(\n",
    "                title='Scatter Plot with Selections',\n",
    "                xaxis=dict(title='X-Axis'),\n",
    "                yaxis=dict(title='Y-Axis')\n",
    "            ) \"\"\"\n",
    "        \"\"\"\n",
    "        \n",
    "        # define a function to handle the on_selection event\n",
    "        def handle_selection(trace, points, selector):\n",
    "            # get the trace ID of the selected points\n",
    "            selected_trace_id = points.trace_index[0]\n",
    "            \n",
    "            # get the index of the selected points in the selected trace\n",
    "            selected_points_idx = points.point_inds\n",
    "            \n",
    "            # get the data of the selected points\n",
    "            selected_points = trace[selected_points_idx]\n",
    "            \n",
    "            # remove the selected points from the selected trace\n",
    "            trace[selected_points_idx] = None\n",
    "            \n",
    "            # add the selected points to the other trace\n",
    "            other_trace_idx = 1 - selected_trace_id\n",
    "            fig.data[other_trace_idx].add_trace(selected_points)\n",
    "            \n",
    "            # update the figure layout\n",
    "            fig.layout = go.Layout(\n",
    "                title='Scatter Plot with Selections',\n",
    "                xaxis=dict(title='X-Axis'),\n",
    "                yaxis=dict(title='Y-Axis')\n",
    "            )\n",
    "\n",
    "        # attach the handle_selection function to the on_selection event of the figure widget\n",
    "        fig.data[0].on_selection(handle_selection)\n",
    "\n",
    "        # set the layout of the figure\n",
    "        fig.update_layout(title='Scatter Plot with Two Traces',\n",
    "                        xaxis_title='X-Axis', yaxis_title='Y-Axis')\n",
    "\n",
    "        # display the figure\n",
    "        fig.show()\n",
    "\n",
    "        \"\"\"\n",
    "\n",
    "        # This part is suppose to skip points that are marked as outliers, but it's not working\n",
    "        \"\"\" skip_mask = np.ones(self.df_copy.shape[0], dtype=bool)\n",
    "        selected_indices = [p for p in points.point_inds]\n",
    "        skip_mask[selected_indices] = False\n",
    "\n",
    "        trace.x = self.df_copy[ \"x\"]\n",
    "        trace.y = self.df_copy[\"y1\"]\n",
    "        trace.mode = \"markers+lines\"\n",
    "\n",
    "        trace.update_traces(\n",
    "            x=self.df_copy.loc[skip_mask, \"x\"],\n",
    "            y=self.df_copy.loc[skip_mask, \"y1\"],\n",
    "            mode='markers',\n",
    "            marker=dict(symbol='x') \n",
    "        ) \"\"\"\n",
    "\n",
    "    def clear_selection(self):\n",
    "        self.outlier_df = self.outlier_df.iloc[0:0]\n",
    "    \n",
    "    def show_selected(self):\n",
    "        for index, row in self.outlier_df.iterrows():\n",
    "            plt.figure()\n",
    "            plt.imshow(plt.imread(row['file']))\n",
    "            plt.title(f\"{row['time']}, wl: {row['wl']}, turb_s: {row['turb_sensor']}, turb_p: {row['turb_post']}\")\n",
    "\n",
    "    # create train model function based on outlier status in self.df\n",
    "\n",
    "    # visualize result in graph\n",
    "\n",
    "    # function to mark point as non-outlier DONE\n",
    "\n",
    "    # button to undo choice\n",
    "\n",
    "    # button to confirm (then train model), disable if not choosen areas == 1\n",
    "\n"
   ]
  },
  {
   "cell_type": "code",
   "execution_count": 75,
   "metadata": {},
   "outputs": [
    {
     "data": {
      "application/vnd.jupyter.widget-view+json": {
       "model_id": "28d0ab5f873140ef88b90d7f160840fa",
       "version_major": 2,
       "version_minor": 0
      },
      "text/plain": [
       "VBox(children=(HBox(children=(Dropdown(description='xaxis', options=('x', 'y1', 'y2'), value='x'), Dropdown(de…"
      ]
     },
     "execution_count": 75,
     "metadata": {},
     "output_type": "execute_result"
    },
    {
     "name": "stdout",
     "output_type": "stream",
     "text": [
      "Selected 2 new points. Total: 2\n",
      "Unique points selected (2):\n",
      "x: 336, y1: 61, outlier: yes\n",
      "x: 338, y1: 67, outlier: yes\n",
      "[336 338]\n",
      "trace: Scatter({\n",
      "    'hovertemplate': '<b>Trace 1</b><br>X: %{x}<br>Y: %{y}',\n",
      "    'legendgroup': 'Trace',\n",
      "    'marker': {'color': array([-1, -1, -1, ..., -1, -1, -1], dtype=int64),\n",
      "               'colorscale': [[0.0, 'blue'], [0.5, 'green'], [1.0, 'orange']],\n",
      "               'opacity': 0.5,\n",
      "               'size': 10,\n",
      "               'symbol': array(['circle', 'circle', 'circle', ..., 'circle', 'circle', 'circle'],\n",
      "                               dtype=object)},\n",
      "    'mode': 'markers+lines',\n",
      "    'name': 'non-outlier',\n",
      "    'selected': {'marker': {'color': 'red'}},\n",
      "    'selectedpoints': [336, 338],\n",
      "    'showlegend': True,\n",
      "    'uid': '78b732c9-bb80-4a51-bcae-6f1ee1c6674d',\n",
      "    'x': [0, 1, 2, ..., 997, 998, 999],\n",
      "    'y': [35, 68, 88, ..., 60, 40, 51]\n",
      "})\n",
      "self.f: FigureWidget({\n",
      "    'data': [{'hovertemplate': '<b>Trace 1</b><br>X: %{x}<br>Y: %{y}',\n",
      "              'legendgroup': 'Trace',\n",
      "              'marker': {'color': array([-1, -1, -1, ..., -1, -1, -1], dtype=int64),\n",
      "                         'colorscale': [[0.0, 'blue'], [0.5, 'green'], [1.0,\n",
      "                                        'orange']],\n",
      "                         'opacity': 0.5,\n",
      "                         'size': 10,\n",
      "                         'symbol': array(['circle', 'circle', 'circle', ..., 'circle', 'circle', 'circle'],\n",
      "                                         dtype=object)},\n",
      "              'mode': 'markers+lines',\n",
      "              'name': 'non-outlier',\n",
      "              'selected': {'marker': {'color': 'red'}},\n",
      "              'selectedpoints': [336, 338],\n",
      "              'showlegend': True,\n",
      "              'type': 'scatter',\n",
      "              'uid': '78b732c9-bb80-4a51-bcae-6f1ee1c6674d',\n",
      "              'x': [0, 1, 2, ..., 997, 998, 999],\n",
      "              'y': [35, 68, 88, ..., 60, 40, 51]},\n",
      "             {'hovertemplate': '<b>Trace 2</b><br>X: %{x}<br>Y: %{y}',\n",
      "              'legendgroup': 'Trace',\n",
      "              'marker': {'color': array([  0,   1,   2, ..., 997, 998, 999]),\n",
      "                         'colorscale': [[0.0, 'blue'], [0.5, 'green'], [1.0,\n",
      "                                        'orange']],\n",
      "                         'size': 10},\n",
      "              'mode': 'markers',\n",
      "              'name': 'outlier',\n",
      "              'selected': {'marker': {'color': 'red'}},\n",
      "              'showlegend': True,\n",
      "              'type': 'scatter',\n",
      "              'uid': '62269232-d25d-47d8-a35b-d76b11b8bdb0',\n",
      "              'x': array([336, 338]),\n",
      "              'y': array([61, 67], dtype=int64)},\n",
      "             {'marker': {'color': 'blue', 'symbol': 'circle'},\n",
      "              'mode': 'markers',\n",
      "              'name': 'Not manually chosen',\n",
      "              'type': 'scatter',\n",
      "              'uid': '3275439d-3bb4-4775-ad23-c44474340b35',\n",
      "              'y': [None]},\n",
      "             {'marker': {'color': 'green', 'symbol': 'triangle-up'},\n",
      "              'mode': 'markers',\n",
      "              'name': 'Not outlier',\n",
      "              'type': 'scatter',\n",
      "              'uid': '8c48b932-f2e9-4f6d-82b3-ea62fd0c8fc2',\n",
      "              'y': [None]},\n",
      "             {'marker': {'color': 'orange', 'symbol': 'x'},\n",
      "              'mode': 'markers',\n",
      "              'name': 'Outlier',\n",
      "              'type': 'scatter',\n",
      "              'uid': 'b8d7e8aa-cb3a-423a-be87-45fa6062e8a0',\n",
      "              'y': [None]}],\n",
      "    'layout': {'autosize': True,\n",
      "               'dragmode': 'select',\n",
      "               'template': '...',\n",
      "               'xaxis': {'range': [326.26549053356285, 358.935025817556], 'title': {'text': 'x'}},\n",
      "               'yaxis': {'range': [-8.568329718004339, 105.96529284164858], 'title': {'text': 'y1'}}}\n",
      "})\n",
      "Selected 2 new points. Total: 4\n",
      "Unique points selected (4):\n",
      "x: 334, y1: 44, outlier: yes\n",
      "x: 335, y1: 23, outlier: yes\n",
      "x: 336, y1: 61, outlier: yes\n",
      "x: 338, y1: 67, outlier: yes\n",
      "[336 338 334 335]\n",
      "trace: Scatter({\n",
      "    'hovertemplate': '<b>Trace 1</b><br>X: %{x}<br>Y: %{y}',\n",
      "    'legendgroup': 'Trace',\n",
      "    'marker': {'color': array([-1, -1, -1, ..., -1, -1, -1], dtype=int64),\n",
      "               'colorscale': [[0.0, 'blue'], [0.5, 'green'], [1.0, 'orange']],\n",
      "               'opacity': 0.5,\n",
      "               'size': 10,\n",
      "               'symbol': array(['circle', 'circle', 'circle', ..., 'circle', 'circle', 'circle'],\n",
      "                               dtype=object)},\n",
      "    'mode': 'markers+lines',\n",
      "    'name': 'non-outlier',\n",
      "    'selected': {'marker': {'color': 'red'}},\n",
      "    'selectedpoints': [334, 335],\n",
      "    'showlegend': True,\n",
      "    'uid': '78b732c9-bb80-4a51-bcae-6f1ee1c6674d',\n",
      "    'x': [0, 1, 2, ..., 997, 998, 999],\n",
      "    'y': [35, 68, 88, ..., 60, 40, 51]\n",
      "})\n",
      "self.f: FigureWidget({\n",
      "    'data': [{'hovertemplate': '<b>Trace 1</b><br>X: %{x}<br>Y: %{y}',\n",
      "              'legendgroup': 'Trace',\n",
      "              'marker': {'color': array([-1, -1, -1, ..., -1, -1, -1], dtype=int64),\n",
      "                         'colorscale': [[0.0, 'blue'], [0.5, 'green'], [1.0,\n",
      "                                        'orange']],\n",
      "                         'opacity': 0.5,\n",
      "                         'size': 10,\n",
      "                         'symbol': array(['circle', 'circle', 'circle', ..., 'circle', 'circle', 'circle'],\n",
      "                                         dtype=object)},\n",
      "              'mode': 'markers+lines',\n",
      "              'name': 'non-outlier',\n",
      "              'selected': {'marker': {'color': 'red'}},\n",
      "              'selectedpoints': [334, 335],\n",
      "              'showlegend': True,\n",
      "              'type': 'scatter',\n",
      "              'uid': '78b732c9-bb80-4a51-bcae-6f1ee1c6674d',\n",
      "              'x': [0, 1, 2, ..., 997, 998, 999],\n",
      "              'y': [35, 68, 88, ..., 60, 40, 51]},\n",
      "             {'hovertemplate': '<b>Trace 2</b><br>X: %{x}<br>Y: %{y}',\n",
      "              'legendgroup': 'Trace',\n",
      "              'marker': {'color': array([  0,   1,   2, ..., 997, 998, 999]),\n",
      "                         'colorscale': [[0.0, 'blue'], [0.5, 'green'], [1.0,\n",
      "                                        'orange']],\n",
      "                         'size': 10},\n",
      "              'mode': 'markers',\n",
      "              'name': 'outlier',\n",
      "              'selected': {'marker': {'color': 'red'}},\n",
      "              'showlegend': True,\n",
      "              'type': 'scatter',\n",
      "              'uid': '62269232-d25d-47d8-a35b-d76b11b8bdb0',\n",
      "              'x': array([336, 338, 334, 335]),\n",
      "              'y': array([61, 67, 44, 23], dtype=int64)},\n",
      "             {'marker': {'color': 'blue', 'symbol': 'circle'},\n",
      "              'mode': 'markers',\n",
      "              'name': 'Not manually chosen',\n",
      "              'selectedpoints': [],\n",
      "              'type': 'scatter',\n",
      "              'uid': '3275439d-3bb4-4775-ad23-c44474340b35',\n",
      "              'y': [None]},\n",
      "             {'marker': {'color': 'green', 'symbol': 'triangle-up'},\n",
      "              'mode': 'markers',\n",
      "              'name': 'Not outlier',\n",
      "              'selectedpoints': [],\n",
      "              'type': 'scatter',\n",
      "              'uid': '8c48b932-f2e9-4f6d-82b3-ea62fd0c8fc2',\n",
      "              'y': [None]},\n",
      "             {'marker': {'color': 'orange', 'symbol': 'x'},\n",
      "              'mode': 'markers',\n",
      "              'name': 'Outlier',\n",
      "              'selectedpoints': [],\n",
      "              'type': 'scatter',\n",
      "              'uid': 'b8d7e8aa-cb3a-423a-be87-45fa6062e8a0',\n",
      "              'y': [None]}],\n",
      "    'layout': {'autosize': True,\n",
      "               'dragmode': 'select',\n",
      "               'selections': [],\n",
      "               'template': '...',\n",
      "               'xaxis': {'range': [326.26549053356285, 358.935025817556], 'title': {'text': 'x'}},\n",
      "               'yaxis': {'range': [-8.568329718004339, 105.96529284164858], 'title': {'text': 'y1'}}}\n",
      "})\n",
      "Selected 1 new point. Total: 5\n",
      "Unique points selected (4):\n",
      "x: 334, y1: 44, outlier: yes\n",
      "x: 335, y1: 23, outlier: yes\n",
      "x: 336, y1: 61, outlier: no\n",
      "x: 338, y1: 67, outlier: yes\n",
      "[336 338 334 335 340]\n",
      "trace: Scatter({\n",
      "    'hovertemplate': '<b>Trace 1</b><br>X: %{x}<br>Y: %{y}',\n",
      "    'legendgroup': 'Trace',\n",
      "    'marker': {'color': array([-1, -1, -1, ..., -1, -1, -1], dtype=int64),\n",
      "               'colorscale': [[0.0, 'blue'], [0.5, 'green'], [1.0, 'orange']],\n",
      "               'opacity': 0.5,\n",
      "               'size': 10,\n",
      "               'symbol': array(['circle', 'circle', 'circle', ..., 'circle', 'circle', 'circle'],\n",
      "                               dtype=object)},\n",
      "    'mode': 'markers+lines',\n",
      "    'name': 'non-outlier',\n",
      "    'selected': {'marker': {'color': 'red'}},\n",
      "    'selectedpoints': [336],\n",
      "    'showlegend': True,\n",
      "    'uid': '78b732c9-bb80-4a51-bcae-6f1ee1c6674d',\n",
      "    'x': [0, 1, 2, ..., 997, 998, 999],\n",
      "    'y': [35, 68, 88, ..., 60, 40, 51]\n",
      "})\n",
      "self.f: FigureWidget({\n",
      "    'data': [{'hovertemplate': '<b>Trace 1</b><br>X: %{x}<br>Y: %{y}',\n",
      "              'legendgroup': 'Trace',\n",
      "              'marker': {'color': array([-1, -1, -1, ..., -1, -1, -1], dtype=int64),\n",
      "                         'colorscale': [[0.0, 'blue'], [0.5, 'green'], [1.0,\n",
      "                                        'orange']],\n",
      "                         'opacity': 0.5,\n",
      "                         'size': 10,\n",
      "                         'symbol': array(['circle', 'circle', 'circle', ..., 'circle', 'circle', 'circle'],\n",
      "                                         dtype=object)},\n",
      "              'mode': 'markers+lines',\n",
      "              'name': 'non-outlier',\n",
      "              'selected': {'marker': {'color': 'red'}},\n",
      "              'selectedpoints': [336],\n",
      "              'showlegend': True,\n",
      "              'type': 'scatter',\n",
      "              'uid': '78b732c9-bb80-4a51-bcae-6f1ee1c6674d',\n",
      "              'x': [0, 1, 2, ..., 997, 998, 999],\n",
      "              'y': [35, 68, 88, ..., 60, 40, 51]},\n",
      "             {'hovertemplate': '<b>Trace 2</b><br>X: %{x}<br>Y: %{y}',\n",
      "              'legendgroup': 'Trace',\n",
      "              'marker': {'color': array([  0,   1,   2, ..., 997, 998, 999]),\n",
      "                         'colorscale': [[0.0, 'blue'], [0.5, 'green'], [1.0,\n",
      "                                        'orange']],\n",
      "                         'size': 10},\n",
      "              'mode': 'markers',\n",
      "              'name': 'outlier',\n",
      "              'selected': {'marker': {'color': 'red'}},\n",
      "              'showlegend': True,\n",
      "              'type': 'scatter',\n",
      "              'uid': '62269232-d25d-47d8-a35b-d76b11b8bdb0',\n",
      "              'x': array([336, 338, 334, 335, 340]),\n",
      "              'y': array([61, 67, 44, 23, 73], dtype=int64)},\n",
      "             {'marker': {'color': 'blue', 'symbol': 'circle'},\n",
      "              'mode': 'markers',\n",
      "              'name': 'Not manually chosen',\n",
      "              'selectedpoints': [],\n",
      "              'type': 'scatter',\n",
      "              'uid': '3275439d-3bb4-4775-ad23-c44474340b35',\n",
      "              'y': [None]},\n",
      "             {'marker': {'color': 'green', 'symbol': 'triangle-up'},\n",
      "              'mode': 'markers',\n",
      "              'name': 'Not outlier',\n",
      "              'selectedpoints': [],\n",
      "              'type': 'scatter',\n",
      "              'uid': '8c48b932-f2e9-4f6d-82b3-ea62fd0c8fc2',\n",
      "              'y': [None]},\n",
      "             {'marker': {'color': 'orange', 'symbol': 'x'},\n",
      "              'mode': 'markers',\n",
      "              'name': 'Outlier',\n",
      "              'selectedpoints': [],\n",
      "              'type': 'scatter',\n",
      "              'uid': 'b8d7e8aa-cb3a-423a-be87-45fa6062e8a0',\n",
      "              'y': [None]}],\n",
      "    'layout': {'autosize': True,\n",
      "               'dragmode': 'select',\n",
      "               'selections': [],\n",
      "               'template': '...',\n",
      "               'xaxis': {'range': [326.26549053356285, 358.935025817556], 'title': {'text': 'x'}},\n",
      "               'yaxis': {'range': [-8.568329718004339, 105.96529284164858], 'title': {'text': 'y1'}}}\n",
      "})\n"
     ]
    },
    {
     "name": "stderr",
     "output_type": "stream",
     "text": [
      "C:\\Users\\johanna4303\\AppData\\Local\\Temp\\ipykernel_16348\\3136511465.py:228: SettingWithCopyWarning:\n",
      "\n",
      "\n",
      "A value is trying to be set on a copy of a slice from a DataFrame\n",
      "\n",
      "See the caveats in the documentation: https://pandas.pydata.org/pandas-docs/stable/user_guide/indexing.html#returning-a-view-versus-a-copy\n",
      "\n"
     ]
    },
    {
     "name": "stdout",
     "output_type": "stream",
     "text": [
      "Selected 2 new points. Total: 7\n",
      "Unique points selected (4):\n",
      "x: 334, y1: 44, outlier: no\n",
      "x: 335, y1: 23, outlier: no\n",
      "x: 336, y1: 61, outlier: no\n",
      "x: 338, y1: 67, outlier: yes\n",
      "[336 338 334 335 340 337 339]\n",
      "trace: Scatter({\n",
      "    'hovertemplate': '<b>Trace 1</b><br>X: %{x}<br>Y: %{y}',\n",
      "    'legendgroup': 'Trace',\n",
      "    'marker': {'color': array([-1, -1, -1, ..., -1, -1, -1], dtype=int64),\n",
      "               'colorscale': [[0.0, 'blue'], [0.5, 'green'], [1.0, 'orange']],\n",
      "               'opacity': 0.5,\n",
      "               'size': 10,\n",
      "               'symbol': array(['circle', 'circle', 'circle', ..., 'circle', 'circle', 'circle'],\n",
      "                               dtype=object)},\n",
      "    'mode': 'markers+lines',\n",
      "    'name': 'non-outlier',\n",
      "    'selected': {'marker': {'color': 'red'}},\n",
      "    'selectedpoints': [334, 335],\n",
      "    'showlegend': True,\n",
      "    'uid': '78b732c9-bb80-4a51-bcae-6f1ee1c6674d',\n",
      "    'x': [0, 1, 2, ..., 997, 998, 999],\n",
      "    'y': [35, 68, 88, ..., 60, 40, 51]\n",
      "})\n",
      "self.f: FigureWidget({\n",
      "    'data': [{'hovertemplate': '<b>Trace 1</b><br>X: %{x}<br>Y: %{y}',\n",
      "              'legendgroup': 'Trace',\n",
      "              'marker': {'color': array([-1, -1, -1, ..., -1, -1, -1], dtype=int64),\n",
      "                         'colorscale': [[0.0, 'blue'], [0.5, 'green'], [1.0,\n",
      "                                        'orange']],\n",
      "                         'opacity': 0.5,\n",
      "                         'size': 10,\n",
      "                         'symbol': array(['circle', 'circle', 'circle', ..., 'circle', 'circle', 'circle'],\n",
      "                                         dtype=object)},\n",
      "              'mode': 'markers+lines',\n",
      "              'name': 'non-outlier',\n",
      "              'selected': {'marker': {'color': 'red'}},\n",
      "              'selectedpoints': [334, 335],\n",
      "              'showlegend': True,\n",
      "              'type': 'scatter',\n",
      "              'uid': '78b732c9-bb80-4a51-bcae-6f1ee1c6674d',\n",
      "              'x': [0, 1, 2, ..., 997, 998, 999],\n",
      "              'y': [35, 68, 88, ..., 60, 40, 51]},\n",
      "             {'hovertemplate': '<b>Trace 2</b><br>X: %{x}<br>Y: %{y}',\n",
      "              'legendgroup': 'Trace',\n",
      "              'marker': {'color': array([  0,   1,   2, ..., 997, 998, 999]),\n",
      "                         'colorscale': [[0.0, 'blue'], [0.5, 'green'], [1.0,\n",
      "                                        'orange']],\n",
      "                         'size': 10},\n",
      "              'mode': 'markers',\n",
      "              'name': 'outlier',\n",
      "              'selected': {'marker': {'color': 'red'}},\n",
      "              'showlegend': True,\n",
      "              'type': 'scatter',\n",
      "              'uid': '62269232-d25d-47d8-a35b-d76b11b8bdb0',\n",
      "              'x': array([336, 338, 334, 335, 340, 337, 339]),\n",
      "              'y': array([61, 67, 44, 23, 73,  3,  4], dtype=int64)},\n",
      "             {'marker': {'color': 'blue', 'symbol': 'circle'},\n",
      "              'mode': 'markers',\n",
      "              'name': 'Not manually chosen',\n",
      "              'selectedpoints': [],\n",
      "              'type': 'scatter',\n",
      "              'uid': '3275439d-3bb4-4775-ad23-c44474340b35',\n",
      "              'y': [None]},\n",
      "             {'marker': {'color': 'green', 'symbol': 'triangle-up'},\n",
      "              'mode': 'markers',\n",
      "              'name': 'Not outlier',\n",
      "              'selectedpoints': [],\n",
      "              'type': 'scatter',\n",
      "              'uid': '8c48b932-f2e9-4f6d-82b3-ea62fd0c8fc2',\n",
      "              'y': [None]},\n",
      "             {'marker': {'color': 'orange', 'symbol': 'x'},\n",
      "              'mode': 'markers',\n",
      "              'name': 'Outlier',\n",
      "              'selectedpoints': [],\n",
      "              'type': 'scatter',\n",
      "              'uid': 'b8d7e8aa-cb3a-423a-be87-45fa6062e8a0',\n",
      "              'y': [None]}],\n",
      "    'layout': {'autosize': True,\n",
      "               'dragmode': 'select',\n",
      "               'selections': [],\n",
      "               'template': '...',\n",
      "               'xaxis': {'range': [326.26549053356285, 358.935025817556], 'title': {'text': 'x'}},\n",
      "               'yaxis': {'range': [-8.568329718004339, 105.96529284164858], 'title': {'text': 'y1'}}}\n",
      "})\n"
     ]
    },
    {
     "name": "stderr",
     "output_type": "stream",
     "text": [
      "C:\\Users\\johanna4303\\AppData\\Local\\Temp\\ipykernel_16348\\3136511465.py:228: SettingWithCopyWarning:\n",
      "\n",
      "\n",
      "A value is trying to be set on a copy of a slice from a DataFrame\n",
      "\n",
      "See the caveats in the documentation: https://pandas.pydata.org/pandas-docs/stable/user_guide/indexing.html#returning-a-view-versus-a-copy\n",
      "\n"
     ]
    }
   ],
   "source": [
    "#!/usr/bin/env python\n",
    "# coding: utf-8\n",
    "\n",
    "from dash import Dash, dcc, html, Input, Output\n",
    "import plotly.express as px\n",
    "\n",
    "def create_fake_df(n):\n",
    "    \"\"\"\n",
    "    Creates a dataframe with n rows and columns \"x\", \"y1\" and \"y2\". \n",
    "    The data are integers, 0-100.\n",
    "    \"\"\"\n",
    "    x = []\n",
    "    y1 = []\n",
    "    y2 = []\n",
    "\n",
    "    for i in range(n):    \n",
    "        x_int = i\n",
    "        x.append(x_int)\n",
    "        y1_int = random.randint(0, 100)\n",
    "        y1.append(y1_int)\n",
    "        y2_int = random.randint(0, 100)\n",
    "        y2.append(y2_int)\n",
    "\n",
    "    int_dict = {\"x\": np.sort(x), \"y1\": y1, \"y2\": y2}\n",
    "    df = pd.DataFrame(int_dict)\n",
    "    return df\n",
    "\n",
    "df = create_fake_df(1000)\n",
    "chooser = interactive_data_chooser(df, df.columns)\n",
    "chooser.activate_plot()\n"
   ]
  },
  {
   "cell_type": "code",
   "execution_count": 18,
   "metadata": {},
   "outputs": [
    {
     "data": {
      "application/vnd.plotly.v1+json": {
       "config": {
        "plotlyServerURL": "https://plot.ly"
       },
       "data": [
        {
         "line": {
          "color": "blue"
         },
         "marker": {
          "color": [
           0.2,
           0.5,
           0.7
          ],
          "size": 10
         },
         "mode": "markers+lines",
         "name": "z < 1",
         "type": "scatter",
         "x": [
          0.5,
          1.5,
          3.5
         ],
         "y": [
          1,
          2,
          2
         ]
        },
        {
         "marker": {
          "color": "red",
          "size": 10
         },
         "mode": "markers",
         "name": "z = 1",
         "type": "scatter",
         "x": [
          2.5
         ],
         "y": [
          3
         ]
        }
       ],
       "layout": {
        "coloraxis": {
         "colorbar": {
          "tickvals": [
           0,
           0.5,
           1
          ]
         }
        },
        "template": {
         "data": {
          "bar": [
           {
            "error_x": {
             "color": "#2a3f5f"
            },
            "error_y": {
             "color": "#2a3f5f"
            },
            "marker": {
             "line": {
              "color": "#E5ECF6",
              "width": 0.5
             },
             "pattern": {
              "fillmode": "overlay",
              "size": 10,
              "solidity": 0.2
             }
            },
            "type": "bar"
           }
          ],
          "barpolar": [
           {
            "marker": {
             "line": {
              "color": "#E5ECF6",
              "width": 0.5
             },
             "pattern": {
              "fillmode": "overlay",
              "size": 10,
              "solidity": 0.2
             }
            },
            "type": "barpolar"
           }
          ],
          "carpet": [
           {
            "aaxis": {
             "endlinecolor": "#2a3f5f",
             "gridcolor": "white",
             "linecolor": "white",
             "minorgridcolor": "white",
             "startlinecolor": "#2a3f5f"
            },
            "baxis": {
             "endlinecolor": "#2a3f5f",
             "gridcolor": "white",
             "linecolor": "white",
             "minorgridcolor": "white",
             "startlinecolor": "#2a3f5f"
            },
            "type": "carpet"
           }
          ],
          "choropleth": [
           {
            "colorbar": {
             "outlinewidth": 0,
             "ticks": ""
            },
            "type": "choropleth"
           }
          ],
          "contour": [
           {
            "colorbar": {
             "outlinewidth": 0,
             "ticks": ""
            },
            "colorscale": [
             [
              0,
              "#0d0887"
             ],
             [
              0.1111111111111111,
              "#46039f"
             ],
             [
              0.2222222222222222,
              "#7201a8"
             ],
             [
              0.3333333333333333,
              "#9c179e"
             ],
             [
              0.4444444444444444,
              "#bd3786"
             ],
             [
              0.5555555555555556,
              "#d8576b"
             ],
             [
              0.6666666666666666,
              "#ed7953"
             ],
             [
              0.7777777777777778,
              "#fb9f3a"
             ],
             [
              0.8888888888888888,
              "#fdca26"
             ],
             [
              1,
              "#f0f921"
             ]
            ],
            "type": "contour"
           }
          ],
          "contourcarpet": [
           {
            "colorbar": {
             "outlinewidth": 0,
             "ticks": ""
            },
            "type": "contourcarpet"
           }
          ],
          "heatmap": [
           {
            "colorbar": {
             "outlinewidth": 0,
             "ticks": ""
            },
            "colorscale": [
             [
              0,
              "#0d0887"
             ],
             [
              0.1111111111111111,
              "#46039f"
             ],
             [
              0.2222222222222222,
              "#7201a8"
             ],
             [
              0.3333333333333333,
              "#9c179e"
             ],
             [
              0.4444444444444444,
              "#bd3786"
             ],
             [
              0.5555555555555556,
              "#d8576b"
             ],
             [
              0.6666666666666666,
              "#ed7953"
             ],
             [
              0.7777777777777778,
              "#fb9f3a"
             ],
             [
              0.8888888888888888,
              "#fdca26"
             ],
             [
              1,
              "#f0f921"
             ]
            ],
            "type": "heatmap"
           }
          ],
          "heatmapgl": [
           {
            "colorbar": {
             "outlinewidth": 0,
             "ticks": ""
            },
            "colorscale": [
             [
              0,
              "#0d0887"
             ],
             [
              0.1111111111111111,
              "#46039f"
             ],
             [
              0.2222222222222222,
              "#7201a8"
             ],
             [
              0.3333333333333333,
              "#9c179e"
             ],
             [
              0.4444444444444444,
              "#bd3786"
             ],
             [
              0.5555555555555556,
              "#d8576b"
             ],
             [
              0.6666666666666666,
              "#ed7953"
             ],
             [
              0.7777777777777778,
              "#fb9f3a"
             ],
             [
              0.8888888888888888,
              "#fdca26"
             ],
             [
              1,
              "#f0f921"
             ]
            ],
            "type": "heatmapgl"
           }
          ],
          "histogram": [
           {
            "marker": {
             "pattern": {
              "fillmode": "overlay",
              "size": 10,
              "solidity": 0.2
             }
            },
            "type": "histogram"
           }
          ],
          "histogram2d": [
           {
            "colorbar": {
             "outlinewidth": 0,
             "ticks": ""
            },
            "colorscale": [
             [
              0,
              "#0d0887"
             ],
             [
              0.1111111111111111,
              "#46039f"
             ],
             [
              0.2222222222222222,
              "#7201a8"
             ],
             [
              0.3333333333333333,
              "#9c179e"
             ],
             [
              0.4444444444444444,
              "#bd3786"
             ],
             [
              0.5555555555555556,
              "#d8576b"
             ],
             [
              0.6666666666666666,
              "#ed7953"
             ],
             [
              0.7777777777777778,
              "#fb9f3a"
             ],
             [
              0.8888888888888888,
              "#fdca26"
             ],
             [
              1,
              "#f0f921"
             ]
            ],
            "type": "histogram2d"
           }
          ],
          "histogram2dcontour": [
           {
            "colorbar": {
             "outlinewidth": 0,
             "ticks": ""
            },
            "colorscale": [
             [
              0,
              "#0d0887"
             ],
             [
              0.1111111111111111,
              "#46039f"
             ],
             [
              0.2222222222222222,
              "#7201a8"
             ],
             [
              0.3333333333333333,
              "#9c179e"
             ],
             [
              0.4444444444444444,
              "#bd3786"
             ],
             [
              0.5555555555555556,
              "#d8576b"
             ],
             [
              0.6666666666666666,
              "#ed7953"
             ],
             [
              0.7777777777777778,
              "#fb9f3a"
             ],
             [
              0.8888888888888888,
              "#fdca26"
             ],
             [
              1,
              "#f0f921"
             ]
            ],
            "type": "histogram2dcontour"
           }
          ],
          "mesh3d": [
           {
            "colorbar": {
             "outlinewidth": 0,
             "ticks": ""
            },
            "type": "mesh3d"
           }
          ],
          "parcoords": [
           {
            "line": {
             "colorbar": {
              "outlinewidth": 0,
              "ticks": ""
             }
            },
            "type": "parcoords"
           }
          ],
          "pie": [
           {
            "automargin": true,
            "type": "pie"
           }
          ],
          "scatter": [
           {
            "fillpattern": {
             "fillmode": "overlay",
             "size": 10,
             "solidity": 0.2
            },
            "type": "scatter"
           }
          ],
          "scatter3d": [
           {
            "line": {
             "colorbar": {
              "outlinewidth": 0,
              "ticks": ""
             }
            },
            "marker": {
             "colorbar": {
              "outlinewidth": 0,
              "ticks": ""
             }
            },
            "type": "scatter3d"
           }
          ],
          "scattercarpet": [
           {
            "marker": {
             "colorbar": {
              "outlinewidth": 0,
              "ticks": ""
             }
            },
            "type": "scattercarpet"
           }
          ],
          "scattergeo": [
           {
            "marker": {
             "colorbar": {
              "outlinewidth": 0,
              "ticks": ""
             }
            },
            "type": "scattergeo"
           }
          ],
          "scattergl": [
           {
            "marker": {
             "colorbar": {
              "outlinewidth": 0,
              "ticks": ""
             }
            },
            "type": "scattergl"
           }
          ],
          "scattermapbox": [
           {
            "marker": {
             "colorbar": {
              "outlinewidth": 0,
              "ticks": ""
             }
            },
            "type": "scattermapbox"
           }
          ],
          "scatterpolar": [
           {
            "marker": {
             "colorbar": {
              "outlinewidth": 0,
              "ticks": ""
             }
            },
            "type": "scatterpolar"
           }
          ],
          "scatterpolargl": [
           {
            "marker": {
             "colorbar": {
              "outlinewidth": 0,
              "ticks": ""
             }
            },
            "type": "scatterpolargl"
           }
          ],
          "scatterternary": [
           {
            "marker": {
             "colorbar": {
              "outlinewidth": 0,
              "ticks": ""
             }
            },
            "type": "scatterternary"
           }
          ],
          "surface": [
           {
            "colorbar": {
             "outlinewidth": 0,
             "ticks": ""
            },
            "colorscale": [
             [
              0,
              "#0d0887"
             ],
             [
              0.1111111111111111,
              "#46039f"
             ],
             [
              0.2222222222222222,
              "#7201a8"
             ],
             [
              0.3333333333333333,
              "#9c179e"
             ],
             [
              0.4444444444444444,
              "#bd3786"
             ],
             [
              0.5555555555555556,
              "#d8576b"
             ],
             [
              0.6666666666666666,
              "#ed7953"
             ],
             [
              0.7777777777777778,
              "#fb9f3a"
             ],
             [
              0.8888888888888888,
              "#fdca26"
             ],
             [
              1,
              "#f0f921"
             ]
            ],
            "type": "surface"
           }
          ],
          "table": [
           {
            "cells": {
             "fill": {
              "color": "#EBF0F8"
             },
             "line": {
              "color": "white"
             }
            },
            "header": {
             "fill": {
              "color": "#C8D4E3"
             },
             "line": {
              "color": "white"
             }
            },
            "type": "table"
           }
          ]
         },
         "layout": {
          "annotationdefaults": {
           "arrowcolor": "#2a3f5f",
           "arrowhead": 0,
           "arrowwidth": 1
          },
          "autotypenumbers": "strict",
          "coloraxis": {
           "colorbar": {
            "outlinewidth": 0,
            "ticks": ""
           }
          },
          "colorscale": {
           "diverging": [
            [
             0,
             "#8e0152"
            ],
            [
             0.1,
             "#c51b7d"
            ],
            [
             0.2,
             "#de77ae"
            ],
            [
             0.3,
             "#f1b6da"
            ],
            [
             0.4,
             "#fde0ef"
            ],
            [
             0.5,
             "#f7f7f7"
            ],
            [
             0.6,
             "#e6f5d0"
            ],
            [
             0.7,
             "#b8e186"
            ],
            [
             0.8,
             "#7fbc41"
            ],
            [
             0.9,
             "#4d9221"
            ],
            [
             1,
             "#276419"
            ]
           ],
           "sequential": [
            [
             0,
             "#0d0887"
            ],
            [
             0.1111111111111111,
             "#46039f"
            ],
            [
             0.2222222222222222,
             "#7201a8"
            ],
            [
             0.3333333333333333,
             "#9c179e"
            ],
            [
             0.4444444444444444,
             "#bd3786"
            ],
            [
             0.5555555555555556,
             "#d8576b"
            ],
            [
             0.6666666666666666,
             "#ed7953"
            ],
            [
             0.7777777777777778,
             "#fb9f3a"
            ],
            [
             0.8888888888888888,
             "#fdca26"
            ],
            [
             1,
             "#f0f921"
            ]
           ],
           "sequentialminus": [
            [
             0,
             "#0d0887"
            ],
            [
             0.1111111111111111,
             "#46039f"
            ],
            [
             0.2222222222222222,
             "#7201a8"
            ],
            [
             0.3333333333333333,
             "#9c179e"
            ],
            [
             0.4444444444444444,
             "#bd3786"
            ],
            [
             0.5555555555555556,
             "#d8576b"
            ],
            [
             0.6666666666666666,
             "#ed7953"
            ],
            [
             0.7777777777777778,
             "#fb9f3a"
            ],
            [
             0.8888888888888888,
             "#fdca26"
            ],
            [
             1,
             "#f0f921"
            ]
           ]
          },
          "colorway": [
           "#636efa",
           "#EF553B",
           "#00cc96",
           "#ab63fa",
           "#FFA15A",
           "#19d3f3",
           "#FF6692",
           "#B6E880",
           "#FF97FF",
           "#FECB52"
          ],
          "font": {
           "color": "#2a3f5f"
          },
          "geo": {
           "bgcolor": "white",
           "lakecolor": "white",
           "landcolor": "#E5ECF6",
           "showlakes": true,
           "showland": true,
           "subunitcolor": "white"
          },
          "hoverlabel": {
           "align": "left"
          },
          "hovermode": "closest",
          "mapbox": {
           "style": "light"
          },
          "paper_bgcolor": "white",
          "plot_bgcolor": "#E5ECF6",
          "polar": {
           "angularaxis": {
            "gridcolor": "white",
            "linecolor": "white",
            "ticks": ""
           },
           "bgcolor": "#E5ECF6",
           "radialaxis": {
            "gridcolor": "white",
            "linecolor": "white",
            "ticks": ""
           }
          },
          "scene": {
           "xaxis": {
            "backgroundcolor": "#E5ECF6",
            "gridcolor": "white",
            "gridwidth": 2,
            "linecolor": "white",
            "showbackground": true,
            "ticks": "",
            "zerolinecolor": "white"
           },
           "yaxis": {
            "backgroundcolor": "#E5ECF6",
            "gridcolor": "white",
            "gridwidth": 2,
            "linecolor": "white",
            "showbackground": true,
            "ticks": "",
            "zerolinecolor": "white"
           },
           "zaxis": {
            "backgroundcolor": "#E5ECF6",
            "gridcolor": "white",
            "gridwidth": 2,
            "linecolor": "white",
            "showbackground": true,
            "ticks": "",
            "zerolinecolor": "white"
           }
          },
          "shapedefaults": {
           "line": {
            "color": "#2a3f5f"
           }
          },
          "ternary": {
           "aaxis": {
            "gridcolor": "white",
            "linecolor": "white",
            "ticks": ""
           },
           "baxis": {
            "gridcolor": "white",
            "linecolor": "white",
            "ticks": ""
           },
           "bgcolor": "#E5ECF6",
           "caxis": {
            "gridcolor": "white",
            "linecolor": "white",
            "ticks": ""
           }
          },
          "title": {
           "x": 0.05
          },
          "xaxis": {
           "automargin": true,
           "gridcolor": "white",
           "linecolor": "white",
           "ticks": "",
           "title": {
            "standoff": 15
           },
           "zerolinecolor": "white",
           "zerolinewidth": 2
          },
          "yaxis": {
           "automargin": true,
           "gridcolor": "white",
           "linecolor": "white",
           "ticks": "",
           "title": {
            "standoff": 15
           },
           "zerolinecolor": "white",
           "zerolinewidth": 2
          }
         }
        }
       }
      }
     },
     "metadata": {},
     "output_type": "display_data"
    }
   ],
   "source": [
    "import plotly.graph_objects as go\n",
    "import pandas as pd\n",
    "\n",
    "# Create a sample dataframe\n",
    "df = pd.DataFrame({'x': [0.5, 1.5, 2.5, 3.5], 'y': [1, 2, 3, 2], 'z': [0.2, 0.5, 1, 0.7]})\n",
    "\n",
    "# Create the scatter plot with markers and lines for z < 1\n",
    "fig = go.Figure()\n",
    "fig.add_trace(go.Scatter(x=df[df['z'] < 1]['x'], y=df[df['z'] < 1]['y'],\n",
    "                         mode='markers+lines', line=dict(color='blue'), marker=dict(size=10, color=df[df['z'] < 1]['z']),\n",
    "                         name='z < 1'))\n",
    "\n",
    "# Add a second scatter trace with markers only for z = 1\n",
    "fig.add_trace(go.Scatter(x=df[df['z'] == 1]['x'], y=df[df['z'] == 1]['y'],\n",
    "                         mode='markers', marker=dict(size=10, color='red'),\n",
    "                         name='z = 1'))\n",
    "\n",
    "# Update the color axis range to include values below 1\n",
    "fig.update_layout(coloraxis_colorbar=dict(tickvals=[0, 0.5, 1]))\n",
    "\n",
    "# Show the plot\n",
    "fig.show()\n",
    "\n",
    "\n",
    "\n"
   ]
  },
  {
   "cell_type": "code",
   "execution_count": 40,
   "metadata": {},
   "outputs": [
    {
     "data": {
      "application/vnd.plotly.v1+json": {
       "config": {
        "plotlyServerURL": "https://plot.ly"
       },
       "data": [
        {
         "marker": {
          "color": "blue"
         },
         "mode": "markers",
         "name": "Trace 1",
         "type": "scatter",
         "uid": "ab610a6d-abfa-4016-aee0-f743f655fa66",
         "x": [
          1.092571065139787,
          -0.683011745089525,
          -1.3752756268270947,
          0.8025935892847406,
          0.1970331284943564,
          -0.28971348087529325,
          0.40882623370386645,
          -0.4878047463056586,
          1.8570846303707904,
          0.7272928036819745,
          -1.2370930226392163,
          0.7177051699776107,
          -0.8699068120757799,
          0.5871169175317208,
          2.8959775387673954,
          1.247732597744163,
          0.22544476552306777,
          1.0813397957661124,
          0.7687879186252842,
          -0.477094956861621,
          1.5669354347561293,
          0.9538038173295577,
          -0.620040200802272,
          1.46864692988559,
          -0.2551738394055852,
          -0.055091361645889736,
          0.7626717731209052,
          -0.563355267716079,
          1.1746748896946786,
          -0.24792208006028688,
          0.4165662027484605,
          0.8716802229070446,
          -0.1757888827960124,
          0.8589289408996985,
          -0.63483073386958,
          -0.09667171018169678,
          0.9430322764467576,
          -0.7409839939068972,
          -0.6864696350601218,
          -1.0581946525934356,
          -1.1534530923234345,
          -0.48272826370356753,
          0.4637784902948564,
          0.9767398445466708,
          0.43969950747326125,
          0.11580730775726922,
          0.2562552577036858,
          -0.45002226288185126,
          0.5436509180740804,
          1.4124874126668443,
          1.5455045433261536,
          2.112686156951416,
          -0.00885642983433138,
          -0.24368182724758378,
          0.21775908953396916,
          -0.8077142747662711,
          -1.7247715987025907,
          1.2097189907885093,
          -0.5805422989795713,
          -0.208341744999251,
          -0.43064982317263223,
          0.7578861333678766,
          0.5948742451462116,
          0.19247679269931597,
          -2.5266233575814656,
          0.7706708742710487,
          -1.4984883288412927,
          -0.6134776594836743,
          -1.54192601252045,
          -1.1271231832737594,
          0.9442942491863117,
          -1.0331009521613672,
          -1.7928562352405597,
          -0.6160905880014657,
          0.7407217826908322,
          -0.30034455207433247,
          -0.7825726783664606,
          0.7954862533477854,
          0.611175386771571,
          -0.5585558923218042,
          -0.5412047110200205,
          0.4367200020891988,
          -0.13442983966931252,
          0.07791523313495698,
          -0.568086102916041,
          0.5629594652773084,
          1.170242041460536,
          1.6235919370813954,
          -0.07255291744929229,
          0.8683525359221345,
          0.03231379322594622,
          2.0004643576385153,
          0.5541298207688305,
          -0.47759622912945476,
          -0.20574841917295236,
          -0.07238731841079689,
          -1.1072732258811298,
          1.7788651490403664,
          -0.655387373712557,
          -0.28160084641346217
         ],
         "y": [
          0.11054746982000815,
          1.7154204876989887,
          0.7550174341716798,
          0.2778007403348744,
          -1.2504270607001158,
          -0.4041953207710596,
          -0.0057722934564483006,
          -0.09635347050397247,
          -0.7186486183799643,
          -0.020063537214916778,
          -2.0239333920729,
          0.27775141164863876,
          1.3127573767416545,
          2.556727472662723,
          0.18562916214251485,
          -0.5787735394638421,
          -0.8620261837991157,
          0.27508375717960587,
          0.3030408379750472,
          -1.0606254419429642,
          0.3173103515346122,
          2.1182810270666548,
          -0.6461647509665271,
          0.3644206325893549,
          -0.41108240371600124,
          0.6039185624329709,
          1.8421360294338514,
          -0.12414034328187072,
          1.25663566947145,
          1.7966488245448227,
          0.24630540237587645,
          -1.1155165628774986,
          -0.7986774251070047,
          0.38549525526358647,
          0.470994253504375,
          1.3578157669302895,
          0.1775724415558577,
          1.7473325142551677,
          0.5860182322972406,
          0.14058270057757832,
          -1.5855594348841038,
          0.08334877822687917,
          -0.17773390363347716,
          -2.290307102602424,
          1.7700769853230793,
          0.7710228516051761,
          -1.100701478688334,
          -1.776940877845929,
          -1.8065972473562768,
          -0.2130876119878913,
          -2.2091900334352705,
          -0.427121021670594,
          0.3645313463356327,
          0.012661309463588932,
          1.6373054568989804,
          -0.5420325475754437,
          -0.30183204252900725,
          -0.8071832222560927,
          -1.4597690918980413,
          0.03235796436326671,
          0.9655945397116357,
          0.34090297316994506,
          -0.0806068729335655,
          -0.24705286948791455,
          1.0694663653227923,
          -0.9597038687972345,
          1.205025490338065,
          -0.9715263581953973,
          -0.11008917134804318,
          1.449606516920166,
          1.7148906130203476,
          0.661976883712502,
          0.5211766235163061,
          -0.05063574219134883,
          -0.4506580299137882,
          -0.3836778416963318,
          0.18283573211743417,
          1.0289417750300016,
          -0.7427709655406781,
          -1.1648694141934492,
          -0.00414612883795937,
          -1.3919303792821611,
          -0.3072437504300342,
          -0.3536144486791881,
          -2.021124237185822,
          1.2723359528973748,
          1.8722021990345907,
          1.3105596360258476,
          -0.655125801139188,
          -0.16475185323263508,
          -1.172951114440496,
          0.9462737708761694,
          0.02482710683397368,
          -0.644488453282216,
          0.5744812939781311,
          -0.9042739314369093,
          0.2600770297493137,
          1.198745663374117,
          1.3011533954097785,
          0.8018577815820832
         ]
        },
        {
         "marker": {
          "color": "red"
         },
         "mode": "markers",
         "name": "Trace 2",
         "type": "scatter",
         "uid": "cea572d6-9866-4252-b7b2-734b3c603db1",
         "x": [
          1.3070777021654068,
          1.2816536917347414,
          2.9787520792201274,
          2.2919786706007708,
          2.2430089274122937,
          3.018956972553195,
          1.3247618997077242,
          2.1107376199977037,
          1.9290230685804848,
          3.129400271758697,
          1.6902657776734724,
          1.0018246348088298,
          1.390528045379094,
          1.948834721511049,
          3.769168276971544,
          -0.32075292913801734,
          3.6009495747677844,
          0.8987242293460747,
          2.00701774341971,
          1.807413899775221,
          1.0754955144515943,
          2.887442970684832,
          1.538240207258112,
          2.511030765289039,
          0.5798082120797443,
          1.930595118991377,
          2.812710898501544,
          0.8928654321730511,
          1.4847570522088647,
          2.63636976570206,
          0.9826574114250908,
          2.1370833695201257,
          2.2099401866890886,
          0.9374009142026203,
          2.5003224071723085,
          3.3124559211093887,
          1.3903565453817672,
          2.488118344473749,
          0.4610100872186429,
          2.649407044459923,
          2.353579117563898,
          2.353836799496191,
          2.7065562050530123,
          3.977391167678417,
          2.1729490698553318,
          1.0326029193786344,
          0.18520288479073388,
          2.573563815371047,
          3.6223072697281156,
          1.8447328398499776,
          1.5815516473127584,
          3.043024828880694,
          1.4419662544495075,
          2.7023554592768333,
          2.6903087517679114,
          0.9564847417951254,
          3.7998946636600888,
          1.1995738389731962,
          2.1950419871975955,
          2.27042856759332,
          2.151033366303488,
          2.9875959293737697,
          2.893449171251265,
          1.5196273799746463,
          2.7718309980123235,
          3.416377698601995,
          1.3241348944317335,
          1.1275796386644796,
          1.9416323634015207,
          2.662381892959245,
          2.73572932231282,
          1.9797384629507873,
          1.8076814576886777,
          1.0650659603217245,
          2.17675629843551,
          1.2261948329180732,
          3.3159472124604825,
          1.830879038342196,
          1.8133355592417026,
          2.059751204114197,
          2.255699386383328,
          1.1357645103761205,
          1.6568279551842036,
          0.7144537352099967,
          1.8771376938506106,
          0.7656013328253191,
          1.2608541594036422,
          2.2274202829542906,
          1.8461408343618655,
          2.1277327173093696,
          3.023066547022832,
          0.38430894438465946,
          0.6740510343992459,
          1.2463244443449089,
          2.100805039757022,
          2.3824221160787626,
          2.02700687154269,
          2.861287250967104,
          1.5846943913189702,
          1.7232563497083058
         ],
         "y": [
          1.1407250104262485,
          2.332903415780547,
          0.010563996030280354,
          2.088393670001997,
          1.6275760196477407,
          -0.04557767728164741,
          3.5556487696084327,
          1.4016013250066086,
          2.8799415909649353,
          -0.05235188512841438,
          0.7742010948420599,
          2.0599557213880266,
          2.748145021385972,
          1.56862595669454,
          1.807255482210187,
          1.3373679098306517,
          2.6727315183935882,
          0.7290400553485128,
          2.74736471176023,
          3.9026068990131004,
          2.339325207903968,
          3.23238992882855,
          2.368203680974964,
          1.2836506970602874,
          3.1740593467117457,
          1.7826724905105058,
          2.3281323253781987,
          2.0233865742564547,
          1.7766889061286864,
          2.248440319814979,
          1.622003224901913,
          2.492050442467291,
          1.905229582831817,
          1.1942184869026884,
          4.132732097680848,
          3.8324780607164897,
          1.797444199128753,
          2.325357623633125,
          1.6312145902827804,
          2.4198828580207508,
          2.955443348721735,
          3.5936795369139167,
          3.548302955883176,
          1.9627985044010967,
          1.1240208734532684,
          2.9631343519666644,
          2.304028889647744,
          2.382150569701365,
          2.454816427133808,
          0.933914781327787,
          0.46893579930958174,
          0.49097667811474,
          0.05284635221109002,
          2.0406296066615885,
          2.1852923566848403,
          1.4478512941869977,
          1.2442635452677662,
          5.012739061337082,
          3.0281638481543958,
          0.9508664911393181,
          0.7754890732599384,
          1.0625060572389224,
          2.712836218104578,
          2.172814925959716,
          1.3134775231354126,
          2.046658784329942,
          2.930655160888206,
          1.9263634997808836,
          1.4642283677678147,
          1.0372729933627884,
          1.4275137299688354,
          2.1446416633678553,
          1.6746148362842774,
          2.6022226381441484,
          1.6696977717017067,
          2.136856625959624,
          1.2415372252400205,
          1.126046279130695,
          0.9236087600197669,
          1.4792592794228974,
          1.5574725552702777,
          2.806731360041821,
          0.11964287726514877,
          2.0431105067908,
          -0.022247818999112656,
          2.5719110305754156,
          2.295671100991095,
          2.1703745950564475,
          2.8794718992556065,
          2.6158467584889573,
          0.29065521533311656,
          2.4597485071288157,
          2.4711147551503103,
          2.287505345906904,
          1.9862865123979427,
          2.1976679538816457,
          2.022978291849612,
          2.6968894253505855,
          1.647438208838372,
          1.210112277460335
         ]
        }
       ],
       "layout": {
        "template": {
         "data": {
          "bar": [
           {
            "error_x": {
             "color": "#2a3f5f"
            },
            "error_y": {
             "color": "#2a3f5f"
            },
            "marker": {
             "line": {
              "color": "#E5ECF6",
              "width": 0.5
             },
             "pattern": {
              "fillmode": "overlay",
              "size": 10,
              "solidity": 0.2
             }
            },
            "type": "bar"
           }
          ],
          "barpolar": [
           {
            "marker": {
             "line": {
              "color": "#E5ECF6",
              "width": 0.5
             },
             "pattern": {
              "fillmode": "overlay",
              "size": 10,
              "solidity": 0.2
             }
            },
            "type": "barpolar"
           }
          ],
          "carpet": [
           {
            "aaxis": {
             "endlinecolor": "#2a3f5f",
             "gridcolor": "white",
             "linecolor": "white",
             "minorgridcolor": "white",
             "startlinecolor": "#2a3f5f"
            },
            "baxis": {
             "endlinecolor": "#2a3f5f",
             "gridcolor": "white",
             "linecolor": "white",
             "minorgridcolor": "white",
             "startlinecolor": "#2a3f5f"
            },
            "type": "carpet"
           }
          ],
          "choropleth": [
           {
            "colorbar": {
             "outlinewidth": 0,
             "ticks": ""
            },
            "type": "choropleth"
           }
          ],
          "contour": [
           {
            "colorbar": {
             "outlinewidth": 0,
             "ticks": ""
            },
            "colorscale": [
             [
              0,
              "#0d0887"
             ],
             [
              0.1111111111111111,
              "#46039f"
             ],
             [
              0.2222222222222222,
              "#7201a8"
             ],
             [
              0.3333333333333333,
              "#9c179e"
             ],
             [
              0.4444444444444444,
              "#bd3786"
             ],
             [
              0.5555555555555556,
              "#d8576b"
             ],
             [
              0.6666666666666666,
              "#ed7953"
             ],
             [
              0.7777777777777778,
              "#fb9f3a"
             ],
             [
              0.8888888888888888,
              "#fdca26"
             ],
             [
              1,
              "#f0f921"
             ]
            ],
            "type": "contour"
           }
          ],
          "contourcarpet": [
           {
            "colorbar": {
             "outlinewidth": 0,
             "ticks": ""
            },
            "type": "contourcarpet"
           }
          ],
          "heatmap": [
           {
            "colorbar": {
             "outlinewidth": 0,
             "ticks": ""
            },
            "colorscale": [
             [
              0,
              "#0d0887"
             ],
             [
              0.1111111111111111,
              "#46039f"
             ],
             [
              0.2222222222222222,
              "#7201a8"
             ],
             [
              0.3333333333333333,
              "#9c179e"
             ],
             [
              0.4444444444444444,
              "#bd3786"
             ],
             [
              0.5555555555555556,
              "#d8576b"
             ],
             [
              0.6666666666666666,
              "#ed7953"
             ],
             [
              0.7777777777777778,
              "#fb9f3a"
             ],
             [
              0.8888888888888888,
              "#fdca26"
             ],
             [
              1,
              "#f0f921"
             ]
            ],
            "type": "heatmap"
           }
          ],
          "heatmapgl": [
           {
            "colorbar": {
             "outlinewidth": 0,
             "ticks": ""
            },
            "colorscale": [
             [
              0,
              "#0d0887"
             ],
             [
              0.1111111111111111,
              "#46039f"
             ],
             [
              0.2222222222222222,
              "#7201a8"
             ],
             [
              0.3333333333333333,
              "#9c179e"
             ],
             [
              0.4444444444444444,
              "#bd3786"
             ],
             [
              0.5555555555555556,
              "#d8576b"
             ],
             [
              0.6666666666666666,
              "#ed7953"
             ],
             [
              0.7777777777777778,
              "#fb9f3a"
             ],
             [
              0.8888888888888888,
              "#fdca26"
             ],
             [
              1,
              "#f0f921"
             ]
            ],
            "type": "heatmapgl"
           }
          ],
          "histogram": [
           {
            "marker": {
             "pattern": {
              "fillmode": "overlay",
              "size": 10,
              "solidity": 0.2
             }
            },
            "type": "histogram"
           }
          ],
          "histogram2d": [
           {
            "colorbar": {
             "outlinewidth": 0,
             "ticks": ""
            },
            "colorscale": [
             [
              0,
              "#0d0887"
             ],
             [
              0.1111111111111111,
              "#46039f"
             ],
             [
              0.2222222222222222,
              "#7201a8"
             ],
             [
              0.3333333333333333,
              "#9c179e"
             ],
             [
              0.4444444444444444,
              "#bd3786"
             ],
             [
              0.5555555555555556,
              "#d8576b"
             ],
             [
              0.6666666666666666,
              "#ed7953"
             ],
             [
              0.7777777777777778,
              "#fb9f3a"
             ],
             [
              0.8888888888888888,
              "#fdca26"
             ],
             [
              1,
              "#f0f921"
             ]
            ],
            "type": "histogram2d"
           }
          ],
          "histogram2dcontour": [
           {
            "colorbar": {
             "outlinewidth": 0,
             "ticks": ""
            },
            "colorscale": [
             [
              0,
              "#0d0887"
             ],
             [
              0.1111111111111111,
              "#46039f"
             ],
             [
              0.2222222222222222,
              "#7201a8"
             ],
             [
              0.3333333333333333,
              "#9c179e"
             ],
             [
              0.4444444444444444,
              "#bd3786"
             ],
             [
              0.5555555555555556,
              "#d8576b"
             ],
             [
              0.6666666666666666,
              "#ed7953"
             ],
             [
              0.7777777777777778,
              "#fb9f3a"
             ],
             [
              0.8888888888888888,
              "#fdca26"
             ],
             [
              1,
              "#f0f921"
             ]
            ],
            "type": "histogram2dcontour"
           }
          ],
          "mesh3d": [
           {
            "colorbar": {
             "outlinewidth": 0,
             "ticks": ""
            },
            "type": "mesh3d"
           }
          ],
          "parcoords": [
           {
            "line": {
             "colorbar": {
              "outlinewidth": 0,
              "ticks": ""
             }
            },
            "type": "parcoords"
           }
          ],
          "pie": [
           {
            "automargin": true,
            "type": "pie"
           }
          ],
          "scatter": [
           {
            "fillpattern": {
             "fillmode": "overlay",
             "size": 10,
             "solidity": 0.2
            },
            "type": "scatter"
           }
          ],
          "scatter3d": [
           {
            "line": {
             "colorbar": {
              "outlinewidth": 0,
              "ticks": ""
             }
            },
            "marker": {
             "colorbar": {
              "outlinewidth": 0,
              "ticks": ""
             }
            },
            "type": "scatter3d"
           }
          ],
          "scattercarpet": [
           {
            "marker": {
             "colorbar": {
              "outlinewidth": 0,
              "ticks": ""
             }
            },
            "type": "scattercarpet"
           }
          ],
          "scattergeo": [
           {
            "marker": {
             "colorbar": {
              "outlinewidth": 0,
              "ticks": ""
             }
            },
            "type": "scattergeo"
           }
          ],
          "scattergl": [
           {
            "marker": {
             "colorbar": {
              "outlinewidth": 0,
              "ticks": ""
             }
            },
            "type": "scattergl"
           }
          ],
          "scattermapbox": [
           {
            "marker": {
             "colorbar": {
              "outlinewidth": 0,
              "ticks": ""
             }
            },
            "type": "scattermapbox"
           }
          ],
          "scatterpolar": [
           {
            "marker": {
             "colorbar": {
              "outlinewidth": 0,
              "ticks": ""
             }
            },
            "type": "scatterpolar"
           }
          ],
          "scatterpolargl": [
           {
            "marker": {
             "colorbar": {
              "outlinewidth": 0,
              "ticks": ""
             }
            },
            "type": "scatterpolargl"
           }
          ],
          "scatterternary": [
           {
            "marker": {
             "colorbar": {
              "outlinewidth": 0,
              "ticks": ""
             }
            },
            "type": "scatterternary"
           }
          ],
          "surface": [
           {
            "colorbar": {
             "outlinewidth": 0,
             "ticks": ""
            },
            "colorscale": [
             [
              0,
              "#0d0887"
             ],
             [
              0.1111111111111111,
              "#46039f"
             ],
             [
              0.2222222222222222,
              "#7201a8"
             ],
             [
              0.3333333333333333,
              "#9c179e"
             ],
             [
              0.4444444444444444,
              "#bd3786"
             ],
             [
              0.5555555555555556,
              "#d8576b"
             ],
             [
              0.6666666666666666,
              "#ed7953"
             ],
             [
              0.7777777777777778,
              "#fb9f3a"
             ],
             [
              0.8888888888888888,
              "#fdca26"
             ],
             [
              1,
              "#f0f921"
             ]
            ],
            "type": "surface"
           }
          ],
          "table": [
           {
            "cells": {
             "fill": {
              "color": "#EBF0F8"
             },
             "line": {
              "color": "white"
             }
            },
            "header": {
             "fill": {
              "color": "#C8D4E3"
             },
             "line": {
              "color": "white"
             }
            },
            "type": "table"
           }
          ]
         },
         "layout": {
          "annotationdefaults": {
           "arrowcolor": "#2a3f5f",
           "arrowhead": 0,
           "arrowwidth": 1
          },
          "autotypenumbers": "strict",
          "coloraxis": {
           "colorbar": {
            "outlinewidth": 0,
            "ticks": ""
           }
          },
          "colorscale": {
           "diverging": [
            [
             0,
             "#8e0152"
            ],
            [
             0.1,
             "#c51b7d"
            ],
            [
             0.2,
             "#de77ae"
            ],
            [
             0.3,
             "#f1b6da"
            ],
            [
             0.4,
             "#fde0ef"
            ],
            [
             0.5,
             "#f7f7f7"
            ],
            [
             0.6,
             "#e6f5d0"
            ],
            [
             0.7,
             "#b8e186"
            ],
            [
             0.8,
             "#7fbc41"
            ],
            [
             0.9,
             "#4d9221"
            ],
            [
             1,
             "#276419"
            ]
           ],
           "sequential": [
            [
             0,
             "#0d0887"
            ],
            [
             0.1111111111111111,
             "#46039f"
            ],
            [
             0.2222222222222222,
             "#7201a8"
            ],
            [
             0.3333333333333333,
             "#9c179e"
            ],
            [
             0.4444444444444444,
             "#bd3786"
            ],
            [
             0.5555555555555556,
             "#d8576b"
            ],
            [
             0.6666666666666666,
             "#ed7953"
            ],
            [
             0.7777777777777778,
             "#fb9f3a"
            ],
            [
             0.8888888888888888,
             "#fdca26"
            ],
            [
             1,
             "#f0f921"
            ]
           ],
           "sequentialminus": [
            [
             0,
             "#0d0887"
            ],
            [
             0.1111111111111111,
             "#46039f"
            ],
            [
             0.2222222222222222,
             "#7201a8"
            ],
            [
             0.3333333333333333,
             "#9c179e"
            ],
            [
             0.4444444444444444,
             "#bd3786"
            ],
            [
             0.5555555555555556,
             "#d8576b"
            ],
            [
             0.6666666666666666,
             "#ed7953"
            ],
            [
             0.7777777777777778,
             "#fb9f3a"
            ],
            [
             0.8888888888888888,
             "#fdca26"
            ],
            [
             1,
             "#f0f921"
            ]
           ]
          },
          "colorway": [
           "#636efa",
           "#EF553B",
           "#00cc96",
           "#ab63fa",
           "#FFA15A",
           "#19d3f3",
           "#FF6692",
           "#B6E880",
           "#FF97FF",
           "#FECB52"
          ],
          "font": {
           "color": "#2a3f5f"
          },
          "geo": {
           "bgcolor": "white",
           "lakecolor": "white",
           "landcolor": "#E5ECF6",
           "showlakes": true,
           "showland": true,
           "subunitcolor": "white"
          },
          "hoverlabel": {
           "align": "left"
          },
          "hovermode": "closest",
          "mapbox": {
           "style": "light"
          },
          "paper_bgcolor": "white",
          "plot_bgcolor": "#E5ECF6",
          "polar": {
           "angularaxis": {
            "gridcolor": "white",
            "linecolor": "white",
            "ticks": ""
           },
           "bgcolor": "#E5ECF6",
           "radialaxis": {
            "gridcolor": "white",
            "linecolor": "white",
            "ticks": ""
           }
          },
          "scene": {
           "xaxis": {
            "backgroundcolor": "#E5ECF6",
            "gridcolor": "white",
            "gridwidth": 2,
            "linecolor": "white",
            "showbackground": true,
            "ticks": "",
            "zerolinecolor": "white"
           },
           "yaxis": {
            "backgroundcolor": "#E5ECF6",
            "gridcolor": "white",
            "gridwidth": 2,
            "linecolor": "white",
            "showbackground": true,
            "ticks": "",
            "zerolinecolor": "white"
           },
           "zaxis": {
            "backgroundcolor": "#E5ECF6",
            "gridcolor": "white",
            "gridwidth": 2,
            "linecolor": "white",
            "showbackground": true,
            "ticks": "",
            "zerolinecolor": "white"
           }
          },
          "shapedefaults": {
           "line": {
            "color": "#2a3f5f"
           }
          },
          "ternary": {
           "aaxis": {
            "gridcolor": "white",
            "linecolor": "white",
            "ticks": ""
           },
           "baxis": {
            "gridcolor": "white",
            "linecolor": "white",
            "ticks": ""
           },
           "bgcolor": "#E5ECF6",
           "caxis": {
            "gridcolor": "white",
            "linecolor": "white",
            "ticks": ""
           }
          },
          "title": {
           "x": 0.05
          },
          "xaxis": {
           "automargin": true,
           "gridcolor": "white",
           "linecolor": "white",
           "ticks": "",
           "title": {
            "standoff": 15
           },
           "zerolinecolor": "white",
           "zerolinewidth": 2
          },
          "yaxis": {
           "automargin": true,
           "gridcolor": "white",
           "linecolor": "white",
           "ticks": "",
           "title": {
            "standoff": 15
           },
           "zerolinecolor": "white",
           "zerolinewidth": 2
          }
         }
        },
        "title": {
         "text": "Scatter Plot with Two Traces"
        },
        "xaxis": {
         "title": {
          "text": "X-Axis"
         }
        },
        "yaxis": {
         "title": {
          "text": "Y-Axis"
         }
        }
       }
      }
     },
     "metadata": {},
     "output_type": "display_data"
    }
   ],
   "source": [
    "import plotly.graph_objs as go\n",
    "import numpy as np\n",
    "\n",
    "# generate some sample data for two traces\n",
    "x1 = np.random.normal(0, 1, 100)\n",
    "y1 = np.random.normal(0, 1, 100)\n",
    "x2 = np.random.normal(2, 1, 100)\n",
    "y2 = np.random.normal(2, 1, 100)\n",
    "\n",
    "# create two scatter trace objects with different colors and names\n",
    "trace1 = go.Scatter(x=x1, y=y1, mode='markers', name='Trace 1', marker=dict(color='blue'))\n",
    "trace2 = go.Scatter(x=x2, y=y2, mode='markers', name='Trace 2', marker=dict(color='red'))\n",
    "\n",
    "# create a figure with the two scatter trace objects\n",
    "fig = go.FigureWidget(data=[trace1, trace2])\n",
    "trace = None\n",
    "selected_points = None\n",
    "# define a function to handle the on_selection event\n",
    "def handle_selection(trace, points, selector):\n",
    "    # get the trace ID of the selected points\n",
    "    selected_trace_id = points.trace_index[0]\n",
    "    \n",
    "    # get the index of the selected points in the selected trace\n",
    "    selected_points_idx = points.point_inds\n",
    "    \n",
    "    # get the data of the selected points\n",
    "    selected_points = trace[selected_points_idx]\n",
    "    \n",
    "    # remove the selected points from the selected trace\n",
    "    trace[selected_points_idx] = None\n",
    "    \n",
    "    # add the selected points to the other trace\n",
    "    other_trace_idx = 1 - selected_trace_id\n",
    "    fig.data[other_trace_idx].add_trace(selected_points)\n",
    "    \n",
    "    # update the figure layout\n",
    "    fig.layout = go.Layout(\n",
    "        title='Scatter Plot with Selections',\n",
    "        xaxis=dict(title='X-Axis'),\n",
    "        yaxis=dict(title='Y-Axis')\n",
    "    )\n",
    "\n",
    "# attach the handle_selection function to the on_selection event of the figure widget\n",
    "fig.data[0].on_selection(handle_selection)\n",
    "\n",
    "# set the layout of the figure\n",
    "fig.update_layout(title='Scatter Plot with Two Traces',\n",
    "                  xaxis_title='X-Axis', yaxis_title='Y-Axis')\n",
    "\n",
    "\n",
    "# display the figure\n",
    "fig.show()\n",
    "\n",
    "\n",
    "\n",
    "\n",
    "\n",
    "\n",
    "\n"
   ]
  },
  {
   "cell_type": "code",
   "execution_count": 3,
   "metadata": {},
   "outputs": [
    {
     "data": {
      "application/vnd.plotly.v1+json": {
       "config": {
        "plotlyServerURL": "https://plot.ly"
       },
       "data": [
        {
         "mode": "markers",
         "type": "scatter",
         "x": [
          0,
          0.06346651825433926,
          0.12693303650867852,
          0.1903995547630178,
          0.25386607301735703,
          0.3173325912716963,
          0.3807991095260356,
          0.4442656277803748,
          0.5077321460347141,
          0.5711986642890533,
          0.6346651825433925,
          0.6981317007977318,
          0.7615982190520711,
          0.8250647373064104,
          0.8885312555607496,
          0.9519977738150889,
          1.0154642920694281,
          1.0789308103237674,
          1.1423973285781066,
          1.2058638468324459,
          1.269330365086785,
          1.3327968833411243,
          1.3962634015954636,
          1.4597299198498028,
          1.5231964381041423,
          1.5866629563584815,
          1.6501294746128208,
          1.71359599286716,
          1.7770625111214993,
          1.8405290293758385,
          1.9039955476301778,
          1.967462065884517,
          2.0309285841388562,
          2.0943951023931957,
          2.1578616206475347,
          2.221328138901874,
          2.284794657156213,
          2.3482611754105527,
          2.4117276936648917,
          2.475194211919231,
          2.53866073017357,
          2.6021272484279097,
          2.6655937666822487,
          2.729060284936588,
          2.792526803190927,
          2.8559933214452666,
          2.9194598396996057,
          2.982926357953945,
          3.0463928762082846,
          3.1098593944626236,
          3.173325912716963,
          3.236792430971302,
          3.3002589492256416,
          3.3637254674799806,
          3.42719198573432,
          3.490658503988659,
          3.5541250222429985,
          3.6175915404973376,
          3.681058058751677,
          3.744524577006016,
          3.8079910952603555,
          3.8714576135146945,
          3.934924131769034,
          3.998390650023373,
          4.0618571682777125,
          4.1253236865320515,
          4.188790204786391,
          4.25225672304073,
          4.3157232412950695,
          4.3791897595494085,
          4.442656277803748,
          4.506122796058087,
          4.569589314312426,
          4.6330558325667655,
          4.696522350821105,
          4.759988869075444,
          4.823455387329783,
          4.886921905584122,
          4.950388423838462,
          5.013854942092801,
          5.07732146034714,
          5.14078797860148,
          5.204254496855819,
          5.267721015110158,
          5.331187533364497,
          5.394654051618837,
          5.458120569873176,
          5.521587088127515,
          5.585053606381854,
          5.648520124636194,
          5.711986642890533,
          5.775453161144872,
          5.838919679399211,
          5.902386197653551,
          5.96585271590789,
          6.029319234162229,
          6.092785752416569,
          6.156252270670908,
          6.219718788925247,
          6.283185307179586
         ],
         "y": [
          0,
          0.0634239196565645,
          0.12659245357374926,
          0.18925124436041021,
          0.2511479871810792,
          0.3120334456984871,
          0.3716624556603276,
          0.42979491208917164,
          0.4861967361004687,
          0.5406408174555976,
          0.5929079290546404,
          0.6427876096865393,
          0.690079011482112,
          0.7345917086575333,
          0.7761464642917568,
          0.8145759520503357,
          0.8497254299495144,
          0.8814533634475821,
          0.9096319953545183,
          0.9341478602651067,
          0.9549022414440739,
          0.9718115683235417,
          0.984807753012208,
          0.9938384644612541,
          0.998867339183008,
          0.9998741276738751,
          0.9968547759519424,
          0.9898214418809327,
          0.9788024462147787,
          0.963842158559942,
          0.9450008187146685,
          0.9223542941045814,
          0.8959937742913359,
          0.8660254037844386,
          0.8325698546347714,
          0.795761840530832,
          0.7557495743542583,
          0.7126941713788627,
          0.6667690005162916,
          0.6181589862206052,
          0.5670598638627709,
          0.5136773915734063,
          0.4582265217274105,
          0.4009305354066136,
          0.3420201433256689,
          0.28173255684142967,
          0.2203105327865408,
          0.1580013959733499,
          0.09505604330418244,
          0.031727933498067656,
          -0.03172793349806786,
          -0.09505604330418263,
          -0.15800139597335008,
          -0.22031053278654056,
          -0.28173255684142984,
          -0.34202014332566866,
          -0.4009305354066138,
          -0.4582265217274103,
          -0.5136773915734064,
          -0.5670598638627706,
          -0.6181589862206053,
          -0.6667690005162915,
          -0.7126941713788629,
          -0.7557495743542582,
          -0.7957618405308321,
          -0.8325698546347713,
          -0.8660254037844388,
          -0.895993774291336,
          -0.9223542941045814,
          -0.9450008187146683,
          -0.9638421585599422,
          -0.9788024462147787,
          -0.9898214418809327,
          -0.9968547759519423,
          -0.9998741276738751,
          -0.998867339183008,
          -0.9938384644612541,
          -0.9848077530122081,
          -0.9718115683235417,
          -0.9549022414440739,
          -0.9341478602651068,
          -0.9096319953545182,
          -0.881453363447582,
          -0.8497254299495144,
          -0.8145759520503358,
          -0.7761464642917566,
          -0.7345917086575331,
          -0.690079011482112,
          -0.6427876096865396,
          -0.5929079290546402,
          -0.5406408174555974,
          -0.4861967361004688,
          -0.4297949120891719,
          -0.37166245566032724,
          -0.31203344569848707,
          -0.2511479871810794,
          -0.18925124436040974,
          -0.12659245357374904,
          -0.06342391965656452,
          -2.4492935982947064e-16
         ]
        }
       ],
       "layout": {
        "annotations": [
         {
          "font": {
           "size": 16
          },
          "showarrow": false,
          "text": "Draw a box around the points to select",
          "x": 0.5,
          "xref": "paper",
          "y": 1.1,
          "yref": "paper"
         }
        ],
        "dragmode": "select",
        "images": [
         {
          "sizex": 0.2,
          "sizey": 0.2,
          "source": "https://raw.githubusercontent.com/plotly/plotly.js/master/test/image/gitbook/images/lasso.png",
          "x": 1.05,
          "xanchor": "right",
          "xref": "paper",
          "y": 1.2,
          "yanchor": "bottom",
          "yref": "paper"
         }
        ],
        "template": {
         "data": {
          "bar": [
           {
            "error_x": {
             "color": "#2a3f5f"
            },
            "error_y": {
             "color": "#2a3f5f"
            },
            "marker": {
             "line": {
              "color": "#E5ECF6",
              "width": 0.5
             },
             "pattern": {
              "fillmode": "overlay",
              "size": 10,
              "solidity": 0.2
             }
            },
            "type": "bar"
           }
          ],
          "barpolar": [
           {
            "marker": {
             "line": {
              "color": "#E5ECF6",
              "width": 0.5
             },
             "pattern": {
              "fillmode": "overlay",
              "size": 10,
              "solidity": 0.2
             }
            },
            "type": "barpolar"
           }
          ],
          "carpet": [
           {
            "aaxis": {
             "endlinecolor": "#2a3f5f",
             "gridcolor": "white",
             "linecolor": "white",
             "minorgridcolor": "white",
             "startlinecolor": "#2a3f5f"
            },
            "baxis": {
             "endlinecolor": "#2a3f5f",
             "gridcolor": "white",
             "linecolor": "white",
             "minorgridcolor": "white",
             "startlinecolor": "#2a3f5f"
            },
            "type": "carpet"
           }
          ],
          "choropleth": [
           {
            "colorbar": {
             "outlinewidth": 0,
             "ticks": ""
            },
            "type": "choropleth"
           }
          ],
          "contour": [
           {
            "colorbar": {
             "outlinewidth": 0,
             "ticks": ""
            },
            "colorscale": [
             [
              0,
              "#0d0887"
             ],
             [
              0.1111111111111111,
              "#46039f"
             ],
             [
              0.2222222222222222,
              "#7201a8"
             ],
             [
              0.3333333333333333,
              "#9c179e"
             ],
             [
              0.4444444444444444,
              "#bd3786"
             ],
             [
              0.5555555555555556,
              "#d8576b"
             ],
             [
              0.6666666666666666,
              "#ed7953"
             ],
             [
              0.7777777777777778,
              "#fb9f3a"
             ],
             [
              0.8888888888888888,
              "#fdca26"
             ],
             [
              1,
              "#f0f921"
             ]
            ],
            "type": "contour"
           }
          ],
          "contourcarpet": [
           {
            "colorbar": {
             "outlinewidth": 0,
             "ticks": ""
            },
            "type": "contourcarpet"
           }
          ],
          "heatmap": [
           {
            "colorbar": {
             "outlinewidth": 0,
             "ticks": ""
            },
            "colorscale": [
             [
              0,
              "#0d0887"
             ],
             [
              0.1111111111111111,
              "#46039f"
             ],
             [
              0.2222222222222222,
              "#7201a8"
             ],
             [
              0.3333333333333333,
              "#9c179e"
             ],
             [
              0.4444444444444444,
              "#bd3786"
             ],
             [
              0.5555555555555556,
              "#d8576b"
             ],
             [
              0.6666666666666666,
              "#ed7953"
             ],
             [
              0.7777777777777778,
              "#fb9f3a"
             ],
             [
              0.8888888888888888,
              "#fdca26"
             ],
             [
              1,
              "#f0f921"
             ]
            ],
            "type": "heatmap"
           }
          ],
          "heatmapgl": [
           {
            "colorbar": {
             "outlinewidth": 0,
             "ticks": ""
            },
            "colorscale": [
             [
              0,
              "#0d0887"
             ],
             [
              0.1111111111111111,
              "#46039f"
             ],
             [
              0.2222222222222222,
              "#7201a8"
             ],
             [
              0.3333333333333333,
              "#9c179e"
             ],
             [
              0.4444444444444444,
              "#bd3786"
             ],
             [
              0.5555555555555556,
              "#d8576b"
             ],
             [
              0.6666666666666666,
              "#ed7953"
             ],
             [
              0.7777777777777778,
              "#fb9f3a"
             ],
             [
              0.8888888888888888,
              "#fdca26"
             ],
             [
              1,
              "#f0f921"
             ]
            ],
            "type": "heatmapgl"
           }
          ],
          "histogram": [
           {
            "marker": {
             "pattern": {
              "fillmode": "overlay",
              "size": 10,
              "solidity": 0.2
             }
            },
            "type": "histogram"
           }
          ],
          "histogram2d": [
           {
            "colorbar": {
             "outlinewidth": 0,
             "ticks": ""
            },
            "colorscale": [
             [
              0,
              "#0d0887"
             ],
             [
              0.1111111111111111,
              "#46039f"
             ],
             [
              0.2222222222222222,
              "#7201a8"
             ],
             [
              0.3333333333333333,
              "#9c179e"
             ],
             [
              0.4444444444444444,
              "#bd3786"
             ],
             [
              0.5555555555555556,
              "#d8576b"
             ],
             [
              0.6666666666666666,
              "#ed7953"
             ],
             [
              0.7777777777777778,
              "#fb9f3a"
             ],
             [
              0.8888888888888888,
              "#fdca26"
             ],
             [
              1,
              "#f0f921"
             ]
            ],
            "type": "histogram2d"
           }
          ],
          "histogram2dcontour": [
           {
            "colorbar": {
             "outlinewidth": 0,
             "ticks": ""
            },
            "colorscale": [
             [
              0,
              "#0d0887"
             ],
             [
              0.1111111111111111,
              "#46039f"
             ],
             [
              0.2222222222222222,
              "#7201a8"
             ],
             [
              0.3333333333333333,
              "#9c179e"
             ],
             [
              0.4444444444444444,
              "#bd3786"
             ],
             [
              0.5555555555555556,
              "#d8576b"
             ],
             [
              0.6666666666666666,
              "#ed7953"
             ],
             [
              0.7777777777777778,
              "#fb9f3a"
             ],
             [
              0.8888888888888888,
              "#fdca26"
             ],
             [
              1,
              "#f0f921"
             ]
            ],
            "type": "histogram2dcontour"
           }
          ],
          "mesh3d": [
           {
            "colorbar": {
             "outlinewidth": 0,
             "ticks": ""
            },
            "type": "mesh3d"
           }
          ],
          "parcoords": [
           {
            "line": {
             "colorbar": {
              "outlinewidth": 0,
              "ticks": ""
             }
            },
            "type": "parcoords"
           }
          ],
          "pie": [
           {
            "automargin": true,
            "type": "pie"
           }
          ],
          "scatter": [
           {
            "fillpattern": {
             "fillmode": "overlay",
             "size": 10,
             "solidity": 0.2
            },
            "type": "scatter"
           }
          ],
          "scatter3d": [
           {
            "line": {
             "colorbar": {
              "outlinewidth": 0,
              "ticks": ""
             }
            },
            "marker": {
             "colorbar": {
              "outlinewidth": 0,
              "ticks": ""
             }
            },
            "type": "scatter3d"
           }
          ],
          "scattercarpet": [
           {
            "marker": {
             "colorbar": {
              "outlinewidth": 0,
              "ticks": ""
             }
            },
            "type": "scattercarpet"
           }
          ],
          "scattergeo": [
           {
            "marker": {
             "colorbar": {
              "outlinewidth": 0,
              "ticks": ""
             }
            },
            "type": "scattergeo"
           }
          ],
          "scattergl": [
           {
            "marker": {
             "colorbar": {
              "outlinewidth": 0,
              "ticks": ""
             }
            },
            "type": "scattergl"
           }
          ],
          "scattermapbox": [
           {
            "marker": {
             "colorbar": {
              "outlinewidth": 0,
              "ticks": ""
             }
            },
            "type": "scattermapbox"
           }
          ],
          "scatterpolar": [
           {
            "marker": {
             "colorbar": {
              "outlinewidth": 0,
              "ticks": ""
             }
            },
            "type": "scatterpolar"
           }
          ],
          "scatterpolargl": [
           {
            "marker": {
             "colorbar": {
              "outlinewidth": 0,
              "ticks": ""
             }
            },
            "type": "scatterpolargl"
           }
          ],
          "scatterternary": [
           {
            "marker": {
             "colorbar": {
              "outlinewidth": 0,
              "ticks": ""
             }
            },
            "type": "scatterternary"
           }
          ],
          "surface": [
           {
            "colorbar": {
             "outlinewidth": 0,
             "ticks": ""
            },
            "colorscale": [
             [
              0,
              "#0d0887"
             ],
             [
              0.1111111111111111,
              "#46039f"
             ],
             [
              0.2222222222222222,
              "#7201a8"
             ],
             [
              0.3333333333333333,
              "#9c179e"
             ],
             [
              0.4444444444444444,
              "#bd3786"
             ],
             [
              0.5555555555555556,
              "#d8576b"
             ],
             [
              0.6666666666666666,
              "#ed7953"
             ],
             [
              0.7777777777777778,
              "#fb9f3a"
             ],
             [
              0.8888888888888888,
              "#fdca26"
             ],
             [
              1,
              "#f0f921"
             ]
            ],
            "type": "surface"
           }
          ],
          "table": [
           {
            "cells": {
             "fill": {
              "color": "#EBF0F8"
             },
             "line": {
              "color": "white"
             }
            },
            "header": {
             "fill": {
              "color": "#C8D4E3"
             },
             "line": {
              "color": "white"
             }
            },
            "type": "table"
           }
          ]
         },
         "layout": {
          "annotationdefaults": {
           "arrowcolor": "#2a3f5f",
           "arrowhead": 0,
           "arrowwidth": 1
          },
          "autotypenumbers": "strict",
          "coloraxis": {
           "colorbar": {
            "outlinewidth": 0,
            "ticks": ""
           }
          },
          "colorscale": {
           "diverging": [
            [
             0,
             "#8e0152"
            ],
            [
             0.1,
             "#c51b7d"
            ],
            [
             0.2,
             "#de77ae"
            ],
            [
             0.3,
             "#f1b6da"
            ],
            [
             0.4,
             "#fde0ef"
            ],
            [
             0.5,
             "#f7f7f7"
            ],
            [
             0.6,
             "#e6f5d0"
            ],
            [
             0.7,
             "#b8e186"
            ],
            [
             0.8,
             "#7fbc41"
            ],
            [
             0.9,
             "#4d9221"
            ],
            [
             1,
             "#276419"
            ]
           ],
           "sequential": [
            [
             0,
             "#0d0887"
            ],
            [
             0.1111111111111111,
             "#46039f"
            ],
            [
             0.2222222222222222,
             "#7201a8"
            ],
            [
             0.3333333333333333,
             "#9c179e"
            ],
            [
             0.4444444444444444,
             "#bd3786"
            ],
            [
             0.5555555555555556,
             "#d8576b"
            ],
            [
             0.6666666666666666,
             "#ed7953"
            ],
            [
             0.7777777777777778,
             "#fb9f3a"
            ],
            [
             0.8888888888888888,
             "#fdca26"
            ],
            [
             1,
             "#f0f921"
            ]
           ],
           "sequentialminus": [
            [
             0,
             "#0d0887"
            ],
            [
             0.1111111111111111,
             "#46039f"
            ],
            [
             0.2222222222222222,
             "#7201a8"
            ],
            [
             0.3333333333333333,
             "#9c179e"
            ],
            [
             0.4444444444444444,
             "#bd3786"
            ],
            [
             0.5555555555555556,
             "#d8576b"
            ],
            [
             0.6666666666666666,
             "#ed7953"
            ],
            [
             0.7777777777777778,
             "#fb9f3a"
            ],
            [
             0.8888888888888888,
             "#fdca26"
            ],
            [
             1,
             "#f0f921"
            ]
           ]
          },
          "colorway": [
           "#636efa",
           "#EF553B",
           "#00cc96",
           "#ab63fa",
           "#FFA15A",
           "#19d3f3",
           "#FF6692",
           "#B6E880",
           "#FF97FF",
           "#FECB52"
          ],
          "font": {
           "color": "#2a3f5f"
          },
          "geo": {
           "bgcolor": "white",
           "lakecolor": "white",
           "landcolor": "#E5ECF6",
           "showlakes": true,
           "showland": true,
           "subunitcolor": "white"
          },
          "hoverlabel": {
           "align": "left"
          },
          "hovermode": "closest",
          "mapbox": {
           "style": "light"
          },
          "paper_bgcolor": "white",
          "plot_bgcolor": "#E5ECF6",
          "polar": {
           "angularaxis": {
            "gridcolor": "white",
            "linecolor": "white",
            "ticks": ""
           },
           "bgcolor": "#E5ECF6",
           "radialaxis": {
            "gridcolor": "white",
            "linecolor": "white",
            "ticks": ""
           }
          },
          "scene": {
           "xaxis": {
            "backgroundcolor": "#E5ECF6",
            "gridcolor": "white",
            "gridwidth": 2,
            "linecolor": "white",
            "showbackground": true,
            "ticks": "",
            "zerolinecolor": "white"
           },
           "yaxis": {
            "backgroundcolor": "#E5ECF6",
            "gridcolor": "white",
            "gridwidth": 2,
            "linecolor": "white",
            "showbackground": true,
            "ticks": "",
            "zerolinecolor": "white"
           },
           "zaxis": {
            "backgroundcolor": "#E5ECF6",
            "gridcolor": "white",
            "gridwidth": 2,
            "linecolor": "white",
            "showbackground": true,
            "ticks": "",
            "zerolinecolor": "white"
           }
          },
          "shapedefaults": {
           "line": {
            "color": "#2a3f5f"
           }
          },
          "ternary": {
           "aaxis": {
            "gridcolor": "white",
            "linecolor": "white",
            "ticks": ""
           },
           "baxis": {
            "gridcolor": "white",
            "linecolor": "white",
            "ticks": ""
           },
           "bgcolor": "#E5ECF6",
           "caxis": {
            "gridcolor": "white",
            "linecolor": "white",
            "ticks": ""
           }
          },
          "title": {
           "x": 0.05
          },
          "xaxis": {
           "automargin": true,
           "gridcolor": "white",
           "linecolor": "white",
           "ticks": "",
           "title": {
            "standoff": 15
           },
           "zerolinecolor": "white",
           "zerolinewidth": 2
          },
          "yaxis": {
           "automargin": true,
           "gridcolor": "white",
           "linecolor": "white",
           "ticks": "",
           "title": {
            "standoff": 15
           },
           "zerolinecolor": "white",
           "zerolinewidth": 2
          }
         }
        },
        "title": {
         "text": "Box Select and Dropdown Example"
        },
        "updatemenus": [
         {
          "buttons": [
           {
            "args": [
             {
              "selectedpoints": [
               0
              ]
             }
            ],
            "label": "Mean",
            "method": "restyle"
           },
           {
            "args": [
             {
              "selectedpoints": [
               0
              ]
             }
            ],
            "label": "Median",
            "method": "restyle"
           }
          ],
          "direction": "down",
          "showactive": true
         }
        ],
        "xaxis": {
         "title": {
          "text": "X Axis Title"
         }
        },
        "yaxis": {
         "title": {
          "text": "Y Axis Title"
         }
        }
       }
      }
     },
     "metadata": {},
     "output_type": "display_data"
    }
   ],
   "source": [
    "import plotly.graph_objs as go\n",
    "from plotly.subplots import make_subplots\n",
    "\n",
    "# Create example data\n",
    "import numpy as np\n",
    "x = np.linspace(0, 2*np.pi, 100)\n",
    "y = np.sin(x)\n",
    "\n",
    "# Create scatter plot\n",
    "fig = go.Figure()\n",
    "fig.add_trace(go.Scatter(x=x, y=y, mode='markers'))\n",
    "\n",
    "# Add dropdown menu\n",
    "updatemenus = [{'buttons': [{'args': [{'selectedpoints': [0]}],\n",
    "                              'label': 'Mean',\n",
    "                              'method': 'restyle'},\n",
    "                             {'args': [{'selectedpoints': [0]}],\n",
    "                              'label': 'Median',\n",
    "                              'method': 'restyle'}],\n",
    "                'direction': 'down',\n",
    "                'showactive': True}]\n",
    "fig.update_layout(updatemenus=updatemenus)\n",
    "\n",
    "# Add box select event handler\n",
    "fig.add_layout_image(dict(\n",
    "    source=\"https://raw.githubusercontent.com/plotly/plotly.js/master/test/image/gitbook/images/lasso.png\",\n",
    "    xref=\"paper\", yref=\"paper\",\n",
    "    x=1.05, y=1.2,\n",
    "    sizex=0.2, sizey=0.2,\n",
    "    xanchor=\"right\", yanchor=\"bottom\"\n",
    "))\n",
    "\n",
    "fig.update_layout(\n",
    "    dragmode=\"select\",\n",
    "    annotations=[\n",
    "        dict(\n",
    "            text=\"Draw a box around the points to select\",\n",
    "            showarrow=False,\n",
    "            xref=\"paper\", yref=\"paper\",\n",
    "            x=0.5, y=1.1, font_size=16\n",
    "        )\n",
    "    ]\n",
    ")\n",
    "\n",
    "fig.update_layout(\n",
    "    xaxis_title=\"X Axis Title\",\n",
    "    yaxis_title=\"Y Axis Title\",\n",
    "    title=\"Box Select and Dropdown Example\"\n",
    ")\n",
    "\n",
    "# Define callback function for dropdown menu\n",
    "def update_fig(selection):\n",
    "    if selection == 'Mean':\n",
    "        fig.update_traces(marker=dict(color='red', size=10))\n",
    "        selected_points = fig.data[0].selectedpoints\n",
    "        if selected_points:\n",
    "            mean_value = np.mean(y[selected_points])\n",
    "            fig.add_annotation(text=f\"Mean: {mean_value:.2f}\", xref=\"paper\", yref=\"paper\",\n",
    "            x=0.8, y=0.9, showarrow=False, font_size=16)\n",
    "    elif selection == 'Median':\n",
    "        fig.update_traces(marker=dict(color='green', size=10))\n",
    "        selected_points = fig.data[0].selectedpoints\n",
    "        if selected_points:\n",
    "            median_value = np.median(y[selected_points])\n",
    "            fig.add_annotation(text=f\"Median: {median_value:.2f}\", xref=\"paper\", yref=\"paper\",\n",
    "            x=0.8, y=0.8, showarrow=False, font_size=16)\n",
    "\n",
    "# Set up callback for dropdown menu\n",
    "fig.for_each_trace(lambda trace: trace.on_selection(lambda x,y,trace=trace: update_fig('Mean')))\n",
    "\n",
    "fig.show()\n"
   ]
  },
  {
   "cell_type": "code",
   "execution_count": 2,
   "metadata": {},
   "outputs": [
    {
     "ename": "ValueError",
     "evalue": "Invalid property specification(s): ['selectedpoints']",
     "output_type": "error",
     "traceback": [
      "\u001b[1;31m---------------------------------------------------------------------------\u001b[0m",
      "\u001b[1;31mValueError\u001b[0m                                Traceback (most recent call last)",
      "Cell \u001b[1;32mIn[2], line 29\u001b[0m\n\u001b[0;32m     26\u001b[0m     display(dropdown)\n\u001b[0;32m     28\u001b[0m \u001b[39m# Add event handler function to the plotly plot\u001b[39;00m\n\u001b[1;32m---> 29\u001b[0m fig\u001b[39m.\u001b[39;49mlayout\u001b[39m.\u001b[39;49mon_change(handle_selection, \u001b[39m'\u001b[39;49m\u001b[39mselectedpoints\u001b[39;49m\u001b[39m'\u001b[39;49m)\n\u001b[0;32m     31\u001b[0m \u001b[39m# Create a button to clear the selection and hide the dropdown menu\u001b[39;00m\n\u001b[0;32m     32\u001b[0m button \u001b[39m=\u001b[39m Button(description\u001b[39m=\u001b[39m\u001b[39m'\u001b[39m\u001b[39mClear Selection\u001b[39m\u001b[39m'\u001b[39m)\n",
      "File \u001b[1;32mc:\\lia-outlier-detection\\venv\\Lib\\site-packages\\plotly\\basedatatypes.py:5553\u001b[0m, in \u001b[0;36mBasePlotlyType.on_change\u001b[1;34m(self, callback, *args, **kwargs)\u001b[0m\n\u001b[0;32m   5551\u001b[0m invalid_args \u001b[39m=\u001b[39m [arg \u001b[39mfor\u001b[39;00m arg \u001b[39min\u001b[39;00m args \u001b[39mif\u001b[39;00m arg \u001b[39mnot\u001b[39;00m \u001b[39min\u001b[39;00m \u001b[39mself\u001b[39m]\n\u001b[0;32m   5552\u001b[0m \u001b[39mif\u001b[39;00m invalid_args:\n\u001b[1;32m-> 5553\u001b[0m     \u001b[39mraise\u001b[39;00m \u001b[39mValueError\u001b[39;00m(\u001b[39m\"\u001b[39m\u001b[39mInvalid property specification(s): \u001b[39m\u001b[39m%s\u001b[39;00m\u001b[39m\"\u001b[39m \u001b[39m%\u001b[39m invalid_args)\n\u001b[0;32m   5555\u001b[0m \u001b[39m# Process append option\u001b[39;00m\n\u001b[0;32m   5556\u001b[0m \u001b[39m# ---------------------\u001b[39;00m\n\u001b[0;32m   5557\u001b[0m append \u001b[39m=\u001b[39m kwargs\u001b[39m.\u001b[39mget(\u001b[39m\"\u001b[39m\u001b[39mappend\u001b[39m\u001b[39m\"\u001b[39m, \u001b[39mFalse\u001b[39;00m)\n",
      "\u001b[1;31mValueError\u001b[0m: Invalid property specification(s): ['selectedpoints']"
     ]
    }
   ],
   "source": [
    "import plotly.graph_objs as go\n",
    "from ipywidgets import Button, Dropdown\n",
    "from IPython.display import display\n",
    "\n",
    "# Create example data\n",
    "x = [1, 2, 3, 4, 5]\n",
    "y = [10, 20, 30, 40, 50]\n",
    "\n",
    "# Create plotly plot with box select enabled\n",
    "trace = go.Scatter(x=x, y=y, mode='markers')\n",
    "layout = go.Layout(title='Selected Points', xaxis=dict(range=[0, 6]), yaxis=dict(range=[0, 60]), dragmode='select')\n",
    "fig = go.Figure(data=[trace], layout=layout)\n",
    "\n",
    "# Define event handler function to display dropdown menu\n",
    "def handle_selection(event):\n",
    "    if event is None or len(event) == 0:\n",
    "        return\n",
    "    \n",
    "    # Create the dropdown menu with the selected values\n",
    "    dropdown_options = [\n",
    "        {'label': 'Mean', 'value': 'mean'},\n",
    "        {'label': 'Max', 'value': 'max'},\n",
    "        {'label': 'Min', 'value': 'min'},\n",
    "    ]\n",
    "    dropdown = Dropdown(options=dropdown_options, description='Select an operation')\n",
    "    display(dropdown)\n",
    "    \n",
    "# Add event handler function to the plotly plot\n",
    "fig.layout.on_change(handle_selection, 'selectedpoints')\n",
    "\n",
    "# Create a button to clear the selection and hide the dropdown menu\n",
    "button = Button(description='Clear Selection')\n",
    "button.on_click(lambda _: dropdown.close() if 'dropdown' in globals() else None)\n",
    "display(fig, button)\n",
    "\n",
    "\n"
   ]
  },
  {
   "cell_type": "code",
   "execution_count": 5,
   "metadata": {},
   "outputs": [
    {
     "data": {
      "text/html": [
       "<div>\n",
       "<style scoped>\n",
       "    .dataframe tbody tr th:only-of-type {\n",
       "        vertical-align: middle;\n",
       "    }\n",
       "\n",
       "    .dataframe tbody tr th {\n",
       "        vertical-align: top;\n",
       "    }\n",
       "\n",
       "    .dataframe thead th {\n",
       "        text-align: right;\n",
       "    }\n",
       "</style>\n",
       "<table border=\"1\" class=\"dataframe\">\n",
       "  <thead>\n",
       "    <tr style=\"text-align: right;\">\n",
       "      <th></th>\n",
       "      <th>Asset name;\"NU4202 Naset\"</th>\n",
       "    </tr>\n",
       "  </thead>\n",
       "  <tbody>\n",
       "    <tr>\n",
       "      <th>Exported on;\"8 March 2023</th>\n",
       "      <td>12:51:59\"</td>\n",
       "    </tr>\n",
       "    <tr>\n",
       "      <th>Timezone;\"UTC +1\"</th>\n",
       "      <td>NaN</td>\n",
       "    </tr>\n",
       "    <tr>\n",
       "      <th>Date/Time;\"Water level</th>\n",
       "      <td>Nap (cm)\"</td>\n",
       "    </tr>\n",
       "    <tr>\n",
       "      <th>2022-03-08 00:00:04;24</th>\n",
       "      <td>NaN</td>\n",
       "    </tr>\n",
       "    <tr>\n",
       "      <th>2022-03-08 00:30:00;24</th>\n",
       "      <td>NaN</td>\n",
       "    </tr>\n",
       "    <tr>\n",
       "      <th>...</th>\n",
       "      <td>...</td>\n",
       "    </tr>\n",
       "    <tr>\n",
       "      <th>2023-03-07 23:00:00;26</th>\n",
       "      <td>NaN</td>\n",
       "    </tr>\n",
       "    <tr>\n",
       "      <th>2023-03-07 23:30:00;25</th>\n",
       "      <td>NaN</td>\n",
       "    </tr>\n",
       "    <tr>\n",
       "      <th>2023-03-08 00:00:04;25</th>\n",
       "      <td>NaN</td>\n",
       "    </tr>\n",
       "    <tr>\n",
       "      <th>2023-03-08 00:30:00;25</th>\n",
       "      <td>NaN</td>\n",
       "    </tr>\n",
       "    <tr>\n",
       "      <th>2023-03-08 01:00:00;23</th>\n",
       "      <td>NaN</td>\n",
       "    </tr>\n",
       "  </tbody>\n",
       "</table>\n",
       "<p>17526 rows × 1 columns</p>\n",
       "</div>"
      ],
      "text/plain": [
       "                          Asset name;\"NU4202 Naset\"\n",
       "Exported on;\"8 March 2023                 12:51:59\"\n",
       "Timezone;\"UTC +1\"                               NaN\n",
       "Date/Time;\"Water level                    Nap (cm)\"\n",
       "2022-03-08 00:00:04;24                          NaN\n",
       "2022-03-08 00:30:00;24                          NaN\n",
       "...                                             ...\n",
       "2023-03-07 23:00:00;26                          NaN\n",
       "2023-03-07 23:30:00;25                          NaN\n",
       "2023-03-08 00:00:04;25                          NaN\n",
       "2023-03-08 00:30:00;25                          NaN\n",
       "2023-03-08 01:00:00;23                          NaN\n",
       "\n",
       "[17526 rows x 1 columns]"
      ]
     },
     "execution_count": 5,
     "metadata": {},
     "output_type": "execute_result"
    }
   ],
   "source": [
    "glen_1 = pd.read_csv(\"data/asset-data-export_O12QnL6kAl-640876dfe5066-1678276319.csv\")\n",
    "glen_1"
   ]
  },
  {
   "cell_type": "code",
   "execution_count": 6,
   "metadata": {},
   "outputs": [
    {
     "data": {
      "text/html": [
       "<div>\n",
       "<style scoped>\n",
       "    .dataframe tbody tr th:only-of-type {\n",
       "        vertical-align: middle;\n",
       "    }\n",
       "\n",
       "    .dataframe tbody tr th {\n",
       "        vertical-align: top;\n",
       "    }\n",
       "\n",
       "    .dataframe thead th {\n",
       "        text-align: right;\n",
       "    }\n",
       "</style>\n",
       "<table border=\"1\" class=\"dataframe\">\n",
       "  <thead>\n",
       "    <tr style=\"text-align: right;\">\n",
       "      <th></th>\n",
       "      <th>Asset name;NU4201 Spektrumgatan</th>\n",
       "    </tr>\n",
       "  </thead>\n",
       "  <tbody>\n",
       "    <tr>\n",
       "      <th>Exported on;9 March 2023</th>\n",
       "      <td>08:37:32</td>\n",
       "    </tr>\n",
       "    <tr>\n",
       "      <th>Timezone;UTC +1</th>\n",
       "      <td>NaN</td>\n",
       "    </tr>\n",
       "    <tr>\n",
       "      <th>;</th>\n",
       "      <td>NaN</td>\n",
       "    </tr>\n",
       "    <tr>\n",
       "      <th>Date/Time;Water level</th>\n",
       "      <td>Nap (cm)</td>\n",
       "    </tr>\n",
       "    <tr>\n",
       "      <th>2022-03-09 00:00;5</th>\n",
       "      <td>NaN</td>\n",
       "    </tr>\n",
       "    <tr>\n",
       "      <th>...</th>\n",
       "      <td>...</td>\n",
       "    </tr>\n",
       "    <tr>\n",
       "      <th>2023-03-08 23:00;1</th>\n",
       "      <td>NaN</td>\n",
       "    </tr>\n",
       "    <tr>\n",
       "      <th>2023-03-08 23:30;1</th>\n",
       "      <td>NaN</td>\n",
       "    </tr>\n",
       "    <tr>\n",
       "      <th>2023-03-09 00:00;1</th>\n",
       "      <td>NaN</td>\n",
       "    </tr>\n",
       "    <tr>\n",
       "      <th>2023-03-09 00:30;1</th>\n",
       "      <td>NaN</td>\n",
       "    </tr>\n",
       "    <tr>\n",
       "      <th>2023-03-09 01:00;1</th>\n",
       "      <td>NaN</td>\n",
       "    </tr>\n",
       "  </tbody>\n",
       "</table>\n",
       "<p>17527 rows × 1 columns</p>\n",
       "</div>"
      ],
      "text/plain": [
       "                         Asset name;NU4201 Spektrumgatan\n",
       "Exported on;9 March 2023                        08:37:32\n",
       "Timezone;UTC +1                                      NaN\n",
       ";                                                    NaN\n",
       "Date/Time;Water level                           Nap (cm)\n",
       "2022-03-09 00:00;5                                   NaN\n",
       "...                                                  ...\n",
       "2023-03-08 23:00;1                                   NaN\n",
       "2023-03-08 23:30;1                                   NaN\n",
       "2023-03-09 00:00;1                                   NaN\n",
       "2023-03-09 00:30;1                                   NaN\n",
       "2023-03-09 01:00;1                                   NaN\n",
       "\n",
       "[17527 rows x 1 columns]"
      ]
     },
     "execution_count": 6,
     "metadata": {},
     "output_type": "execute_result"
    }
   ],
   "source": [
    "glen_2 = pd.read_csv(\"data/asset-data-export_Zga3AM63oO-64098cbc36e23-1678347452.csv\")\n",
    "glen_2"
   ]
  },
  {
   "cell_type": "code",
   "execution_count": 12,
   "metadata": {},
   "outputs": [
    {
     "data": {
      "text/html": [
       "<div>\n",
       "<style scoped>\n",
       "    .dataframe tbody tr th:only-of-type {\n",
       "        vertical-align: middle;\n",
       "    }\n",
       "\n",
       "    .dataframe tbody tr th {\n",
       "        vertical-align: top;\n",
       "    }\n",
       "\n",
       "    .dataframe thead th {\n",
       "        text-align: right;\n",
       "    }\n",
       "</style>\n",
       "<table border=\"1\" class=\"dataframe\">\n",
       "  <thead>\n",
       "    <tr style=\"text-align: right;\">\n",
       "      <th></th>\n",
       "      <th>Asset name;NU3328 Strandvägen</th>\n",
       "    </tr>\n",
       "  </thead>\n",
       "  <tbody>\n",
       "    <tr>\n",
       "      <th>Exported on;9 March 2023</th>\n",
       "      <td>08:39:05</td>\n",
       "    </tr>\n",
       "    <tr>\n",
       "      <th>Timezone;UTC +1</th>\n",
       "      <td>NaN</td>\n",
       "    </tr>\n",
       "    <tr>\n",
       "      <th>;</th>\n",
       "      <td>NaN</td>\n",
       "    </tr>\n",
       "    <tr>\n",
       "      <th>Date/Time;Water level</th>\n",
       "      <td>Nap (cm)</td>\n",
       "    </tr>\n",
       "    <tr>\n",
       "      <th>2022-04-22 12:47;11</th>\n",
       "      <td>NaN</td>\n",
       "    </tr>\n",
       "  </tbody>\n",
       "</table>\n",
       "</div>"
      ],
      "text/plain": [
       "                         Asset name;NU3328 Strandvägen\n",
       "Exported on;9 March 2023                      08:39:05\n",
       "Timezone;UTC +1                                    NaN\n",
       ";                                                  NaN\n",
       "Date/Time;Water level                         Nap (cm)\n",
       "2022-04-22 12:47;11                                NaN"
      ]
     },
     "execution_count": 12,
     "metadata": {},
     "output_type": "execute_result"
    }
   ],
   "source": [
    "glen_3 = pd.read_csv(\"data/asset-data-export_vEm3Jd5916-64098d190a5ca-1678347545.csv\")\n",
    "glen_3.head()"
   ]
  },
  {
   "cell_type": "code",
   "execution_count": null,
   "metadata": {},
   "outputs": [],
   "source": []
  }
 ],
 "metadata": {
  "kernelspec": {
   "display_name": "venv",
   "language": "python",
   "name": "python3"
  },
  "language_info": {
   "codemirror_mode": {
    "name": "ipython",
    "version": 3
   },
   "file_extension": ".py",
   "mimetype": "text/x-python",
   "name": "python",
   "nbconvert_exporter": "python",
   "pygments_lexer": "ipython3",
   "version": "3.11.2"
  },
  "orig_nbformat": 4,
  "vscode": {
   "interpreter": {
    "hash": "80012d8e32ffc63016233ad2f4a2a527f20cadf1ddc05e8297dcaeb58aebe3af"
   }
  }
 },
 "nbformat": 4,
 "nbformat_minor": 2
}
