{
 "cells": [
  {
   "cell_type": "code",
   "execution_count": 108,
   "metadata": {},
   "outputs": [],
   "source": [
    "#!/usr/bin/env python\n",
    "# coding: utf-8\n",
    "\n",
    "import sys\n",
    "import os\n",
    "import matplotlib.pyplot as plt\n",
    "import glob\n",
    "\n",
    "from datetime import datetime\n",
    "from datetime import timedelta\n",
    "from plotly.subplots import make_subplots\n",
    "import plotly.graph_objs as go\n",
    "from ipywidgets import interactive, HBox, VBox\n",
    "# import keras\n",
    "import pandas as pd\n",
    "import numpy as np\n",
    "import random\n",
    "from dash import Dash, dcc, html, Input, Output\n",
    "import plotly.express as px\n",
    "from functools import partial\n",
    "\n",
    "class interactive_data_chooser:\n",
    "    \"\"\"\n",
    "    Class for selecting data graphically and displaying it\n",
    "    \"\"\"\n",
    "    def __init__(self, df, columns):\n",
    "        # we don't need this dataframe, make a df_copy instead?\n",
    "        self.outlier_df = pd.DataFrame()\n",
    "\n",
    "        # self.df = df\n",
    "        self.df_copy = df.copy()\n",
    "        self.columns = columns\n",
    "        self.df_copy[\"manual_outlier\"] = -1\n",
    "        self.df_copy[\"model_outlier\"] = 0\n",
    "\n",
    "        self.axis_dropdowns = None\n",
    "        self.chosen_color_column = self.df_copy[\"manual_outlier\"]\n",
    "    \n",
    "    def activate_plot(self):\n",
    "        \"\"\"\n",
    "        Display interactive plot where images (data points in the plot)\n",
    "        can be selected using box select or lasso select. \n",
    "        \"\"\"\n",
    "        # TODO: cmin and cmax depending on chosen_color_column (manual_outlier will always be -1 to 1) \n",
    "        self.df_copy.reset_index(inplace=True,drop=True)\n",
    "        numeric_df = self.df_copy.select_dtypes(include=np.number)\n",
    "        numeric_columns = numeric_df.columns\n",
    "        self.f = go.FigureWidget([go.Scatter(y = self.df_copy[self.columns[0]], x = self.df_copy[self.columns[1]], mode = 'markers',\n",
    "                                       selected_marker_color = \"red\", \n",
    "                                             marker=dict(color=numeric_df[numeric_columns[0]], \n",
    "                                                        colorbar=dict(thickness=10), colorscale=[\"blue\", \"green\", \"orange\"]))])\n",
    "        \n",
    "        scatter = self.f.data[0]\n",
    "        scatter.marker.opacity = 0.5\n",
    "        \n",
    "        self.axis_dropdowns = interactive(self.update_axes, yaxis = self.columns, xaxis = self.columns, color = numeric_columns)\n",
    "        # fig.for_each_trace(lambda trace: trace.on_selection(on_selection))\n",
    "        scatter.on_selection(self.selection_fn)\n",
    "        \n",
    "        # Put everything together\n",
    "        return VBox((HBox(self.axis_dropdowns.children),self.f))\n",
    "    \n",
    "    def update_axes(self, xaxis, yaxis,color):\n",
    "        scatter = self.f.data[0]\n",
    "        scatter.x = self.df_copy[xaxis]\n",
    "        scatter.y = self.df_copy[yaxis]\n",
    "        scatter.marker.color = self.df_copy[color]\n",
    "        with self.f.batch_update():\n",
    "            self.f.layout.xaxis.title = xaxis\n",
    "            self.f.layout.yaxis.title = yaxis\n",
    "\n",
    "    # def multiply_rows(row): Use this solution instead of iterrows\n",
    "        # return row['column1'] * row['column2']\n",
    "\n",
    "        # my_df['multiplied'] = my_df.apply(multiply_rows,axis=1)\n",
    "\n",
    "    def update_temp_df_last_sel(self, row, last_selected):\n",
    "        row[\"last_selected\"] = last_selected\n",
    "        return row\n",
    "    \n",
    "    def update_temp_df_man_ol(self, row):\n",
    "        row[\"manual_outlier\"] = 1 if self.df_copy.at[row[0], \"manual_outlier\"] != 1 else 0\n",
    "        return row\n",
    "    \n",
    "    def update_df(self, row):\n",
    "        row[\"manual_outlier\"] = 1 if self.df_copy.at[row[0], \"manual_outlier\"] != 1 else 0\n",
    "        return row\n",
    "    \n",
    "    def get_manual_outlier(row):\n",
    "        return row\n",
    "    \n",
    "    def update_markers(self, trace, points, selector):  # Skip this?\n",
    "        print(\"Inside update_markers()\")\n",
    "        marker = dict(symbol=[\"circle\", \"x\", \"triangle-up\"],\n",
    "                      symbolsrc=\"self.chosen_color_column\")\n",
    "        print(\"Before trace.marker.selected = marker\")\n",
    "        # trace.marker.selected = marker\n",
    "        print(f\"points_inds: {points.point_inds}\")\n",
    "        print(f\"selector: {selector}\")\n",
    "        print(f\"trace: {trace}\")\n",
    "        #trace.marker.symbol = \n",
    "        print(\"After trace.marker.selected = marker\")\n",
    "        # print(f\"trace.marker.selected: {trace.marker.selected}\")\n",
    "\n",
    "    def map_colors_to_symbols(self, colors):\n",
    "        symbols = []\n",
    "        for color in colors:\n",
    "            if color == 1:\n",
    "                symbols.append(\"x\")\n",
    "            if color == 0:\n",
    "                symbols.append(\"triangle-up\")\n",
    "            else:\n",
    "                symbols.append(\"circle\")\n",
    "        return symbols\n",
    "        \n",
    "\n",
    "    def selection_fn(self,trace,points,selector):\n",
    "        \"\"\"\n",
    "        Keeping track of points manually selected and change values in column [\"manual_outlier\"].\n",
    "        Value for points not manually selected is -1. If selected to be an outlier, value is set to 1.\n",
    "        If selected again not to be an outlier, value is set to 0. Previous value is stored for future \n",
    "        possibility to undo selection. \n",
    "\n",
    "        Each selection is stored in a temp_df and all temp_df's are stored in self.outlier_df.\n",
    "        The dataframe drop_duplicates_df is the df which will be used to train the model, where only \n",
    "        the last manually made change to a data point is included. \n",
    "\n",
    "        The plot is updated after selection.\n",
    "        \"\"\"\n",
    "        temp_df = self.df_copy.loc[points.point_inds]\n",
    "        \n",
    "        last_selected = len(temp_df)\n",
    "        \n",
    "        # my_df['multiplied'] = my_df.apply(multiply_rows,axis=1)\n",
    "        # The method needs a variable, what to do?\n",
    "        # temp_df[\"last_selected\"] = temp_df.apply(self.update_temp_df_last_sel, axis=1)\n",
    "        for i in temp_df.iterrows():\n",
    "            idx = i[0]\n",
    "            temp_df.at[idx, \"last_selected\"] = last_selected\n",
    "            # This is needed for keeping track of the changes\n",
    "            temp_df.at[idx, \"manual_outlier\"] = 1 if self.df_copy.at[idx, \"manual_outlier\"] != 1 else 0\n",
    "            # This is needed for displaying values in the plot\n",
    "            self.df_copy.at[idx, \"manual_outlier\"] = 1 if self.df_copy.at[idx, \"manual_outlier\"] != 1 else 0\n",
    "\n",
    "        self.outlier_df = pd.concat([self.outlier_df, temp_df], ignore_index=False, axis=0)\n",
    "\n",
    "        no_points = \"point\" if last_selected == 1 else \"points\"\n",
    "        print(f\"Selected {last_selected} new {no_points}. Total: {len(self.outlier_df)}\")\n",
    "\n",
    "        # Drop duplicates\n",
    "        drop_duplicates_df = self.outlier_df.drop_duplicates(subset=[\"x\", \"y1\"], keep=\"last\")\n",
    "        drop_duplicates_df.sort_values(by=[\"x\"], inplace=True)\n",
    "        print(f\"Unique points selected ({len(drop_duplicates_df)}):\")\n",
    "        for i in drop_duplicates_df.iterrows():\n",
    "            outlier = \"yes\" if i[1][3] == 1 else \"no\"\n",
    "            print(f\"x: {int(i[1][0])}, y1: {int(i[1][1])}, outlier: {outlier}\")\n",
    "\n",
    "        self.chosen_color_column = self.axis_dropdowns.children[2].value\n",
    "        # Which indices are chosen?\n",
    "        # Change marker symbol after select\n",
    "        selected_indices = [p for p in temp_df.index.values]\n",
    "        \"\"\" self.f.data[0].marker.symbolsrc=\"self.chosen_color_column\"\n",
    "        self.f.data[0].marker.symbol=[\"circle\", \"x\", \"triangle-up\"] \"\"\"\n",
    "\n",
    "        print(\"Before on_selection\")\n",
    "        # print(self.f.data[0])\n",
    "        # callback = partial(self.update_markers)\n",
    "        # self.f.data[0].on_selection(callback)\n",
    "        # trace.marker.symbolsrc = \"trace.marker.color\"\n",
    "        # trace.marker.symbol = [\"circle\", \"x\", \"triangle-up\"]\n",
    "        # self.f.data[0].on_selection(lambda self, trace: self.update_markers(self, trace))\n",
    "        print(f\"trace: {trace}\")\n",
    "        print(\"After on_selection\")\n",
    "        print(f\"points: {points}\")\n",
    "        selected_points = [point for point in points.point_inds]\n",
    "        symbols = self.map_colors_to_symbols(self.df_copy.loc[selected_points], \"manual_outlier\")\n",
    "        self.f.update_traces(marker=dict(symbol=symbols, selector=dict(type=\"scatter\")))\n",
    "        \n",
    "        \n",
    "        # print(f\"selected_indices: {selected_indices}\")\n",
    "        # print(f\"temp_df: {temp_df}\")\n",
    "        # print(f\"df_copy: {self.df_copy}\")\n",
    "        # Do I need selected points? And if so, how do I link them to df_copy? selectedpoints=selected_indices,\n",
    "        \"\"\" self.f.update_traces(\n",
    "                            marker=dict(symbol=[{\"-1\": \"circle\", \"0\": \"triangle-up\", \"1\": \"x\"}[label] for label in self.df_copy[self.chosen_color_column]])\n",
    "        ) \"\"\"\n",
    "        \"\"\" self.f.update_traces(selectedpoints=selected_indices,\n",
    "                            marker=dict(\n",
    "                            symbol=[self.df_copy.loc[i, self.chosen_color_column] for i in selected_indices])\n",
    "        ) \"\"\"\n",
    "    \n",
    "\n",
    "        # Update color\n",
    "        # trace.update(marker_color=self.df_copy[self.chosen_color_column])\n",
    "        # print(self.f)\n",
    "        # for i in trace.selectedpoints:\n",
    "            # self.f.for_each_trace(\n",
    "                # lambda trace: trace.update(marker_symbol=\"square\") if trace.marker.color[i] == 1 else ())\n",
    "\n",
    "    def clear_selection(self):\n",
    "        self.outlier_df = self.outlier_df.iloc[0:0]\n",
    "    \n",
    "    def show_selected(self):\n",
    "        for index, row in self.outlier_df.iterrows():\n",
    "            plt.figure()\n",
    "            plt.imshow(plt.imread(row['file']))\n",
    "            plt.title(f\"{row['time']}, wl: {row['wl']}, turb_s: {row['turb_sensor']}, turb_p: {row['turb_post']}\")\n",
    "\n",
    "    # create train model function based on outlier status in self.df\n",
    "\n",
    "    # visualize result in graph\n",
    "\n",
    "    # function to mark point as non-outlier DONE\n",
    "\n",
    "    # button to undo choice\n",
    "\n",
    "    # button to confirm (then train model), disable if not choosen areas == 1\n",
    "\n"
   ]
  },
  {
   "cell_type": "code",
   "execution_count": 109,
   "metadata": {},
   "outputs": [
    {
     "data": {
      "application/vnd.jupyter.widget-view+json": {
       "model_id": "10dc63c243064349b6e8256260e67667",
       "version_major": 2,
       "version_minor": 0
      },
      "text/plain": [
       "VBox(children=(HBox(children=(Dropdown(description='xaxis', options=('x', 'y1', 'y2'), value='x'), Dropdown(de…"
      ]
     },
     "execution_count": 109,
     "metadata": {},
     "output_type": "execute_result"
    },
    {
     "name": "stdout",
     "output_type": "stream",
     "text": [
      "Selected 2 new points. Total: 2\n",
      "Unique points selected (2):\n",
      "x: 53, y1: 99, outlier: yes\n",
      "x: 58, y1: 76, outlier: yes\n",
      "Before on_selection\n",
      "trace: Scatter({\n",
      "    'marker': {'color': array([-1, -1, -1, -1, -1, -1, -1, -1, -1, -1, -1, -1, -1, -1, -1], dtype=int64),\n",
      "               'colorbar': {'thickness': 10},\n",
      "               'colorscale': [[0.0, 'blue'], [0.5, 'green'], [1.0, 'orange']],\n",
      "               'opacity': 0.5},\n",
      "    'mode': 'markers',\n",
      "    'selected': {'marker': {'color': 'red'}},\n",
      "    'selectedpoints': [0, 7],\n",
      "    'uid': 'd4f68c53-e083-4146-b361-41e3d3cc868b',\n",
      "    'x': array([53, 77, 21,  5, 93, 83,  0, 58, 22, 34, 13, 19, 82, 86, 66], dtype=int64),\n",
      "    'y': array([99, 79, 78, 46, 91, 16, 13, 76, 98, 39, 90, 66, 28,  4,  2], dtype=int64)\n",
      "})\n",
      "After on_selection\n",
      "points: Points(point_inds=[0, 7],\n",
      "       xs=[53, 58],\n",
      "       ys=[99, 76],\n",
      "       trace_name='trace 0',\n",
      "       trace_index=0)\n"
     ]
    },
    {
     "ename": "TypeError",
     "evalue": "interactive_data_chooser.map_colors_to_symbols() takes 2 positional arguments but 3 were given",
     "output_type": "error",
     "traceback": [
      "\u001b[1;31m---------------------------------------------------------------------------\u001b[0m",
      "\u001b[1;31mTypeError\u001b[0m                                 Traceback (most recent call last)",
      "File \u001b[1;32mc:\\lia-outlier-detection\\venv\\Lib\\site-packages\\ipywidgets\\widgets\\widget.py:766\u001b[0m, in \u001b[0;36mWidget._handle_msg\u001b[1;34m(self, msg)\u001b[0m\n\u001b[0;32m    764\u001b[0m         \u001b[39mif\u001b[39;00m \u001b[39m'\u001b[39m\u001b[39mbuffer_paths\u001b[39m\u001b[39m'\u001b[39m \u001b[39min\u001b[39;00m data:\n\u001b[0;32m    765\u001b[0m             _put_buffers(state, data[\u001b[39m'\u001b[39m\u001b[39mbuffer_paths\u001b[39m\u001b[39m'\u001b[39m], msg[\u001b[39m'\u001b[39m\u001b[39mbuffers\u001b[39m\u001b[39m'\u001b[39m])\n\u001b[1;32m--> 766\u001b[0m         \u001b[39mself\u001b[39;49m\u001b[39m.\u001b[39;49mset_state(state)\n\u001b[0;32m    768\u001b[0m \u001b[39m# Handle a state request.\u001b[39;00m\n\u001b[0;32m    769\u001b[0m \u001b[39melif\u001b[39;00m method \u001b[39m==\u001b[39m \u001b[39m'\u001b[39m\u001b[39mrequest_state\u001b[39m\u001b[39m'\u001b[39m:\n",
      "File \u001b[1;32mc:\\lia-outlier-detection\\venv\\Lib\\site-packages\\ipywidgets\\widgets\\widget.py:643\u001b[0m, in \u001b[0;36mWidget.set_state\u001b[1;34m(self, sync_data)\u001b[0m\n\u001b[0;32m    638\u001b[0m         \u001b[39mself\u001b[39m\u001b[39m.\u001b[39m_send(msg, buffers\u001b[39m=\u001b[39mecho_buffers)\n\u001b[0;32m    640\u001b[0m \u001b[39m# The order of these context managers is important. Properties must\u001b[39;00m\n\u001b[0;32m    641\u001b[0m \u001b[39m# be locked when the hold_trait_notification context manager is\u001b[39;00m\n\u001b[0;32m    642\u001b[0m \u001b[39m# released and notifications are fired.\u001b[39;00m\n\u001b[1;32m--> 643\u001b[0m \u001b[39mwith\u001b[39;49;00m \u001b[39mself\u001b[39;49m\u001b[39m.\u001b[39;49m_lock_property(\u001b[39m*\u001b[39;49m\u001b[39m*\u001b[39;49msync_data), \u001b[39mself\u001b[39;49m\u001b[39m.\u001b[39;49mhold_trait_notifications():\n\u001b[0;32m    644\u001b[0m     \u001b[39mfor\u001b[39;49;00m name \u001b[39min\u001b[39;49;00m sync_data:\n\u001b[0;32m    645\u001b[0m         \u001b[39mif\u001b[39;49;00m name \u001b[39min\u001b[39;49;00m \u001b[39mself\u001b[39;49m\u001b[39m.\u001b[39;49mkeys:\n",
      "File \u001b[1;32m~\\AppData\\Local\\Programs\\Python\\Python311\\Lib\\contextlib.py:144\u001b[0m, in \u001b[0;36m_GeneratorContextManager.__exit__\u001b[1;34m(self, typ, value, traceback)\u001b[0m\n\u001b[0;32m    142\u001b[0m \u001b[39mif\u001b[39;00m typ \u001b[39mis\u001b[39;00m \u001b[39mNone\u001b[39;00m:\n\u001b[0;32m    143\u001b[0m     \u001b[39mtry\u001b[39;00m:\n\u001b[1;32m--> 144\u001b[0m         \u001b[39mnext\u001b[39m(\u001b[39mself\u001b[39m\u001b[39m.\u001b[39mgen)\n\u001b[0;32m    145\u001b[0m     \u001b[39mexcept\u001b[39;00m \u001b[39mStopIteration\u001b[39;00m:\n\u001b[0;32m    146\u001b[0m         \u001b[39mreturn\u001b[39;00m \u001b[39mFalse\u001b[39;00m\n",
      "File \u001b[1;32mc:\\lia-outlier-detection\\venv\\Lib\\site-packages\\traitlets\\traitlets.py:1502\u001b[0m, in \u001b[0;36mHasTraits.hold_trait_notifications\u001b[1;34m(self)\u001b[0m\n\u001b[0;32m   1500\u001b[0m \u001b[39mfor\u001b[39;00m changes \u001b[39min\u001b[39;00m cache\u001b[39m.\u001b[39mvalues():\n\u001b[0;32m   1501\u001b[0m     \u001b[39mfor\u001b[39;00m change \u001b[39min\u001b[39;00m changes:\n\u001b[1;32m-> 1502\u001b[0m         \u001b[39mself\u001b[39;49m\u001b[39m.\u001b[39;49mnotify_change(change)\n",
      "File \u001b[1;32mc:\\lia-outlier-detection\\venv\\Lib\\site-packages\\ipywidgets\\widgets\\widget.py:694\u001b[0m, in \u001b[0;36mWidget.notify_change\u001b[1;34m(self, change)\u001b[0m\n\u001b[0;32m    691\u001b[0m     \u001b[39mif\u001b[39;00m name \u001b[39min\u001b[39;00m \u001b[39mself\u001b[39m\u001b[39m.\u001b[39mkeys \u001b[39mand\u001b[39;00m \u001b[39mself\u001b[39m\u001b[39m.\u001b[39m_should_send_property(name, \u001b[39mgetattr\u001b[39m(\u001b[39mself\u001b[39m, name)):\n\u001b[0;32m    692\u001b[0m         \u001b[39m# Send new state to front-end\u001b[39;00m\n\u001b[0;32m    693\u001b[0m         \u001b[39mself\u001b[39m\u001b[39m.\u001b[39msend_state(key\u001b[39m=\u001b[39mname)\n\u001b[1;32m--> 694\u001b[0m \u001b[39msuper\u001b[39;49m()\u001b[39m.\u001b[39;49mnotify_change(change)\n",
      "File \u001b[1;32mc:\\lia-outlier-detection\\venv\\Lib\\site-packages\\traitlets\\traitlets.py:1517\u001b[0m, in \u001b[0;36mHasTraits.notify_change\u001b[1;34m(self, change)\u001b[0m\n\u001b[0;32m   1515\u001b[0m \u001b[39mdef\u001b[39;00m \u001b[39mnotify_change\u001b[39m(\u001b[39mself\u001b[39m, change):\n\u001b[0;32m   1516\u001b[0m \u001b[39m    \u001b[39m\u001b[39m\"\"\"Notify observers of a change event\"\"\"\u001b[39;00m\n\u001b[1;32m-> 1517\u001b[0m     \u001b[39mreturn\u001b[39;00m \u001b[39mself\u001b[39;49m\u001b[39m.\u001b[39;49m_notify_observers(change)\n",
      "File \u001b[1;32mc:\\lia-outlier-detection\\venv\\Lib\\site-packages\\traitlets\\traitlets.py:1564\u001b[0m, in \u001b[0;36mHasTraits._notify_observers\u001b[1;34m(self, event)\u001b[0m\n\u001b[0;32m   1561\u001b[0m \u001b[39melif\u001b[39;00m \u001b[39misinstance\u001b[39m(c, EventHandler) \u001b[39mand\u001b[39;00m c\u001b[39m.\u001b[39mname \u001b[39mis\u001b[39;00m \u001b[39mnot\u001b[39;00m \u001b[39mNone\u001b[39;00m:\n\u001b[0;32m   1562\u001b[0m     c \u001b[39m=\u001b[39m \u001b[39mgetattr\u001b[39m(\u001b[39mself\u001b[39m, c\u001b[39m.\u001b[39mname)\n\u001b[1;32m-> 1564\u001b[0m c(event)\n",
      "File \u001b[1;32mc:\\lia-outlier-detection\\venv\\Lib\\site-packages\\plotly\\basewidget.py:728\u001b[0m, in \u001b[0;36mBaseFigureWidget._handler_js2py_pointsCallback\u001b[1;34m(self, change)\u001b[0m\n\u001b[0;32m    726\u001b[0m     trace\u001b[39m.\u001b[39m_dispatch_on_unhover(points, state)\n\u001b[0;32m    727\u001b[0m \u001b[39melif\u001b[39;00m event_type \u001b[39m==\u001b[39m \u001b[39m\"\u001b[39m\u001b[39mplotly_selected\u001b[39m\u001b[39m\"\u001b[39m:\n\u001b[1;32m--> 728\u001b[0m     trace\u001b[39m.\u001b[39;49m_dispatch_on_selection(points, selector)\n\u001b[0;32m    729\u001b[0m \u001b[39melif\u001b[39;00m event_type \u001b[39m==\u001b[39m \u001b[39m\"\u001b[39m\u001b[39mplotly_deselect\u001b[39m\u001b[39m\"\u001b[39m:\n\u001b[0;32m    730\u001b[0m     trace\u001b[39m.\u001b[39m_dispatch_on_deselect(points)\n",
      "File \u001b[1;32mc:\\lia-outlier-detection\\venv\\Lib\\site-packages\\plotly\\basedatatypes.py:6190\u001b[0m, in \u001b[0;36mBaseTraceType._dispatch_on_selection\u001b[1;34m(self, points, selector)\u001b[0m\n\u001b[0;32m   6187\u001b[0m     \u001b[39mself\u001b[39m\u001b[39m.\u001b[39mselectedpoints \u001b[39m=\u001b[39m points\u001b[39m.\u001b[39mpoint_inds\n\u001b[0;32m   6189\u001b[0m \u001b[39mfor\u001b[39;00m callback \u001b[39min\u001b[39;00m \u001b[39mself\u001b[39m\u001b[39m.\u001b[39m_select_callbacks:\n\u001b[1;32m-> 6190\u001b[0m     callback(\u001b[39mself\u001b[39;49m, points, selector)\n",
      "Cell \u001b[1;32mIn[108], line 176\u001b[0m, in \u001b[0;36minteractive_data_chooser.selection_fn\u001b[1;34m(self, trace, points, selector)\u001b[0m\n\u001b[0;32m    174\u001b[0m \u001b[39mprint\u001b[39m(\u001b[39mf\u001b[39m\u001b[39m\"\u001b[39m\u001b[39mpoints: \u001b[39m\u001b[39m{\u001b[39;00mpoints\u001b[39m}\u001b[39;00m\u001b[39m\"\u001b[39m)\n\u001b[0;32m    175\u001b[0m selected_points \u001b[39m=\u001b[39m [point \u001b[39mfor\u001b[39;00m point \u001b[39min\u001b[39;00m points\u001b[39m.\u001b[39mpoint_inds]\n\u001b[1;32m--> 176\u001b[0m symbols \u001b[39m=\u001b[39m \u001b[39mself\u001b[39;49m\u001b[39m.\u001b[39;49mmap_colors_to_symbols(\u001b[39mself\u001b[39;49m\u001b[39m.\u001b[39;49mdf_copy\u001b[39m.\u001b[39;49mloc[selected_points], \u001b[39m\"\u001b[39;49m\u001b[39mmanual_outlier\u001b[39;49m\u001b[39m\"\u001b[39;49m)\n\u001b[0;32m    177\u001b[0m \u001b[39mself\u001b[39m\u001b[39m.\u001b[39mf\u001b[39m.\u001b[39mupdate_traces(marker\u001b[39m=\u001b[39m\u001b[39mdict\u001b[39m(symbol\u001b[39m=\u001b[39msymbols, selector\u001b[39m=\u001b[39m\u001b[39mdict\u001b[39m(\u001b[39mtype\u001b[39m\u001b[39m=\u001b[39m\u001b[39m\"\u001b[39m\u001b[39mscatter\u001b[39m\u001b[39m\"\u001b[39m)))\n\u001b[0;32m    180\u001b[0m \u001b[39m# print(f\"selected_indices: {selected_indices}\")\u001b[39;00m\n\u001b[0;32m    181\u001b[0m \u001b[39m# print(f\"temp_df: {temp_df}\")\u001b[39;00m\n\u001b[0;32m    182\u001b[0m \u001b[39m# print(f\"df_copy: {self.df_copy}\")\u001b[39;00m\n\u001b[0;32m    183\u001b[0m \u001b[39m# Do I need selected points? And if so, how do I link them to df_copy? selectedpoints=selected_indices,\u001b[39;00m\n",
      "\u001b[1;31mTypeError\u001b[0m: interactive_data_chooser.map_colors_to_symbols() takes 2 positional arguments but 3 were given"
     ]
    }
   ],
   "source": [
    "#!/usr/bin/env python\n",
    "# coding: utf-8\n",
    "\n",
    "from dash import Dash, dcc, html, Input, Output\n",
    "import plotly.express as px\n",
    "\n",
    "def create_fake_df(n):\n",
    "    \"\"\"\n",
    "    Creates a dataframe with n rows and columns \"x\", \"y1\" and \"y2\". \n",
    "    The data are integers, 0-100.\n",
    "    \"\"\"\n",
    "    x = []\n",
    "    y1 = []\n",
    "    y2 = []\n",
    "\n",
    "    for _ in range(n):    \n",
    "        x_int = random.randint(0, 100)\n",
    "        x.append(x_int)\n",
    "        y1_int = random.randint(0, 100)\n",
    "        y1.append(y1_int)\n",
    "        y2_int = random.randint(0, 100)\n",
    "        y2.append(y2_int)\n",
    "\n",
    "    int_dict = {\"x\": x, \"y1\": y1, \"y2\": y2}\n",
    "    df = pd.DataFrame(int_dict)\n",
    "    return df\n",
    "\n",
    "df = create_fake_df(15)\n",
    "chooser = interactive_data_chooser(df, df.columns)\n",
    "chooser.activate_plot()\n"
   ]
  },
  {
   "cell_type": "code",
   "execution_count": 3,
   "metadata": {},
   "outputs": [
    {
     "data": {
      "application/vnd.plotly.v1+json": {
       "config": {
        "plotlyServerURL": "https://plot.ly"
       },
       "data": [
        {
         "mode": "markers",
         "type": "scatter",
         "x": [
          0,
          0.06346651825433926,
          0.12693303650867852,
          0.1903995547630178,
          0.25386607301735703,
          0.3173325912716963,
          0.3807991095260356,
          0.4442656277803748,
          0.5077321460347141,
          0.5711986642890533,
          0.6346651825433925,
          0.6981317007977318,
          0.7615982190520711,
          0.8250647373064104,
          0.8885312555607496,
          0.9519977738150889,
          1.0154642920694281,
          1.0789308103237674,
          1.1423973285781066,
          1.2058638468324459,
          1.269330365086785,
          1.3327968833411243,
          1.3962634015954636,
          1.4597299198498028,
          1.5231964381041423,
          1.5866629563584815,
          1.6501294746128208,
          1.71359599286716,
          1.7770625111214993,
          1.8405290293758385,
          1.9039955476301778,
          1.967462065884517,
          2.0309285841388562,
          2.0943951023931957,
          2.1578616206475347,
          2.221328138901874,
          2.284794657156213,
          2.3482611754105527,
          2.4117276936648917,
          2.475194211919231,
          2.53866073017357,
          2.6021272484279097,
          2.6655937666822487,
          2.729060284936588,
          2.792526803190927,
          2.8559933214452666,
          2.9194598396996057,
          2.982926357953945,
          3.0463928762082846,
          3.1098593944626236,
          3.173325912716963,
          3.236792430971302,
          3.3002589492256416,
          3.3637254674799806,
          3.42719198573432,
          3.490658503988659,
          3.5541250222429985,
          3.6175915404973376,
          3.681058058751677,
          3.744524577006016,
          3.8079910952603555,
          3.8714576135146945,
          3.934924131769034,
          3.998390650023373,
          4.0618571682777125,
          4.1253236865320515,
          4.188790204786391,
          4.25225672304073,
          4.3157232412950695,
          4.3791897595494085,
          4.442656277803748,
          4.506122796058087,
          4.569589314312426,
          4.6330558325667655,
          4.696522350821105,
          4.759988869075444,
          4.823455387329783,
          4.886921905584122,
          4.950388423838462,
          5.013854942092801,
          5.07732146034714,
          5.14078797860148,
          5.204254496855819,
          5.267721015110158,
          5.331187533364497,
          5.394654051618837,
          5.458120569873176,
          5.521587088127515,
          5.585053606381854,
          5.648520124636194,
          5.711986642890533,
          5.775453161144872,
          5.838919679399211,
          5.902386197653551,
          5.96585271590789,
          6.029319234162229,
          6.092785752416569,
          6.156252270670908,
          6.219718788925247,
          6.283185307179586
         ],
         "y": [
          0,
          0.0634239196565645,
          0.12659245357374926,
          0.18925124436041021,
          0.2511479871810792,
          0.3120334456984871,
          0.3716624556603276,
          0.42979491208917164,
          0.4861967361004687,
          0.5406408174555976,
          0.5929079290546404,
          0.6427876096865393,
          0.690079011482112,
          0.7345917086575333,
          0.7761464642917568,
          0.8145759520503357,
          0.8497254299495144,
          0.8814533634475821,
          0.9096319953545183,
          0.9341478602651067,
          0.9549022414440739,
          0.9718115683235417,
          0.984807753012208,
          0.9938384644612541,
          0.998867339183008,
          0.9998741276738751,
          0.9968547759519424,
          0.9898214418809327,
          0.9788024462147787,
          0.963842158559942,
          0.9450008187146685,
          0.9223542941045814,
          0.8959937742913359,
          0.8660254037844386,
          0.8325698546347714,
          0.795761840530832,
          0.7557495743542583,
          0.7126941713788627,
          0.6667690005162916,
          0.6181589862206052,
          0.5670598638627709,
          0.5136773915734063,
          0.4582265217274105,
          0.4009305354066136,
          0.3420201433256689,
          0.28173255684142967,
          0.2203105327865408,
          0.1580013959733499,
          0.09505604330418244,
          0.031727933498067656,
          -0.03172793349806786,
          -0.09505604330418263,
          -0.15800139597335008,
          -0.22031053278654056,
          -0.28173255684142984,
          -0.34202014332566866,
          -0.4009305354066138,
          -0.4582265217274103,
          -0.5136773915734064,
          -0.5670598638627706,
          -0.6181589862206053,
          -0.6667690005162915,
          -0.7126941713788629,
          -0.7557495743542582,
          -0.7957618405308321,
          -0.8325698546347713,
          -0.8660254037844388,
          -0.895993774291336,
          -0.9223542941045814,
          -0.9450008187146683,
          -0.9638421585599422,
          -0.9788024462147787,
          -0.9898214418809327,
          -0.9968547759519423,
          -0.9998741276738751,
          -0.998867339183008,
          -0.9938384644612541,
          -0.9848077530122081,
          -0.9718115683235417,
          -0.9549022414440739,
          -0.9341478602651068,
          -0.9096319953545182,
          -0.881453363447582,
          -0.8497254299495144,
          -0.8145759520503358,
          -0.7761464642917566,
          -0.7345917086575331,
          -0.690079011482112,
          -0.6427876096865396,
          -0.5929079290546402,
          -0.5406408174555974,
          -0.4861967361004688,
          -0.4297949120891719,
          -0.37166245566032724,
          -0.31203344569848707,
          -0.2511479871810794,
          -0.18925124436040974,
          -0.12659245357374904,
          -0.06342391965656452,
          -2.4492935982947064e-16
         ]
        }
       ],
       "layout": {
        "annotations": [
         {
          "font": {
           "size": 16
          },
          "showarrow": false,
          "text": "Draw a box around the points to select",
          "x": 0.5,
          "xref": "paper",
          "y": 1.1,
          "yref": "paper"
         }
        ],
        "dragmode": "select",
        "images": [
         {
          "sizex": 0.2,
          "sizey": 0.2,
          "source": "https://raw.githubusercontent.com/plotly/plotly.js/master/test/image/gitbook/images/lasso.png",
          "x": 1.05,
          "xanchor": "right",
          "xref": "paper",
          "y": 1.2,
          "yanchor": "bottom",
          "yref": "paper"
         }
        ],
        "template": {
         "data": {
          "bar": [
           {
            "error_x": {
             "color": "#2a3f5f"
            },
            "error_y": {
             "color": "#2a3f5f"
            },
            "marker": {
             "line": {
              "color": "#E5ECF6",
              "width": 0.5
             },
             "pattern": {
              "fillmode": "overlay",
              "size": 10,
              "solidity": 0.2
             }
            },
            "type": "bar"
           }
          ],
          "barpolar": [
           {
            "marker": {
             "line": {
              "color": "#E5ECF6",
              "width": 0.5
             },
             "pattern": {
              "fillmode": "overlay",
              "size": 10,
              "solidity": 0.2
             }
            },
            "type": "barpolar"
           }
          ],
          "carpet": [
           {
            "aaxis": {
             "endlinecolor": "#2a3f5f",
             "gridcolor": "white",
             "linecolor": "white",
             "minorgridcolor": "white",
             "startlinecolor": "#2a3f5f"
            },
            "baxis": {
             "endlinecolor": "#2a3f5f",
             "gridcolor": "white",
             "linecolor": "white",
             "minorgridcolor": "white",
             "startlinecolor": "#2a3f5f"
            },
            "type": "carpet"
           }
          ],
          "choropleth": [
           {
            "colorbar": {
             "outlinewidth": 0,
             "ticks": ""
            },
            "type": "choropleth"
           }
          ],
          "contour": [
           {
            "colorbar": {
             "outlinewidth": 0,
             "ticks": ""
            },
            "colorscale": [
             [
              0,
              "#0d0887"
             ],
             [
              0.1111111111111111,
              "#46039f"
             ],
             [
              0.2222222222222222,
              "#7201a8"
             ],
             [
              0.3333333333333333,
              "#9c179e"
             ],
             [
              0.4444444444444444,
              "#bd3786"
             ],
             [
              0.5555555555555556,
              "#d8576b"
             ],
             [
              0.6666666666666666,
              "#ed7953"
             ],
             [
              0.7777777777777778,
              "#fb9f3a"
             ],
             [
              0.8888888888888888,
              "#fdca26"
             ],
             [
              1,
              "#f0f921"
             ]
            ],
            "type": "contour"
           }
          ],
          "contourcarpet": [
           {
            "colorbar": {
             "outlinewidth": 0,
             "ticks": ""
            },
            "type": "contourcarpet"
           }
          ],
          "heatmap": [
           {
            "colorbar": {
             "outlinewidth": 0,
             "ticks": ""
            },
            "colorscale": [
             [
              0,
              "#0d0887"
             ],
             [
              0.1111111111111111,
              "#46039f"
             ],
             [
              0.2222222222222222,
              "#7201a8"
             ],
             [
              0.3333333333333333,
              "#9c179e"
             ],
             [
              0.4444444444444444,
              "#bd3786"
             ],
             [
              0.5555555555555556,
              "#d8576b"
             ],
             [
              0.6666666666666666,
              "#ed7953"
             ],
             [
              0.7777777777777778,
              "#fb9f3a"
             ],
             [
              0.8888888888888888,
              "#fdca26"
             ],
             [
              1,
              "#f0f921"
             ]
            ],
            "type": "heatmap"
           }
          ],
          "heatmapgl": [
           {
            "colorbar": {
             "outlinewidth": 0,
             "ticks": ""
            },
            "colorscale": [
             [
              0,
              "#0d0887"
             ],
             [
              0.1111111111111111,
              "#46039f"
             ],
             [
              0.2222222222222222,
              "#7201a8"
             ],
             [
              0.3333333333333333,
              "#9c179e"
             ],
             [
              0.4444444444444444,
              "#bd3786"
             ],
             [
              0.5555555555555556,
              "#d8576b"
             ],
             [
              0.6666666666666666,
              "#ed7953"
             ],
             [
              0.7777777777777778,
              "#fb9f3a"
             ],
             [
              0.8888888888888888,
              "#fdca26"
             ],
             [
              1,
              "#f0f921"
             ]
            ],
            "type": "heatmapgl"
           }
          ],
          "histogram": [
           {
            "marker": {
             "pattern": {
              "fillmode": "overlay",
              "size": 10,
              "solidity": 0.2
             }
            },
            "type": "histogram"
           }
          ],
          "histogram2d": [
           {
            "colorbar": {
             "outlinewidth": 0,
             "ticks": ""
            },
            "colorscale": [
             [
              0,
              "#0d0887"
             ],
             [
              0.1111111111111111,
              "#46039f"
             ],
             [
              0.2222222222222222,
              "#7201a8"
             ],
             [
              0.3333333333333333,
              "#9c179e"
             ],
             [
              0.4444444444444444,
              "#bd3786"
             ],
             [
              0.5555555555555556,
              "#d8576b"
             ],
             [
              0.6666666666666666,
              "#ed7953"
             ],
             [
              0.7777777777777778,
              "#fb9f3a"
             ],
             [
              0.8888888888888888,
              "#fdca26"
             ],
             [
              1,
              "#f0f921"
             ]
            ],
            "type": "histogram2d"
           }
          ],
          "histogram2dcontour": [
           {
            "colorbar": {
             "outlinewidth": 0,
             "ticks": ""
            },
            "colorscale": [
             [
              0,
              "#0d0887"
             ],
             [
              0.1111111111111111,
              "#46039f"
             ],
             [
              0.2222222222222222,
              "#7201a8"
             ],
             [
              0.3333333333333333,
              "#9c179e"
             ],
             [
              0.4444444444444444,
              "#bd3786"
             ],
             [
              0.5555555555555556,
              "#d8576b"
             ],
             [
              0.6666666666666666,
              "#ed7953"
             ],
             [
              0.7777777777777778,
              "#fb9f3a"
             ],
             [
              0.8888888888888888,
              "#fdca26"
             ],
             [
              1,
              "#f0f921"
             ]
            ],
            "type": "histogram2dcontour"
           }
          ],
          "mesh3d": [
           {
            "colorbar": {
             "outlinewidth": 0,
             "ticks": ""
            },
            "type": "mesh3d"
           }
          ],
          "parcoords": [
           {
            "line": {
             "colorbar": {
              "outlinewidth": 0,
              "ticks": ""
             }
            },
            "type": "parcoords"
           }
          ],
          "pie": [
           {
            "automargin": true,
            "type": "pie"
           }
          ],
          "scatter": [
           {
            "fillpattern": {
             "fillmode": "overlay",
             "size": 10,
             "solidity": 0.2
            },
            "type": "scatter"
           }
          ],
          "scatter3d": [
           {
            "line": {
             "colorbar": {
              "outlinewidth": 0,
              "ticks": ""
             }
            },
            "marker": {
             "colorbar": {
              "outlinewidth": 0,
              "ticks": ""
             }
            },
            "type": "scatter3d"
           }
          ],
          "scattercarpet": [
           {
            "marker": {
             "colorbar": {
              "outlinewidth": 0,
              "ticks": ""
             }
            },
            "type": "scattercarpet"
           }
          ],
          "scattergeo": [
           {
            "marker": {
             "colorbar": {
              "outlinewidth": 0,
              "ticks": ""
             }
            },
            "type": "scattergeo"
           }
          ],
          "scattergl": [
           {
            "marker": {
             "colorbar": {
              "outlinewidth": 0,
              "ticks": ""
             }
            },
            "type": "scattergl"
           }
          ],
          "scattermapbox": [
           {
            "marker": {
             "colorbar": {
              "outlinewidth": 0,
              "ticks": ""
             }
            },
            "type": "scattermapbox"
           }
          ],
          "scatterpolar": [
           {
            "marker": {
             "colorbar": {
              "outlinewidth": 0,
              "ticks": ""
             }
            },
            "type": "scatterpolar"
           }
          ],
          "scatterpolargl": [
           {
            "marker": {
             "colorbar": {
              "outlinewidth": 0,
              "ticks": ""
             }
            },
            "type": "scatterpolargl"
           }
          ],
          "scatterternary": [
           {
            "marker": {
             "colorbar": {
              "outlinewidth": 0,
              "ticks": ""
             }
            },
            "type": "scatterternary"
           }
          ],
          "surface": [
           {
            "colorbar": {
             "outlinewidth": 0,
             "ticks": ""
            },
            "colorscale": [
             [
              0,
              "#0d0887"
             ],
             [
              0.1111111111111111,
              "#46039f"
             ],
             [
              0.2222222222222222,
              "#7201a8"
             ],
             [
              0.3333333333333333,
              "#9c179e"
             ],
             [
              0.4444444444444444,
              "#bd3786"
             ],
             [
              0.5555555555555556,
              "#d8576b"
             ],
             [
              0.6666666666666666,
              "#ed7953"
             ],
             [
              0.7777777777777778,
              "#fb9f3a"
             ],
             [
              0.8888888888888888,
              "#fdca26"
             ],
             [
              1,
              "#f0f921"
             ]
            ],
            "type": "surface"
           }
          ],
          "table": [
           {
            "cells": {
             "fill": {
              "color": "#EBF0F8"
             },
             "line": {
              "color": "white"
             }
            },
            "header": {
             "fill": {
              "color": "#C8D4E3"
             },
             "line": {
              "color": "white"
             }
            },
            "type": "table"
           }
          ]
         },
         "layout": {
          "annotationdefaults": {
           "arrowcolor": "#2a3f5f",
           "arrowhead": 0,
           "arrowwidth": 1
          },
          "autotypenumbers": "strict",
          "coloraxis": {
           "colorbar": {
            "outlinewidth": 0,
            "ticks": ""
           }
          },
          "colorscale": {
           "diverging": [
            [
             0,
             "#8e0152"
            ],
            [
             0.1,
             "#c51b7d"
            ],
            [
             0.2,
             "#de77ae"
            ],
            [
             0.3,
             "#f1b6da"
            ],
            [
             0.4,
             "#fde0ef"
            ],
            [
             0.5,
             "#f7f7f7"
            ],
            [
             0.6,
             "#e6f5d0"
            ],
            [
             0.7,
             "#b8e186"
            ],
            [
             0.8,
             "#7fbc41"
            ],
            [
             0.9,
             "#4d9221"
            ],
            [
             1,
             "#276419"
            ]
           ],
           "sequential": [
            [
             0,
             "#0d0887"
            ],
            [
             0.1111111111111111,
             "#46039f"
            ],
            [
             0.2222222222222222,
             "#7201a8"
            ],
            [
             0.3333333333333333,
             "#9c179e"
            ],
            [
             0.4444444444444444,
             "#bd3786"
            ],
            [
             0.5555555555555556,
             "#d8576b"
            ],
            [
             0.6666666666666666,
             "#ed7953"
            ],
            [
             0.7777777777777778,
             "#fb9f3a"
            ],
            [
             0.8888888888888888,
             "#fdca26"
            ],
            [
             1,
             "#f0f921"
            ]
           ],
           "sequentialminus": [
            [
             0,
             "#0d0887"
            ],
            [
             0.1111111111111111,
             "#46039f"
            ],
            [
             0.2222222222222222,
             "#7201a8"
            ],
            [
             0.3333333333333333,
             "#9c179e"
            ],
            [
             0.4444444444444444,
             "#bd3786"
            ],
            [
             0.5555555555555556,
             "#d8576b"
            ],
            [
             0.6666666666666666,
             "#ed7953"
            ],
            [
             0.7777777777777778,
             "#fb9f3a"
            ],
            [
             0.8888888888888888,
             "#fdca26"
            ],
            [
             1,
             "#f0f921"
            ]
           ]
          },
          "colorway": [
           "#636efa",
           "#EF553B",
           "#00cc96",
           "#ab63fa",
           "#FFA15A",
           "#19d3f3",
           "#FF6692",
           "#B6E880",
           "#FF97FF",
           "#FECB52"
          ],
          "font": {
           "color": "#2a3f5f"
          },
          "geo": {
           "bgcolor": "white",
           "lakecolor": "white",
           "landcolor": "#E5ECF6",
           "showlakes": true,
           "showland": true,
           "subunitcolor": "white"
          },
          "hoverlabel": {
           "align": "left"
          },
          "hovermode": "closest",
          "mapbox": {
           "style": "light"
          },
          "paper_bgcolor": "white",
          "plot_bgcolor": "#E5ECF6",
          "polar": {
           "angularaxis": {
            "gridcolor": "white",
            "linecolor": "white",
            "ticks": ""
           },
           "bgcolor": "#E5ECF6",
           "radialaxis": {
            "gridcolor": "white",
            "linecolor": "white",
            "ticks": ""
           }
          },
          "scene": {
           "xaxis": {
            "backgroundcolor": "#E5ECF6",
            "gridcolor": "white",
            "gridwidth": 2,
            "linecolor": "white",
            "showbackground": true,
            "ticks": "",
            "zerolinecolor": "white"
           },
           "yaxis": {
            "backgroundcolor": "#E5ECF6",
            "gridcolor": "white",
            "gridwidth": 2,
            "linecolor": "white",
            "showbackground": true,
            "ticks": "",
            "zerolinecolor": "white"
           },
           "zaxis": {
            "backgroundcolor": "#E5ECF6",
            "gridcolor": "white",
            "gridwidth": 2,
            "linecolor": "white",
            "showbackground": true,
            "ticks": "",
            "zerolinecolor": "white"
           }
          },
          "shapedefaults": {
           "line": {
            "color": "#2a3f5f"
           }
          },
          "ternary": {
           "aaxis": {
            "gridcolor": "white",
            "linecolor": "white",
            "ticks": ""
           },
           "baxis": {
            "gridcolor": "white",
            "linecolor": "white",
            "ticks": ""
           },
           "bgcolor": "#E5ECF6",
           "caxis": {
            "gridcolor": "white",
            "linecolor": "white",
            "ticks": ""
           }
          },
          "title": {
           "x": 0.05
          },
          "xaxis": {
           "automargin": true,
           "gridcolor": "white",
           "linecolor": "white",
           "ticks": "",
           "title": {
            "standoff": 15
           },
           "zerolinecolor": "white",
           "zerolinewidth": 2
          },
          "yaxis": {
           "automargin": true,
           "gridcolor": "white",
           "linecolor": "white",
           "ticks": "",
           "title": {
            "standoff": 15
           },
           "zerolinecolor": "white",
           "zerolinewidth": 2
          }
         }
        },
        "title": {
         "text": "Box Select and Dropdown Example"
        },
        "updatemenus": [
         {
          "buttons": [
           {
            "args": [
             {
              "selectedpoints": [
               0
              ]
             }
            ],
            "label": "Mean",
            "method": "restyle"
           },
           {
            "args": [
             {
              "selectedpoints": [
               0
              ]
             }
            ],
            "label": "Median",
            "method": "restyle"
           }
          ],
          "direction": "down",
          "showactive": true
         }
        ],
        "xaxis": {
         "title": {
          "text": "X Axis Title"
         }
        },
        "yaxis": {
         "title": {
          "text": "Y Axis Title"
         }
        }
       }
      }
     },
     "metadata": {},
     "output_type": "display_data"
    }
   ],
   "source": [
    "import plotly.graph_objs as go\n",
    "from plotly.subplots import make_subplots\n",
    "\n",
    "# Create example data\n",
    "import numpy as np\n",
    "x = np.linspace(0, 2*np.pi, 100)\n",
    "y = np.sin(x)\n",
    "\n",
    "# Create scatter plot\n",
    "fig = go.Figure()\n",
    "fig.add_trace(go.Scatter(x=x, y=y, mode='markers'))\n",
    "\n",
    "# Add dropdown menu\n",
    "updatemenus = [{'buttons': [{'args': [{'selectedpoints': [0]}],\n",
    "                              'label': 'Mean',\n",
    "                              'method': 'restyle'},\n",
    "                             {'args': [{'selectedpoints': [0]}],\n",
    "                              'label': 'Median',\n",
    "                              'method': 'restyle'}],\n",
    "                'direction': 'down',\n",
    "                'showactive': True}]\n",
    "fig.update_layout(updatemenus=updatemenus)\n",
    "\n",
    "# Add box select event handler\n",
    "fig.add_layout_image(dict(\n",
    "    source=\"https://raw.githubusercontent.com/plotly/plotly.js/master/test/image/gitbook/images/lasso.png\",\n",
    "    xref=\"paper\", yref=\"paper\",\n",
    "    x=1.05, y=1.2,\n",
    "    sizex=0.2, sizey=0.2,\n",
    "    xanchor=\"right\", yanchor=\"bottom\"\n",
    "))\n",
    "\n",
    "fig.update_layout(\n",
    "    dragmode=\"select\",\n",
    "    annotations=[\n",
    "        dict(\n",
    "            text=\"Draw a box around the points to select\",\n",
    "            showarrow=False,\n",
    "            xref=\"paper\", yref=\"paper\",\n",
    "            x=0.5, y=1.1, font_size=16\n",
    "        )\n",
    "    ]\n",
    ")\n",
    "\n",
    "fig.update_layout(\n",
    "    xaxis_title=\"X Axis Title\",\n",
    "    yaxis_title=\"Y Axis Title\",\n",
    "    title=\"Box Select and Dropdown Example\"\n",
    ")\n",
    "\n",
    "# Define callback function for dropdown menu\n",
    "def update_fig(selection):\n",
    "    if selection == 'Mean':\n",
    "        fig.update_traces(marker=dict(color='red', size=10))\n",
    "        selected_points = fig.data[0].selectedpoints\n",
    "        if selected_points:\n",
    "            mean_value = np.mean(y[selected_points])\n",
    "            fig.add_annotation(text=f\"Mean: {mean_value:.2f}\", xref=\"paper\", yref=\"paper\",\n",
    "            x=0.8, y=0.9, showarrow=False, font_size=16)\n",
    "    elif selection == 'Median':\n",
    "        fig.update_traces(marker=dict(color='green', size=10))\n",
    "        selected_points = fig.data[0].selectedpoints\n",
    "        if selected_points:\n",
    "            median_value = np.median(y[selected_points])\n",
    "            fig.add_annotation(text=f\"Median: {median_value:.2f}\", xref=\"paper\", yref=\"paper\",\n",
    "            x=0.8, y=0.8, showarrow=False, font_size=16)\n",
    "\n",
    "# Set up callback for dropdown menu\n",
    "fig.for_each_trace(lambda trace: trace.on_selection(lambda x,y,trace=trace: update_fig('Mean')))\n",
    "\n",
    "fig.show()\n"
   ]
  },
  {
   "cell_type": "code",
   "execution_count": 2,
   "metadata": {},
   "outputs": [
    {
     "ename": "ValueError",
     "evalue": "Invalid property specification(s): ['selectedpoints']",
     "output_type": "error",
     "traceback": [
      "\u001b[1;31m---------------------------------------------------------------------------\u001b[0m",
      "\u001b[1;31mValueError\u001b[0m                                Traceback (most recent call last)",
      "Cell \u001b[1;32mIn[2], line 29\u001b[0m\n\u001b[0;32m     26\u001b[0m     display(dropdown)\n\u001b[0;32m     28\u001b[0m \u001b[39m# Add event handler function to the plotly plot\u001b[39;00m\n\u001b[1;32m---> 29\u001b[0m fig\u001b[39m.\u001b[39;49mlayout\u001b[39m.\u001b[39;49mon_change(handle_selection, \u001b[39m'\u001b[39;49m\u001b[39mselectedpoints\u001b[39;49m\u001b[39m'\u001b[39;49m)\n\u001b[0;32m     31\u001b[0m \u001b[39m# Create a button to clear the selection and hide the dropdown menu\u001b[39;00m\n\u001b[0;32m     32\u001b[0m button \u001b[39m=\u001b[39m Button(description\u001b[39m=\u001b[39m\u001b[39m'\u001b[39m\u001b[39mClear Selection\u001b[39m\u001b[39m'\u001b[39m)\n",
      "File \u001b[1;32mc:\\lia-outlier-detection\\venv\\Lib\\site-packages\\plotly\\basedatatypes.py:5553\u001b[0m, in \u001b[0;36mBasePlotlyType.on_change\u001b[1;34m(self, callback, *args, **kwargs)\u001b[0m\n\u001b[0;32m   5551\u001b[0m invalid_args \u001b[39m=\u001b[39m [arg \u001b[39mfor\u001b[39;00m arg \u001b[39min\u001b[39;00m args \u001b[39mif\u001b[39;00m arg \u001b[39mnot\u001b[39;00m \u001b[39min\u001b[39;00m \u001b[39mself\u001b[39m]\n\u001b[0;32m   5552\u001b[0m \u001b[39mif\u001b[39;00m invalid_args:\n\u001b[1;32m-> 5553\u001b[0m     \u001b[39mraise\u001b[39;00m \u001b[39mValueError\u001b[39;00m(\u001b[39m\"\u001b[39m\u001b[39mInvalid property specification(s): \u001b[39m\u001b[39m%s\u001b[39;00m\u001b[39m\"\u001b[39m \u001b[39m%\u001b[39m invalid_args)\n\u001b[0;32m   5555\u001b[0m \u001b[39m# Process append option\u001b[39;00m\n\u001b[0;32m   5556\u001b[0m \u001b[39m# ---------------------\u001b[39;00m\n\u001b[0;32m   5557\u001b[0m append \u001b[39m=\u001b[39m kwargs\u001b[39m.\u001b[39mget(\u001b[39m\"\u001b[39m\u001b[39mappend\u001b[39m\u001b[39m\"\u001b[39m, \u001b[39mFalse\u001b[39;00m)\n",
      "\u001b[1;31mValueError\u001b[0m: Invalid property specification(s): ['selectedpoints']"
     ]
    }
   ],
   "source": [
    "import plotly.graph_objs as go\n",
    "from ipywidgets import Button, Dropdown\n",
    "from IPython.display import display\n",
    "\n",
    "# Create example data\n",
    "x = [1, 2, 3, 4, 5]\n",
    "y = [10, 20, 30, 40, 50]\n",
    "\n",
    "# Create plotly plot with box select enabled\n",
    "trace = go.Scatter(x=x, y=y, mode='markers')\n",
    "layout = go.Layout(title='Selected Points', xaxis=dict(range=[0, 6]), yaxis=dict(range=[0, 60]), dragmode='select')\n",
    "fig = go.Figure(data=[trace], layout=layout)\n",
    "\n",
    "# Define event handler function to display dropdown menu\n",
    "def handle_selection(event):\n",
    "    if event is None or len(event) == 0:\n",
    "        return\n",
    "    \n",
    "    # Create the dropdown menu with the selected values\n",
    "    dropdown_options = [\n",
    "        {'label': 'Mean', 'value': 'mean'},\n",
    "        {'label': 'Max', 'value': 'max'},\n",
    "        {'label': 'Min', 'value': 'min'},\n",
    "    ]\n",
    "    dropdown = Dropdown(options=dropdown_options, description='Select an operation')\n",
    "    display(dropdown)\n",
    "    \n",
    "# Add event handler function to the plotly plot\n",
    "fig.layout.on_change(handle_selection, 'selectedpoints')\n",
    "\n",
    "# Create a button to clear the selection and hide the dropdown menu\n",
    "button = Button(description='Clear Selection')\n",
    "button.on_click(lambda _: dropdown.close() if 'dropdown' in globals() else None)\n",
    "display(fig, button)\n",
    "\n",
    "\n"
   ]
  },
  {
   "cell_type": "code",
   "execution_count": 1,
   "metadata": {},
   "outputs": [
    {
     "ename": "ValueError",
     "evalue": "\n    Invalid value of type 'builtins.dict' received for the 'selections' property of layout\n        Received value: {'mode': 'lasso', 'shape': 'triangle'}\n\n    The 'selections' property is a tuple of instances of\n    Selection that may be specified as:\n      - A list or tuple of instances of plotly.graph_objs.layout.Selection\n      - A list or tuple of dicts of string/value properties that\n        will be passed to the Selection constructor\n\n        Supported dict properties:\n            \n            line\n                :class:`plotly.graph_objects.layout.selection.L\n                ine` instance or dict with compatible\n                properties\n            name\n                When used in a template, named items are\n                created in the output figure in addition to any\n                items the figure already has in this array. You\n                can modify these items in the output figure by\n                making your own item with `templateitemname`\n                matching this `name` alongside your\n                modifications (including `visible: false` or\n                `enabled: false` to hide it). Has no effect\n                outside of a template.\n            opacity\n                Sets the opacity of the selection.\n            path\n                For `type` \"path\" - a valid SVG path similar to\n                `shapes.path` in data coordinates. Allowed\n                segments are: M, L and Z.\n            templateitemname\n                Used to refer to a named item in this array in\n                the template. Named items from the template\n                will be created even without a matching item in\n                the input figure, but you can modify one by\n                making an item with `templateitemname` matching\n                its `name`, alongside your modifications\n                (including `visible: false` or `enabled: false`\n                to hide it). If there is no template or no\n                matching item, this item will be hidden unless\n                you explicitly show it with `visible: true`.\n            type\n                Specifies the selection type to be drawn. If\n                \"rect\", a rectangle is drawn linking\n                (`x0`,`y0`), (`x1`,`y0`), (`x1`,`y1`) and\n                (`x0`,`y1`). If \"path\", draw a custom SVG path\n                using `path`.\n            x0\n                Sets the selection's starting x position.\n            x1\n                Sets the selection's end x position.\n            xref\n                Sets the selection's x coordinate axis. If set\n                to a x axis id (e.g. \"x\" or \"x2\"), the `x`\n                position refers to a x coordinate. If set to\n                \"paper\", the `x` position refers to the\n                distance from the left of the plotting area in\n                normalized coordinates where 0 (1) corresponds\n                to the left (right). If set to a x axis ID\n                followed by \"domain\" (separated by a space),\n                the position behaves like for \"paper\", but\n                refers to the distance in fractions of the\n                domain length from the left of the domain of\n                that axis: e.g., *x2 domain* refers to the\n                domain of the second x  axis and a x position\n                of 0.5 refers to the point between the left and\n                the right of the domain of the second x axis.\n            y0\n                Sets the selection's starting y position.\n            y1\n                Sets the selection's end y position.\n            yref\n                Sets the selection's x coordinate axis. If set\n                to a y axis id (e.g. \"y\" or \"y2\"), the `y`\n                position refers to a y coordinate. If set to\n                \"paper\", the `y` position refers to the\n                distance from the bottom of the plotting area\n                in normalized coordinates where 0 (1)\n                corresponds to the bottom (top). If set to a y\n                axis ID followed by \"domain\" (separated by a\n                space), the position behaves like for \"paper\",\n                but refers to the distance in fractions of the\n                domain length from the bottom of the domain of\n                that axis: e.g., *y2 domain* refers to the\n                domain of the second y  axis and a y position\n                of 0.5 refers to the point between the bottom\n                and the top of the domain of the second y axis.\n",
     "output_type": "error",
     "traceback": [
      "\u001b[1;31m---------------------------------------------------------------------------\u001b[0m",
      "\u001b[1;31mValueError\u001b[0m                                Traceback (most recent call last)",
      "Cell \u001b[1;32mIn[1], line 7\u001b[0m\n\u001b[0;32m      1\u001b[0m \u001b[39mimport\u001b[39;00m \u001b[39mplotly\u001b[39;00m\u001b[39m.\u001b[39;00m\u001b[39mgraph_objs\u001b[39;00m \u001b[39mas\u001b[39;00m \u001b[39mgo\u001b[39;00m\n\u001b[0;32m      3\u001b[0m fig \u001b[39m=\u001b[39m go\u001b[39m.\u001b[39mFigure(data\u001b[39m=\u001b[39mgo\u001b[39m.\u001b[39mScatter(x\u001b[39m=\u001b[39m[\u001b[39m1\u001b[39m, \u001b[39m2\u001b[39m, \u001b[39m3\u001b[39m, \u001b[39m4\u001b[39m, \u001b[39m5\u001b[39m],\n\u001b[0;32m      4\u001b[0m                                 y\u001b[39m=\u001b[39m[\u001b[39m1\u001b[39m, \u001b[39m2\u001b[39m, \u001b[39m3\u001b[39m, \u001b[39m4\u001b[39m, \u001b[39m5\u001b[39m],\n\u001b[0;32m      5\u001b[0m                                 mode\u001b[39m=\u001b[39m\u001b[39m'\u001b[39m\u001b[39mmarkers\u001b[39m\u001b[39m'\u001b[39m))\n\u001b[1;32m----> 7\u001b[0m fig\u001b[39m.\u001b[39;49mupdate_layout(\n\u001b[0;32m      8\u001b[0m     dragmode\u001b[39m=\u001b[39;49m\u001b[39m'\u001b[39;49m\u001b[39mselect\u001b[39;49m\u001b[39m'\u001b[39;49m,\n\u001b[0;32m      9\u001b[0m     selectdirection\u001b[39m=\u001b[39;49m\u001b[39m'\u001b[39;49m\u001b[39mh\u001b[39;49m\u001b[39m'\u001b[39;49m,\n\u001b[0;32m     10\u001b[0m     boxmode\u001b[39m=\u001b[39;49m\u001b[39m'\u001b[39;49m\u001b[39mgroup\u001b[39;49m\u001b[39m'\u001b[39;49m,\n\u001b[0;32m     11\u001b[0m     \u001b[39m# Add the box select tool\u001b[39;49;00m\n\u001b[0;32m     12\u001b[0m     selections\u001b[39m=\u001b[39;49m\u001b[39mdict\u001b[39;49m(\n\u001b[0;32m     13\u001b[0m         mode\u001b[39m=\u001b[39;49m\u001b[39m'\u001b[39;49m\u001b[39mlasso\u001b[39;49m\u001b[39m'\u001b[39;49m,\n\u001b[0;32m     14\u001b[0m         \u001b[39m# Set the shape of the lasso selector to be a triangle\u001b[39;49;00m\n\u001b[0;32m     15\u001b[0m         shape\u001b[39m=\u001b[39;49m\u001b[39m'\u001b[39;49m\u001b[39mtriangle\u001b[39;49m\u001b[39m'\u001b[39;49m\n\u001b[0;32m     16\u001b[0m     )\n\u001b[0;32m     17\u001b[0m )\n\u001b[0;32m     19\u001b[0m \u001b[39mdef\u001b[39;00m \u001b[39mupdate_selected_points\u001b[39m(trace, points, selector):\n\u001b[0;32m     20\u001b[0m     \u001b[39m# Get the indices of the selected points\u001b[39;00m\n\u001b[0;32m     21\u001b[0m     inds \u001b[39m=\u001b[39m [p[\u001b[39m'\u001b[39m\u001b[39mpointIndex\u001b[39m\u001b[39m'\u001b[39m] \u001b[39mfor\u001b[39;00m p \u001b[39min\u001b[39;00m points[\u001b[39m'\u001b[39m\u001b[39mpoints\u001b[39m\u001b[39m'\u001b[39m]]\n",
      "File \u001b[1;32mc:\\lia-outlier-detection\\venv\\Lib\\site-packages\\plotly\\graph_objs\\_figure.py:775\u001b[0m, in \u001b[0;36mFigure.update_layout\u001b[1;34m(self, dict1, overwrite, **kwargs)\u001b[0m\n\u001b[0;32m    749\u001b[0m \u001b[39mdef\u001b[39;00m \u001b[39mupdate_layout\u001b[39m(\u001b[39mself\u001b[39m, dict1\u001b[39m=\u001b[39m\u001b[39mNone\u001b[39;00m, overwrite\u001b[39m=\u001b[39m\u001b[39mFalse\u001b[39;00m, \u001b[39m*\u001b[39m\u001b[39m*\u001b[39mkwargs) \u001b[39m-\u001b[39m\u001b[39m>\u001b[39m \u001b[39m\"\u001b[39m\u001b[39mFigure\u001b[39m\u001b[39m\"\u001b[39m:\n\u001b[0;32m    750\u001b[0m \u001b[39m    \u001b[39m\u001b[39m\"\"\"\u001b[39;00m\n\u001b[0;32m    751\u001b[0m \n\u001b[0;32m    752\u001b[0m \u001b[39m    Update the properties of the figure's layout with a dict and/or with\u001b[39;00m\n\u001b[1;32m   (...)\u001b[0m\n\u001b[0;32m    773\u001b[0m \n\u001b[0;32m    774\u001b[0m \u001b[39m    \"\"\"\u001b[39;00m\n\u001b[1;32m--> 775\u001b[0m     \u001b[39mreturn\u001b[39;00m \u001b[39msuper\u001b[39;49m(Figure, \u001b[39mself\u001b[39;49m)\u001b[39m.\u001b[39;49mupdate_layout(dict1, overwrite, \u001b[39m*\u001b[39;49m\u001b[39m*\u001b[39;49mkwargs)\n",
      "File \u001b[1;32mc:\\lia-outlier-detection\\venv\\Lib\\site-packages\\plotly\\basedatatypes.py:1393\u001b[0m, in \u001b[0;36mBaseFigure.update_layout\u001b[1;34m(self, dict1, overwrite, **kwargs)\u001b[0m\n\u001b[0;32m   1369\u001b[0m \u001b[39mdef\u001b[39;00m \u001b[39mupdate_layout\u001b[39m(\u001b[39mself\u001b[39m, dict1\u001b[39m=\u001b[39m\u001b[39mNone\u001b[39;00m, overwrite\u001b[39m=\u001b[39m\u001b[39mFalse\u001b[39;00m, \u001b[39m*\u001b[39m\u001b[39m*\u001b[39mkwargs):\n\u001b[0;32m   1370\u001b[0m \u001b[39m    \u001b[39m\u001b[39m\"\"\"\u001b[39;00m\n\u001b[0;32m   1371\u001b[0m \u001b[39m    Update the properties of the figure's layout with a dict and/or with\u001b[39;00m\n\u001b[0;32m   1372\u001b[0m \u001b[39m    keyword arguments.\u001b[39;00m\n\u001b[1;32m   (...)\u001b[0m\n\u001b[0;32m   1391\u001b[0m \u001b[39m        The Figure object that the update_layout method was called on\u001b[39;00m\n\u001b[0;32m   1392\u001b[0m \u001b[39m    \"\"\"\u001b[39;00m\n\u001b[1;32m-> 1393\u001b[0m     \u001b[39mself\u001b[39;49m\u001b[39m.\u001b[39;49mlayout\u001b[39m.\u001b[39;49mupdate(dict1, overwrite\u001b[39m=\u001b[39;49moverwrite, \u001b[39m*\u001b[39;49m\u001b[39m*\u001b[39;49mkwargs)\n\u001b[0;32m   1394\u001b[0m     \u001b[39mreturn\u001b[39;00m \u001b[39mself\u001b[39m\n",
      "File \u001b[1;32mc:\\lia-outlier-detection\\venv\\Lib\\site-packages\\plotly\\basedatatypes.py:5114\u001b[0m, in \u001b[0;36mBasePlotlyType.update\u001b[1;34m(self, dict1, overwrite, **kwargs)\u001b[0m\n\u001b[0;32m   5112\u001b[0m     \u001b[39mwith\u001b[39;00m \u001b[39mself\u001b[39m\u001b[39m.\u001b[39mfigure\u001b[39m.\u001b[39mbatch_update():\n\u001b[0;32m   5113\u001b[0m         BaseFigure\u001b[39m.\u001b[39m_perform_update(\u001b[39mself\u001b[39m, dict1, overwrite\u001b[39m=\u001b[39moverwrite)\n\u001b[1;32m-> 5114\u001b[0m         BaseFigure\u001b[39m.\u001b[39;49m_perform_update(\u001b[39mself\u001b[39;49m, kwargs, overwrite\u001b[39m=\u001b[39;49moverwrite)\n\u001b[0;32m   5115\u001b[0m \u001b[39melse\u001b[39;00m:\n\u001b[0;32m   5116\u001b[0m     BaseFigure\u001b[39m.\u001b[39m_perform_update(\u001b[39mself\u001b[39m, dict1, overwrite\u001b[39m=\u001b[39moverwrite)\n",
      "File \u001b[1;32mc:\\lia-outlier-detection\\venv\\Lib\\site-packages\\plotly\\basedatatypes.py:3918\u001b[0m, in \u001b[0;36mBaseFigure._perform_update\u001b[1;34m(plotly_obj, update_obj, overwrite)\u001b[0m\n\u001b[0;32m   3912\u001b[0m             plotly_obj[key] \u001b[39m=\u001b[39m plotly_obj[key] \u001b[39m+\u001b[39m \u001b[39mtuple\u001b[39m(\n\u001b[0;32m   3913\u001b[0m                 val[\u001b[39mlen\u001b[39m(plotly_obj[key]) :]\n\u001b[0;32m   3914\u001b[0m             )\n\u001b[0;32m   3915\u001b[0m     \u001b[39melse\u001b[39;00m:\n\u001b[0;32m   3916\u001b[0m         \u001b[39m# plotly_obj is an empty or uninitialized list for key\u001b[39;00m\n\u001b[0;32m   3917\u001b[0m         \u001b[39m# In this case we accept val as is\u001b[39;00m\n\u001b[1;32m-> 3918\u001b[0m         plotly_obj[key] \u001b[39m=\u001b[39m val\n\u001b[0;32m   3919\u001b[0m \u001b[39melse\u001b[39;00m:\n\u001b[0;32m   3920\u001b[0m     \u001b[39m# Assign non-compound value\u001b[39;00m\n\u001b[0;32m   3921\u001b[0m     plotly_obj[key] \u001b[39m=\u001b[39m val\n",
      "File \u001b[1;32mc:\\lia-outlier-detection\\venv\\Lib\\site-packages\\plotly\\basedatatypes.py:5853\u001b[0m, in \u001b[0;36mBaseLayoutType.__setitem__\u001b[1;34m(self, prop, value)\u001b[0m\n\u001b[0;32m   5850\u001b[0m match \u001b[39m=\u001b[39m \u001b[39mself\u001b[39m\u001b[39m.\u001b[39m_subplot_re_match(prop)\n\u001b[0;32m   5851\u001b[0m \u001b[39mif\u001b[39;00m match \u001b[39mis\u001b[39;00m \u001b[39mNone\u001b[39;00m:\n\u001b[0;32m   5852\u001b[0m     \u001b[39m# Set as ordinary property\u001b[39;00m\n\u001b[1;32m-> 5853\u001b[0m     \u001b[39msuper\u001b[39;49m(BaseLayoutHierarchyType, \u001b[39mself\u001b[39;49m)\u001b[39m.\u001b[39;49m\u001b[39m__setitem__\u001b[39;49m(prop, value)\n\u001b[0;32m   5854\u001b[0m \u001b[39melse\u001b[39;00m:\n\u001b[0;32m   5855\u001b[0m     \u001b[39m# Set as subplotid property\u001b[39;00m\n\u001b[0;32m   5856\u001b[0m     \u001b[39mself\u001b[39m\u001b[39m.\u001b[39m_set_subplotid_prop(prop, value)\n",
      "File \u001b[1;32mc:\\lia-outlier-detection\\venv\\Lib\\site-packages\\plotly\\basedatatypes.py:4847\u001b[0m, in \u001b[0;36mBasePlotlyType.__setitem__\u001b[1;34m(self, prop, value)\u001b[0m\n\u001b[0;32m   4845\u001b[0m \u001b[39m# ### Handle compound array property ###\u001b[39;00m\n\u001b[0;32m   4846\u001b[0m \u001b[39melif\u001b[39;00m \u001b[39misinstance\u001b[39m(validator, (CompoundArrayValidator, BaseDataValidator)):\n\u001b[1;32m-> 4847\u001b[0m     \u001b[39mself\u001b[39;49m\u001b[39m.\u001b[39;49m_set_array_prop(prop, value)\n\u001b[0;32m   4849\u001b[0m \u001b[39m# ### Handle simple property ###\u001b[39;00m\n\u001b[0;32m   4850\u001b[0m \u001b[39melse\u001b[39;00m:\n\u001b[0;32m   4851\u001b[0m     \u001b[39mself\u001b[39m\u001b[39m.\u001b[39m_set_prop(prop, value)\n",
      "File \u001b[1;32mc:\\lia-outlier-detection\\venv\\Lib\\site-packages\\plotly\\basedatatypes.py:5328\u001b[0m, in \u001b[0;36mBasePlotlyType._set_array_prop\u001b[1;34m(self, prop, val)\u001b[0m\n\u001b[0;32m   5325\u001b[0m \u001b[39m# Import value\u001b[39;00m\n\u001b[0;32m   5326\u001b[0m \u001b[39m# ------------\u001b[39;00m\n\u001b[0;32m   5327\u001b[0m validator \u001b[39m=\u001b[39m \u001b[39mself\u001b[39m\u001b[39m.\u001b[39m_get_validator(prop)\n\u001b[1;32m-> 5328\u001b[0m val \u001b[39m=\u001b[39m validator\u001b[39m.\u001b[39;49mvalidate_coerce(val, skip_invalid\u001b[39m=\u001b[39;49m\u001b[39mself\u001b[39;49m\u001b[39m.\u001b[39;49m_skip_invalid)\n\u001b[0;32m   5330\u001b[0m \u001b[39m# Save deep copies of current and new states\u001b[39;00m\n\u001b[0;32m   5331\u001b[0m \u001b[39m# ------------------------------------------\u001b[39;00m\n\u001b[0;32m   5332\u001b[0m curr_val \u001b[39m=\u001b[39m \u001b[39mself\u001b[39m\u001b[39m.\u001b[39m_compound_array_props\u001b[39m.\u001b[39mget(prop, \u001b[39mNone\u001b[39;00m)\n",
      "File \u001b[1;32mc:\\lia-outlier-detection\\venv\\Lib\\site-packages\\_plotly_utils\\basevalidators.py:2584\u001b[0m, in \u001b[0;36mCompoundArrayValidator.validate_coerce\u001b[1;34m(self, v, skip_invalid)\u001b[0m\n\u001b[0;32m   2582\u001b[0m         v \u001b[39m=\u001b[39m []\n\u001b[0;32m   2583\u001b[0m     \u001b[39melse\u001b[39;00m:\n\u001b[1;32m-> 2584\u001b[0m         \u001b[39mself\u001b[39;49m\u001b[39m.\u001b[39;49mraise_invalid_val(v)\n\u001b[0;32m   2586\u001b[0m \u001b[39mreturn\u001b[39;00m v\n",
      "File \u001b[1;32mc:\\lia-outlier-detection\\venv\\Lib\\site-packages\\_plotly_utils\\basevalidators.py:288\u001b[0m, in \u001b[0;36mBaseValidator.raise_invalid_val\u001b[1;34m(self, v, inds)\u001b[0m\n\u001b[0;32m    285\u001b[0m             \u001b[39mfor\u001b[39;00m i \u001b[39min\u001b[39;00m inds:\n\u001b[0;32m    286\u001b[0m                 name \u001b[39m+\u001b[39m\u001b[39m=\u001b[39m \u001b[39m\"\u001b[39m\u001b[39m[\u001b[39m\u001b[39m\"\u001b[39m \u001b[39m+\u001b[39m \u001b[39mstr\u001b[39m(i) \u001b[39m+\u001b[39m \u001b[39m\"\u001b[39m\u001b[39m]\u001b[39m\u001b[39m\"\u001b[39m\n\u001b[1;32m--> 288\u001b[0m         \u001b[39mraise\u001b[39;00m \u001b[39mValueError\u001b[39;00m(\n\u001b[0;32m    289\u001b[0m \u001b[39m            \u001b[39m\u001b[39m\"\"\"\u001b[39;00m\n\u001b[0;32m    290\u001b[0m \u001b[39m    Invalid value of type {typ} received for the '{name}' property of {pname}\u001b[39;00m\n\u001b[0;32m    291\u001b[0m \u001b[39m        Received value: {v}\u001b[39;00m\n\u001b[0;32m    292\u001b[0m \n\u001b[0;32m    293\u001b[0m \u001b[39m{valid_clr_desc}\"\"\"\u001b[39;00m\u001b[39m.\u001b[39mformat(\n\u001b[0;32m    294\u001b[0m                 name\u001b[39m=\u001b[39mname,\n\u001b[0;32m    295\u001b[0m                 pname\u001b[39m=\u001b[39m\u001b[39mself\u001b[39m\u001b[39m.\u001b[39mparent_name,\n\u001b[0;32m    296\u001b[0m                 typ\u001b[39m=\u001b[39mtype_str(v),\n\u001b[0;32m    297\u001b[0m                 v\u001b[39m=\u001b[39m\u001b[39mrepr\u001b[39m(v),\n\u001b[0;32m    298\u001b[0m                 valid_clr_desc\u001b[39m=\u001b[39m\u001b[39mself\u001b[39m\u001b[39m.\u001b[39mdescription(),\n\u001b[0;32m    299\u001b[0m             )\n\u001b[0;32m    300\u001b[0m         )\n",
      "\u001b[1;31mValueError\u001b[0m: \n    Invalid value of type 'builtins.dict' received for the 'selections' property of layout\n        Received value: {'mode': 'lasso', 'shape': 'triangle'}\n\n    The 'selections' property is a tuple of instances of\n    Selection that may be specified as:\n      - A list or tuple of instances of plotly.graph_objs.layout.Selection\n      - A list or tuple of dicts of string/value properties that\n        will be passed to the Selection constructor\n\n        Supported dict properties:\n            \n            line\n                :class:`plotly.graph_objects.layout.selection.L\n                ine` instance or dict with compatible\n                properties\n            name\n                When used in a template, named items are\n                created in the output figure in addition to any\n                items the figure already has in this array. You\n                can modify these items in the output figure by\n                making your own item with `templateitemname`\n                matching this `name` alongside your\n                modifications (including `visible: false` or\n                `enabled: false` to hide it). Has no effect\n                outside of a template.\n            opacity\n                Sets the opacity of the selection.\n            path\n                For `type` \"path\" - a valid SVG path similar to\n                `shapes.path` in data coordinates. Allowed\n                segments are: M, L and Z.\n            templateitemname\n                Used to refer to a named item in this array in\n                the template. Named items from the template\n                will be created even without a matching item in\n                the input figure, but you can modify one by\n                making an item with `templateitemname` matching\n                its `name`, alongside your modifications\n                (including `visible: false` or `enabled: false`\n                to hide it). If there is no template or no\n                matching item, this item will be hidden unless\n                you explicitly show it with `visible: true`.\n            type\n                Specifies the selection type to be drawn. If\n                \"rect\", a rectangle is drawn linking\n                (`x0`,`y0`), (`x1`,`y0`), (`x1`,`y1`) and\n                (`x0`,`y1`). If \"path\", draw a custom SVG path\n                using `path`.\n            x0\n                Sets the selection's starting x position.\n            x1\n                Sets the selection's end x position.\n            xref\n                Sets the selection's x coordinate axis. If set\n                to a x axis id (e.g. \"x\" or \"x2\"), the `x`\n                position refers to a x coordinate. If set to\n                \"paper\", the `x` position refers to the\n                distance from the left of the plotting area in\n                normalized coordinates where 0 (1) corresponds\n                to the left (right). If set to a x axis ID\n                followed by \"domain\" (separated by a space),\n                the position behaves like for \"paper\", but\n                refers to the distance in fractions of the\n                domain length from the left of the domain of\n                that axis: e.g., *x2 domain* refers to the\n                domain of the second x  axis and a x position\n                of 0.5 refers to the point between the left and\n                the right of the domain of the second x axis.\n            y0\n                Sets the selection's starting y position.\n            y1\n                Sets the selection's end y position.\n            yref\n                Sets the selection's x coordinate axis. If set\n                to a y axis id (e.g. \"y\" or \"y2\"), the `y`\n                position refers to a y coordinate. If set to\n                \"paper\", the `y` position refers to the\n                distance from the bottom of the plotting area\n                in normalized coordinates where 0 (1)\n                corresponds to the bottom (top). If set to a y\n                axis ID followed by \"domain\" (separated by a\n                space), the position behaves like for \"paper\",\n                but refers to the distance in fractions of the\n                domain length from the bottom of the domain of\n                that axis: e.g., *y2 domain* refers to the\n                domain of the second y  axis and a y position\n                of 0.5 refers to the point between the bottom\n                and the top of the domain of the second y axis.\n"
     ]
    }
   ],
   "source": [
    "import plotly.graph_objs as go\n",
    "\n",
    "fig = go.Figure(data=go.Scatter(x=[1, 2, 3, 4, 5],\n",
    "                                y=[1, 2, 3, 4, 5],\n",
    "                                mode='markers'))\n",
    "\n",
    "fig.update_layout(\n",
    "    dragmode='select',\n",
    "    selectdirection='h',\n",
    "    boxmode='group',\n",
    "    # Add the box select tool\n",
    "    selections=dict(\n",
    "        mode='lasso',\n",
    "        # Set the shape of the lasso selector to be a triangle\n",
    "        shape='triangle'\n",
    "    )\n",
    ")\n",
    "\n",
    "def update_selected_points(trace, points, selector):\n",
    "    # Get the indices of the selected points\n",
    "    inds = [p['pointIndex'] for p in points['points']]\n",
    "    # Update the marker symbol of the selected points to triangles\n",
    "    fig.data[0].marker.symbol[inds] = 'triangle'\n",
    "\n",
    "fig.update_layout(\n",
    "    dragmode='select',\n",
    "    selectdirection='height',\n",
    "    boxmode='group',\n",
    "    selections=dict(\n",
    "        mode='lasso',\n",
    "        shape='triangle',\n",
    "        # Add the callback function to the box select tool\n",
    "        onselection=update_selected_points\n",
    "    )\n",
    ")\n",
    "\n",
    "\n"
   ]
  },
  {
   "cell_type": "code",
   "execution_count": 4,
   "metadata": {},
   "outputs": [
    {
     "ename": "ValueError",
     "evalue": "Invalid property specified for object of type plotly.graph_objs.Layout: 'select'\n\nDid you mean \"height\"?\n\n    Valid properties:\n        activeselection\n            :class:`plotly.graph_objects.layout.Activeselection`\n            instance or dict with compatible properties\n        activeshape\n            :class:`plotly.graph_objects.layout.Activeshape`\n            instance or dict with compatible properties\n        annotations\n            A tuple of\n            :class:`plotly.graph_objects.layout.Annotation`\n            instances or dicts with compatible properties\n        annotationdefaults\n            When used in a template (as\n            layout.template.layout.annotationdefaults), sets the\n            default property values to use for elements of\n            layout.annotations\n        autosize\n            Determines whether or not a layout width or height that\n            has been left undefined by the user is initialized on\n            each relayout. Note that, regardless of this attribute,\n            an undefined layout width or height is always\n            initialized on the first call to plot.\n        autotypenumbers\n            Using \"strict\" a numeric string in trace data is not\n            converted to a number. Using *convert types* a numeric\n            string in trace data may be treated as a number during\n            automatic axis `type` detection. This is the default\n            value; however it could be overridden for individual\n            axes.\n        bargap\n            Sets the gap (in plot fraction) between bars of\n            adjacent location coordinates.\n        bargroupgap\n            Sets the gap (in plot fraction) between bars of the\n            same location coordinate.\n        barmode\n            Determines how bars at the same location coordinate are\n            displayed on the graph. With \"stack\", the bars are\n            stacked on top of one another With \"relative\", the bars\n            are stacked on top of one another, with negative values\n            below the axis, positive values above With \"group\", the\n            bars are plotted next to one another centered around\n            the shared location. With \"overlay\", the bars are\n            plotted over one another, you might need to reduce\n            \"opacity\" to see multiple bars.\n        barnorm\n            Sets the normalization for bar traces on the graph.\n            With \"fraction\", the value of each bar is divided by\n            the sum of all values at that location coordinate.\n            \"percent\" is the same but multiplied by 100 to show\n            percentages.\n        boxgap\n            Sets the gap (in plot fraction) between boxes of\n            adjacent location coordinates. Has no effect on traces\n            that have \"width\" set.\n        boxgroupgap\n            Sets the gap (in plot fraction) between boxes of the\n            same location coordinate. Has no effect on traces that\n            have \"width\" set.\n        boxmode\n            Determines how boxes at the same location coordinate\n            are displayed on the graph. If \"group\", the boxes are\n            plotted next to one another centered around the shared\n            location. If \"overlay\", the boxes are plotted over one\n            another, you might need to set \"opacity\" to see them\n            multiple boxes. Has no effect on traces that have\n            \"width\" set.\n        calendar\n            Sets the default calendar system to use for\n            interpreting and displaying dates throughout the plot.\n        clickmode\n            Determines the mode of single click interactions.\n            \"event\" is the default value and emits the\n            `plotly_click` event. In addition this mode emits the\n            `plotly_selected` event in drag modes \"lasso\" and\n            \"select\", but with no event data attached (kept for\n            compatibility reasons). The \"select\" flag enables\n            selecting single data points via click. This mode also\n            supports persistent selections, meaning that pressing\n            Shift while clicking, adds to / subtracts from an\n            existing selection. \"select\" with `hovermode`: \"x\" can\n            be confusing, consider explicitly setting `hovermode`:\n            \"closest\" when using this feature. Selection events are\n            sent accordingly as long as \"event\" flag is set as\n            well. When the \"event\" flag is missing, `plotly_click`\n            and `plotly_selected` events are not fired.\n        coloraxis\n            :class:`plotly.graph_objects.layout.Coloraxis` instance\n            or dict with compatible properties\n        colorscale\n            :class:`plotly.graph_objects.layout.Colorscale`\n            instance or dict with compatible properties\n        colorway\n            Sets the default trace colors.\n        computed\n            Placeholder for exporting automargin-impacting values\n            namely `margin.t`, `margin.b`, `margin.l` and\n            `margin.r` in \"full-json\" mode.\n        datarevision\n            If provided, a changed value tells `Plotly.react` that\n            one or more data arrays has changed. This way you can\n            modify arrays in-place rather than making a complete\n            new copy for an incremental change. If NOT provided,\n            `Plotly.react` assumes that data arrays are being\n            treated as immutable, thus any data array with a\n            different identity from its predecessor contains new\n            data.\n        dragmode\n            Determines the mode of drag interactions. \"select\" and\n            \"lasso\" apply only to scatter traces with markers or\n            text. \"orbit\" and \"turntable\" apply only to 3D scenes.\n        editrevision\n            Controls persistence of user-driven changes in\n            `editable: true` configuration, other than trace names\n            and axis titles. Defaults to `layout.uirevision`.\n        extendfunnelareacolors\n            If `true`, the funnelarea slice colors (whether given\n            by `funnelareacolorway` or inherited from `colorway`)\n            will be extended to three times its original length by\n            first repeating every color 20% lighter then each color\n            20% darker. This is intended to reduce the likelihood\n            of reusing the same color when you have many slices,\n            but you can set `false` to disable. Colors provided in\n            the trace, using `marker.colors`, are never extended.\n        extendiciclecolors\n            If `true`, the icicle slice colors (whether given by\n            `iciclecolorway` or inherited from `colorway`) will be\n            extended to three times its original length by first\n            repeating every color 20% lighter then each color 20%\n            darker. This is intended to reduce the likelihood of\n            reusing the same color when you have many slices, but\n            you can set `false` to disable. Colors provided in the\n            trace, using `marker.colors`, are never extended.\n        extendpiecolors\n            If `true`, the pie slice colors (whether given by\n            `piecolorway` or inherited from `colorway`) will be\n            extended to three times its original length by first\n            repeating every color 20% lighter then each color 20%\n            darker. This is intended to reduce the likelihood of\n            reusing the same color when you have many slices, but\n            you can set `false` to disable. Colors provided in the\n            trace, using `marker.colors`, are never extended.\n        extendsunburstcolors\n            If `true`, the sunburst slice colors (whether given by\n            `sunburstcolorway` or inherited from `colorway`) will\n            be extended to three times its original length by first\n            repeating every color 20% lighter then each color 20%\n            darker. This is intended to reduce the likelihood of\n            reusing the same color when you have many slices, but\n            you can set `false` to disable. Colors provided in the\n            trace, using `marker.colors`, are never extended.\n        extendtreemapcolors\n            If `true`, the treemap slice colors (whether given by\n            `treemapcolorway` or inherited from `colorway`) will be\n            extended to three times its original length by first\n            repeating every color 20% lighter then each color 20%\n            darker. This is intended to reduce the likelihood of\n            reusing the same color when you have many slices, but\n            you can set `false` to disable. Colors provided in the\n            trace, using `marker.colors`, are never extended.\n        font\n            Sets the global font. Note that fonts used in traces\n            and other layout components inherit from the global\n            font.\n        funnelareacolorway\n            Sets the default funnelarea slice colors. Defaults to\n            the main `colorway` used for trace colors. If you\n            specify a new list here it can still be extended with\n            lighter and darker colors, see\n            `extendfunnelareacolors`.\n        funnelgap\n            Sets the gap (in plot fraction) between bars of\n            adjacent location coordinates.\n        funnelgroupgap\n            Sets the gap (in plot fraction) between bars of the\n            same location coordinate.\n        funnelmode\n            Determines how bars at the same location coordinate are\n            displayed on the graph. With \"stack\", the bars are\n            stacked on top of one another With \"group\", the bars\n            are plotted next to one another centered around the\n            shared location. With \"overlay\", the bars are plotted\n            over one another, you might need to reduce \"opacity\" to\n            see multiple bars.\n        geo\n            :class:`plotly.graph_objects.layout.Geo` instance or\n            dict with compatible properties\n        grid\n            :class:`plotly.graph_objects.layout.Grid` instance or\n            dict with compatible properties\n        height\n            Sets the plot's height (in px).\n        hiddenlabels\n            hiddenlabels is the funnelarea & pie chart analog of\n            visible:'legendonly' but it can contain many labels,\n            and can simultaneously hide slices from several\n            pies/funnelarea charts\n        hiddenlabelssrc\n            Sets the source reference on Chart Studio Cloud for\n            `hiddenlabels`.\n        hidesources\n            Determines whether or not a text link citing the data\n            source is placed at the bottom-right cored of the\n            figure. Has only an effect only on graphs that have\n            been generated via forked graphs from the Chart Studio\n            Cloud (at https://chart-studio.plotly.com or on-\n            premise).\n        hoverdistance\n            Sets the default distance (in pixels) to look for data\n            to add hover labels (-1 means no cutoff, 0 means no\n            looking for data). This is only a real distance for\n            hovering on point-like objects, like scatter points.\n            For area-like objects (bars, scatter fills, etc)\n            hovering is on inside the area and off outside, but\n            these objects will not supersede hover on point-like\n            objects in case of conflict.\n        hoverlabel\n            :class:`plotly.graph_objects.layout.Hoverlabel`\n            instance or dict with compatible properties\n        hovermode\n            Determines the mode of hover interactions. If\n            \"closest\", a single hoverlabel will appear for the\n            \"closest\" point within the `hoverdistance`. If \"x\" (or\n            \"y\"), multiple hoverlabels will appear for multiple\n            points at the \"closest\" x- (or y-) coordinate within\n            the `hoverdistance`, with the caveat that no more than\n            one hoverlabel will appear per trace. If *x unified*\n            (or *y unified*), a single hoverlabel will appear\n            multiple points at the closest x- (or y-) coordinate\n            within the `hoverdistance` with the caveat that no more\n            than one hoverlabel will appear per trace. In this\n            mode, spikelines are enabled by default perpendicular\n            to the specified axis. If false, hover interactions are\n            disabled.\n        iciclecolorway\n            Sets the default icicle slice colors. Defaults to the\n            main `colorway` used for trace colors. If you specify a\n            new list here it can still be extended with lighter and\n            darker colors, see `extendiciclecolors`.\n        images\n            A tuple of :class:`plotly.graph_objects.layout.Image`\n            instances or dicts with compatible properties\n        imagedefaults\n            When used in a template (as\n            layout.template.layout.imagedefaults), sets the default\n            property values to use for elements of layout.images\n        legend\n            :class:`plotly.graph_objects.layout.Legend` instance or\n            dict with compatible properties\n        mapbox\n            :class:`plotly.graph_objects.layout.Mapbox` instance or\n            dict with compatible properties\n        margin\n            :class:`plotly.graph_objects.layout.Margin` instance or\n            dict with compatible properties\n        meta\n            Assigns extra meta information that can be used in\n            various `text` attributes. Attributes such as the\n            graph, axis and colorbar `title.text`, annotation\n            `text` `trace.name` in legend items, `rangeselector`,\n            `updatemenus` and `sliders` `label` text all support\n            `meta`. One can access `meta` fields using template\n            strings: `%{meta[i]}` where `i` is the index of the\n            `meta` item in question. `meta` can also be an object\n            for example `{key: value}` which can be accessed\n            %{meta[key]}.\n        metasrc\n            Sets the source reference on Chart Studio Cloud for\n            `meta`.\n        minreducedheight\n            Minimum height of the plot with margin.automargin\n            applied (in px)\n        minreducedwidth\n            Minimum width of the plot with margin.automargin\n            applied (in px)\n        modebar\n            :class:`plotly.graph_objects.layout.Modebar` instance\n            or dict with compatible properties\n        newselection\n            :class:`plotly.graph_objects.layout.Newselection`\n            instance or dict with compatible properties\n        newshape\n            :class:`plotly.graph_objects.layout.Newshape` instance\n            or dict with compatible properties\n        paper_bgcolor\n            Sets the background color of the paper where the graph\n            is drawn.\n        piecolorway\n            Sets the default pie slice colors. Defaults to the main\n            `colorway` used for trace colors. If you specify a new\n            list here it can still be extended with lighter and\n            darker colors, see `extendpiecolors`.\n        plot_bgcolor\n            Sets the background color of the plotting area in-\n            between x and y axes.\n        polar\n            :class:`plotly.graph_objects.layout.Polar` instance or\n            dict with compatible properties\n        scattergap\n            Sets the gap (in plot fraction) between scatter points\n            of adjacent location coordinates. Defaults to `bargap`.\n        scattermode\n            Determines how scatter points at the same location\n            coordinate are displayed on the graph. With \"group\",\n            the scatter points are plotted next to one another\n            centered around the shared location. With \"overlay\",\n            the scatter points are plotted over one another, you\n            might need to reduce \"opacity\" to see multiple scatter\n            points.\n        scene\n            :class:`plotly.graph_objects.layout.Scene` instance or\n            dict with compatible properties\n        selectdirection\n            When `dragmode` is set to \"select\", this limits the\n            selection of the drag to horizontal, vertical or\n            diagonal. \"h\" only allows horizontal selection, \"v\"\n            only vertical, \"d\" only diagonal and \"any\" sets no\n            limit.\n        selectionrevision\n            Controls persistence of user-driven changes in selected\n            points from all traces.\n        selections\n            A tuple of\n            :class:`plotly.graph_objects.layout.Selection`\n            instances or dicts with compatible properties\n        selectiondefaults\n            When used in a template (as\n            layout.template.layout.selectiondefaults), sets the\n            default property values to use for elements of\n            layout.selections\n        separators\n            Sets the decimal and thousand separators. For example,\n            *. * puts a '.' before decimals and a space between\n            thousands. In English locales, dflt is \".,\" but other\n            locales may alter this default.\n        shapes\n            A tuple of :class:`plotly.graph_objects.layout.Shape`\n            instances or dicts with compatible properties\n        shapedefaults\n            When used in a template (as\n            layout.template.layout.shapedefaults), sets the default\n            property values to use for elements of layout.shapes\n        showlegend\n            Determines whether or not a legend is drawn. Default is\n            `true` if there is a trace to show and any of these: a)\n            Two or more traces would by default be shown in the\n            legend. b) One pie trace is shown in the legend. c) One\n            trace is explicitly given with `showlegend: true`.\n        sliders\n            A tuple of :class:`plotly.graph_objects.layout.Slider`\n            instances or dicts with compatible properties\n        sliderdefaults\n            When used in a template (as\n            layout.template.layout.sliderdefaults), sets the\n            default property values to use for elements of\n            layout.sliders\n        smith\n            :class:`plotly.graph_objects.layout.Smith` instance or\n            dict with compatible properties\n        spikedistance\n            Sets the default distance (in pixels) to look for data\n            to draw spikelines to (-1 means no cutoff, 0 means no\n            looking for data). As with hoverdistance, distance does\n            not apply to area-like objects. In addition, some\n            objects can be hovered on but will not generate\n            spikelines, such as scatter fills.\n        sunburstcolorway\n            Sets the default sunburst slice colors. Defaults to the\n            main `colorway` used for trace colors. If you specify a\n            new list here it can still be extended with lighter and\n            darker colors, see `extendsunburstcolors`.\n        template\n            Default attributes to be applied to the plot. This\n            should be a dict with format: `{'layout':\n            layoutTemplate, 'data': {trace_type: [traceTemplate,\n            ...], ...}}` where `layoutTemplate` is a dict matching\n            the structure of `figure.layout` and `traceTemplate` is\n            a dict matching the structure of the trace with type\n            `trace_type` (e.g. 'scatter'). Alternatively, this may\n            be specified as an instance of\n            plotly.graph_objs.layout.Template.  Trace templates are\n            applied cyclically to traces of each type. Container\n            arrays (eg `annotations`) have special handling: An\n            object ending in `defaults` (eg `annotationdefaults`)\n            is applied to each array item. But if an item has a\n            `templateitemname` key we look in the template array\n            for an item with matching `name` and apply that\n            instead. If no matching `name` is found we mark the\n            item invisible. Any named template item not referenced\n            is appended to the end of the array, so this can be\n            used to add a watermark annotation or a logo image, for\n            example. To omit one of these items on the plot, make\n            an item with matching `templateitemname` and `visible:\n            false`.\n        ternary\n            :class:`plotly.graph_objects.layout.Ternary` instance\n            or dict with compatible properties\n        title\n            :class:`plotly.graph_objects.layout.Title` instance or\n            dict with compatible properties\n        titlefont\n            Deprecated: Please use layout.title.font instead. Sets\n            the title font. Note that the title's font used to be\n            customized by the now deprecated `titlefont` attribute.\n        transition\n            Sets transition options used during Plotly.react\n            updates.\n        treemapcolorway\n            Sets the default treemap slice colors. Defaults to the\n            main `colorway` used for trace colors. If you specify a\n            new list here it can still be extended with lighter and\n            darker colors, see `extendtreemapcolors`.\n        uirevision\n            Used to allow user interactions with the plot to\n            persist after `Plotly.react` calls that are unaware of\n            these interactions. If `uirevision` is omitted, or if\n            it is given and it changed from the previous\n            `Plotly.react` call, the exact new figure is used. If\n            `uirevision` is truthy and did NOT change, any\n            attribute that has been affected by user interactions\n            and did not receive a different value in the new figure\n            will keep the interaction value. `layout.uirevision`\n            attribute serves as the default for `uirevision`\n            attributes in various sub-containers. For finer control\n            you can set these sub-attributes directly. For example,\n            if your app separately controls the data on the x and y\n            axes you might set `xaxis.uirevision=*time*` and\n            `yaxis.uirevision=*cost*`. Then if only the y data is\n            changed, you can update `yaxis.uirevision=*quantity*`\n            and the y axis range will reset but the x axis range\n            will retain any user-driven zoom.\n        uniformtext\n            :class:`plotly.graph_objects.layout.Uniformtext`\n            instance or dict with compatible properties\n        updatemenus\n            A tuple of\n            :class:`plotly.graph_objects.layout.Updatemenu`\n            instances or dicts with compatible properties\n        updatemenudefaults\n            When used in a template (as\n            layout.template.layout.updatemenudefaults), sets the\n            default property values to use for elements of\n            layout.updatemenus\n        violingap\n            Sets the gap (in plot fraction) between violins of\n            adjacent location coordinates. Has no effect on traces\n            that have \"width\" set.\n        violingroupgap\n            Sets the gap (in plot fraction) between violins of the\n            same location coordinate. Has no effect on traces that\n            have \"width\" set.\n        violinmode\n            Determines how violins at the same location coordinate\n            are displayed on the graph. If \"group\", the violins are\n            plotted next to one another centered around the shared\n            location. If \"overlay\", the violins are plotted over\n            one another, you might need to set \"opacity\" to see\n            them multiple violins. Has no effect on traces that\n            have \"width\" set.\n        waterfallgap\n            Sets the gap (in plot fraction) between bars of\n            adjacent location coordinates.\n        waterfallgroupgap\n            Sets the gap (in plot fraction) between bars of the\n            same location coordinate.\n        waterfallmode\n            Determines how bars at the same location coordinate are\n            displayed on the graph. With \"group\", the bars are\n            plotted next to one another centered around the shared\n            location. With \"overlay\", the bars are plotted over one\n            another, you might need to reduce \"opacity\" to see\n            multiple bars.\n        width\n            Sets the plot's width (in px).\n        xaxis\n            :class:`plotly.graph_objects.layout.XAxis` instance or\n            dict with compatible properties\n        yaxis\n            :class:`plotly.graph_objects.layout.YAxis` instance or\n            dict with compatible properties\n        \nDid you mean \"height\"?\n\nBad property path:\nselect\n^^^^^^",
     "output_type": "error",
     "traceback": [
      "\u001b[1;31m---------------------------------------------------------------------------\u001b[0m",
      "\u001b[1;31mValueError\u001b[0m                                Traceback (most recent call last)",
      "Cell \u001b[1;32mIn[4], line 7\u001b[0m\n\u001b[0;32m      1\u001b[0m \u001b[39mimport\u001b[39;00m \u001b[39mplotly\u001b[39;00m\u001b[39m.\u001b[39;00m\u001b[39mgraph_objs\u001b[39;00m \u001b[39mas\u001b[39;00m \u001b[39mgo\u001b[39;00m\n\u001b[0;32m      3\u001b[0m fig \u001b[39m=\u001b[39m go\u001b[39m.\u001b[39mFigure(data\u001b[39m=\u001b[39mgo\u001b[39m.\u001b[39mScatter(x\u001b[39m=\u001b[39m[\u001b[39m1\u001b[39m, \u001b[39m2\u001b[39m, \u001b[39m3\u001b[39m, \u001b[39m4\u001b[39m, \u001b[39m5\u001b[39m],\n\u001b[0;32m      4\u001b[0m                                 y\u001b[39m=\u001b[39m[\u001b[39m1\u001b[39m, \u001b[39m2\u001b[39m, \u001b[39m3\u001b[39m, \u001b[39m4\u001b[39m, \u001b[39m5\u001b[39m],\n\u001b[0;32m      5\u001b[0m                                 mode\u001b[39m=\u001b[39m\u001b[39m'\u001b[39m\u001b[39mmarkers\u001b[39m\u001b[39m'\u001b[39m))\n\u001b[1;32m----> 7\u001b[0m fig\u001b[39m.\u001b[39;49mupdate_layout(\n\u001b[0;32m      8\u001b[0m     dragmode\u001b[39m=\u001b[39;49m\u001b[39m'\u001b[39;49m\u001b[39mselect\u001b[39;49m\u001b[39m'\u001b[39;49m,\n\u001b[0;32m      9\u001b[0m     selectdirection\u001b[39m=\u001b[39;49m\u001b[39m'\u001b[39;49m\u001b[39mh\u001b[39;49m\u001b[39m'\u001b[39;49m,\n\u001b[0;32m     10\u001b[0m     boxmode\u001b[39m=\u001b[39;49m\u001b[39m'\u001b[39;49m\u001b[39mgroup\u001b[39;49m\u001b[39m'\u001b[39;49m,\n\u001b[0;32m     11\u001b[0m     \u001b[39m# Add the box select tool\u001b[39;49;00m\n\u001b[0;32m     12\u001b[0m     \u001b[39m*\u001b[39;49m\u001b[39m*\u001b[39;49m\u001b[39mdict\u001b[39;49m(\n\u001b[0;32m     13\u001b[0m         select\u001b[39m=\u001b[39;49m\u001b[39mdict\u001b[39;49m(\n\u001b[0;32m     14\u001b[0m             mode\u001b[39m=\u001b[39;49m\u001b[39m'\u001b[39;49m\u001b[39mlasso\u001b[39;49m\u001b[39m'\u001b[39;49m,\n\u001b[0;32m     15\u001b[0m             \u001b[39m# Set the shape of the lasso selector to be a triangle\u001b[39;49;00m\n\u001b[0;32m     16\u001b[0m             shape\u001b[39m=\u001b[39;49m\u001b[39m'\u001b[39;49m\u001b[39mtriangle\u001b[39;49m\u001b[39m'\u001b[39;49m\n\u001b[0;32m     17\u001b[0m         )\n\u001b[0;32m     18\u001b[0m     )\n\u001b[0;32m     19\u001b[0m )\n\u001b[0;32m     21\u001b[0m \u001b[39mdef\u001b[39;00m \u001b[39mupdate_selected_points\u001b[39m(trace, points, selector):\n\u001b[0;32m     22\u001b[0m     \u001b[39m# Get the indices of the selected points\u001b[39;00m\n\u001b[0;32m     23\u001b[0m     inds \u001b[39m=\u001b[39m [p[\u001b[39m'\u001b[39m\u001b[39mpointIndex\u001b[39m\u001b[39m'\u001b[39m] \u001b[39mfor\u001b[39;00m p \u001b[39min\u001b[39;00m points[\u001b[39m'\u001b[39m\u001b[39mpoints\u001b[39m\u001b[39m'\u001b[39m]]\n",
      "File \u001b[1;32mc:\\lia-outlier-detection\\venv\\Lib\\site-packages\\plotly\\graph_objs\\_figure.py:775\u001b[0m, in \u001b[0;36mFigure.update_layout\u001b[1;34m(self, dict1, overwrite, **kwargs)\u001b[0m\n\u001b[0;32m    749\u001b[0m \u001b[39mdef\u001b[39;00m \u001b[39mupdate_layout\u001b[39m(\u001b[39mself\u001b[39m, dict1\u001b[39m=\u001b[39m\u001b[39mNone\u001b[39;00m, overwrite\u001b[39m=\u001b[39m\u001b[39mFalse\u001b[39;00m, \u001b[39m*\u001b[39m\u001b[39m*\u001b[39mkwargs) \u001b[39m-\u001b[39m\u001b[39m>\u001b[39m \u001b[39m\"\u001b[39m\u001b[39mFigure\u001b[39m\u001b[39m\"\u001b[39m:\n\u001b[0;32m    750\u001b[0m \u001b[39m    \u001b[39m\u001b[39m\"\"\"\u001b[39;00m\n\u001b[0;32m    751\u001b[0m \n\u001b[0;32m    752\u001b[0m \u001b[39m    Update the properties of the figure's layout with a dict and/or with\u001b[39;00m\n\u001b[1;32m   (...)\u001b[0m\n\u001b[0;32m    773\u001b[0m \n\u001b[0;32m    774\u001b[0m \u001b[39m    \"\"\"\u001b[39;00m\n\u001b[1;32m--> 775\u001b[0m     \u001b[39mreturn\u001b[39;00m \u001b[39msuper\u001b[39;49m(Figure, \u001b[39mself\u001b[39;49m)\u001b[39m.\u001b[39;49mupdate_layout(dict1, overwrite, \u001b[39m*\u001b[39;49m\u001b[39m*\u001b[39;49mkwargs)\n",
      "File \u001b[1;32mc:\\lia-outlier-detection\\venv\\Lib\\site-packages\\plotly\\basedatatypes.py:1393\u001b[0m, in \u001b[0;36mBaseFigure.update_layout\u001b[1;34m(self, dict1, overwrite, **kwargs)\u001b[0m\n\u001b[0;32m   1369\u001b[0m \u001b[39mdef\u001b[39;00m \u001b[39mupdate_layout\u001b[39m(\u001b[39mself\u001b[39m, dict1\u001b[39m=\u001b[39m\u001b[39mNone\u001b[39;00m, overwrite\u001b[39m=\u001b[39m\u001b[39mFalse\u001b[39;00m, \u001b[39m*\u001b[39m\u001b[39m*\u001b[39mkwargs):\n\u001b[0;32m   1370\u001b[0m \u001b[39m    \u001b[39m\u001b[39m\"\"\"\u001b[39;00m\n\u001b[0;32m   1371\u001b[0m \u001b[39m    Update the properties of the figure's layout with a dict and/or with\u001b[39;00m\n\u001b[0;32m   1372\u001b[0m \u001b[39m    keyword arguments.\u001b[39;00m\n\u001b[1;32m   (...)\u001b[0m\n\u001b[0;32m   1391\u001b[0m \u001b[39m        The Figure object that the update_layout method was called on\u001b[39;00m\n\u001b[0;32m   1392\u001b[0m \u001b[39m    \"\"\"\u001b[39;00m\n\u001b[1;32m-> 1393\u001b[0m     \u001b[39mself\u001b[39;49m\u001b[39m.\u001b[39;49mlayout\u001b[39m.\u001b[39;49mupdate(dict1, overwrite\u001b[39m=\u001b[39;49moverwrite, \u001b[39m*\u001b[39;49m\u001b[39m*\u001b[39;49mkwargs)\n\u001b[0;32m   1394\u001b[0m     \u001b[39mreturn\u001b[39;00m \u001b[39mself\u001b[39m\n",
      "File \u001b[1;32mc:\\lia-outlier-detection\\venv\\Lib\\site-packages\\plotly\\basedatatypes.py:5114\u001b[0m, in \u001b[0;36mBasePlotlyType.update\u001b[1;34m(self, dict1, overwrite, **kwargs)\u001b[0m\n\u001b[0;32m   5112\u001b[0m     \u001b[39mwith\u001b[39;00m \u001b[39mself\u001b[39m\u001b[39m.\u001b[39mfigure\u001b[39m.\u001b[39mbatch_update():\n\u001b[0;32m   5113\u001b[0m         BaseFigure\u001b[39m.\u001b[39m_perform_update(\u001b[39mself\u001b[39m, dict1, overwrite\u001b[39m=\u001b[39moverwrite)\n\u001b[1;32m-> 5114\u001b[0m         BaseFigure\u001b[39m.\u001b[39;49m_perform_update(\u001b[39mself\u001b[39;49m, kwargs, overwrite\u001b[39m=\u001b[39;49moverwrite)\n\u001b[0;32m   5115\u001b[0m \u001b[39melse\u001b[39;00m:\n\u001b[0;32m   5116\u001b[0m     BaseFigure\u001b[39m.\u001b[39m_perform_update(\u001b[39mself\u001b[39m, dict1, overwrite\u001b[39m=\u001b[39moverwrite)\n",
      "File \u001b[1;32mc:\\lia-outlier-detection\\venv\\Lib\\site-packages\\plotly\\basedatatypes.py:3877\u001b[0m, in \u001b[0;36mBaseFigure._perform_update\u001b[1;34m(plotly_obj, update_obj, overwrite)\u001b[0m\n\u001b[0;32m   3873\u001b[0m                 \u001b[39mcontinue\u001b[39;00m\n\u001b[0;32m   3874\u001b[0m         \u001b[39m# If no match, raise the error, which should already\u001b[39;00m\n\u001b[0;32m   3875\u001b[0m         \u001b[39m# contain the _raise_on_invalid_property_error\u001b[39;00m\n\u001b[0;32m   3876\u001b[0m         \u001b[39m# generated message\u001b[39;00m\n\u001b[1;32m-> 3877\u001b[0m         \u001b[39mraise\u001b[39;00m err\n\u001b[0;32m   3879\u001b[0m \u001b[39m# Convert update_obj to dict\u001b[39;00m\n\u001b[0;32m   3880\u001b[0m \u001b[39m# --------------------------\u001b[39;00m\n\u001b[0;32m   3881\u001b[0m \u001b[39mif\u001b[39;00m \u001b[39misinstance\u001b[39m(update_obj, BasePlotlyType):\n",
      "\u001b[1;31mValueError\u001b[0m: Invalid property specified for object of type plotly.graph_objs.Layout: 'select'\n\nDid you mean \"height\"?\n\n    Valid properties:\n        activeselection\n            :class:`plotly.graph_objects.layout.Activeselection`\n            instance or dict with compatible properties\n        activeshape\n            :class:`plotly.graph_objects.layout.Activeshape`\n            instance or dict with compatible properties\n        annotations\n            A tuple of\n            :class:`plotly.graph_objects.layout.Annotation`\n            instances or dicts with compatible properties\n        annotationdefaults\n            When used in a template (as\n            layout.template.layout.annotationdefaults), sets the\n            default property values to use for elements of\n            layout.annotations\n        autosize\n            Determines whether or not a layout width or height that\n            has been left undefined by the user is initialized on\n            each relayout. Note that, regardless of this attribute,\n            an undefined layout width or height is always\n            initialized on the first call to plot.\n        autotypenumbers\n            Using \"strict\" a numeric string in trace data is not\n            converted to a number. Using *convert types* a numeric\n            string in trace data may be treated as a number during\n            automatic axis `type` detection. This is the default\n            value; however it could be overridden for individual\n            axes.\n        bargap\n            Sets the gap (in plot fraction) between bars of\n            adjacent location coordinates.\n        bargroupgap\n            Sets the gap (in plot fraction) between bars of the\n            same location coordinate.\n        barmode\n            Determines how bars at the same location coordinate are\n            displayed on the graph. With \"stack\", the bars are\n            stacked on top of one another With \"relative\", the bars\n            are stacked on top of one another, with negative values\n            below the axis, positive values above With \"group\", the\n            bars are plotted next to one another centered around\n            the shared location. With \"overlay\", the bars are\n            plotted over one another, you might need to reduce\n            \"opacity\" to see multiple bars.\n        barnorm\n            Sets the normalization for bar traces on the graph.\n            With \"fraction\", the value of each bar is divided by\n            the sum of all values at that location coordinate.\n            \"percent\" is the same but multiplied by 100 to show\n            percentages.\n        boxgap\n            Sets the gap (in plot fraction) between boxes of\n            adjacent location coordinates. Has no effect on traces\n            that have \"width\" set.\n        boxgroupgap\n            Sets the gap (in plot fraction) between boxes of the\n            same location coordinate. Has no effect on traces that\n            have \"width\" set.\n        boxmode\n            Determines how boxes at the same location coordinate\n            are displayed on the graph. If \"group\", the boxes are\n            plotted next to one another centered around the shared\n            location. If \"overlay\", the boxes are plotted over one\n            another, you might need to set \"opacity\" to see them\n            multiple boxes. Has no effect on traces that have\n            \"width\" set.\n        calendar\n            Sets the default calendar system to use for\n            interpreting and displaying dates throughout the plot.\n        clickmode\n            Determines the mode of single click interactions.\n            \"event\" is the default value and emits the\n            `plotly_click` event. In addition this mode emits the\n            `plotly_selected` event in drag modes \"lasso\" and\n            \"select\", but with no event data attached (kept for\n            compatibility reasons). The \"select\" flag enables\n            selecting single data points via click. This mode also\n            supports persistent selections, meaning that pressing\n            Shift while clicking, adds to / subtracts from an\n            existing selection. \"select\" with `hovermode`: \"x\" can\n            be confusing, consider explicitly setting `hovermode`:\n            \"closest\" when using this feature. Selection events are\n            sent accordingly as long as \"event\" flag is set as\n            well. When the \"event\" flag is missing, `plotly_click`\n            and `plotly_selected` events are not fired.\n        coloraxis\n            :class:`plotly.graph_objects.layout.Coloraxis` instance\n            or dict with compatible properties\n        colorscale\n            :class:`plotly.graph_objects.layout.Colorscale`\n            instance or dict with compatible properties\n        colorway\n            Sets the default trace colors.\n        computed\n            Placeholder for exporting automargin-impacting values\n            namely `margin.t`, `margin.b`, `margin.l` and\n            `margin.r` in \"full-json\" mode.\n        datarevision\n            If provided, a changed value tells `Plotly.react` that\n            one or more data arrays has changed. This way you can\n            modify arrays in-place rather than making a complete\n            new copy for an incremental change. If NOT provided,\n            `Plotly.react` assumes that data arrays are being\n            treated as immutable, thus any data array with a\n            different identity from its predecessor contains new\n            data.\n        dragmode\n            Determines the mode of drag interactions. \"select\" and\n            \"lasso\" apply only to scatter traces with markers or\n            text. \"orbit\" and \"turntable\" apply only to 3D scenes.\n        editrevision\n            Controls persistence of user-driven changes in\n            `editable: true` configuration, other than trace names\n            and axis titles. Defaults to `layout.uirevision`.\n        extendfunnelareacolors\n            If `true`, the funnelarea slice colors (whether given\n            by `funnelareacolorway` or inherited from `colorway`)\n            will be extended to three times its original length by\n            first repeating every color 20% lighter then each color\n            20% darker. This is intended to reduce the likelihood\n            of reusing the same color when you have many slices,\n            but you can set `false` to disable. Colors provided in\n            the trace, using `marker.colors`, are never extended.\n        extendiciclecolors\n            If `true`, the icicle slice colors (whether given by\n            `iciclecolorway` or inherited from `colorway`) will be\n            extended to three times its original length by first\n            repeating every color 20% lighter then each color 20%\n            darker. This is intended to reduce the likelihood of\n            reusing the same color when you have many slices, but\n            you can set `false` to disable. Colors provided in the\n            trace, using `marker.colors`, are never extended.\n        extendpiecolors\n            If `true`, the pie slice colors (whether given by\n            `piecolorway` or inherited from `colorway`) will be\n            extended to three times its original length by first\n            repeating every color 20% lighter then each color 20%\n            darker. This is intended to reduce the likelihood of\n            reusing the same color when you have many slices, but\n            you can set `false` to disable. Colors provided in the\n            trace, using `marker.colors`, are never extended.\n        extendsunburstcolors\n            If `true`, the sunburst slice colors (whether given by\n            `sunburstcolorway` or inherited from `colorway`) will\n            be extended to three times its original length by first\n            repeating every color 20% lighter then each color 20%\n            darker. This is intended to reduce the likelihood of\n            reusing the same color when you have many slices, but\n            you can set `false` to disable. Colors provided in the\n            trace, using `marker.colors`, are never extended.\n        extendtreemapcolors\n            If `true`, the treemap slice colors (whether given by\n            `treemapcolorway` or inherited from `colorway`) will be\n            extended to three times its original length by first\n            repeating every color 20% lighter then each color 20%\n            darker. This is intended to reduce the likelihood of\n            reusing the same color when you have many slices, but\n            you can set `false` to disable. Colors provided in the\n            trace, using `marker.colors`, are never extended.\n        font\n            Sets the global font. Note that fonts used in traces\n            and other layout components inherit from the global\n            font.\n        funnelareacolorway\n            Sets the default funnelarea slice colors. Defaults to\n            the main `colorway` used for trace colors. If you\n            specify a new list here it can still be extended with\n            lighter and darker colors, see\n            `extendfunnelareacolors`.\n        funnelgap\n            Sets the gap (in plot fraction) between bars of\n            adjacent location coordinates.\n        funnelgroupgap\n            Sets the gap (in plot fraction) between bars of the\n            same location coordinate.\n        funnelmode\n            Determines how bars at the same location coordinate are\n            displayed on the graph. With \"stack\", the bars are\n            stacked on top of one another With \"group\", the bars\n            are plotted next to one another centered around the\n            shared location. With \"overlay\", the bars are plotted\n            over one another, you might need to reduce \"opacity\" to\n            see multiple bars.\n        geo\n            :class:`plotly.graph_objects.layout.Geo` instance or\n            dict with compatible properties\n        grid\n            :class:`plotly.graph_objects.layout.Grid` instance or\n            dict with compatible properties\n        height\n            Sets the plot's height (in px).\n        hiddenlabels\n            hiddenlabels is the funnelarea & pie chart analog of\n            visible:'legendonly' but it can contain many labels,\n            and can simultaneously hide slices from several\n            pies/funnelarea charts\n        hiddenlabelssrc\n            Sets the source reference on Chart Studio Cloud for\n            `hiddenlabels`.\n        hidesources\n            Determines whether or not a text link citing the data\n            source is placed at the bottom-right cored of the\n            figure. Has only an effect only on graphs that have\n            been generated via forked graphs from the Chart Studio\n            Cloud (at https://chart-studio.plotly.com or on-\n            premise).\n        hoverdistance\n            Sets the default distance (in pixels) to look for data\n            to add hover labels (-1 means no cutoff, 0 means no\n            looking for data). This is only a real distance for\n            hovering on point-like objects, like scatter points.\n            For area-like objects (bars, scatter fills, etc)\n            hovering is on inside the area and off outside, but\n            these objects will not supersede hover on point-like\n            objects in case of conflict.\n        hoverlabel\n            :class:`plotly.graph_objects.layout.Hoverlabel`\n            instance or dict with compatible properties\n        hovermode\n            Determines the mode of hover interactions. If\n            \"closest\", a single hoverlabel will appear for the\n            \"closest\" point within the `hoverdistance`. If \"x\" (or\n            \"y\"), multiple hoverlabels will appear for multiple\n            points at the \"closest\" x- (or y-) coordinate within\n            the `hoverdistance`, with the caveat that no more than\n            one hoverlabel will appear per trace. If *x unified*\n            (or *y unified*), a single hoverlabel will appear\n            multiple points at the closest x- (or y-) coordinate\n            within the `hoverdistance` with the caveat that no more\n            than one hoverlabel will appear per trace. In this\n            mode, spikelines are enabled by default perpendicular\n            to the specified axis. If false, hover interactions are\n            disabled.\n        iciclecolorway\n            Sets the default icicle slice colors. Defaults to the\n            main `colorway` used for trace colors. If you specify a\n            new list here it can still be extended with lighter and\n            darker colors, see `extendiciclecolors`.\n        images\n            A tuple of :class:`plotly.graph_objects.layout.Image`\n            instances or dicts with compatible properties\n        imagedefaults\n            When used in a template (as\n            layout.template.layout.imagedefaults), sets the default\n            property values to use for elements of layout.images\n        legend\n            :class:`plotly.graph_objects.layout.Legend` instance or\n            dict with compatible properties\n        mapbox\n            :class:`plotly.graph_objects.layout.Mapbox` instance or\n            dict with compatible properties\n        margin\n            :class:`plotly.graph_objects.layout.Margin` instance or\n            dict with compatible properties\n        meta\n            Assigns extra meta information that can be used in\n            various `text` attributes. Attributes such as the\n            graph, axis and colorbar `title.text`, annotation\n            `text` `trace.name` in legend items, `rangeselector`,\n            `updatemenus` and `sliders` `label` text all support\n            `meta`. One can access `meta` fields using template\n            strings: `%{meta[i]}` where `i` is the index of the\n            `meta` item in question. `meta` can also be an object\n            for example `{key: value}` which can be accessed\n            %{meta[key]}.\n        metasrc\n            Sets the source reference on Chart Studio Cloud for\n            `meta`.\n        minreducedheight\n            Minimum height of the plot with margin.automargin\n            applied (in px)\n        minreducedwidth\n            Minimum width of the plot with margin.automargin\n            applied (in px)\n        modebar\n            :class:`plotly.graph_objects.layout.Modebar` instance\n            or dict with compatible properties\n        newselection\n            :class:`plotly.graph_objects.layout.Newselection`\n            instance or dict with compatible properties\n        newshape\n            :class:`plotly.graph_objects.layout.Newshape` instance\n            or dict with compatible properties\n        paper_bgcolor\n            Sets the background color of the paper where the graph\n            is drawn.\n        piecolorway\n            Sets the default pie slice colors. Defaults to the main\n            `colorway` used for trace colors. If you specify a new\n            list here it can still be extended with lighter and\n            darker colors, see `extendpiecolors`.\n        plot_bgcolor\n            Sets the background color of the plotting area in-\n            between x and y axes.\n        polar\n            :class:`plotly.graph_objects.layout.Polar` instance or\n            dict with compatible properties\n        scattergap\n            Sets the gap (in plot fraction) between scatter points\n            of adjacent location coordinates. Defaults to `bargap`.\n        scattermode\n            Determines how scatter points at the same location\n            coordinate are displayed on the graph. With \"group\",\n            the scatter points are plotted next to one another\n            centered around the shared location. With \"overlay\",\n            the scatter points are plotted over one another, you\n            might need to reduce \"opacity\" to see multiple scatter\n            points.\n        scene\n            :class:`plotly.graph_objects.layout.Scene` instance or\n            dict with compatible properties\n        selectdirection\n            When `dragmode` is set to \"select\", this limits the\n            selection of the drag to horizontal, vertical or\n            diagonal. \"h\" only allows horizontal selection, \"v\"\n            only vertical, \"d\" only diagonal and \"any\" sets no\n            limit.\n        selectionrevision\n            Controls persistence of user-driven changes in selected\n            points from all traces.\n        selections\n            A tuple of\n            :class:`plotly.graph_objects.layout.Selection`\n            instances or dicts with compatible properties\n        selectiondefaults\n            When used in a template (as\n            layout.template.layout.selectiondefaults), sets the\n            default property values to use for elements of\n            layout.selections\n        separators\n            Sets the decimal and thousand separators. For example,\n            *. * puts a '.' before decimals and a space between\n            thousands. In English locales, dflt is \".,\" but other\n            locales may alter this default.\n        shapes\n            A tuple of :class:`plotly.graph_objects.layout.Shape`\n            instances or dicts with compatible properties\n        shapedefaults\n            When used in a template (as\n            layout.template.layout.shapedefaults), sets the default\n            property values to use for elements of layout.shapes\n        showlegend\n            Determines whether or not a legend is drawn. Default is\n            `true` if there is a trace to show and any of these: a)\n            Two or more traces would by default be shown in the\n            legend. b) One pie trace is shown in the legend. c) One\n            trace is explicitly given with `showlegend: true`.\n        sliders\n            A tuple of :class:`plotly.graph_objects.layout.Slider`\n            instances or dicts with compatible properties\n        sliderdefaults\n            When used in a template (as\n            layout.template.layout.sliderdefaults), sets the\n            default property values to use for elements of\n            layout.sliders\n        smith\n            :class:`plotly.graph_objects.layout.Smith` instance or\n            dict with compatible properties\n        spikedistance\n            Sets the default distance (in pixels) to look for data\n            to draw spikelines to (-1 means no cutoff, 0 means no\n            looking for data). As with hoverdistance, distance does\n            not apply to area-like objects. In addition, some\n            objects can be hovered on but will not generate\n            spikelines, such as scatter fills.\n        sunburstcolorway\n            Sets the default sunburst slice colors. Defaults to the\n            main `colorway` used for trace colors. If you specify a\n            new list here it can still be extended with lighter and\n            darker colors, see `extendsunburstcolors`.\n        template\n            Default attributes to be applied to the plot. This\n            should be a dict with format: `{'layout':\n            layoutTemplate, 'data': {trace_type: [traceTemplate,\n            ...], ...}}` where `layoutTemplate` is a dict matching\n            the structure of `figure.layout` and `traceTemplate` is\n            a dict matching the structure of the trace with type\n            `trace_type` (e.g. 'scatter'). Alternatively, this may\n            be specified as an instance of\n            plotly.graph_objs.layout.Template.  Trace templates are\n            applied cyclically to traces of each type. Container\n            arrays (eg `annotations`) have special handling: An\n            object ending in `defaults` (eg `annotationdefaults`)\n            is applied to each array item. But if an item has a\n            `templateitemname` key we look in the template array\n            for an item with matching `name` and apply that\n            instead. If no matching `name` is found we mark the\n            item invisible. Any named template item not referenced\n            is appended to the end of the array, so this can be\n            used to add a watermark annotation or a logo image, for\n            example. To omit one of these items on the plot, make\n            an item with matching `templateitemname` and `visible:\n            false`.\n        ternary\n            :class:`plotly.graph_objects.layout.Ternary` instance\n            or dict with compatible properties\n        title\n            :class:`plotly.graph_objects.layout.Title` instance or\n            dict with compatible properties\n        titlefont\n            Deprecated: Please use layout.title.font instead. Sets\n            the title font. Note that the title's font used to be\n            customized by the now deprecated `titlefont` attribute.\n        transition\n            Sets transition options used during Plotly.react\n            updates.\n        treemapcolorway\n            Sets the default treemap slice colors. Defaults to the\n            main `colorway` used for trace colors. If you specify a\n            new list here it can still be extended with lighter and\n            darker colors, see `extendtreemapcolors`.\n        uirevision\n            Used to allow user interactions with the plot to\n            persist after `Plotly.react` calls that are unaware of\n            these interactions. If `uirevision` is omitted, or if\n            it is given and it changed from the previous\n            `Plotly.react` call, the exact new figure is used. If\n            `uirevision` is truthy and did NOT change, any\n            attribute that has been affected by user interactions\n            and did not receive a different value in the new figure\n            will keep the interaction value. `layout.uirevision`\n            attribute serves as the default for `uirevision`\n            attributes in various sub-containers. For finer control\n            you can set these sub-attributes directly. For example,\n            if your app separately controls the data on the x and y\n            axes you might set `xaxis.uirevision=*time*` and\n            `yaxis.uirevision=*cost*`. Then if only the y data is\n            changed, you can update `yaxis.uirevision=*quantity*`\n            and the y axis range will reset but the x axis range\n            will retain any user-driven zoom.\n        uniformtext\n            :class:`plotly.graph_objects.layout.Uniformtext`\n            instance or dict with compatible properties\n        updatemenus\n            A tuple of\n            :class:`plotly.graph_objects.layout.Updatemenu`\n            instances or dicts with compatible properties\n        updatemenudefaults\n            When used in a template (as\n            layout.template.layout.updatemenudefaults), sets the\n            default property values to use for elements of\n            layout.updatemenus\n        violingap\n            Sets the gap (in plot fraction) between violins of\n            adjacent location coordinates. Has no effect on traces\n            that have \"width\" set.\n        violingroupgap\n            Sets the gap (in plot fraction) between violins of the\n            same location coordinate. Has no effect on traces that\n            have \"width\" set.\n        violinmode\n            Determines how violins at the same location coordinate\n            are displayed on the graph. If \"group\", the violins are\n            plotted next to one another centered around the shared\n            location. If \"overlay\", the violins are plotted over\n            one another, you might need to set \"opacity\" to see\n            them multiple violins. Has no effect on traces that\n            have \"width\" set.\n        waterfallgap\n            Sets the gap (in plot fraction) between bars of\n            adjacent location coordinates.\n        waterfallgroupgap\n            Sets the gap (in plot fraction) between bars of the\n            same location coordinate.\n        waterfallmode\n            Determines how bars at the same location coordinate are\n            displayed on the graph. With \"group\", the bars are\n            plotted next to one another centered around the shared\n            location. With \"overlay\", the bars are plotted over one\n            another, you might need to reduce \"opacity\" to see\n            multiple bars.\n        width\n            Sets the plot's width (in px).\n        xaxis\n            :class:`plotly.graph_objects.layout.XAxis` instance or\n            dict with compatible properties\n        yaxis\n            :class:`plotly.graph_objects.layout.YAxis` instance or\n            dict with compatible properties\n        \nDid you mean \"height\"?\n\nBad property path:\nselect\n^^^^^^"
     ]
    }
   ],
   "source": [
    "import plotly.graph_objs as go\n",
    "\n",
    "fig = go.Figure(data=go.Scatter(x=[1, 2, 3, 4, 5],\n",
    "                                y=[1, 2, 3, 4, 5],\n",
    "                                mode='markers'))\n",
    "\n",
    "fig.update_layout(\n",
    "    dragmode='select',\n",
    "    selectdirection='h',\n",
    "    boxmode='group',\n",
    "    # Add the box select tool\n",
    "    **dict(\n",
    "        select=dict(\n",
    "            mode='lasso',\n",
    "            # Set the shape of the lasso selector to be a triangle\n",
    "            shape='triangle'\n",
    "        )\n",
    "    )\n",
    ")\n",
    "\n",
    "def update_selected_points(trace, points, selector):\n",
    "    # Get the indices of the selected points\n",
    "    inds = [p['pointIndex'] for p in points['points']]\n",
    "    # Update the marker symbol of the selected points to triangles\n",
    "    fig.data[0].marker.symbol[inds] = 'triangle'\n",
    "\n",
    "fig.update_layout(\n",
    "    dragmode='select',\n",
    "    selectdirection='height',\n",
    "    boxmode='group',\n",
    "    **dict(\n",
    "        select=dict(\n",
    "            mode='lasso',\n",
    "            shape='triangle',\n",
    "            # Add the callback function to the box select tool\n",
    "            onselection=update_selected_points\n",
    "        )\n",
    "    )\n",
    ")\n"
   ]
  },
  {
   "cell_type": "code",
   "execution_count": 49,
   "metadata": {},
   "outputs": [
    {
     "data": {
      "application/vnd.jupyter.widget-view+json": {
       "model_id": "4cb5d4922b3e4b5f8b396634e3f42516",
       "version_major": 2,
       "version_minor": 0
      },
      "text/plain": [
       "FigureWidget({\n",
       "    'data': [{'mode': 'markers',\n",
       "              'type': 'scatter',\n",
       "              'uid': 'af947a45-13e1-4311-bd0a-6abadcf05294',\n",
       "              'x': [1, 2, 3, 4, 5],\n",
       "              'y': [1, 4, 9, 16, 25]}],\n",
       "    'layout': {'template': '...'}\n",
       "})"
      ]
     },
     "execution_count": 49,
     "metadata": {},
     "output_type": "execute_result"
    },
    {
     "ename": "ValueError",
     "evalue": "Invalid property specified for object of type plotly.graph_objs.scatter.Marker: 'selected'\n\nDid you mean \"sizeref\"?\n\n    Valid properties:\n        angle\n            Sets the marker angle in respect to `angleref`.\n        angleref\n            Sets the reference for marker angle. With \"previous\",\n            angle 0 points along the line from the previous point\n            to this one. With \"up\", angle 0 points toward the top\n            of the screen.\n        anglesrc\n            Sets the source reference on Chart Studio Cloud for\n            `angle`.\n        autocolorscale\n            Determines whether the colorscale is a default palette\n            (`autocolorscale: true`) or the palette determined by\n            `marker.colorscale`. Has an effect only if in\n            `marker.color` is set to a numerical array. In case\n            `colorscale` is unspecified or `autocolorscale` is\n            true, the default palette will be chosen according to\n            whether numbers in the `color` array are all positive,\n            all negative or mixed.\n        cauto\n            Determines whether or not the color domain is computed\n            with respect to the input data (here in `marker.color`)\n            or the bounds set in `marker.cmin` and `marker.cmax`\n            Has an effect only if in `marker.color` is set to a\n            numerical array. Defaults to `false` when `marker.cmin`\n            and `marker.cmax` are set by the user.\n        cmax\n            Sets the upper bound of the color domain. Has an effect\n            only if in `marker.color` is set to a numerical array.\n            Value should have the same units as in `marker.color`\n            and if set, `marker.cmin` must be set as well.\n        cmid\n            Sets the mid-point of the color domain by scaling\n            `marker.cmin` and/or `marker.cmax` to be equidistant to\n            this point. Has an effect only if in `marker.color` is\n            set to a numerical array. Value should have the same\n            units as in `marker.color`. Has no effect when\n            `marker.cauto` is `false`.\n        cmin\n            Sets the lower bound of the color domain. Has an effect\n            only if in `marker.color` is set to a numerical array.\n            Value should have the same units as in `marker.color`\n            and if set, `marker.cmax` must be set as well.\n        color\n            Sets the marker color. It accepts either a specific\n            color or an array of numbers that are mapped to the\n            colorscale relative to the max and min values of the\n            array or relative to `marker.cmin` and `marker.cmax` if\n            set.\n        coloraxis\n            Sets a reference to a shared color axis. References to\n            these shared color axes are \"coloraxis\", \"coloraxis2\",\n            \"coloraxis3\", etc. Settings for these shared color axes\n            are set in the layout, under `layout.coloraxis`,\n            `layout.coloraxis2`, etc. Note that multiple color\n            scales can be linked to the same color axis.\n        colorbar\n            :class:`plotly.graph_objects.scatter.marker.ColorBar`\n            instance or dict with compatible properties\n        colorscale\n            Sets the colorscale. Has an effect only if in\n            `marker.color` is set to a numerical array. The\n            colorscale must be an array containing arrays mapping a\n            normalized value to an rgb, rgba, hex, hsl, hsv, or\n            named color string. At minimum, a mapping for the\n            lowest (0) and highest (1) values are required. For\n            example, `[[0, 'rgb(0,0,255)'], [1, 'rgb(255,0,0)']]`.\n            To control the bounds of the colorscale in color space,\n            use `marker.cmin` and `marker.cmax`. Alternatively,\n            `colorscale` may be a palette name string of the\n            following list: Blackbody,Bluered,Blues,Cividis,Earth,E\n            lectric,Greens,Greys,Hot,Jet,Picnic,Portland,Rainbow,Rd\n            Bu,Reds,Viridis,YlGnBu,YlOrRd.\n        colorsrc\n            Sets the source reference on Chart Studio Cloud for\n            `color`.\n        gradient\n            :class:`plotly.graph_objects.scatter.marker.Gradient`\n            instance or dict with compatible properties\n        line\n            :class:`plotly.graph_objects.scatter.marker.Line`\n            instance or dict with compatible properties\n        maxdisplayed\n            Sets a maximum number of points to be drawn on the\n            graph. 0 corresponds to no limit.\n        opacity\n            Sets the marker opacity.\n        opacitysrc\n            Sets the source reference on Chart Studio Cloud for\n            `opacity`.\n        reversescale\n            Reverses the color mapping if true. Has an effect only\n            if in `marker.color` is set to a numerical array. If\n            true, `marker.cmin` will correspond to the last color\n            in the array and `marker.cmax` will correspond to the\n            first color.\n        showscale\n            Determines whether or not a colorbar is displayed for\n            this trace. Has an effect only if in `marker.color` is\n            set to a numerical array.\n        size\n            Sets the marker size (in px).\n        sizemin\n            Has an effect only if `marker.size` is set to a\n            numerical array. Sets the minimum size (in px) of the\n            rendered marker points.\n        sizemode\n            Has an effect only if `marker.size` is set to a\n            numerical array. Sets the rule for which the data in\n            `size` is converted to pixels.\n        sizeref\n            Has an effect only if `marker.size` is set to a\n            numerical array. Sets the scale factor used to\n            determine the rendered size of marker points. Use with\n            `sizemin` and `sizemode`.\n        sizesrc\n            Sets the source reference on Chart Studio Cloud for\n            `size`.\n        standoff\n            Moves the marker away from the data point in the\n            direction of `angle` (in px). This can be useful for\n            example if you have another marker at this location and\n            you want to point an arrowhead marker at it.\n        standoffsrc\n            Sets the source reference on Chart Studio Cloud for\n            `standoff`.\n        symbol\n            Sets the marker symbol type. Adding 100 is equivalent\n            to appending \"-open\" to a symbol name. Adding 200 is\n            equivalent to appending \"-dot\" to a symbol name. Adding\n            300 is equivalent to appending \"-open-dot\" or \"dot-\n            open\" to a symbol name.\n        symbolsrc\n            Sets the source reference on Chart Studio Cloud for\n            `symbol`.\n        \nDid you mean \"sizeref\"?\n",
     "output_type": "error",
     "traceback": [
      "\u001b[1;31m---------------------------------------------------------------------------\u001b[0m",
      "\u001b[1;31mValueError\u001b[0m                                Traceback (most recent call last)",
      "File \u001b[1;32mc:\\lia-outlier-detection\\venv\\Lib\\site-packages\\ipywidgets\\widgets\\widget.py:766\u001b[0m, in \u001b[0;36mWidget._handle_msg\u001b[1;34m(self, msg)\u001b[0m\n\u001b[0;32m    764\u001b[0m         \u001b[39mif\u001b[39;00m \u001b[39m'\u001b[39m\u001b[39mbuffer_paths\u001b[39m\u001b[39m'\u001b[39m \u001b[39min\u001b[39;00m data:\n\u001b[0;32m    765\u001b[0m             _put_buffers(state, data[\u001b[39m'\u001b[39m\u001b[39mbuffer_paths\u001b[39m\u001b[39m'\u001b[39m], msg[\u001b[39m'\u001b[39m\u001b[39mbuffers\u001b[39m\u001b[39m'\u001b[39m])\n\u001b[1;32m--> 766\u001b[0m         \u001b[39mself\u001b[39;49m\u001b[39m.\u001b[39;49mset_state(state)\n\u001b[0;32m    768\u001b[0m \u001b[39m# Handle a state request.\u001b[39;00m\n\u001b[0;32m    769\u001b[0m \u001b[39melif\u001b[39;00m method \u001b[39m==\u001b[39m \u001b[39m'\u001b[39m\u001b[39mrequest_state\u001b[39m\u001b[39m'\u001b[39m:\n",
      "File \u001b[1;32mc:\\lia-outlier-detection\\venv\\Lib\\site-packages\\ipywidgets\\widgets\\widget.py:643\u001b[0m, in \u001b[0;36mWidget.set_state\u001b[1;34m(self, sync_data)\u001b[0m\n\u001b[0;32m    638\u001b[0m         \u001b[39mself\u001b[39m\u001b[39m.\u001b[39m_send(msg, buffers\u001b[39m=\u001b[39mecho_buffers)\n\u001b[0;32m    640\u001b[0m \u001b[39m# The order of these context managers is important. Properties must\u001b[39;00m\n\u001b[0;32m    641\u001b[0m \u001b[39m# be locked when the hold_trait_notification context manager is\u001b[39;00m\n\u001b[0;32m    642\u001b[0m \u001b[39m# released and notifications are fired.\u001b[39;00m\n\u001b[1;32m--> 643\u001b[0m \u001b[39mwith\u001b[39;49;00m \u001b[39mself\u001b[39;49m\u001b[39m.\u001b[39;49m_lock_property(\u001b[39m*\u001b[39;49m\u001b[39m*\u001b[39;49msync_data), \u001b[39mself\u001b[39;49m\u001b[39m.\u001b[39;49mhold_trait_notifications():\n\u001b[0;32m    644\u001b[0m     \u001b[39mfor\u001b[39;49;00m name \u001b[39min\u001b[39;49;00m sync_data:\n\u001b[0;32m    645\u001b[0m         \u001b[39mif\u001b[39;49;00m name \u001b[39min\u001b[39;49;00m \u001b[39mself\u001b[39;49m\u001b[39m.\u001b[39;49mkeys:\n",
      "File \u001b[1;32m~\\AppData\\Local\\Programs\\Python\\Python311\\Lib\\contextlib.py:144\u001b[0m, in \u001b[0;36m_GeneratorContextManager.__exit__\u001b[1;34m(self, typ, value, traceback)\u001b[0m\n\u001b[0;32m    142\u001b[0m \u001b[39mif\u001b[39;00m typ \u001b[39mis\u001b[39;00m \u001b[39mNone\u001b[39;00m:\n\u001b[0;32m    143\u001b[0m     \u001b[39mtry\u001b[39;00m:\n\u001b[1;32m--> 144\u001b[0m         \u001b[39mnext\u001b[39m(\u001b[39mself\u001b[39m\u001b[39m.\u001b[39mgen)\n\u001b[0;32m    145\u001b[0m     \u001b[39mexcept\u001b[39;00m \u001b[39mStopIteration\u001b[39;00m:\n\u001b[0;32m    146\u001b[0m         \u001b[39mreturn\u001b[39;00m \u001b[39mFalse\u001b[39;00m\n",
      "File \u001b[1;32mc:\\lia-outlier-detection\\venv\\Lib\\site-packages\\traitlets\\traitlets.py:1502\u001b[0m, in \u001b[0;36mHasTraits.hold_trait_notifications\u001b[1;34m(self)\u001b[0m\n\u001b[0;32m   1500\u001b[0m \u001b[39mfor\u001b[39;00m changes \u001b[39min\u001b[39;00m cache\u001b[39m.\u001b[39mvalues():\n\u001b[0;32m   1501\u001b[0m     \u001b[39mfor\u001b[39;00m change \u001b[39min\u001b[39;00m changes:\n\u001b[1;32m-> 1502\u001b[0m         \u001b[39mself\u001b[39;49m\u001b[39m.\u001b[39;49mnotify_change(change)\n",
      "File \u001b[1;32mc:\\lia-outlier-detection\\venv\\Lib\\site-packages\\ipywidgets\\widgets\\widget.py:694\u001b[0m, in \u001b[0;36mWidget.notify_change\u001b[1;34m(self, change)\u001b[0m\n\u001b[0;32m    691\u001b[0m     \u001b[39mif\u001b[39;00m name \u001b[39min\u001b[39;00m \u001b[39mself\u001b[39m\u001b[39m.\u001b[39mkeys \u001b[39mand\u001b[39;00m \u001b[39mself\u001b[39m\u001b[39m.\u001b[39m_should_send_property(name, \u001b[39mgetattr\u001b[39m(\u001b[39mself\u001b[39m, name)):\n\u001b[0;32m    692\u001b[0m         \u001b[39m# Send new state to front-end\u001b[39;00m\n\u001b[0;32m    693\u001b[0m         \u001b[39mself\u001b[39m\u001b[39m.\u001b[39msend_state(key\u001b[39m=\u001b[39mname)\n\u001b[1;32m--> 694\u001b[0m \u001b[39msuper\u001b[39;49m()\u001b[39m.\u001b[39;49mnotify_change(change)\n",
      "File \u001b[1;32mc:\\lia-outlier-detection\\venv\\Lib\\site-packages\\traitlets\\traitlets.py:1517\u001b[0m, in \u001b[0;36mHasTraits.notify_change\u001b[1;34m(self, change)\u001b[0m\n\u001b[0;32m   1515\u001b[0m \u001b[39mdef\u001b[39;00m \u001b[39mnotify_change\u001b[39m(\u001b[39mself\u001b[39m, change):\n\u001b[0;32m   1516\u001b[0m \u001b[39m    \u001b[39m\u001b[39m\"\"\"Notify observers of a change event\"\"\"\u001b[39;00m\n\u001b[1;32m-> 1517\u001b[0m     \u001b[39mreturn\u001b[39;00m \u001b[39mself\u001b[39;49m\u001b[39m.\u001b[39;49m_notify_observers(change)\n",
      "File \u001b[1;32mc:\\lia-outlier-detection\\venv\\Lib\\site-packages\\traitlets\\traitlets.py:1564\u001b[0m, in \u001b[0;36mHasTraits._notify_observers\u001b[1;34m(self, event)\u001b[0m\n\u001b[0;32m   1561\u001b[0m \u001b[39melif\u001b[39;00m \u001b[39misinstance\u001b[39m(c, EventHandler) \u001b[39mand\u001b[39;00m c\u001b[39m.\u001b[39mname \u001b[39mis\u001b[39;00m \u001b[39mnot\u001b[39;00m \u001b[39mNone\u001b[39;00m:\n\u001b[0;32m   1562\u001b[0m     c \u001b[39m=\u001b[39m \u001b[39mgetattr\u001b[39m(\u001b[39mself\u001b[39m, c\u001b[39m.\u001b[39mname)\n\u001b[1;32m-> 1564\u001b[0m c(event)\n",
      "File \u001b[1;32mc:\\lia-outlier-detection\\venv\\Lib\\site-packages\\plotly\\basewidget.py:728\u001b[0m, in \u001b[0;36mBaseFigureWidget._handler_js2py_pointsCallback\u001b[1;34m(self, change)\u001b[0m\n\u001b[0;32m    726\u001b[0m     trace\u001b[39m.\u001b[39m_dispatch_on_unhover(points, state)\n\u001b[0;32m    727\u001b[0m \u001b[39melif\u001b[39;00m event_type \u001b[39m==\u001b[39m \u001b[39m\"\u001b[39m\u001b[39mplotly_selected\u001b[39m\u001b[39m\"\u001b[39m:\n\u001b[1;32m--> 728\u001b[0m     trace\u001b[39m.\u001b[39;49m_dispatch_on_selection(points, selector)\n\u001b[0;32m    729\u001b[0m \u001b[39melif\u001b[39;00m event_type \u001b[39m==\u001b[39m \u001b[39m\"\u001b[39m\u001b[39mplotly_deselect\u001b[39m\u001b[39m\"\u001b[39m:\n\u001b[0;32m    730\u001b[0m     trace\u001b[39m.\u001b[39m_dispatch_on_deselect(points)\n",
      "File \u001b[1;32mc:\\lia-outlier-detection\\venv\\Lib\\site-packages\\plotly\\basedatatypes.py:6190\u001b[0m, in \u001b[0;36mBaseTraceType._dispatch_on_selection\u001b[1;34m(self, points, selector)\u001b[0m\n\u001b[0;32m   6187\u001b[0m     \u001b[39mself\u001b[39m\u001b[39m.\u001b[39mselectedpoints \u001b[39m=\u001b[39m points\u001b[39m.\u001b[39mpoint_inds\n\u001b[0;32m   6189\u001b[0m \u001b[39mfor\u001b[39;00m callback \u001b[39min\u001b[39;00m \u001b[39mself\u001b[39m\u001b[39m.\u001b[39m_select_callbacks:\n\u001b[1;32m-> 6190\u001b[0m     callback(\u001b[39mself\u001b[39;49m, points, selector)\n",
      "Cell \u001b[1;32mIn[49], line 15\u001b[0m, in \u001b[0;36mupdate_markers\u001b[1;34m(trace, points, selector)\u001b[0m\n\u001b[0;32m     13\u001b[0m marker \u001b[39m=\u001b[39m \u001b[39mdict\u001b[39m(color\u001b[39m=\u001b[39m\u001b[39m'\u001b[39m\u001b[39mred\u001b[39m\u001b[39m'\u001b[39m, size\u001b[39m=\u001b[39m\u001b[39m10\u001b[39m)\n\u001b[0;32m     14\u001b[0m \u001b[39m# Update the trace's selected marker properties\u001b[39;00m\n\u001b[1;32m---> 15\u001b[0m trace\u001b[39m.\u001b[39;49mmarker\u001b[39m.\u001b[39;49mselected \u001b[39m=\u001b[39m marker\n",
      "File \u001b[1;32mc:\\lia-outlier-detection\\venv\\Lib\\site-packages\\plotly\\basedatatypes.py:4910\u001b[0m, in \u001b[0;36mBasePlotlyType.__setattr__\u001b[1;34m(self, prop, value)\u001b[0m\n\u001b[0;32m   4907\u001b[0m     \u001b[39msuper\u001b[39m(BasePlotlyType, \u001b[39mself\u001b[39m)\u001b[39m.\u001b[39m\u001b[39m__setattr__\u001b[39m(prop, value)\n\u001b[0;32m   4908\u001b[0m \u001b[39melse\u001b[39;00m:\n\u001b[0;32m   4909\u001b[0m     \u001b[39m# Raise error on unknown public properties\u001b[39;00m\n\u001b[1;32m-> 4910\u001b[0m     \u001b[39mself\u001b[39;49m\u001b[39m.\u001b[39;49m_raise_on_invalid_property_error()(prop)\n",
      "File \u001b[1;32mc:\\lia-outlier-detection\\venv\\Lib\\site-packages\\plotly\\basedatatypes.py:5070\u001b[0m, in \u001b[0;36mBasePlotlyType._raise_on_invalid_property_error.<locals>._ret\u001b[1;34m(*args)\u001b[0m\n\u001b[0;32m   5068\u001b[0m \u001b[39mif\u001b[39;00m guessed_prop \u001b[39mis\u001b[39;00m \u001b[39mnot\u001b[39;00m \u001b[39mNone\u001b[39;00m:\n\u001b[0;32m   5069\u001b[0m     guessed_prop_suggestion \u001b[39m=\u001b[39m \u001b[39m'\u001b[39m\u001b[39mDid you mean \u001b[39m\u001b[39m\"\u001b[39m\u001b[39m%s\u001b[39;00m\u001b[39m\"\u001b[39m\u001b[39m?\u001b[39m\u001b[39m'\u001b[39m \u001b[39m%\u001b[39m (guessed_prop,)\n\u001b[1;32m-> 5070\u001b[0m \u001b[39mraise\u001b[39;00m _error_to_raise(\n\u001b[0;32m   5071\u001b[0m     \u001b[39m\"\u001b[39m\u001b[39mInvalid \u001b[39m\u001b[39m{prop_str}\u001b[39;00m\u001b[39m specified for object of type \u001b[39m\u001b[39m\"\u001b[39m\n\u001b[0;32m   5072\u001b[0m     \u001b[39m\"\u001b[39m\u001b[39m{full_obj_name}\u001b[39;00m\u001b[39m: \u001b[39m\u001b[39m{invalid_str}\u001b[39;00m\u001b[39m\\n\u001b[39;00m\u001b[39m\"\u001b[39m\n\u001b[0;32m   5073\u001b[0m     \u001b[39m\"\u001b[39m\u001b[39m\\n\u001b[39;00m\u001b[39m{guessed_prop_suggestion}\u001b[39;00m\u001b[39m\\n\u001b[39;00m\u001b[39m\"\u001b[39m\n\u001b[0;32m   5074\u001b[0m     \u001b[39m\"\u001b[39m\u001b[39m\\n\u001b[39;00m\u001b[39m    Valid properties:\u001b[39m\u001b[39m\\n\u001b[39;00m\u001b[39m\"\u001b[39m\n\u001b[0;32m   5075\u001b[0m     \u001b[39m\"\u001b[39m\u001b[39m{prop_descriptions}\u001b[39;00m\u001b[39m\"\u001b[39m\n\u001b[0;32m   5076\u001b[0m     \u001b[39m\"\u001b[39m\u001b[39m\\n\u001b[39;00m\u001b[39m{guessed_prop_suggestion}\u001b[39;00m\u001b[39m\\n\u001b[39;00m\u001b[39m\"\u001b[39m\u001b[39m.\u001b[39mformat(\n\u001b[0;32m   5077\u001b[0m         prop_str\u001b[39m=\u001b[39mprop_str,\n\u001b[0;32m   5078\u001b[0m         full_obj_name\u001b[39m=\u001b[39mfull_obj_name,\n\u001b[0;32m   5079\u001b[0m         invalid_str\u001b[39m=\u001b[39minvalid_str,\n\u001b[0;32m   5080\u001b[0m         prop_descriptions\u001b[39m=\u001b[39m\u001b[39mself\u001b[39m\u001b[39m.\u001b[39m_prop_descriptions,\n\u001b[0;32m   5081\u001b[0m         guessed_prop_suggestion\u001b[39m=\u001b[39mguessed_prop_suggestion,\n\u001b[0;32m   5082\u001b[0m     )\n\u001b[0;32m   5083\u001b[0m )\n",
      "\u001b[1;31mValueError\u001b[0m: Invalid property specified for object of type plotly.graph_objs.scatter.Marker: 'selected'\n\nDid you mean \"sizeref\"?\n\n    Valid properties:\n        angle\n            Sets the marker angle in respect to `angleref`.\n        angleref\n            Sets the reference for marker angle. With \"previous\",\n            angle 0 points along the line from the previous point\n            to this one. With \"up\", angle 0 points toward the top\n            of the screen.\n        anglesrc\n            Sets the source reference on Chart Studio Cloud for\n            `angle`.\n        autocolorscale\n            Determines whether the colorscale is a default palette\n            (`autocolorscale: true`) or the palette determined by\n            `marker.colorscale`. Has an effect only if in\n            `marker.color` is set to a numerical array. In case\n            `colorscale` is unspecified or `autocolorscale` is\n            true, the default palette will be chosen according to\n            whether numbers in the `color` array are all positive,\n            all negative or mixed.\n        cauto\n            Determines whether or not the color domain is computed\n            with respect to the input data (here in `marker.color`)\n            or the bounds set in `marker.cmin` and `marker.cmax`\n            Has an effect only if in `marker.color` is set to a\n            numerical array. Defaults to `false` when `marker.cmin`\n            and `marker.cmax` are set by the user.\n        cmax\n            Sets the upper bound of the color domain. Has an effect\n            only if in `marker.color` is set to a numerical array.\n            Value should have the same units as in `marker.color`\n            and if set, `marker.cmin` must be set as well.\n        cmid\n            Sets the mid-point of the color domain by scaling\n            `marker.cmin` and/or `marker.cmax` to be equidistant to\n            this point. Has an effect only if in `marker.color` is\n            set to a numerical array. Value should have the same\n            units as in `marker.color`. Has no effect when\n            `marker.cauto` is `false`.\n        cmin\n            Sets the lower bound of the color domain. Has an effect\n            only if in `marker.color` is set to a numerical array.\n            Value should have the same units as in `marker.color`\n            and if set, `marker.cmax` must be set as well.\n        color\n            Sets the marker color. It accepts either a specific\n            color or an array of numbers that are mapped to the\n            colorscale relative to the max and min values of the\n            array or relative to `marker.cmin` and `marker.cmax` if\n            set.\n        coloraxis\n            Sets a reference to a shared color axis. References to\n            these shared color axes are \"coloraxis\", \"coloraxis2\",\n            \"coloraxis3\", etc. Settings for these shared color axes\n            are set in the layout, under `layout.coloraxis`,\n            `layout.coloraxis2`, etc. Note that multiple color\n            scales can be linked to the same color axis.\n        colorbar\n            :class:`plotly.graph_objects.scatter.marker.ColorBar`\n            instance or dict with compatible properties\n        colorscale\n            Sets the colorscale. Has an effect only if in\n            `marker.color` is set to a numerical array. The\n            colorscale must be an array containing arrays mapping a\n            normalized value to an rgb, rgba, hex, hsl, hsv, or\n            named color string. At minimum, a mapping for the\n            lowest (0) and highest (1) values are required. For\n            example, `[[0, 'rgb(0,0,255)'], [1, 'rgb(255,0,0)']]`.\n            To control the bounds of the colorscale in color space,\n            use `marker.cmin` and `marker.cmax`. Alternatively,\n            `colorscale` may be a palette name string of the\n            following list: Blackbody,Bluered,Blues,Cividis,Earth,E\n            lectric,Greens,Greys,Hot,Jet,Picnic,Portland,Rainbow,Rd\n            Bu,Reds,Viridis,YlGnBu,YlOrRd.\n        colorsrc\n            Sets the source reference on Chart Studio Cloud for\n            `color`.\n        gradient\n            :class:`plotly.graph_objects.scatter.marker.Gradient`\n            instance or dict with compatible properties\n        line\n            :class:`plotly.graph_objects.scatter.marker.Line`\n            instance or dict with compatible properties\n        maxdisplayed\n            Sets a maximum number of points to be drawn on the\n            graph. 0 corresponds to no limit.\n        opacity\n            Sets the marker opacity.\n        opacitysrc\n            Sets the source reference on Chart Studio Cloud for\n            `opacity`.\n        reversescale\n            Reverses the color mapping if true. Has an effect only\n            if in `marker.color` is set to a numerical array. If\n            true, `marker.cmin` will correspond to the last color\n            in the array and `marker.cmax` will correspond to the\n            first color.\n        showscale\n            Determines whether or not a colorbar is displayed for\n            this trace. Has an effect only if in `marker.color` is\n            set to a numerical array.\n        size\n            Sets the marker size (in px).\n        sizemin\n            Has an effect only if `marker.size` is set to a\n            numerical array. Sets the minimum size (in px) of the\n            rendered marker points.\n        sizemode\n            Has an effect only if `marker.size` is set to a\n            numerical array. Sets the rule for which the data in\n            `size` is converted to pixels.\n        sizeref\n            Has an effect only if `marker.size` is set to a\n            numerical array. Sets the scale factor used to\n            determine the rendered size of marker points. Use with\n            `sizemin` and `sizemode`.\n        sizesrc\n            Sets the source reference on Chart Studio Cloud for\n            `size`.\n        standoff\n            Moves the marker away from the data point in the\n            direction of `angle` (in px). This can be useful for\n            example if you have another marker at this location and\n            you want to point an arrowhead marker at it.\n        standoffsrc\n            Sets the source reference on Chart Studio Cloud for\n            `standoff`.\n        symbol\n            Sets the marker symbol type. Adding 100 is equivalent\n            to appending \"-open\" to a symbol name. Adding 200 is\n            equivalent to appending \"-dot\" to a symbol name. Adding\n            300 is equivalent to appending \"-open-dot\" or \"dot-\n            open\" to a symbol name.\n        symbolsrc\n            Sets the source reference on Chart Studio Cloud for\n            `symbol`.\n        \nDid you mean \"sizeref\"?\n"
     ]
    },
    {
     "ename": "ValueError",
     "evalue": "Invalid property specified for object of type plotly.graph_objs.scatter.Marker: 'selected'\n\nDid you mean \"sizeref\"?\n\n    Valid properties:\n        angle\n            Sets the marker angle in respect to `angleref`.\n        angleref\n            Sets the reference for marker angle. With \"previous\",\n            angle 0 points along the line from the previous point\n            to this one. With \"up\", angle 0 points toward the top\n            of the screen.\n        anglesrc\n            Sets the source reference on Chart Studio Cloud for\n            `angle`.\n        autocolorscale\n            Determines whether the colorscale is a default palette\n            (`autocolorscale: true`) or the palette determined by\n            `marker.colorscale`. Has an effect only if in\n            `marker.color` is set to a numerical array. In case\n            `colorscale` is unspecified or `autocolorscale` is\n            true, the default palette will be chosen according to\n            whether numbers in the `color` array are all positive,\n            all negative or mixed.\n        cauto\n            Determines whether or not the color domain is computed\n            with respect to the input data (here in `marker.color`)\n            or the bounds set in `marker.cmin` and `marker.cmax`\n            Has an effect only if in `marker.color` is set to a\n            numerical array. Defaults to `false` when `marker.cmin`\n            and `marker.cmax` are set by the user.\n        cmax\n            Sets the upper bound of the color domain. Has an effect\n            only if in `marker.color` is set to a numerical array.\n            Value should have the same units as in `marker.color`\n            and if set, `marker.cmin` must be set as well.\n        cmid\n            Sets the mid-point of the color domain by scaling\n            `marker.cmin` and/or `marker.cmax` to be equidistant to\n            this point. Has an effect only if in `marker.color` is\n            set to a numerical array. Value should have the same\n            units as in `marker.color`. Has no effect when\n            `marker.cauto` is `false`.\n        cmin\n            Sets the lower bound of the color domain. Has an effect\n            only if in `marker.color` is set to a numerical array.\n            Value should have the same units as in `marker.color`\n            and if set, `marker.cmax` must be set as well.\n        color\n            Sets the marker color. It accepts either a specific\n            color or an array of numbers that are mapped to the\n            colorscale relative to the max and min values of the\n            array or relative to `marker.cmin` and `marker.cmax` if\n            set.\n        coloraxis\n            Sets a reference to a shared color axis. References to\n            these shared color axes are \"coloraxis\", \"coloraxis2\",\n            \"coloraxis3\", etc. Settings for these shared color axes\n            are set in the layout, under `layout.coloraxis`,\n            `layout.coloraxis2`, etc. Note that multiple color\n            scales can be linked to the same color axis.\n        colorbar\n            :class:`plotly.graph_objects.scatter.marker.ColorBar`\n            instance or dict with compatible properties\n        colorscale\n            Sets the colorscale. Has an effect only if in\n            `marker.color` is set to a numerical array. The\n            colorscale must be an array containing arrays mapping a\n            normalized value to an rgb, rgba, hex, hsl, hsv, or\n            named color string. At minimum, a mapping for the\n            lowest (0) and highest (1) values are required. For\n            example, `[[0, 'rgb(0,0,255)'], [1, 'rgb(255,0,0)']]`.\n            To control the bounds of the colorscale in color space,\n            use `marker.cmin` and `marker.cmax`. Alternatively,\n            `colorscale` may be a palette name string of the\n            following list: Blackbody,Bluered,Blues,Cividis,Earth,E\n            lectric,Greens,Greys,Hot,Jet,Picnic,Portland,Rainbow,Rd\n            Bu,Reds,Viridis,YlGnBu,YlOrRd.\n        colorsrc\n            Sets the source reference on Chart Studio Cloud for\n            `color`.\n        gradient\n            :class:`plotly.graph_objects.scatter.marker.Gradient`\n            instance or dict with compatible properties\n        line\n            :class:`plotly.graph_objects.scatter.marker.Line`\n            instance or dict with compatible properties\n        maxdisplayed\n            Sets a maximum number of points to be drawn on the\n            graph. 0 corresponds to no limit.\n        opacity\n            Sets the marker opacity.\n        opacitysrc\n            Sets the source reference on Chart Studio Cloud for\n            `opacity`.\n        reversescale\n            Reverses the color mapping if true. Has an effect only\n            if in `marker.color` is set to a numerical array. If\n            true, `marker.cmin` will correspond to the last color\n            in the array and `marker.cmax` will correspond to the\n            first color.\n        showscale\n            Determines whether or not a colorbar is displayed for\n            this trace. Has an effect only if in `marker.color` is\n            set to a numerical array.\n        size\n            Sets the marker size (in px).\n        sizemin\n            Has an effect only if `marker.size` is set to a\n            numerical array. Sets the minimum size (in px) of the\n            rendered marker points.\n        sizemode\n            Has an effect only if `marker.size` is set to a\n            numerical array. Sets the rule for which the data in\n            `size` is converted to pixels.\n        sizeref\n            Has an effect only if `marker.size` is set to a\n            numerical array. Sets the scale factor used to\n            determine the rendered size of marker points. Use with\n            `sizemin` and `sizemode`.\n        sizesrc\n            Sets the source reference on Chart Studio Cloud for\n            `size`.\n        standoff\n            Moves the marker away from the data point in the\n            direction of `angle` (in px). This can be useful for\n            example if you have another marker at this location and\n            you want to point an arrowhead marker at it.\n        standoffsrc\n            Sets the source reference on Chart Studio Cloud for\n            `standoff`.\n        symbol\n            Sets the marker symbol type. Adding 100 is equivalent\n            to appending \"-open\" to a symbol name. Adding 200 is\n            equivalent to appending \"-dot\" to a symbol name. Adding\n            300 is equivalent to appending \"-open-dot\" or \"dot-\n            open\" to a symbol name.\n        symbolsrc\n            Sets the source reference on Chart Studio Cloud for\n            `symbol`.\n        \nDid you mean \"sizeref\"?\n",
     "output_type": "error",
     "traceback": [
      "\u001b[1;31m---------------------------------------------------------------------------\u001b[0m",
      "\u001b[1;31mValueError\u001b[0m                                Traceback (most recent call last)",
      "File \u001b[1;32mc:\\lia-outlier-detection\\venv\\Lib\\site-packages\\ipywidgets\\widgets\\widget.py:766\u001b[0m, in \u001b[0;36mWidget._handle_msg\u001b[1;34m(self, msg)\u001b[0m\n\u001b[0;32m    764\u001b[0m         \u001b[39mif\u001b[39;00m \u001b[39m'\u001b[39m\u001b[39mbuffer_paths\u001b[39m\u001b[39m'\u001b[39m \u001b[39min\u001b[39;00m data:\n\u001b[0;32m    765\u001b[0m             _put_buffers(state, data[\u001b[39m'\u001b[39m\u001b[39mbuffer_paths\u001b[39m\u001b[39m'\u001b[39m], msg[\u001b[39m'\u001b[39m\u001b[39mbuffers\u001b[39m\u001b[39m'\u001b[39m])\n\u001b[1;32m--> 766\u001b[0m         \u001b[39mself\u001b[39;49m\u001b[39m.\u001b[39;49mset_state(state)\n\u001b[0;32m    768\u001b[0m \u001b[39m# Handle a state request.\u001b[39;00m\n\u001b[0;32m    769\u001b[0m \u001b[39melif\u001b[39;00m method \u001b[39m==\u001b[39m \u001b[39m'\u001b[39m\u001b[39mrequest_state\u001b[39m\u001b[39m'\u001b[39m:\n",
      "File \u001b[1;32mc:\\lia-outlier-detection\\venv\\Lib\\site-packages\\ipywidgets\\widgets\\widget.py:643\u001b[0m, in \u001b[0;36mWidget.set_state\u001b[1;34m(self, sync_data)\u001b[0m\n\u001b[0;32m    638\u001b[0m         \u001b[39mself\u001b[39m\u001b[39m.\u001b[39m_send(msg, buffers\u001b[39m=\u001b[39mecho_buffers)\n\u001b[0;32m    640\u001b[0m \u001b[39m# The order of these context managers is important. Properties must\u001b[39;00m\n\u001b[0;32m    641\u001b[0m \u001b[39m# be locked when the hold_trait_notification context manager is\u001b[39;00m\n\u001b[0;32m    642\u001b[0m \u001b[39m# released and notifications are fired.\u001b[39;00m\n\u001b[1;32m--> 643\u001b[0m \u001b[39mwith\u001b[39;49;00m \u001b[39mself\u001b[39;49m\u001b[39m.\u001b[39;49m_lock_property(\u001b[39m*\u001b[39;49m\u001b[39m*\u001b[39;49msync_data), \u001b[39mself\u001b[39;49m\u001b[39m.\u001b[39;49mhold_trait_notifications():\n\u001b[0;32m    644\u001b[0m     \u001b[39mfor\u001b[39;49;00m name \u001b[39min\u001b[39;49;00m sync_data:\n\u001b[0;32m    645\u001b[0m         \u001b[39mif\u001b[39;49;00m name \u001b[39min\u001b[39;49;00m \u001b[39mself\u001b[39;49m\u001b[39m.\u001b[39;49mkeys:\n",
      "File \u001b[1;32m~\\AppData\\Local\\Programs\\Python\\Python311\\Lib\\contextlib.py:144\u001b[0m, in \u001b[0;36m_GeneratorContextManager.__exit__\u001b[1;34m(self, typ, value, traceback)\u001b[0m\n\u001b[0;32m    142\u001b[0m \u001b[39mif\u001b[39;00m typ \u001b[39mis\u001b[39;00m \u001b[39mNone\u001b[39;00m:\n\u001b[0;32m    143\u001b[0m     \u001b[39mtry\u001b[39;00m:\n\u001b[1;32m--> 144\u001b[0m         \u001b[39mnext\u001b[39m(\u001b[39mself\u001b[39m\u001b[39m.\u001b[39mgen)\n\u001b[0;32m    145\u001b[0m     \u001b[39mexcept\u001b[39;00m \u001b[39mStopIteration\u001b[39;00m:\n\u001b[0;32m    146\u001b[0m         \u001b[39mreturn\u001b[39;00m \u001b[39mFalse\u001b[39;00m\n",
      "File \u001b[1;32mc:\\lia-outlier-detection\\venv\\Lib\\site-packages\\traitlets\\traitlets.py:1502\u001b[0m, in \u001b[0;36mHasTraits.hold_trait_notifications\u001b[1;34m(self)\u001b[0m\n\u001b[0;32m   1500\u001b[0m \u001b[39mfor\u001b[39;00m changes \u001b[39min\u001b[39;00m cache\u001b[39m.\u001b[39mvalues():\n\u001b[0;32m   1501\u001b[0m     \u001b[39mfor\u001b[39;00m change \u001b[39min\u001b[39;00m changes:\n\u001b[1;32m-> 1502\u001b[0m         \u001b[39mself\u001b[39;49m\u001b[39m.\u001b[39;49mnotify_change(change)\n",
      "File \u001b[1;32mc:\\lia-outlier-detection\\venv\\Lib\\site-packages\\ipywidgets\\widgets\\widget.py:694\u001b[0m, in \u001b[0;36mWidget.notify_change\u001b[1;34m(self, change)\u001b[0m\n\u001b[0;32m    691\u001b[0m     \u001b[39mif\u001b[39;00m name \u001b[39min\u001b[39;00m \u001b[39mself\u001b[39m\u001b[39m.\u001b[39mkeys \u001b[39mand\u001b[39;00m \u001b[39mself\u001b[39m\u001b[39m.\u001b[39m_should_send_property(name, \u001b[39mgetattr\u001b[39m(\u001b[39mself\u001b[39m, name)):\n\u001b[0;32m    692\u001b[0m         \u001b[39m# Send new state to front-end\u001b[39;00m\n\u001b[0;32m    693\u001b[0m         \u001b[39mself\u001b[39m\u001b[39m.\u001b[39msend_state(key\u001b[39m=\u001b[39mname)\n\u001b[1;32m--> 694\u001b[0m \u001b[39msuper\u001b[39;49m()\u001b[39m.\u001b[39;49mnotify_change(change)\n",
      "File \u001b[1;32mc:\\lia-outlier-detection\\venv\\Lib\\site-packages\\traitlets\\traitlets.py:1517\u001b[0m, in \u001b[0;36mHasTraits.notify_change\u001b[1;34m(self, change)\u001b[0m\n\u001b[0;32m   1515\u001b[0m \u001b[39mdef\u001b[39;00m \u001b[39mnotify_change\u001b[39m(\u001b[39mself\u001b[39m, change):\n\u001b[0;32m   1516\u001b[0m \u001b[39m    \u001b[39m\u001b[39m\"\"\"Notify observers of a change event\"\"\"\u001b[39;00m\n\u001b[1;32m-> 1517\u001b[0m     \u001b[39mreturn\u001b[39;00m \u001b[39mself\u001b[39;49m\u001b[39m.\u001b[39;49m_notify_observers(change)\n",
      "File \u001b[1;32mc:\\lia-outlier-detection\\venv\\Lib\\site-packages\\traitlets\\traitlets.py:1564\u001b[0m, in \u001b[0;36mHasTraits._notify_observers\u001b[1;34m(self, event)\u001b[0m\n\u001b[0;32m   1561\u001b[0m \u001b[39melif\u001b[39;00m \u001b[39misinstance\u001b[39m(c, EventHandler) \u001b[39mand\u001b[39;00m c\u001b[39m.\u001b[39mname \u001b[39mis\u001b[39;00m \u001b[39mnot\u001b[39;00m \u001b[39mNone\u001b[39;00m:\n\u001b[0;32m   1562\u001b[0m     c \u001b[39m=\u001b[39m \u001b[39mgetattr\u001b[39m(\u001b[39mself\u001b[39m, c\u001b[39m.\u001b[39mname)\n\u001b[1;32m-> 1564\u001b[0m c(event)\n",
      "File \u001b[1;32mc:\\lia-outlier-detection\\venv\\Lib\\site-packages\\plotly\\basewidget.py:728\u001b[0m, in \u001b[0;36mBaseFigureWidget._handler_js2py_pointsCallback\u001b[1;34m(self, change)\u001b[0m\n\u001b[0;32m    726\u001b[0m     trace\u001b[39m.\u001b[39m_dispatch_on_unhover(points, state)\n\u001b[0;32m    727\u001b[0m \u001b[39melif\u001b[39;00m event_type \u001b[39m==\u001b[39m \u001b[39m\"\u001b[39m\u001b[39mplotly_selected\u001b[39m\u001b[39m\"\u001b[39m:\n\u001b[1;32m--> 728\u001b[0m     trace\u001b[39m.\u001b[39;49m_dispatch_on_selection(points, selector)\n\u001b[0;32m    729\u001b[0m \u001b[39melif\u001b[39;00m event_type \u001b[39m==\u001b[39m \u001b[39m\"\u001b[39m\u001b[39mplotly_deselect\u001b[39m\u001b[39m\"\u001b[39m:\n\u001b[0;32m    730\u001b[0m     trace\u001b[39m.\u001b[39m_dispatch_on_deselect(points)\n",
      "File \u001b[1;32mc:\\lia-outlier-detection\\venv\\Lib\\site-packages\\plotly\\basedatatypes.py:6190\u001b[0m, in \u001b[0;36mBaseTraceType._dispatch_on_selection\u001b[1;34m(self, points, selector)\u001b[0m\n\u001b[0;32m   6187\u001b[0m     \u001b[39mself\u001b[39m\u001b[39m.\u001b[39mselectedpoints \u001b[39m=\u001b[39m points\u001b[39m.\u001b[39mpoint_inds\n\u001b[0;32m   6189\u001b[0m \u001b[39mfor\u001b[39;00m callback \u001b[39min\u001b[39;00m \u001b[39mself\u001b[39m\u001b[39m.\u001b[39m_select_callbacks:\n\u001b[1;32m-> 6190\u001b[0m     callback(\u001b[39mself\u001b[39;49m, points, selector)\n",
      "Cell \u001b[1;32mIn[49], line 15\u001b[0m, in \u001b[0;36mupdate_markers\u001b[1;34m(trace, points, selector)\u001b[0m\n\u001b[0;32m     13\u001b[0m marker \u001b[39m=\u001b[39m \u001b[39mdict\u001b[39m(color\u001b[39m=\u001b[39m\u001b[39m'\u001b[39m\u001b[39mred\u001b[39m\u001b[39m'\u001b[39m, size\u001b[39m=\u001b[39m\u001b[39m10\u001b[39m)\n\u001b[0;32m     14\u001b[0m \u001b[39m# Update the trace's selected marker properties\u001b[39;00m\n\u001b[1;32m---> 15\u001b[0m trace\u001b[39m.\u001b[39;49mmarker\u001b[39m.\u001b[39;49mselected \u001b[39m=\u001b[39m marker\n",
      "File \u001b[1;32mc:\\lia-outlier-detection\\venv\\Lib\\site-packages\\plotly\\basedatatypes.py:4910\u001b[0m, in \u001b[0;36mBasePlotlyType.__setattr__\u001b[1;34m(self, prop, value)\u001b[0m\n\u001b[0;32m   4907\u001b[0m     \u001b[39msuper\u001b[39m(BasePlotlyType, \u001b[39mself\u001b[39m)\u001b[39m.\u001b[39m\u001b[39m__setattr__\u001b[39m(prop, value)\n\u001b[0;32m   4908\u001b[0m \u001b[39melse\u001b[39;00m:\n\u001b[0;32m   4909\u001b[0m     \u001b[39m# Raise error on unknown public properties\u001b[39;00m\n\u001b[1;32m-> 4910\u001b[0m     \u001b[39mself\u001b[39;49m\u001b[39m.\u001b[39;49m_raise_on_invalid_property_error()(prop)\n",
      "File \u001b[1;32mc:\\lia-outlier-detection\\venv\\Lib\\site-packages\\plotly\\basedatatypes.py:5070\u001b[0m, in \u001b[0;36mBasePlotlyType._raise_on_invalid_property_error.<locals>._ret\u001b[1;34m(*args)\u001b[0m\n\u001b[0;32m   5068\u001b[0m \u001b[39mif\u001b[39;00m guessed_prop \u001b[39mis\u001b[39;00m \u001b[39mnot\u001b[39;00m \u001b[39mNone\u001b[39;00m:\n\u001b[0;32m   5069\u001b[0m     guessed_prop_suggestion \u001b[39m=\u001b[39m \u001b[39m'\u001b[39m\u001b[39mDid you mean \u001b[39m\u001b[39m\"\u001b[39m\u001b[39m%s\u001b[39;00m\u001b[39m\"\u001b[39m\u001b[39m?\u001b[39m\u001b[39m'\u001b[39m \u001b[39m%\u001b[39m (guessed_prop,)\n\u001b[1;32m-> 5070\u001b[0m \u001b[39mraise\u001b[39;00m _error_to_raise(\n\u001b[0;32m   5071\u001b[0m     \u001b[39m\"\u001b[39m\u001b[39mInvalid \u001b[39m\u001b[39m{prop_str}\u001b[39;00m\u001b[39m specified for object of type \u001b[39m\u001b[39m\"\u001b[39m\n\u001b[0;32m   5072\u001b[0m     \u001b[39m\"\u001b[39m\u001b[39m{full_obj_name}\u001b[39;00m\u001b[39m: \u001b[39m\u001b[39m{invalid_str}\u001b[39;00m\u001b[39m\\n\u001b[39;00m\u001b[39m\"\u001b[39m\n\u001b[0;32m   5073\u001b[0m     \u001b[39m\"\u001b[39m\u001b[39m\\n\u001b[39;00m\u001b[39m{guessed_prop_suggestion}\u001b[39;00m\u001b[39m\\n\u001b[39;00m\u001b[39m\"\u001b[39m\n\u001b[0;32m   5074\u001b[0m     \u001b[39m\"\u001b[39m\u001b[39m\\n\u001b[39;00m\u001b[39m    Valid properties:\u001b[39m\u001b[39m\\n\u001b[39;00m\u001b[39m\"\u001b[39m\n\u001b[0;32m   5075\u001b[0m     \u001b[39m\"\u001b[39m\u001b[39m{prop_descriptions}\u001b[39;00m\u001b[39m\"\u001b[39m\n\u001b[0;32m   5076\u001b[0m     \u001b[39m\"\u001b[39m\u001b[39m\\n\u001b[39;00m\u001b[39m{guessed_prop_suggestion}\u001b[39;00m\u001b[39m\\n\u001b[39;00m\u001b[39m\"\u001b[39m\u001b[39m.\u001b[39mformat(\n\u001b[0;32m   5077\u001b[0m         prop_str\u001b[39m=\u001b[39mprop_str,\n\u001b[0;32m   5078\u001b[0m         full_obj_name\u001b[39m=\u001b[39mfull_obj_name,\n\u001b[0;32m   5079\u001b[0m         invalid_str\u001b[39m=\u001b[39minvalid_str,\n\u001b[0;32m   5080\u001b[0m         prop_descriptions\u001b[39m=\u001b[39m\u001b[39mself\u001b[39m\u001b[39m.\u001b[39m_prop_descriptions,\n\u001b[0;32m   5081\u001b[0m         guessed_prop_suggestion\u001b[39m=\u001b[39mguessed_prop_suggestion,\n\u001b[0;32m   5082\u001b[0m     )\n\u001b[0;32m   5083\u001b[0m )\n",
      "\u001b[1;31mValueError\u001b[0m: Invalid property specified for object of type plotly.graph_objs.scatter.Marker: 'selected'\n\nDid you mean \"sizeref\"?\n\n    Valid properties:\n        angle\n            Sets the marker angle in respect to `angleref`.\n        angleref\n            Sets the reference for marker angle. With \"previous\",\n            angle 0 points along the line from the previous point\n            to this one. With \"up\", angle 0 points toward the top\n            of the screen.\n        anglesrc\n            Sets the source reference on Chart Studio Cloud for\n            `angle`.\n        autocolorscale\n            Determines whether the colorscale is a default palette\n            (`autocolorscale: true`) or the palette determined by\n            `marker.colorscale`. Has an effect only if in\n            `marker.color` is set to a numerical array. In case\n            `colorscale` is unspecified or `autocolorscale` is\n            true, the default palette will be chosen according to\n            whether numbers in the `color` array are all positive,\n            all negative or mixed.\n        cauto\n            Determines whether or not the color domain is computed\n            with respect to the input data (here in `marker.color`)\n            or the bounds set in `marker.cmin` and `marker.cmax`\n            Has an effect only if in `marker.color` is set to a\n            numerical array. Defaults to `false` when `marker.cmin`\n            and `marker.cmax` are set by the user.\n        cmax\n            Sets the upper bound of the color domain. Has an effect\n            only if in `marker.color` is set to a numerical array.\n            Value should have the same units as in `marker.color`\n            and if set, `marker.cmin` must be set as well.\n        cmid\n            Sets the mid-point of the color domain by scaling\n            `marker.cmin` and/or `marker.cmax` to be equidistant to\n            this point. Has an effect only if in `marker.color` is\n            set to a numerical array. Value should have the same\n            units as in `marker.color`. Has no effect when\n            `marker.cauto` is `false`.\n        cmin\n            Sets the lower bound of the color domain. Has an effect\n            only if in `marker.color` is set to a numerical array.\n            Value should have the same units as in `marker.color`\n            and if set, `marker.cmax` must be set as well.\n        color\n            Sets the marker color. It accepts either a specific\n            color or an array of numbers that are mapped to the\n            colorscale relative to the max and min values of the\n            array or relative to `marker.cmin` and `marker.cmax` if\n            set.\n        coloraxis\n            Sets a reference to a shared color axis. References to\n            these shared color axes are \"coloraxis\", \"coloraxis2\",\n            \"coloraxis3\", etc. Settings for these shared color axes\n            are set in the layout, under `layout.coloraxis`,\n            `layout.coloraxis2`, etc. Note that multiple color\n            scales can be linked to the same color axis.\n        colorbar\n            :class:`plotly.graph_objects.scatter.marker.ColorBar`\n            instance or dict with compatible properties\n        colorscale\n            Sets the colorscale. Has an effect only if in\n            `marker.color` is set to a numerical array. The\n            colorscale must be an array containing arrays mapping a\n            normalized value to an rgb, rgba, hex, hsl, hsv, or\n            named color string. At minimum, a mapping for the\n            lowest (0) and highest (1) values are required. For\n            example, `[[0, 'rgb(0,0,255)'], [1, 'rgb(255,0,0)']]`.\n            To control the bounds of the colorscale in color space,\n            use `marker.cmin` and `marker.cmax`. Alternatively,\n            `colorscale` may be a palette name string of the\n            following list: Blackbody,Bluered,Blues,Cividis,Earth,E\n            lectric,Greens,Greys,Hot,Jet,Picnic,Portland,Rainbow,Rd\n            Bu,Reds,Viridis,YlGnBu,YlOrRd.\n        colorsrc\n            Sets the source reference on Chart Studio Cloud for\n            `color`.\n        gradient\n            :class:`plotly.graph_objects.scatter.marker.Gradient`\n            instance or dict with compatible properties\n        line\n            :class:`plotly.graph_objects.scatter.marker.Line`\n            instance or dict with compatible properties\n        maxdisplayed\n            Sets a maximum number of points to be drawn on the\n            graph. 0 corresponds to no limit.\n        opacity\n            Sets the marker opacity.\n        opacitysrc\n            Sets the source reference on Chart Studio Cloud for\n            `opacity`.\n        reversescale\n            Reverses the color mapping if true. Has an effect only\n            if in `marker.color` is set to a numerical array. If\n            true, `marker.cmin` will correspond to the last color\n            in the array and `marker.cmax` will correspond to the\n            first color.\n        showscale\n            Determines whether or not a colorbar is displayed for\n            this trace. Has an effect only if in `marker.color` is\n            set to a numerical array.\n        size\n            Sets the marker size (in px).\n        sizemin\n            Has an effect only if `marker.size` is set to a\n            numerical array. Sets the minimum size (in px) of the\n            rendered marker points.\n        sizemode\n            Has an effect only if `marker.size` is set to a\n            numerical array. Sets the rule for which the data in\n            `size` is converted to pixels.\n        sizeref\n            Has an effect only if `marker.size` is set to a\n            numerical array. Sets the scale factor used to\n            determine the rendered size of marker points. Use with\n            `sizemin` and `sizemode`.\n        sizesrc\n            Sets the source reference on Chart Studio Cloud for\n            `size`.\n        standoff\n            Moves the marker away from the data point in the\n            direction of `angle` (in px). This can be useful for\n            example if you have another marker at this location and\n            you want to point an arrowhead marker at it.\n        standoffsrc\n            Sets the source reference on Chart Studio Cloud for\n            `standoff`.\n        symbol\n            Sets the marker symbol type. Adding 100 is equivalent\n            to appending \"-open\" to a symbol name. Adding 200 is\n            equivalent to appending \"-dot\" to a symbol name. Adding\n            300 is equivalent to appending \"-open-dot\" or \"dot-\n            open\" to a symbol name.\n        symbolsrc\n            Sets the source reference on Chart Studio Cloud for\n            `symbol`.\n        \nDid you mean \"sizeref\"?\n"
     ]
    }
   ],
   "source": [
    "import plotly.graph_objs as go\n",
    "\n",
    "# Create some data\n",
    "x = [1, 2, 3, 4, 5]\n",
    "y = [1, 4, 9, 16, 25]\n",
    "\n",
    "# Create a FigureWidget object with a scatter plot\n",
    "fig = go.FigureWidget(data=[go.Scatter(x=x, y=y, mode='markers')])\n",
    "\n",
    "# Define a callback function that updates the trace\n",
    "def update_markers(trace, points, selector):\n",
    "    # Create a new marker style for the selected points\n",
    "    marker = dict(color='red', size=10)\n",
    "    # Update the trace's selected marker properties\n",
    "    trace.marker.selected = marker\n",
    "\n",
    "# Register the callback function with the scatter plot\n",
    "fig.data[0].on_selection(update_markers)\n",
    "\n",
    "# Display the FigureWidget\n",
    "fig\n"
   ]
  },
  {
   "cell_type": "code",
   "execution_count": 7,
   "metadata": {},
   "outputs": [
    {
     "ename": "ValueError",
     "evalue": "\n    Invalid value of type 'builtins.dict' received for the 'selections' property of layout\n        Received value: {'mode': 'lasso', 'shape': 'triangle'}\n\n    The 'selections' property is a tuple of instances of\n    Selection that may be specified as:\n      - A list or tuple of instances of plotly.graph_objs.layout.Selection\n      - A list or tuple of dicts of string/value properties that\n        will be passed to the Selection constructor\n\n        Supported dict properties:\n            \n            line\n                :class:`plotly.graph_objects.layout.selection.L\n                ine` instance or dict with compatible\n                properties\n            name\n                When used in a template, named items are\n                created in the output figure in addition to any\n                items the figure already has in this array. You\n                can modify these items in the output figure by\n                making your own item with `templateitemname`\n                matching this `name` alongside your\n                modifications (including `visible: false` or\n                `enabled: false` to hide it). Has no effect\n                outside of a template.\n            opacity\n                Sets the opacity of the selection.\n            path\n                For `type` \"path\" - a valid SVG path similar to\n                `shapes.path` in data coordinates. Allowed\n                segments are: M, L and Z.\n            templateitemname\n                Used to refer to a named item in this array in\n                the template. Named items from the template\n                will be created even without a matching item in\n                the input figure, but you can modify one by\n                making an item with `templateitemname` matching\n                its `name`, alongside your modifications\n                (including `visible: false` or `enabled: false`\n                to hide it). If there is no template or no\n                matching item, this item will be hidden unless\n                you explicitly show it with `visible: true`.\n            type\n                Specifies the selection type to be drawn. If\n                \"rect\", a rectangle is drawn linking\n                (`x0`,`y0`), (`x1`,`y0`), (`x1`,`y1`) and\n                (`x0`,`y1`). If \"path\", draw a custom SVG path\n                using `path`.\n            x0\n                Sets the selection's starting x position.\n            x1\n                Sets the selection's end x position.\n            xref\n                Sets the selection's x coordinate axis. If set\n                to a x axis id (e.g. \"x\" or \"x2\"), the `x`\n                position refers to a x coordinate. If set to\n                \"paper\", the `x` position refers to the\n                distance from the left of the plotting area in\n                normalized coordinates where 0 (1) corresponds\n                to the left (right). If set to a x axis ID\n                followed by \"domain\" (separated by a space),\n                the position behaves like for \"paper\", but\n                refers to the distance in fractions of the\n                domain length from the left of the domain of\n                that axis: e.g., *x2 domain* refers to the\n                domain of the second x  axis and a x position\n                of 0.5 refers to the point between the left and\n                the right of the domain of the second x axis.\n            y0\n                Sets the selection's starting y position.\n            y1\n                Sets the selection's end y position.\n            yref\n                Sets the selection's x coordinate axis. If set\n                to a y axis id (e.g. \"y\" or \"y2\"), the `y`\n                position refers to a y coordinate. If set to\n                \"paper\", the `y` position refers to the\n                distance from the bottom of the plotting area\n                in normalized coordinates where 0 (1)\n                corresponds to the bottom (top). If set to a y\n                axis ID followed by \"domain\" (separated by a\n                space), the position behaves like for \"paper\",\n                but refers to the distance in fractions of the\n                domain length from the bottom of the domain of\n                that axis: e.g., *y2 domain* refers to the\n                domain of the second y  axis and a y position\n                of 0.5 refers to the point between the bottom\n                and the top of the domain of the second y axis.\n",
     "output_type": "error",
     "traceback": [
      "\u001b[1;31m---------------------------------------------------------------------------\u001b[0m",
      "\u001b[1;31mValueError\u001b[0m                                Traceback (most recent call last)",
      "Cell \u001b[1;32mIn[7], line 7\u001b[0m\n\u001b[0;32m      1\u001b[0m \u001b[39mimport\u001b[39;00m \u001b[39mplotly\u001b[39;00m\u001b[39m.\u001b[39;00m\u001b[39mgraph_objs\u001b[39;00m \u001b[39mas\u001b[39;00m \u001b[39mgo\u001b[39;00m\n\u001b[0;32m      3\u001b[0m fig \u001b[39m=\u001b[39m go\u001b[39m.\u001b[39mFigure(data\u001b[39m=\u001b[39mgo\u001b[39m.\u001b[39mScatter(x\u001b[39m=\u001b[39m[\u001b[39m1\u001b[39m, \u001b[39m2\u001b[39m, \u001b[39m3\u001b[39m, \u001b[39m4\u001b[39m, \u001b[39m5\u001b[39m],\n\u001b[0;32m      4\u001b[0m                                 y\u001b[39m=\u001b[39m[\u001b[39m1\u001b[39m, \u001b[39m2\u001b[39m, \u001b[39m3\u001b[39m, \u001b[39m4\u001b[39m, \u001b[39m5\u001b[39m],\n\u001b[0;32m      5\u001b[0m                                 mode\u001b[39m=\u001b[39m\u001b[39m'\u001b[39m\u001b[39mmarkers\u001b[39m\u001b[39m'\u001b[39m))\n\u001b[1;32m----> 7\u001b[0m fig\u001b[39m.\u001b[39;49mupdate_layout(\n\u001b[0;32m      8\u001b[0m     yaxis\u001b[39m=\u001b[39;49m\u001b[39mdict\u001b[39;49m(domain\u001b[39m=\u001b[39;49m[\u001b[39m0.1\u001b[39;49m, \u001b[39m1\u001b[39;49m]),\n\u001b[0;32m      9\u001b[0m     yaxis2\u001b[39m=\u001b[39;49m\u001b[39mdict\u001b[39;49m(domain\u001b[39m=\u001b[39;49m[\u001b[39m0\u001b[39;49m, \u001b[39m0.1\u001b[39;49m]),\n\u001b[0;32m     10\u001b[0m     dragmode\u001b[39m=\u001b[39;49m\u001b[39m'\u001b[39;49m\u001b[39mselect\u001b[39;49m\u001b[39m'\u001b[39;49m,\n\u001b[0;32m     11\u001b[0m     selectdirection\u001b[39m=\u001b[39;49m\u001b[39m'\u001b[39;49m\u001b[39mh\u001b[39;49m\u001b[39m'\u001b[39;49m,\n\u001b[0;32m     12\u001b[0m     boxmode\u001b[39m=\u001b[39;49m\u001b[39m'\u001b[39;49m\u001b[39mgroup\u001b[39;49m\u001b[39m'\u001b[39;49m,\n\u001b[0;32m     13\u001b[0m     \u001b[39m# Add the box select tool\u001b[39;49;00m\n\u001b[0;32m     14\u001b[0m     selections\u001b[39m=\u001b[39;49m\u001b[39mdict\u001b[39;49m(\n\u001b[0;32m     15\u001b[0m         mode\u001b[39m=\u001b[39;49m\u001b[39m'\u001b[39;49m\u001b[39mlasso\u001b[39;49m\u001b[39m'\u001b[39;49m,\n\u001b[0;32m     16\u001b[0m         \u001b[39m# Set the shape of the lasso selector to be a triangle\u001b[39;49;00m\n\u001b[0;32m     17\u001b[0m         shape\u001b[39m=\u001b[39;49m\u001b[39m'\u001b[39;49m\u001b[39mtriangle\u001b[39;49m\u001b[39m'\u001b[39;49m\n\u001b[0;32m     18\u001b[0m     )\n\u001b[0;32m     19\u001b[0m )\n\u001b[0;32m     21\u001b[0m \u001b[39mdef\u001b[39;00m \u001b[39mupdate_selected_points\u001b[39m(trace, points, selector):\n\u001b[0;32m     22\u001b[0m     \u001b[39m# Get the indices of the selected points\u001b[39;00m\n\u001b[0;32m     23\u001b[0m     inds \u001b[39m=\u001b[39m [p[\u001b[39m'\u001b[39m\u001b[39mpointIndex\u001b[39m\u001b[39m'\u001b[39m] \u001b[39mfor\u001b[39;00m p \u001b[39min\u001b[39;00m points[\u001b[39m'\u001b[39m\u001b[39mpoints\u001b[39m\u001b[39m'\u001b[39m]]\n",
      "File \u001b[1;32mc:\\lia-outlier-detection\\venv\\Lib\\site-packages\\plotly\\graph_objs\\_figure.py:775\u001b[0m, in \u001b[0;36mFigure.update_layout\u001b[1;34m(self, dict1, overwrite, **kwargs)\u001b[0m\n\u001b[0;32m    749\u001b[0m \u001b[39mdef\u001b[39;00m \u001b[39mupdate_layout\u001b[39m(\u001b[39mself\u001b[39m, dict1\u001b[39m=\u001b[39m\u001b[39mNone\u001b[39;00m, overwrite\u001b[39m=\u001b[39m\u001b[39mFalse\u001b[39;00m, \u001b[39m*\u001b[39m\u001b[39m*\u001b[39mkwargs) \u001b[39m-\u001b[39m\u001b[39m>\u001b[39m \u001b[39m\"\u001b[39m\u001b[39mFigure\u001b[39m\u001b[39m\"\u001b[39m:\n\u001b[0;32m    750\u001b[0m \u001b[39m    \u001b[39m\u001b[39m\"\"\"\u001b[39;00m\n\u001b[0;32m    751\u001b[0m \n\u001b[0;32m    752\u001b[0m \u001b[39m    Update the properties of the figure's layout with a dict and/or with\u001b[39;00m\n\u001b[1;32m   (...)\u001b[0m\n\u001b[0;32m    773\u001b[0m \n\u001b[0;32m    774\u001b[0m \u001b[39m    \"\"\"\u001b[39;00m\n\u001b[1;32m--> 775\u001b[0m     \u001b[39mreturn\u001b[39;00m \u001b[39msuper\u001b[39;49m(Figure, \u001b[39mself\u001b[39;49m)\u001b[39m.\u001b[39;49mupdate_layout(dict1, overwrite, \u001b[39m*\u001b[39;49m\u001b[39m*\u001b[39;49mkwargs)\n",
      "File \u001b[1;32mc:\\lia-outlier-detection\\venv\\Lib\\site-packages\\plotly\\basedatatypes.py:1393\u001b[0m, in \u001b[0;36mBaseFigure.update_layout\u001b[1;34m(self, dict1, overwrite, **kwargs)\u001b[0m\n\u001b[0;32m   1369\u001b[0m \u001b[39mdef\u001b[39;00m \u001b[39mupdate_layout\u001b[39m(\u001b[39mself\u001b[39m, dict1\u001b[39m=\u001b[39m\u001b[39mNone\u001b[39;00m, overwrite\u001b[39m=\u001b[39m\u001b[39mFalse\u001b[39;00m, \u001b[39m*\u001b[39m\u001b[39m*\u001b[39mkwargs):\n\u001b[0;32m   1370\u001b[0m \u001b[39m    \u001b[39m\u001b[39m\"\"\"\u001b[39;00m\n\u001b[0;32m   1371\u001b[0m \u001b[39m    Update the properties of the figure's layout with a dict and/or with\u001b[39;00m\n\u001b[0;32m   1372\u001b[0m \u001b[39m    keyword arguments.\u001b[39;00m\n\u001b[1;32m   (...)\u001b[0m\n\u001b[0;32m   1391\u001b[0m \u001b[39m        The Figure object that the update_layout method was called on\u001b[39;00m\n\u001b[0;32m   1392\u001b[0m \u001b[39m    \"\"\"\u001b[39;00m\n\u001b[1;32m-> 1393\u001b[0m     \u001b[39mself\u001b[39;49m\u001b[39m.\u001b[39;49mlayout\u001b[39m.\u001b[39;49mupdate(dict1, overwrite\u001b[39m=\u001b[39;49moverwrite, \u001b[39m*\u001b[39;49m\u001b[39m*\u001b[39;49mkwargs)\n\u001b[0;32m   1394\u001b[0m     \u001b[39mreturn\u001b[39;00m \u001b[39mself\u001b[39m\n",
      "File \u001b[1;32mc:\\lia-outlier-detection\\venv\\Lib\\site-packages\\plotly\\basedatatypes.py:5114\u001b[0m, in \u001b[0;36mBasePlotlyType.update\u001b[1;34m(self, dict1, overwrite, **kwargs)\u001b[0m\n\u001b[0;32m   5112\u001b[0m     \u001b[39mwith\u001b[39;00m \u001b[39mself\u001b[39m\u001b[39m.\u001b[39mfigure\u001b[39m.\u001b[39mbatch_update():\n\u001b[0;32m   5113\u001b[0m         BaseFigure\u001b[39m.\u001b[39m_perform_update(\u001b[39mself\u001b[39m, dict1, overwrite\u001b[39m=\u001b[39moverwrite)\n\u001b[1;32m-> 5114\u001b[0m         BaseFigure\u001b[39m.\u001b[39;49m_perform_update(\u001b[39mself\u001b[39;49m, kwargs, overwrite\u001b[39m=\u001b[39;49moverwrite)\n\u001b[0;32m   5115\u001b[0m \u001b[39melse\u001b[39;00m:\n\u001b[0;32m   5116\u001b[0m     BaseFigure\u001b[39m.\u001b[39m_perform_update(\u001b[39mself\u001b[39m, dict1, overwrite\u001b[39m=\u001b[39moverwrite)\n",
      "File \u001b[1;32mc:\\lia-outlier-detection\\venv\\Lib\\site-packages\\plotly\\basedatatypes.py:3918\u001b[0m, in \u001b[0;36mBaseFigure._perform_update\u001b[1;34m(plotly_obj, update_obj, overwrite)\u001b[0m\n\u001b[0;32m   3912\u001b[0m             plotly_obj[key] \u001b[39m=\u001b[39m plotly_obj[key] \u001b[39m+\u001b[39m \u001b[39mtuple\u001b[39m(\n\u001b[0;32m   3913\u001b[0m                 val[\u001b[39mlen\u001b[39m(plotly_obj[key]) :]\n\u001b[0;32m   3914\u001b[0m             )\n\u001b[0;32m   3915\u001b[0m     \u001b[39melse\u001b[39;00m:\n\u001b[0;32m   3916\u001b[0m         \u001b[39m# plotly_obj is an empty or uninitialized list for key\u001b[39;00m\n\u001b[0;32m   3917\u001b[0m         \u001b[39m# In this case we accept val as is\u001b[39;00m\n\u001b[1;32m-> 3918\u001b[0m         plotly_obj[key] \u001b[39m=\u001b[39m val\n\u001b[0;32m   3919\u001b[0m \u001b[39melse\u001b[39;00m:\n\u001b[0;32m   3920\u001b[0m     \u001b[39m# Assign non-compound value\u001b[39;00m\n\u001b[0;32m   3921\u001b[0m     plotly_obj[key] \u001b[39m=\u001b[39m val\n",
      "File \u001b[1;32mc:\\lia-outlier-detection\\venv\\Lib\\site-packages\\plotly\\basedatatypes.py:5853\u001b[0m, in \u001b[0;36mBaseLayoutType.__setitem__\u001b[1;34m(self, prop, value)\u001b[0m\n\u001b[0;32m   5850\u001b[0m match \u001b[39m=\u001b[39m \u001b[39mself\u001b[39m\u001b[39m.\u001b[39m_subplot_re_match(prop)\n\u001b[0;32m   5851\u001b[0m \u001b[39mif\u001b[39;00m match \u001b[39mis\u001b[39;00m \u001b[39mNone\u001b[39;00m:\n\u001b[0;32m   5852\u001b[0m     \u001b[39m# Set as ordinary property\u001b[39;00m\n\u001b[1;32m-> 5853\u001b[0m     \u001b[39msuper\u001b[39;49m(BaseLayoutHierarchyType, \u001b[39mself\u001b[39;49m)\u001b[39m.\u001b[39;49m\u001b[39m__setitem__\u001b[39;49m(prop, value)\n\u001b[0;32m   5854\u001b[0m \u001b[39melse\u001b[39;00m:\n\u001b[0;32m   5855\u001b[0m     \u001b[39m# Set as subplotid property\u001b[39;00m\n\u001b[0;32m   5856\u001b[0m     \u001b[39mself\u001b[39m\u001b[39m.\u001b[39m_set_subplotid_prop(prop, value)\n",
      "File \u001b[1;32mc:\\lia-outlier-detection\\venv\\Lib\\site-packages\\plotly\\basedatatypes.py:4847\u001b[0m, in \u001b[0;36mBasePlotlyType.__setitem__\u001b[1;34m(self, prop, value)\u001b[0m\n\u001b[0;32m   4845\u001b[0m \u001b[39m# ### Handle compound array property ###\u001b[39;00m\n\u001b[0;32m   4846\u001b[0m \u001b[39melif\u001b[39;00m \u001b[39misinstance\u001b[39m(validator, (CompoundArrayValidator, BaseDataValidator)):\n\u001b[1;32m-> 4847\u001b[0m     \u001b[39mself\u001b[39;49m\u001b[39m.\u001b[39;49m_set_array_prop(prop, value)\n\u001b[0;32m   4849\u001b[0m \u001b[39m# ### Handle simple property ###\u001b[39;00m\n\u001b[0;32m   4850\u001b[0m \u001b[39melse\u001b[39;00m:\n\u001b[0;32m   4851\u001b[0m     \u001b[39mself\u001b[39m\u001b[39m.\u001b[39m_set_prop(prop, value)\n",
      "File \u001b[1;32mc:\\lia-outlier-detection\\venv\\Lib\\site-packages\\plotly\\basedatatypes.py:5328\u001b[0m, in \u001b[0;36mBasePlotlyType._set_array_prop\u001b[1;34m(self, prop, val)\u001b[0m\n\u001b[0;32m   5325\u001b[0m \u001b[39m# Import value\u001b[39;00m\n\u001b[0;32m   5326\u001b[0m \u001b[39m# ------------\u001b[39;00m\n\u001b[0;32m   5327\u001b[0m validator \u001b[39m=\u001b[39m \u001b[39mself\u001b[39m\u001b[39m.\u001b[39m_get_validator(prop)\n\u001b[1;32m-> 5328\u001b[0m val \u001b[39m=\u001b[39m validator\u001b[39m.\u001b[39;49mvalidate_coerce(val, skip_invalid\u001b[39m=\u001b[39;49m\u001b[39mself\u001b[39;49m\u001b[39m.\u001b[39;49m_skip_invalid)\n\u001b[0;32m   5330\u001b[0m \u001b[39m# Save deep copies of current and new states\u001b[39;00m\n\u001b[0;32m   5331\u001b[0m \u001b[39m# ------------------------------------------\u001b[39;00m\n\u001b[0;32m   5332\u001b[0m curr_val \u001b[39m=\u001b[39m \u001b[39mself\u001b[39m\u001b[39m.\u001b[39m_compound_array_props\u001b[39m.\u001b[39mget(prop, \u001b[39mNone\u001b[39;00m)\n",
      "File \u001b[1;32mc:\\lia-outlier-detection\\venv\\Lib\\site-packages\\_plotly_utils\\basevalidators.py:2584\u001b[0m, in \u001b[0;36mCompoundArrayValidator.validate_coerce\u001b[1;34m(self, v, skip_invalid)\u001b[0m\n\u001b[0;32m   2582\u001b[0m         v \u001b[39m=\u001b[39m []\n\u001b[0;32m   2583\u001b[0m     \u001b[39melse\u001b[39;00m:\n\u001b[1;32m-> 2584\u001b[0m         \u001b[39mself\u001b[39;49m\u001b[39m.\u001b[39;49mraise_invalid_val(v)\n\u001b[0;32m   2586\u001b[0m \u001b[39mreturn\u001b[39;00m v\n",
      "File \u001b[1;32mc:\\lia-outlier-detection\\venv\\Lib\\site-packages\\_plotly_utils\\basevalidators.py:288\u001b[0m, in \u001b[0;36mBaseValidator.raise_invalid_val\u001b[1;34m(self, v, inds)\u001b[0m\n\u001b[0;32m    285\u001b[0m             \u001b[39mfor\u001b[39;00m i \u001b[39min\u001b[39;00m inds:\n\u001b[0;32m    286\u001b[0m                 name \u001b[39m+\u001b[39m\u001b[39m=\u001b[39m \u001b[39m\"\u001b[39m\u001b[39m[\u001b[39m\u001b[39m\"\u001b[39m \u001b[39m+\u001b[39m \u001b[39mstr\u001b[39m(i) \u001b[39m+\u001b[39m \u001b[39m\"\u001b[39m\u001b[39m]\u001b[39m\u001b[39m\"\u001b[39m\n\u001b[1;32m--> 288\u001b[0m         \u001b[39mraise\u001b[39;00m \u001b[39mValueError\u001b[39;00m(\n\u001b[0;32m    289\u001b[0m \u001b[39m            \u001b[39m\u001b[39m\"\"\"\u001b[39;00m\n\u001b[0;32m    290\u001b[0m \u001b[39m    Invalid value of type {typ} received for the '{name}' property of {pname}\u001b[39;00m\n\u001b[0;32m    291\u001b[0m \u001b[39m        Received value: {v}\u001b[39;00m\n\u001b[0;32m    292\u001b[0m \n\u001b[0;32m    293\u001b[0m \u001b[39m{valid_clr_desc}\"\"\"\u001b[39;00m\u001b[39m.\u001b[39mformat(\n\u001b[0;32m    294\u001b[0m                 name\u001b[39m=\u001b[39mname,\n\u001b[0;32m    295\u001b[0m                 pname\u001b[39m=\u001b[39m\u001b[39mself\u001b[39m\u001b[39m.\u001b[39mparent_name,\n\u001b[0;32m    296\u001b[0m                 typ\u001b[39m=\u001b[39mtype_str(v),\n\u001b[0;32m    297\u001b[0m                 v\u001b[39m=\u001b[39m\u001b[39mrepr\u001b[39m(v),\n\u001b[0;32m    298\u001b[0m                 valid_clr_desc\u001b[39m=\u001b[39m\u001b[39mself\u001b[39m\u001b[39m.\u001b[39mdescription(),\n\u001b[0;32m    299\u001b[0m             )\n\u001b[0;32m    300\u001b[0m         )\n",
      "\u001b[1;31mValueError\u001b[0m: \n    Invalid value of type 'builtins.dict' received for the 'selections' property of layout\n        Received value: {'mode': 'lasso', 'shape': 'triangle'}\n\n    The 'selections' property is a tuple of instances of\n    Selection that may be specified as:\n      - A list or tuple of instances of plotly.graph_objs.layout.Selection\n      - A list or tuple of dicts of string/value properties that\n        will be passed to the Selection constructor\n\n        Supported dict properties:\n            \n            line\n                :class:`plotly.graph_objects.layout.selection.L\n                ine` instance or dict with compatible\n                properties\n            name\n                When used in a template, named items are\n                created in the output figure in addition to any\n                items the figure already has in this array. You\n                can modify these items in the output figure by\n                making your own item with `templateitemname`\n                matching this `name` alongside your\n                modifications (including `visible: false` or\n                `enabled: false` to hide it). Has no effect\n                outside of a template.\n            opacity\n                Sets the opacity of the selection.\n            path\n                For `type` \"path\" - a valid SVG path similar to\n                `shapes.path` in data coordinates. Allowed\n                segments are: M, L and Z.\n            templateitemname\n                Used to refer to a named item in this array in\n                the template. Named items from the template\n                will be created even without a matching item in\n                the input figure, but you can modify one by\n                making an item with `templateitemname` matching\n                its `name`, alongside your modifications\n                (including `visible: false` or `enabled: false`\n                to hide it). If there is no template or no\n                matching item, this item will be hidden unless\n                you explicitly show it with `visible: true`.\n            type\n                Specifies the selection type to be drawn. If\n                \"rect\", a rectangle is drawn linking\n                (`x0`,`y0`), (`x1`,`y0`), (`x1`,`y1`) and\n                (`x0`,`y1`). If \"path\", draw a custom SVG path\n                using `path`.\n            x0\n                Sets the selection's starting x position.\n            x1\n                Sets the selection's end x position.\n            xref\n                Sets the selection's x coordinate axis. If set\n                to a x axis id (e.g. \"x\" or \"x2\"), the `x`\n                position refers to a x coordinate. If set to\n                \"paper\", the `x` position refers to the\n                distance from the left of the plotting area in\n                normalized coordinates where 0 (1) corresponds\n                to the left (right). If set to a x axis ID\n                followed by \"domain\" (separated by a space),\n                the position behaves like for \"paper\", but\n                refers to the distance in fractions of the\n                domain length from the left of the domain of\n                that axis: e.g., *x2 domain* refers to the\n                domain of the second x  axis and a x position\n                of 0.5 refers to the point between the left and\n                the right of the domain of the second x axis.\n            y0\n                Sets the selection's starting y position.\n            y1\n                Sets the selection's end y position.\n            yref\n                Sets the selection's x coordinate axis. If set\n                to a y axis id (e.g. \"y\" or \"y2\"), the `y`\n                position refers to a y coordinate. If set to\n                \"paper\", the `y` position refers to the\n                distance from the bottom of the plotting area\n                in normalized coordinates where 0 (1)\n                corresponds to the bottom (top). If set to a y\n                axis ID followed by \"domain\" (separated by a\n                space), the position behaves like for \"paper\",\n                but refers to the distance in fractions of the\n                domain length from the bottom of the domain of\n                that axis: e.g., *y2 domain* refers to the\n                domain of the second y  axis and a y position\n                of 0.5 refers to the point between the bottom\n                and the top of the domain of the second y axis.\n"
     ]
    }
   ],
   "source": [
    "import plotly.graph_objs as go\n",
    "\n",
    "fig = go.Figure(data=go.Scatter(x=[1, 2, 3, 4, 5],\n",
    "                                y=[1, 2, 3, 4, 5],\n",
    "                                mode='markers'))\n",
    "\n",
    "fig.update_layout(\n",
    "    yaxis=dict(domain=[0.1, 1]),\n",
    "    yaxis2=dict(domain=[0, 0.1]),\n",
    "    dragmode='select',\n",
    "    selectdirection='h',\n",
    "    boxmode='group',\n",
    "    # Add the box select tool\n",
    "    selections=dict(\n",
    "        mode='lasso',\n",
    "        # Set the shape of the lasso selector to be a triangle\n",
    "        shape='triangle'\n",
    "    )\n",
    ")\n",
    "\n",
    "def update_selected_points(trace, points, selector):\n",
    "    # Get the indices of the selected points\n",
    "    inds = [p['pointIndex'] for p in points['points']]\n",
    "    # Update the marker symbol of the selected points to triangles\n",
    "    fig.data[0].marker.symbol[inds] = 'triangle'\n",
    "\n",
    "fig.update_layout(\n",
    "    dragmode='select',\n",
    "    selectdirection='h',\n",
    "    boxmode='group',\n",
    "    selections=dict(\n",
    "        mode='lasso',\n",
    "        shape='triangle',\n",
    "        # Add the callback function to the box select tool\n",
    "        onselection=update_selected_points\n",
    "    )\n",
    ")\n"
   ]
  },
  {
   "cell_type": "code",
   "execution_count": 5,
   "metadata": {},
   "outputs": [
    {
     "data": {
      "text/html": [
       "<div>\n",
       "<style scoped>\n",
       "    .dataframe tbody tr th:only-of-type {\n",
       "        vertical-align: middle;\n",
       "    }\n",
       "\n",
       "    .dataframe tbody tr th {\n",
       "        vertical-align: top;\n",
       "    }\n",
       "\n",
       "    .dataframe thead th {\n",
       "        text-align: right;\n",
       "    }\n",
       "</style>\n",
       "<table border=\"1\" class=\"dataframe\">\n",
       "  <thead>\n",
       "    <tr style=\"text-align: right;\">\n",
       "      <th></th>\n",
       "      <th>Asset name;\"NU4202 Naset\"</th>\n",
       "    </tr>\n",
       "  </thead>\n",
       "  <tbody>\n",
       "    <tr>\n",
       "      <th>Exported on;\"8 March 2023</th>\n",
       "      <td>12:51:59\"</td>\n",
       "    </tr>\n",
       "    <tr>\n",
       "      <th>Timezone;\"UTC +1\"</th>\n",
       "      <td>NaN</td>\n",
       "    </tr>\n",
       "    <tr>\n",
       "      <th>Date/Time;\"Water level</th>\n",
       "      <td>Nap (cm)\"</td>\n",
       "    </tr>\n",
       "    <tr>\n",
       "      <th>2022-03-08 00:00:04;24</th>\n",
       "      <td>NaN</td>\n",
       "    </tr>\n",
       "    <tr>\n",
       "      <th>2022-03-08 00:30:00;24</th>\n",
       "      <td>NaN</td>\n",
       "    </tr>\n",
       "    <tr>\n",
       "      <th>...</th>\n",
       "      <td>...</td>\n",
       "    </tr>\n",
       "    <tr>\n",
       "      <th>2023-03-07 23:00:00;26</th>\n",
       "      <td>NaN</td>\n",
       "    </tr>\n",
       "    <tr>\n",
       "      <th>2023-03-07 23:30:00;25</th>\n",
       "      <td>NaN</td>\n",
       "    </tr>\n",
       "    <tr>\n",
       "      <th>2023-03-08 00:00:04;25</th>\n",
       "      <td>NaN</td>\n",
       "    </tr>\n",
       "    <tr>\n",
       "      <th>2023-03-08 00:30:00;25</th>\n",
       "      <td>NaN</td>\n",
       "    </tr>\n",
       "    <tr>\n",
       "      <th>2023-03-08 01:00:00;23</th>\n",
       "      <td>NaN</td>\n",
       "    </tr>\n",
       "  </tbody>\n",
       "</table>\n",
       "<p>17526 rows × 1 columns</p>\n",
       "</div>"
      ],
      "text/plain": [
       "                          Asset name;\"NU4202 Naset\"\n",
       "Exported on;\"8 March 2023                 12:51:59\"\n",
       "Timezone;\"UTC +1\"                               NaN\n",
       "Date/Time;\"Water level                    Nap (cm)\"\n",
       "2022-03-08 00:00:04;24                          NaN\n",
       "2022-03-08 00:30:00;24                          NaN\n",
       "...                                             ...\n",
       "2023-03-07 23:00:00;26                          NaN\n",
       "2023-03-07 23:30:00;25                          NaN\n",
       "2023-03-08 00:00:04;25                          NaN\n",
       "2023-03-08 00:30:00;25                          NaN\n",
       "2023-03-08 01:00:00;23                          NaN\n",
       "\n",
       "[17526 rows x 1 columns]"
      ]
     },
     "execution_count": 5,
     "metadata": {},
     "output_type": "execute_result"
    }
   ],
   "source": [
    "glen_1 = pd.read_csv(\"data/asset-data-export_O12QnL6kAl-640876dfe5066-1678276319.csv\")\n",
    "glen_1"
   ]
  },
  {
   "cell_type": "code",
   "execution_count": 6,
   "metadata": {},
   "outputs": [
    {
     "data": {
      "text/html": [
       "<div>\n",
       "<style scoped>\n",
       "    .dataframe tbody tr th:only-of-type {\n",
       "        vertical-align: middle;\n",
       "    }\n",
       "\n",
       "    .dataframe tbody tr th {\n",
       "        vertical-align: top;\n",
       "    }\n",
       "\n",
       "    .dataframe thead th {\n",
       "        text-align: right;\n",
       "    }\n",
       "</style>\n",
       "<table border=\"1\" class=\"dataframe\">\n",
       "  <thead>\n",
       "    <tr style=\"text-align: right;\">\n",
       "      <th></th>\n",
       "      <th>Asset name;NU4201 Spektrumgatan</th>\n",
       "    </tr>\n",
       "  </thead>\n",
       "  <tbody>\n",
       "    <tr>\n",
       "      <th>Exported on;9 March 2023</th>\n",
       "      <td>08:37:32</td>\n",
       "    </tr>\n",
       "    <tr>\n",
       "      <th>Timezone;UTC +1</th>\n",
       "      <td>NaN</td>\n",
       "    </tr>\n",
       "    <tr>\n",
       "      <th>;</th>\n",
       "      <td>NaN</td>\n",
       "    </tr>\n",
       "    <tr>\n",
       "      <th>Date/Time;Water level</th>\n",
       "      <td>Nap (cm)</td>\n",
       "    </tr>\n",
       "    <tr>\n",
       "      <th>2022-03-09 00:00;5</th>\n",
       "      <td>NaN</td>\n",
       "    </tr>\n",
       "    <tr>\n",
       "      <th>...</th>\n",
       "      <td>...</td>\n",
       "    </tr>\n",
       "    <tr>\n",
       "      <th>2023-03-08 23:00;1</th>\n",
       "      <td>NaN</td>\n",
       "    </tr>\n",
       "    <tr>\n",
       "      <th>2023-03-08 23:30;1</th>\n",
       "      <td>NaN</td>\n",
       "    </tr>\n",
       "    <tr>\n",
       "      <th>2023-03-09 00:00;1</th>\n",
       "      <td>NaN</td>\n",
       "    </tr>\n",
       "    <tr>\n",
       "      <th>2023-03-09 00:30;1</th>\n",
       "      <td>NaN</td>\n",
       "    </tr>\n",
       "    <tr>\n",
       "      <th>2023-03-09 01:00;1</th>\n",
       "      <td>NaN</td>\n",
       "    </tr>\n",
       "  </tbody>\n",
       "</table>\n",
       "<p>17527 rows × 1 columns</p>\n",
       "</div>"
      ],
      "text/plain": [
       "                         Asset name;NU4201 Spektrumgatan\n",
       "Exported on;9 March 2023                        08:37:32\n",
       "Timezone;UTC +1                                      NaN\n",
       ";                                                    NaN\n",
       "Date/Time;Water level                           Nap (cm)\n",
       "2022-03-09 00:00;5                                   NaN\n",
       "...                                                  ...\n",
       "2023-03-08 23:00;1                                   NaN\n",
       "2023-03-08 23:30;1                                   NaN\n",
       "2023-03-09 00:00;1                                   NaN\n",
       "2023-03-09 00:30;1                                   NaN\n",
       "2023-03-09 01:00;1                                   NaN\n",
       "\n",
       "[17527 rows x 1 columns]"
      ]
     },
     "execution_count": 6,
     "metadata": {},
     "output_type": "execute_result"
    }
   ],
   "source": [
    "glen_2 = pd.read_csv(\"data/asset-data-export_Zga3AM63oO-64098cbc36e23-1678347452.csv\")\n",
    "glen_2"
   ]
  },
  {
   "cell_type": "code",
   "execution_count": 12,
   "metadata": {},
   "outputs": [
    {
     "data": {
      "text/html": [
       "<div>\n",
       "<style scoped>\n",
       "    .dataframe tbody tr th:only-of-type {\n",
       "        vertical-align: middle;\n",
       "    }\n",
       "\n",
       "    .dataframe tbody tr th {\n",
       "        vertical-align: top;\n",
       "    }\n",
       "\n",
       "    .dataframe thead th {\n",
       "        text-align: right;\n",
       "    }\n",
       "</style>\n",
       "<table border=\"1\" class=\"dataframe\">\n",
       "  <thead>\n",
       "    <tr style=\"text-align: right;\">\n",
       "      <th></th>\n",
       "      <th>Asset name;NU3328 Strandvägen</th>\n",
       "    </tr>\n",
       "  </thead>\n",
       "  <tbody>\n",
       "    <tr>\n",
       "      <th>Exported on;9 March 2023</th>\n",
       "      <td>08:39:05</td>\n",
       "    </tr>\n",
       "    <tr>\n",
       "      <th>Timezone;UTC +1</th>\n",
       "      <td>NaN</td>\n",
       "    </tr>\n",
       "    <tr>\n",
       "      <th>;</th>\n",
       "      <td>NaN</td>\n",
       "    </tr>\n",
       "    <tr>\n",
       "      <th>Date/Time;Water level</th>\n",
       "      <td>Nap (cm)</td>\n",
       "    </tr>\n",
       "    <tr>\n",
       "      <th>2022-04-22 12:47;11</th>\n",
       "      <td>NaN</td>\n",
       "    </tr>\n",
       "  </tbody>\n",
       "</table>\n",
       "</div>"
      ],
      "text/plain": [
       "                         Asset name;NU3328 Strandvägen\n",
       "Exported on;9 March 2023                      08:39:05\n",
       "Timezone;UTC +1                                    NaN\n",
       ";                                                  NaN\n",
       "Date/Time;Water level                         Nap (cm)\n",
       "2022-04-22 12:47;11                                NaN"
      ]
     },
     "execution_count": 12,
     "metadata": {},
     "output_type": "execute_result"
    }
   ],
   "source": [
    "glen_3 = pd.read_csv(\"data/asset-data-export_vEm3Jd5916-64098d190a5ca-1678347545.csv\")\n",
    "glen_3.head()"
   ]
  },
  {
   "cell_type": "code",
   "execution_count": null,
   "metadata": {},
   "outputs": [],
   "source": []
  }
 ],
 "metadata": {
  "kernelspec": {
   "display_name": "venv",
   "language": "python",
   "name": "python3"
  },
  "language_info": {
   "codemirror_mode": {
    "name": "ipython",
    "version": 3
   },
   "file_extension": ".py",
   "mimetype": "text/x-python",
   "name": "python",
   "nbconvert_exporter": "python",
   "pygments_lexer": "ipython3",
   "version": "3.11.2"
  },
  "orig_nbformat": 4,
  "vscode": {
   "interpreter": {
    "hash": "80012d8e32ffc63016233ad2f4a2a527f20cadf1ddc05e8297dcaeb58aebe3af"
   }
  }
 },
 "nbformat": 4,
 "nbformat_minor": 2
}
