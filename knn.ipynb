{
 "cells": [
  {
   "cell_type": "code",
   "execution_count": 3,
   "metadata": {},
   "outputs": [],
   "source": [
    "import matplotlib.pyplot as plt\n",
    "import numpy as np\n",
    "import optuna\n",
    "import pandas as pd\n",
    "from sklearn.feature_extraction.text import CountVectorizer, TfidfVectorizer\n",
    "from sklearn.metrics import classification_report, accuracy_score, recall_score, precision_score, f1_score, confusion_matrix, ConfusionMatrixDisplay\n",
    "from sklearn.neighbors import KNeighborsClassifier\n",
    "from sklearn.model_selection import train_test_split"
   ]
  },
  {
   "attachments": {},
   "cell_type": "markdown",
   "metadata": {},
   "source": [
    "The choice of a classification model for a dataset with datetime objects depends on the specific characteristics \n",
    "of the data and the task at hand. Here are a few options to consider:\n",
    "\n",
    "Time Series Classification: \n",
    "If the dataset contains a time series of datetime objects and the task is to predict \n",
    "a categorical variable at each time step, then time series classification models like Recurrent Neural Networks (RNN), \n",
    "Long Short-Term Memory (LSTM), or Gated Recurrent Unit (GRU) can be used.\n",
    "\n",
    "Feature-based Classification: \n",
    "If the dataset has datetime objects as one of several features used to predict a categorical \n",
    "target variable, then feature-based classification models like Decision Trees, Random Forest, or Gradient Boosting can be used.\n",
    "\n",
    "Distance-based Classification: \n",
    "If the dataset has datetime objects that need to be compared or clustered based on their similarity, then distance-based \n",
    "classification models like k-Nearest Neighbors (k-NN) can be used.\n",
    "\n",
    "Ensemble-based Classification: \n",
    "If the dataset contains datetime objects along with other types of features, then ensemble-based classification models like \n",
    "AdaBoost or XGBoost can be used to combine the strengths of multiple models.\n",
    "\n",
    "In summary, the choice of a classification model for a dataset with datetime objects depends on the specific characteristics \n",
    "of the data, the task at hand, and the types of other features available in the dataset."
   ]
  },
  {
   "cell_type": "code",
   "execution_count": 21,
   "metadata": {},
   "outputs": [],
   "source": [
    "df = pd.read_csv(\"data/manipulated_data.csv\", delimiter=\";\", header=3)"
   ]
  },
  {
   "cell_type": "code",
   "execution_count": 22,
   "metadata": {},
   "outputs": [],
   "source": [
    "df[\"Date/Time\"] = pd.to_datetime(df[\"Date/Time\"])"
   ]
  },
  {
   "cell_type": "code",
   "execution_count": 77,
   "metadata": {},
   "outputs": [
    {
     "data": {
      "text/html": [
       "<div>\n",
       "<style scoped>\n",
       "    .dataframe tbody tr th:only-of-type {\n",
       "        vertical-align: middle;\n",
       "    }\n",
       "\n",
       "    .dataframe tbody tr th {\n",
       "        vertical-align: top;\n",
       "    }\n",
       "\n",
       "    .dataframe thead th {\n",
       "        text-align: right;\n",
       "    }\n",
       "</style>\n",
       "<table border=\"1\" class=\"dataframe\">\n",
       "  <thead>\n",
       "    <tr style=\"text-align: right;\">\n",
       "      <th></th>\n",
       "      <th>Date/Time</th>\n",
       "      <th>Water level, Nap (cm)</th>\n",
       "      <th>Manual Outlier</th>\n",
       "      <th>Manual outlier</th>\n",
       "    </tr>\n",
       "  </thead>\n",
       "  <tbody>\n",
       "    <tr>\n",
       "      <th>0</th>\n",
       "      <td>2022-03-08 00:00:04</td>\n",
       "      <td>24</td>\n",
       "      <td>-1</td>\n",
       "      <td>-1</td>\n",
       "    </tr>\n",
       "    <tr>\n",
       "      <th>1</th>\n",
       "      <td>2022-03-08 00:30:00</td>\n",
       "      <td>24</td>\n",
       "      <td>-1</td>\n",
       "      <td>-1</td>\n",
       "    </tr>\n",
       "    <tr>\n",
       "      <th>2</th>\n",
       "      <td>2022-03-08 01:00:00</td>\n",
       "      <td>24</td>\n",
       "      <td>-1</td>\n",
       "      <td>-1</td>\n",
       "    </tr>\n",
       "    <tr>\n",
       "      <th>3</th>\n",
       "      <td>2022-03-08 01:30:00</td>\n",
       "      <td>20</td>\n",
       "      <td>-1</td>\n",
       "      <td>-1</td>\n",
       "    </tr>\n",
       "    <tr>\n",
       "      <th>4</th>\n",
       "      <td>2022-03-08 02:00:00</td>\n",
       "      <td>20</td>\n",
       "      <td>-1</td>\n",
       "      <td>-1</td>\n",
       "    </tr>\n",
       "    <tr>\n",
       "      <th>...</th>\n",
       "      <td>...</td>\n",
       "      <td>...</td>\n",
       "      <td>...</td>\n",
       "      <td>...</td>\n",
       "    </tr>\n",
       "    <tr>\n",
       "      <th>17518</th>\n",
       "      <td>2023-03-07 23:00:00</td>\n",
       "      <td>26</td>\n",
       "      <td>-1</td>\n",
       "      <td>-1</td>\n",
       "    </tr>\n",
       "    <tr>\n",
       "      <th>17519</th>\n",
       "      <td>2023-03-07 23:30:00</td>\n",
       "      <td>25</td>\n",
       "      <td>-1</td>\n",
       "      <td>-1</td>\n",
       "    </tr>\n",
       "    <tr>\n",
       "      <th>17520</th>\n",
       "      <td>2023-03-08 00:00:04</td>\n",
       "      <td>25</td>\n",
       "      <td>-1</td>\n",
       "      <td>-1</td>\n",
       "    </tr>\n",
       "    <tr>\n",
       "      <th>17521</th>\n",
       "      <td>2023-03-08 00:30:00</td>\n",
       "      <td>25</td>\n",
       "      <td>-1</td>\n",
       "      <td>-1</td>\n",
       "    </tr>\n",
       "    <tr>\n",
       "      <th>17522</th>\n",
       "      <td>2023-03-08 01:00:00</td>\n",
       "      <td>23</td>\n",
       "      <td>-1</td>\n",
       "      <td>-1</td>\n",
       "    </tr>\n",
       "  </tbody>\n",
       "</table>\n",
       "<p>17523 rows × 4 columns</p>\n",
       "</div>"
      ],
      "text/plain": [
       "                Date/Time  Water level, Nap (cm)  Manual Outlier  \\\n",
       "0     2022-03-08 00:00:04                     24              -1   \n",
       "1     2022-03-08 00:30:00                     24              -1   \n",
       "2     2022-03-08 01:00:00                     24              -1   \n",
       "3     2022-03-08 01:30:00                     20              -1   \n",
       "4     2022-03-08 02:00:00                     20              -1   \n",
       "...                   ...                    ...             ...   \n",
       "17518 2023-03-07 23:00:00                     26              -1   \n",
       "17519 2023-03-07 23:30:00                     25              -1   \n",
       "17520 2023-03-08 00:00:04                     25              -1   \n",
       "17521 2023-03-08 00:30:00                     25              -1   \n",
       "17522 2023-03-08 01:00:00                     23              -1   \n",
       "\n",
       "       Manual outlier  \n",
       "0                  -1  \n",
       "1                  -1  \n",
       "2                  -1  \n",
       "3                  -1  \n",
       "4                  -1  \n",
       "...               ...  \n",
       "17518              -1  \n",
       "17519              -1  \n",
       "17520              -1  \n",
       "17521              -1  \n",
       "17522              -1  \n",
       "\n",
       "[17523 rows x 4 columns]"
      ]
     },
     "execution_count": 77,
     "metadata": {},
     "output_type": "execute_result"
    }
   ],
   "source": [
    "df.drop([\"Manual Outlier\"], axis=1)\n",
    "df"
   ]
  },
  {
   "cell_type": "code",
   "execution_count": 78,
   "metadata": {},
   "outputs": [
    {
     "data": {
      "text/html": [
       "<div>\n",
       "<style scoped>\n",
       "    .dataframe tbody tr th:only-of-type {\n",
       "        vertical-align: middle;\n",
       "    }\n",
       "\n",
       "    .dataframe tbody tr th {\n",
       "        vertical-align: top;\n",
       "    }\n",
       "\n",
       "    .dataframe thead th {\n",
       "        text-align: right;\n",
       "    }\n",
       "</style>\n",
       "<table border=\"1\" class=\"dataframe\">\n",
       "  <thead>\n",
       "    <tr style=\"text-align: right;\">\n",
       "      <th></th>\n",
       "      <th>Date/Time</th>\n",
       "      <th>Water level, Nap (cm)</th>\n",
       "      <th>Manual Outlier</th>\n",
       "      <th>Manual outlier</th>\n",
       "    </tr>\n",
       "  </thead>\n",
       "  <tbody>\n",
       "    <tr>\n",
       "      <th>25</th>\n",
       "      <td>2022-03-08 12:30:00</td>\n",
       "      <td>26</td>\n",
       "      <td>-1</td>\n",
       "      <td>-1</td>\n",
       "    </tr>\n",
       "    <tr>\n",
       "      <th>26</th>\n",
       "      <td>2022-03-08 13:00:00</td>\n",
       "      <td>26</td>\n",
       "      <td>1</td>\n",
       "      <td>-1</td>\n",
       "    </tr>\n",
       "    <tr>\n",
       "      <th>27</th>\n",
       "      <td>2022-03-08 13:30:04</td>\n",
       "      <td>26</td>\n",
       "      <td>-1</td>\n",
       "      <td>-1</td>\n",
       "    </tr>\n",
       "    <tr>\n",
       "      <th>28</th>\n",
       "      <td>2022-03-08 14:00:00</td>\n",
       "      <td>26</td>\n",
       "      <td>-1</td>\n",
       "      <td>-1</td>\n",
       "    </tr>\n",
       "    <tr>\n",
       "      <th>29</th>\n",
       "      <td>2022-03-08 14:30:00</td>\n",
       "      <td>24</td>\n",
       "      <td>-1</td>\n",
       "      <td>-1</td>\n",
       "    </tr>\n",
       "    <tr>\n",
       "      <th>30</th>\n",
       "      <td>2022-03-08 15:00:00</td>\n",
       "      <td>23</td>\n",
       "      <td>-1</td>\n",
       "      <td>-1</td>\n",
       "    </tr>\n",
       "  </tbody>\n",
       "</table>\n",
       "</div>"
      ],
      "text/plain": [
       "             Date/Time  Water level, Nap (cm)  Manual Outlier  Manual outlier\n",
       "25 2022-03-08 12:30:00                     26              -1              -1\n",
       "26 2022-03-08 13:00:00                     26               1              -1\n",
       "27 2022-03-08 13:30:04                     26              -1              -1\n",
       "28 2022-03-08 14:00:00                     26              -1              -1\n",
       "29 2022-03-08 14:30:00                     24              -1              -1\n",
       "30 2022-03-08 15:00:00                     23              -1              -1"
      ]
     },
     "execution_count": 78,
     "metadata": {},
     "output_type": "execute_result"
    }
   ],
   "source": [
    "df[\"Manual outlier\"] = -1\n",
    "\n",
    "df.loc[25:30]"
   ]
  },
  {
   "cell_type": "code",
   "execution_count": 79,
   "metadata": {},
   "outputs": [
    {
     "name": "stderr",
     "output_type": "stream",
     "text": [
      "C:\\Users\\johanna4303\\AppData\\Local\\Temp\\ipykernel_16764\\22027611.py:1: SettingWithCopyWarning: \n",
      "A value is trying to be set on a copy of a slice from a DataFrame\n",
      "\n",
      "See the caveats in the documentation: https://pandas.pydata.org/pandas-docs/stable/user_guide/indexing.html#returning-a-view-versus-a-copy\n",
      "  df[\"Manual outlier\"][26] = 1\n",
      "C:\\Users\\johanna4303\\AppData\\Local\\Temp\\ipykernel_16764\\22027611.py:2: SettingWithCopyWarning: \n",
      "A value is trying to be set on a copy of a slice from a DataFrame\n",
      "\n",
      "See the caveats in the documentation: https://pandas.pydata.org/pandas-docs/stable/user_guide/indexing.html#returning-a-view-versus-a-copy\n",
      "  df[\"Manual outlier\"][83] = 1\n",
      "C:\\Users\\johanna4303\\AppData\\Local\\Temp\\ipykernel_16764\\22027611.py:3: SettingWithCopyWarning: \n",
      "A value is trying to be set on a copy of a slice from a DataFrame\n",
      "\n",
      "See the caveats in the documentation: https://pandas.pydata.org/pandas-docs/stable/user_guide/indexing.html#returning-a-view-versus-a-copy\n",
      "  df[\"Manual outlier\"][122] = 1\n"
     ]
    },
    {
     "data": {
      "text/html": [
       "<div>\n",
       "<style scoped>\n",
       "    .dataframe tbody tr th:only-of-type {\n",
       "        vertical-align: middle;\n",
       "    }\n",
       "\n",
       "    .dataframe tbody tr th {\n",
       "        vertical-align: top;\n",
       "    }\n",
       "\n",
       "    .dataframe thead th {\n",
       "        text-align: right;\n",
       "    }\n",
       "</style>\n",
       "<table border=\"1\" class=\"dataframe\">\n",
       "  <thead>\n",
       "    <tr style=\"text-align: right;\">\n",
       "      <th></th>\n",
       "      <th>Date/Time</th>\n",
       "      <th>Water level, Nap (cm)</th>\n",
       "      <th>Manual Outlier</th>\n",
       "      <th>Manual outlier</th>\n",
       "    </tr>\n",
       "  </thead>\n",
       "  <tbody>\n",
       "    <tr>\n",
       "      <th>25</th>\n",
       "      <td>2022-03-08 12:30:00</td>\n",
       "      <td>26</td>\n",
       "      <td>-1</td>\n",
       "      <td>-1</td>\n",
       "    </tr>\n",
       "    <tr>\n",
       "      <th>26</th>\n",
       "      <td>2022-03-08 13:00:00</td>\n",
       "      <td>26</td>\n",
       "      <td>1</td>\n",
       "      <td>1</td>\n",
       "    </tr>\n",
       "    <tr>\n",
       "      <th>27</th>\n",
       "      <td>2022-03-08 13:30:04</td>\n",
       "      <td>26</td>\n",
       "      <td>-1</td>\n",
       "      <td>-1</td>\n",
       "    </tr>\n",
       "    <tr>\n",
       "      <th>28</th>\n",
       "      <td>2022-03-08 14:00:00</td>\n",
       "      <td>26</td>\n",
       "      <td>-1</td>\n",
       "      <td>-1</td>\n",
       "    </tr>\n",
       "    <tr>\n",
       "      <th>29</th>\n",
       "      <td>2022-03-08 14:30:00</td>\n",
       "      <td>24</td>\n",
       "      <td>-1</td>\n",
       "      <td>-1</td>\n",
       "    </tr>\n",
       "    <tr>\n",
       "      <th>30</th>\n",
       "      <td>2022-03-08 15:00:00</td>\n",
       "      <td>23</td>\n",
       "      <td>-1</td>\n",
       "      <td>-1</td>\n",
       "    </tr>\n",
       "  </tbody>\n",
       "</table>\n",
       "</div>"
      ],
      "text/plain": [
       "             Date/Time  Water level, Nap (cm)  Manual Outlier  Manual outlier\n",
       "25 2022-03-08 12:30:00                     26              -1              -1\n",
       "26 2022-03-08 13:00:00                     26               1               1\n",
       "27 2022-03-08 13:30:04                     26              -1              -1\n",
       "28 2022-03-08 14:00:00                     26              -1              -1\n",
       "29 2022-03-08 14:30:00                     24              -1              -1\n",
       "30 2022-03-08 15:00:00                     23              -1              -1"
      ]
     },
     "execution_count": 79,
     "metadata": {},
     "output_type": "execute_result"
    }
   ],
   "source": [
    "df[\"Manual outlier\"][26] = 1\n",
    "df[\"Manual outlier\"][83] = 1\n",
    "df[\"Manual outlier\"][122] = 1\n",
    "df.loc[25:30]\n"
   ]
  },
  {
   "cell_type": "code",
   "execution_count": 80,
   "metadata": {},
   "outputs": [],
   "source": [
    "X = df[\"Water level, Nap (cm)\"]\n",
    "y = df[\"Manual outlier\"]"
   ]
  },
  {
   "cell_type": "code",
   "execution_count": 81,
   "metadata": {},
   "outputs": [
    {
     "name": "stdout",
     "output_type": "stream",
     "text": [
      "(17523,)\n",
      "(17523,)\n"
     ]
    }
   ],
   "source": [
    "print(X.shape)\n",
    "print(y.shape)"
   ]
  },
  {
   "cell_type": "code",
   "execution_count": 82,
   "metadata": {},
   "outputs": [
    {
     "name": "stdout",
     "output_type": "stream",
     "text": [
      "(17523, 1)\n"
     ]
    }
   ],
   "source": [
    "X = X.values\n",
    "X = X.reshape((-1, 1))\n",
    "print(X.shape)"
   ]
  },
  {
   "cell_type": "code",
   "execution_count": 83,
   "metadata": {},
   "outputs": [
    {
     "data": {
      "text/html": [
       "<style>#sk-container-id-5 {color: black;background-color: white;}#sk-container-id-5 pre{padding: 0;}#sk-container-id-5 div.sk-toggleable {background-color: white;}#sk-container-id-5 label.sk-toggleable__label {cursor: pointer;display: block;width: 100%;margin-bottom: 0;padding: 0.3em;box-sizing: border-box;text-align: center;}#sk-container-id-5 label.sk-toggleable__label-arrow:before {content: \"▸\";float: left;margin-right: 0.25em;color: #696969;}#sk-container-id-5 label.sk-toggleable__label-arrow:hover:before {color: black;}#sk-container-id-5 div.sk-estimator:hover label.sk-toggleable__label-arrow:before {color: black;}#sk-container-id-5 div.sk-toggleable__content {max-height: 0;max-width: 0;overflow: hidden;text-align: left;background-color: #f0f8ff;}#sk-container-id-5 div.sk-toggleable__content pre {margin: 0.2em;color: black;border-radius: 0.25em;background-color: #f0f8ff;}#sk-container-id-5 input.sk-toggleable__control:checked~div.sk-toggleable__content {max-height: 200px;max-width: 100%;overflow: auto;}#sk-container-id-5 input.sk-toggleable__control:checked~label.sk-toggleable__label-arrow:before {content: \"▾\";}#sk-container-id-5 div.sk-estimator input.sk-toggleable__control:checked~label.sk-toggleable__label {background-color: #d4ebff;}#sk-container-id-5 div.sk-label input.sk-toggleable__control:checked~label.sk-toggleable__label {background-color: #d4ebff;}#sk-container-id-5 input.sk-hidden--visually {border: 0;clip: rect(1px 1px 1px 1px);clip: rect(1px, 1px, 1px, 1px);height: 1px;margin: -1px;overflow: hidden;padding: 0;position: absolute;width: 1px;}#sk-container-id-5 div.sk-estimator {font-family: monospace;background-color: #f0f8ff;border: 1px dotted black;border-radius: 0.25em;box-sizing: border-box;margin-bottom: 0.5em;}#sk-container-id-5 div.sk-estimator:hover {background-color: #d4ebff;}#sk-container-id-5 div.sk-parallel-item::after {content: \"\";width: 100%;border-bottom: 1px solid gray;flex-grow: 1;}#sk-container-id-5 div.sk-label:hover label.sk-toggleable__label {background-color: #d4ebff;}#sk-container-id-5 div.sk-serial::before {content: \"\";position: absolute;border-left: 1px solid gray;box-sizing: border-box;top: 0;bottom: 0;left: 50%;z-index: 0;}#sk-container-id-5 div.sk-serial {display: flex;flex-direction: column;align-items: center;background-color: white;padding-right: 0.2em;padding-left: 0.2em;position: relative;}#sk-container-id-5 div.sk-item {position: relative;z-index: 1;}#sk-container-id-5 div.sk-parallel {display: flex;align-items: stretch;justify-content: center;background-color: white;position: relative;}#sk-container-id-5 div.sk-item::before, #sk-container-id-5 div.sk-parallel-item::before {content: \"\";position: absolute;border-left: 1px solid gray;box-sizing: border-box;top: 0;bottom: 0;left: 50%;z-index: -1;}#sk-container-id-5 div.sk-parallel-item {display: flex;flex-direction: column;z-index: 1;position: relative;background-color: white;}#sk-container-id-5 div.sk-parallel-item:first-child::after {align-self: flex-end;width: 50%;}#sk-container-id-5 div.sk-parallel-item:last-child::after {align-self: flex-start;width: 50%;}#sk-container-id-5 div.sk-parallel-item:only-child::after {width: 0;}#sk-container-id-5 div.sk-dashed-wrapped {border: 1px dashed gray;margin: 0 0.4em 0.5em 0.4em;box-sizing: border-box;padding-bottom: 0.4em;background-color: white;}#sk-container-id-5 div.sk-label label {font-family: monospace;font-weight: bold;display: inline-block;line-height: 1.2em;}#sk-container-id-5 div.sk-label-container {text-align: center;}#sk-container-id-5 div.sk-container {/* jupyter's `normalize.less` sets `[hidden] { display: none; }` but bootstrap.min.css set `[hidden] { display: none !important; }` so we also need the `!important` here to be able to override the default hidden behavior on the sphinx rendered scikit-learn.org. See: https://github.com/scikit-learn/scikit-learn/issues/21755 */display: inline-block !important;position: relative;}#sk-container-id-5 div.sk-text-repr-fallback {display: none;}</style><div id=\"sk-container-id-5\" class=\"sk-top-container\"><div class=\"sk-text-repr-fallback\"><pre>KNeighborsClassifier()</pre><b>In a Jupyter environment, please rerun this cell to show the HTML representation or trust the notebook. <br />On GitHub, the HTML representation is unable to render, please try loading this page with nbviewer.org.</b></div><div class=\"sk-container\" hidden><div class=\"sk-item\"><div class=\"sk-estimator sk-toggleable\"><input class=\"sk-toggleable__control sk-hidden--visually\" id=\"sk-estimator-id-5\" type=\"checkbox\" checked><label for=\"sk-estimator-id-5\" class=\"sk-toggleable__label sk-toggleable__label-arrow\">KNeighborsClassifier</label><div class=\"sk-toggleable__content\"><pre>KNeighborsClassifier()</pre></div></div></div></div></div>"
      ],
      "text/plain": [
       "KNeighborsClassifier()"
      ]
     },
     "execution_count": 83,
     "metadata": {},
     "output_type": "execute_result"
    }
   ],
   "source": [
    "X_train, X_test, y_train, y_test = train_test_split(X, y)\n",
    "clf = KNeighborsClassifier()\n",
    "clf.fit(X_train, y_train)"
   ]
  },
  {
   "cell_type": "code",
   "execution_count": 84,
   "metadata": {},
   "outputs": [],
   "source": [
    "# Do I need zero_division parameter?\n",
    "pred = clf.predict(X_test)\n",
    "\n",
    "acc = accuracy_score(pred, y_test)\n",
    "recall = recall_score(pred, y_test, average=\"weighted\")\n",
    "precision = precision_score(pred, y_test, average=\"weighted\")\n",
    "f1 = f1_score(pred, y_test, average=\"weighted\")"
   ]
  },
  {
   "cell_type": "code",
   "execution_count": 85,
   "metadata": {},
   "outputs": [
    {
     "name": "stdout",
     "output_type": "stream",
     "text": [
      "Accuracy: 1.0, F1: 1.0, Recall: 1.0, Precision: 1.0\n"
     ]
    }
   ],
   "source": [
    "print(f\"Accuracy: {round(acc, 3)}, F1: {round(f1, 3)}, Recall: {round(recall, 3)}, Precision: {round(precision, 3)}\")"
   ]
  },
  {
   "cell_type": "code",
   "execution_count": 86,
   "metadata": {},
   "outputs": [],
   "source": [
    "trials_dictionaries = []"
   ]
  },
  {
   "cell_type": "code",
   "execution_count": 87,
   "metadata": {},
   "outputs": [],
   "source": [
    "def objective(trial):\n",
    "    X_train, X_test, y_train, y_test = train_test_split(X, y, random_state=1)\n",
    "\n",
    "    n_neighb = trial.suggest_int(\"n_neighb\", 1, 10)\n",
    "\n",
    "    clf = KNeighborsClassifier(n_neighbors=n_neighb)\n",
    "    clf.fit(X_train, y_train)\n",
    "\n",
    "    return clf.score(X_test, y_test)"
   ]
  },
  {
   "cell_type": "code",
   "execution_count": 88,
   "metadata": {},
   "outputs": [
    {
     "name": "stderr",
     "output_type": "stream",
     "text": [
      "\u001b[32m[I 2023-04-05 14:57:32,041]\u001b[0m A new study created in memory with name: no-name-824d322b-899d-4c3c-b487-138219a52ac3\u001b[0m\n",
      "\u001b[32m[I 2023-04-05 14:57:32,265]\u001b[0m Trial 0 finished with value: 1.0 and parameters: {'n_neighb': 10}. Best is trial 0 with value: 1.0.\u001b[0m\n",
      "\u001b[32m[I 2023-04-05 14:57:32,431]\u001b[0m Trial 1 finished with value: 1.0 and parameters: {'n_neighb': 10}. Best is trial 0 with value: 1.0.\u001b[0m\n",
      "\u001b[32m[I 2023-04-05 14:57:32,581]\u001b[0m Trial 2 finished with value: 1.0 and parameters: {'n_neighb': 9}. Best is trial 0 with value: 1.0.\u001b[0m\n",
      "\u001b[32m[I 2023-04-05 14:57:32,733]\u001b[0m Trial 3 finished with value: 1.0 and parameters: {'n_neighb': 7}. Best is trial 0 with value: 1.0.\u001b[0m\n",
      "\u001b[32m[I 2023-04-05 14:57:32,880]\u001b[0m Trial 4 finished with value: 1.0 and parameters: {'n_neighb': 10}. Best is trial 0 with value: 1.0.\u001b[0m\n",
      "\u001b[32m[I 2023-04-05 14:57:33,021]\u001b[0m Trial 5 finished with value: 1.0 and parameters: {'n_neighb': 6}. Best is trial 0 with value: 1.0.\u001b[0m\n",
      "\u001b[32m[I 2023-04-05 14:57:33,169]\u001b[0m Trial 6 finished with value: 1.0 and parameters: {'n_neighb': 9}. Best is trial 0 with value: 1.0.\u001b[0m\n",
      "\u001b[32m[I 2023-04-05 14:57:33,313]\u001b[0m Trial 7 finished with value: 1.0 and parameters: {'n_neighb': 3}. Best is trial 0 with value: 1.0.\u001b[0m\n",
      "\u001b[32m[I 2023-04-05 14:57:33,444]\u001b[0m Trial 8 finished with value: 1.0 and parameters: {'n_neighb': 6}. Best is trial 0 with value: 1.0.\u001b[0m\n",
      "\u001b[32m[I 2023-04-05 14:57:33,571]\u001b[0m Trial 9 finished with value: 1.0 and parameters: {'n_neighb': 6}. Best is trial 0 with value: 1.0.\u001b[0m\n",
      "\u001b[32m[I 2023-04-05 14:57:33,713]\u001b[0m Trial 10 finished with value: 1.0 and parameters: {'n_neighb': 2}. Best is trial 0 with value: 1.0.\u001b[0m\n",
      "\u001b[32m[I 2023-04-05 14:57:33,848]\u001b[0m Trial 11 finished with value: 1.0 and parameters: {'n_neighb': 10}. Best is trial 0 with value: 1.0.\u001b[0m\n",
      "\u001b[32m[I 2023-04-05 14:57:33,983]\u001b[0m Trial 12 finished with value: 1.0 and parameters: {'n_neighb': 8}. Best is trial 0 with value: 1.0.\u001b[0m\n",
      "\u001b[32m[I 2023-04-05 14:57:34,120]\u001b[0m Trial 13 finished with value: 1.0 and parameters: {'n_neighb': 4}. Best is trial 0 with value: 1.0.\u001b[0m\n",
      "\u001b[32m[I 2023-04-05 14:57:34,260]\u001b[0m Trial 14 finished with value: 1.0 and parameters: {'n_neighb': 8}. Best is trial 0 with value: 1.0.\u001b[0m\n",
      "\u001b[32m[I 2023-04-05 14:57:34,391]\u001b[0m Trial 15 finished with value: 1.0 and parameters: {'n_neighb': 10}. Best is trial 0 with value: 1.0.\u001b[0m\n",
      "\u001b[32m[I 2023-04-05 14:57:34,520]\u001b[0m Trial 16 finished with value: 1.0 and parameters: {'n_neighb': 4}. Best is trial 0 with value: 1.0.\u001b[0m\n",
      "\u001b[32m[I 2023-04-05 14:57:34,654]\u001b[0m Trial 17 finished with value: 1.0 and parameters: {'n_neighb': 1}. Best is trial 0 with value: 1.0.\u001b[0m\n",
      "\u001b[32m[I 2023-04-05 14:57:34,784]\u001b[0m Trial 18 finished with value: 1.0 and parameters: {'n_neighb': 8}. Best is trial 0 with value: 1.0.\u001b[0m\n",
      "\u001b[32m[I 2023-04-05 14:57:34,932]\u001b[0m Trial 19 finished with value: 1.0 and parameters: {'n_neighb': 9}. Best is trial 0 with value: 1.0.\u001b[0m\n",
      "\u001b[32m[I 2023-04-05 14:57:35,071]\u001b[0m Trial 20 finished with value: 1.0 and parameters: {'n_neighb': 7}. Best is trial 0 with value: 1.0.\u001b[0m\n",
      "\u001b[32m[I 2023-04-05 14:57:35,208]\u001b[0m Trial 21 finished with value: 1.0 and parameters: {'n_neighb': 9}. Best is trial 0 with value: 1.0.\u001b[0m\n",
      "\u001b[32m[I 2023-04-05 14:57:35,342]\u001b[0m Trial 22 finished with value: 1.0 and parameters: {'n_neighb': 10}. Best is trial 0 with value: 1.0.\u001b[0m\n",
      "\u001b[32m[I 2023-04-05 14:57:35,472]\u001b[0m Trial 23 finished with value: 1.0 and parameters: {'n_neighb': 9}. Best is trial 0 with value: 1.0.\u001b[0m\n",
      "\u001b[32m[I 2023-04-05 14:57:35,603]\u001b[0m Trial 24 finished with value: 1.0 and parameters: {'n_neighb': 10}. Best is trial 0 with value: 1.0.\u001b[0m\n",
      "\u001b[32m[I 2023-04-05 14:57:35,732]\u001b[0m Trial 25 finished with value: 1.0 and parameters: {'n_neighb': 8}. Best is trial 0 with value: 1.0.\u001b[0m\n",
      "\u001b[32m[I 2023-04-05 14:57:35,866]\u001b[0m Trial 26 finished with value: 1.0 and parameters: {'n_neighb': 7}. Best is trial 0 with value: 1.0.\u001b[0m\n",
      "\u001b[32m[I 2023-04-05 14:57:35,998]\u001b[0m Trial 27 finished with value: 1.0 and parameters: {'n_neighb': 9}. Best is trial 0 with value: 1.0.\u001b[0m\n",
      "\u001b[32m[I 2023-04-05 14:57:36,129]\u001b[0m Trial 28 finished with value: 1.0 and parameters: {'n_neighb': 5}. Best is trial 0 with value: 1.0.\u001b[0m\n",
      "\u001b[32m[I 2023-04-05 14:57:36,263]\u001b[0m Trial 29 finished with value: 1.0 and parameters: {'n_neighb': 10}. Best is trial 0 with value: 1.0.\u001b[0m\n",
      "\u001b[32m[I 2023-04-05 14:57:36,399]\u001b[0m Trial 30 finished with value: 1.0 and parameters: {'n_neighb': 8}. Best is trial 0 with value: 1.0.\u001b[0m\n",
      "\u001b[32m[I 2023-04-05 14:57:36,527]\u001b[0m Trial 31 finished with value: 1.0 and parameters: {'n_neighb': 7}. Best is trial 0 with value: 1.0.\u001b[0m\n",
      "\u001b[32m[I 2023-04-05 14:57:36,653]\u001b[0m Trial 32 finished with value: 1.0 and parameters: {'n_neighb': 9}. Best is trial 0 with value: 1.0.\u001b[0m\n",
      "\u001b[32m[I 2023-04-05 14:57:36,781]\u001b[0m Trial 33 finished with value: 1.0 and parameters: {'n_neighb': 10}. Best is trial 0 with value: 1.0.\u001b[0m\n",
      "\u001b[32m[I 2023-04-05 14:57:36,904]\u001b[0m Trial 34 finished with value: 1.0 and parameters: {'n_neighb': 7}. Best is trial 0 with value: 1.0.\u001b[0m\n",
      "\u001b[32m[I 2023-04-05 14:57:37,033]\u001b[0m Trial 35 finished with value: 1.0 and parameters: {'n_neighb': 9}. Best is trial 0 with value: 1.0.\u001b[0m\n",
      "\u001b[32m[I 2023-04-05 14:57:37,159]\u001b[0m Trial 36 finished with value: 1.0 and parameters: {'n_neighb': 10}. Best is trial 0 with value: 1.0.\u001b[0m\n",
      "\u001b[32m[I 2023-04-05 14:57:37,286]\u001b[0m Trial 37 finished with value: 1.0 and parameters: {'n_neighb': 5}. Best is trial 0 with value: 1.0.\u001b[0m\n",
      "\u001b[32m[I 2023-04-05 14:57:37,414]\u001b[0m Trial 38 finished with value: 1.0 and parameters: {'n_neighb': 6}. Best is trial 0 with value: 1.0.\u001b[0m\n",
      "\u001b[32m[I 2023-04-05 14:57:37,538]\u001b[0m Trial 39 finished with value: 1.0 and parameters: {'n_neighb': 9}. Best is trial 0 with value: 1.0.\u001b[0m\n",
      "\u001b[32m[I 2023-04-05 14:57:37,666]\u001b[0m Trial 40 finished with value: 1.0 and parameters: {'n_neighb': 8}. Best is trial 0 with value: 1.0.\u001b[0m\n",
      "\u001b[32m[I 2023-04-05 14:57:37,795]\u001b[0m Trial 41 finished with value: 1.0 and parameters: {'n_neighb': 10}. Best is trial 0 with value: 1.0.\u001b[0m\n",
      "\u001b[32m[I 2023-04-05 14:57:37,921]\u001b[0m Trial 42 finished with value: 1.0 and parameters: {'n_neighb': 10}. Best is trial 0 with value: 1.0.\u001b[0m\n",
      "\u001b[32m[I 2023-04-05 14:57:38,048]\u001b[0m Trial 43 finished with value: 1.0 and parameters: {'n_neighb': 9}. Best is trial 0 with value: 1.0.\u001b[0m\n",
      "\u001b[32m[I 2023-04-05 14:57:38,177]\u001b[0m Trial 44 finished with value: 1.0 and parameters: {'n_neighb': 10}. Best is trial 0 with value: 1.0.\u001b[0m\n",
      "\u001b[32m[I 2023-04-05 14:57:38,304]\u001b[0m Trial 45 finished with value: 1.0 and parameters: {'n_neighb': 8}. Best is trial 0 with value: 1.0.\u001b[0m\n",
      "\u001b[32m[I 2023-04-05 14:57:38,431]\u001b[0m Trial 46 finished with value: 1.0 and parameters: {'n_neighb': 9}. Best is trial 0 with value: 1.0.\u001b[0m\n",
      "\u001b[32m[I 2023-04-05 14:57:38,556]\u001b[0m Trial 47 finished with value: 1.0 and parameters: {'n_neighb': 10}. Best is trial 0 with value: 1.0.\u001b[0m\n",
      "\u001b[32m[I 2023-04-05 14:57:38,684]\u001b[0m Trial 48 finished with value: 1.0 and parameters: {'n_neighb': 6}. Best is trial 0 with value: 1.0.\u001b[0m\n",
      "\u001b[32m[I 2023-04-05 14:57:38,811]\u001b[0m Trial 49 finished with value: 1.0 and parameters: {'n_neighb': 4}. Best is trial 0 with value: 1.0.\u001b[0m\n",
      "\u001b[32m[I 2023-04-05 14:57:38,942]\u001b[0m Trial 50 finished with value: 1.0 and parameters: {'n_neighb': 8}. Best is trial 0 with value: 1.0.\u001b[0m\n",
      "\u001b[32m[I 2023-04-05 14:57:39,066]\u001b[0m Trial 51 finished with value: 1.0 and parameters: {'n_neighb': 5}. Best is trial 0 with value: 1.0.\u001b[0m\n",
      "\u001b[32m[I 2023-04-05 14:57:39,190]\u001b[0m Trial 52 finished with value: 1.0 and parameters: {'n_neighb': 3}. Best is trial 0 with value: 1.0.\u001b[0m\n",
      "\u001b[32m[I 2023-04-05 14:57:39,318]\u001b[0m Trial 53 finished with value: 1.0 and parameters: {'n_neighb': 7}. Best is trial 0 with value: 1.0.\u001b[0m\n",
      "\u001b[32m[I 2023-04-05 14:57:39,449]\u001b[0m Trial 54 finished with value: 1.0 and parameters: {'n_neighb': 6}. Best is trial 0 with value: 1.0.\u001b[0m\n",
      "\u001b[32m[I 2023-04-05 14:57:39,571]\u001b[0m Trial 55 finished with value: 1.0 and parameters: {'n_neighb': 1}. Best is trial 0 with value: 1.0.\u001b[0m\n",
      "\u001b[32m[I 2023-04-05 14:57:39,704]\u001b[0m Trial 56 finished with value: 1.0 and parameters: {'n_neighb': 9}. Best is trial 0 with value: 1.0.\u001b[0m\n",
      "\u001b[32m[I 2023-04-05 14:57:39,832]\u001b[0m Trial 57 finished with value: 1.0 and parameters: {'n_neighb': 10}. Best is trial 0 with value: 1.0.\u001b[0m\n",
      "\u001b[32m[I 2023-04-05 14:57:39,959]\u001b[0m Trial 58 finished with value: 1.0 and parameters: {'n_neighb': 7}. Best is trial 0 with value: 1.0.\u001b[0m\n",
      "\u001b[32m[I 2023-04-05 14:57:40,083]\u001b[0m Trial 59 finished with value: 1.0 and parameters: {'n_neighb': 6}. Best is trial 0 with value: 1.0.\u001b[0m\n",
      "\u001b[32m[I 2023-04-05 14:57:40,212]\u001b[0m Trial 60 finished with value: 1.0 and parameters: {'n_neighb': 8}. Best is trial 0 with value: 1.0.\u001b[0m\n",
      "\u001b[32m[I 2023-04-05 14:57:40,342]\u001b[0m Trial 61 finished with value: 1.0 and parameters: {'n_neighb': 9}. Best is trial 0 with value: 1.0.\u001b[0m\n",
      "\u001b[32m[I 2023-04-05 14:57:40,468]\u001b[0m Trial 62 finished with value: 1.0 and parameters: {'n_neighb': 10}. Best is trial 0 with value: 1.0.\u001b[0m\n",
      "\u001b[32m[I 2023-04-05 14:57:40,641]\u001b[0m Trial 63 finished with value: 1.0 and parameters: {'n_neighb': 9}. Best is trial 0 with value: 1.0.\u001b[0m\n",
      "\u001b[32m[I 2023-04-05 14:57:40,771]\u001b[0m Trial 64 finished with value: 1.0 and parameters: {'n_neighb': 10}. Best is trial 0 with value: 1.0.\u001b[0m\n",
      "\u001b[32m[I 2023-04-05 14:57:40,901]\u001b[0m Trial 65 finished with value: 1.0 and parameters: {'n_neighb': 10}. Best is trial 0 with value: 1.0.\u001b[0m\n",
      "\u001b[32m[I 2023-04-05 14:57:41,031]\u001b[0m Trial 66 finished with value: 1.0 and parameters: {'n_neighb': 9}. Best is trial 0 with value: 1.0.\u001b[0m\n",
      "\u001b[32m[I 2023-04-05 14:57:41,160]\u001b[0m Trial 67 finished with value: 1.0 and parameters: {'n_neighb': 8}. Best is trial 0 with value: 1.0.\u001b[0m\n",
      "\u001b[32m[I 2023-04-05 14:57:41,291]\u001b[0m Trial 68 finished with value: 1.0 and parameters: {'n_neighb': 5}. Best is trial 0 with value: 1.0.\u001b[0m\n",
      "\u001b[32m[I 2023-04-05 14:57:41,419]\u001b[0m Trial 69 finished with value: 1.0 and parameters: {'n_neighb': 10}. Best is trial 0 with value: 1.0.\u001b[0m\n",
      "\u001b[32m[I 2023-04-05 14:57:41,549]\u001b[0m Trial 70 finished with value: 1.0 and parameters: {'n_neighb': 7}. Best is trial 0 with value: 1.0.\u001b[0m\n",
      "\u001b[32m[I 2023-04-05 14:57:41,676]\u001b[0m Trial 71 finished with value: 1.0 and parameters: {'n_neighb': 3}. Best is trial 0 with value: 1.0.\u001b[0m\n",
      "\u001b[32m[I 2023-04-05 14:57:41,802]\u001b[0m Trial 72 finished with value: 1.0 and parameters: {'n_neighb': 3}. Best is trial 0 with value: 1.0.\u001b[0m\n",
      "\u001b[32m[I 2023-04-05 14:57:41,928]\u001b[0m Trial 73 finished with value: 1.0 and parameters: {'n_neighb': 2}. Best is trial 0 with value: 1.0.\u001b[0m\n",
      "\u001b[32m[I 2023-04-05 14:57:42,054]\u001b[0m Trial 74 finished with value: 1.0 and parameters: {'n_neighb': 5}. Best is trial 0 with value: 1.0.\u001b[0m\n",
      "\u001b[32m[I 2023-04-05 14:57:42,185]\u001b[0m Trial 75 finished with value: 1.0 and parameters: {'n_neighb': 9}. Best is trial 0 with value: 1.0.\u001b[0m\n",
      "\u001b[32m[I 2023-04-05 14:57:42,315]\u001b[0m Trial 76 finished with value: 1.0 and parameters: {'n_neighb': 10}. Best is trial 0 with value: 1.0.\u001b[0m\n",
      "\u001b[32m[I 2023-04-05 14:57:42,462]\u001b[0m Trial 77 finished with value: 1.0 and parameters: {'n_neighb': 4}. Best is trial 0 with value: 1.0.\u001b[0m\n",
      "\u001b[32m[I 2023-04-05 14:57:42,595]\u001b[0m Trial 78 finished with value: 1.0 and parameters: {'n_neighb': 9}. Best is trial 0 with value: 1.0.\u001b[0m\n",
      "\u001b[32m[I 2023-04-05 14:57:42,722]\u001b[0m Trial 79 finished with value: 1.0 and parameters: {'n_neighb': 8}. Best is trial 0 with value: 1.0.\u001b[0m\n",
      "\u001b[32m[I 2023-04-05 14:57:42,849]\u001b[0m Trial 80 finished with value: 1.0 and parameters: {'n_neighb': 6}. Best is trial 0 with value: 1.0.\u001b[0m\n",
      "\u001b[32m[I 2023-04-05 14:57:42,975]\u001b[0m Trial 81 finished with value: 1.0 and parameters: {'n_neighb': 7}. Best is trial 0 with value: 1.0.\u001b[0m\n",
      "\u001b[32m[I 2023-04-05 14:57:43,104]\u001b[0m Trial 82 finished with value: 1.0 and parameters: {'n_neighb': 6}. Best is trial 0 with value: 1.0.\u001b[0m\n",
      "\u001b[32m[I 2023-04-05 14:57:43,230]\u001b[0m Trial 83 finished with value: 1.0 and parameters: {'n_neighb': 5}. Best is trial 0 with value: 1.0.\u001b[0m\n",
      "\u001b[32m[I 2023-04-05 14:57:43,359]\u001b[0m Trial 84 finished with value: 1.0 and parameters: {'n_neighb': 10}. Best is trial 0 with value: 1.0.\u001b[0m\n",
      "\u001b[32m[I 2023-04-05 14:57:43,486]\u001b[0m Trial 85 finished with value: 1.0 and parameters: {'n_neighb': 6}. Best is trial 0 with value: 1.0.\u001b[0m\n",
      "\u001b[32m[I 2023-04-05 14:57:43,612]\u001b[0m Trial 86 finished with value: 1.0 and parameters: {'n_neighb': 7}. Best is trial 0 with value: 1.0.\u001b[0m\n",
      "\u001b[32m[I 2023-04-05 14:57:43,744]\u001b[0m Trial 87 finished with value: 1.0 and parameters: {'n_neighb': 4}. Best is trial 0 with value: 1.0.\u001b[0m\n",
      "\u001b[32m[I 2023-04-05 14:57:43,871]\u001b[0m Trial 88 finished with value: 1.0 and parameters: {'n_neighb': 10}. Best is trial 0 with value: 1.0.\u001b[0m\n",
      "\u001b[32m[I 2023-04-05 14:57:43,993]\u001b[0m Trial 89 finished with value: 1.0 and parameters: {'n_neighb': 1}. Best is trial 0 with value: 1.0.\u001b[0m\n",
      "\u001b[32m[I 2023-04-05 14:57:44,152]\u001b[0m Trial 90 finished with value: 1.0 and parameters: {'n_neighb': 9}. Best is trial 0 with value: 1.0.\u001b[0m\n",
      "\u001b[32m[I 2023-04-05 14:57:44,284]\u001b[0m Trial 91 finished with value: 1.0 and parameters: {'n_neighb': 6}. Best is trial 0 with value: 1.0.\u001b[0m\n",
      "\u001b[32m[I 2023-04-05 14:57:44,413]\u001b[0m Trial 92 finished with value: 1.0 and parameters: {'n_neighb': 6}. Best is trial 0 with value: 1.0.\u001b[0m\n",
      "\u001b[32m[I 2023-04-05 14:57:44,541]\u001b[0m Trial 93 finished with value: 1.0 and parameters: {'n_neighb': 7}. Best is trial 0 with value: 1.0.\u001b[0m\n",
      "\u001b[32m[I 2023-04-05 14:57:44,667]\u001b[0m Trial 94 finished with value: 1.0 and parameters: {'n_neighb': 5}. Best is trial 0 with value: 1.0.\u001b[0m\n",
      "\u001b[32m[I 2023-04-05 14:57:44,795]\u001b[0m Trial 95 finished with value: 1.0 and parameters: {'n_neighb': 6}. Best is trial 0 with value: 1.0.\u001b[0m\n",
      "\u001b[32m[I 2023-04-05 14:57:44,924]\u001b[0m Trial 96 finished with value: 1.0 and parameters: {'n_neighb': 10}. Best is trial 0 with value: 1.0.\u001b[0m\n",
      "\u001b[32m[I 2023-04-05 14:57:45,054]\u001b[0m Trial 97 finished with value: 1.0 and parameters: {'n_neighb': 8}. Best is trial 0 with value: 1.0.\u001b[0m\n",
      "\u001b[32m[I 2023-04-05 14:57:45,180]\u001b[0m Trial 98 finished with value: 1.0 and parameters: {'n_neighb': 6}. Best is trial 0 with value: 1.0.\u001b[0m\n",
      "\u001b[32m[I 2023-04-05 14:57:45,306]\u001b[0m Trial 99 finished with value: 1.0 and parameters: {'n_neighb': 2}. Best is trial 0 with value: 1.0.\u001b[0m\n"
     ]
    }
   ],
   "source": [
    "study = optuna.create_study(direction=\"maximize\")\n",
    "study.optimize(objective, n_trials=100)"
   ]
  },
  {
   "cell_type": "code",
   "execution_count": 89,
   "metadata": {},
   "outputs": [],
   "source": [
    "def detailed_objective(trial):\n",
    "    # Use same code objective to reproduce the best model\n",
    "\n",
    "    X_train, X_test, y_train, y_test = train_test_split(X, y, random_state=1)\n",
    "\n",
    "    n_neighb = trial.suggest_int(\"n_neighb\", 1, 10)\n",
    "\n",
    "    clf = KNeighborsClassifier(n_neighbors=n_neighb)\n",
    "    clf.fit(X_train, y_train)\n",
    "\n",
    "    # calculate more evaluation metrics\n",
    "    pred = clf.predict(X_test)\n",
    "\n",
    "    acc = accuracy_score(pred, y_test)\n",
    "    recall = recall_score(pred, y_test, average=\"weighted\")\n",
    "    precision = precision_score(pred, y_test, average=\"weighted\")\n",
    "    f1 = f1_score(pred, y_test, average=\"weighted\")\n",
    "\n",
    "    return acc, f1, recall, precision"
   ]
  },
  {
   "cell_type": "code",
   "execution_count": 90,
   "metadata": {},
   "outputs": [],
   "source": [
    "eval_metrics = detailed_objective(study.best_trial)"
   ]
  },
  {
   "cell_type": "code",
   "execution_count": 91,
   "metadata": {},
   "outputs": [
    {
     "name": "stdout",
     "output_type": "stream",
     "text": [
      "X, y\n",
      "Score: 1.0\n",
      "Best parameters: {'n_neighb': 10}\n",
      "F1: 1.0\n",
      "Recall: 1.0\n",
      "Precision: 1.0\n"
     ]
    }
   ],
   "source": [
    "trials_dict = {\n",
    "    \"X\": \"Date/Time\", \n",
    "    \"y\": \"Water level, Nap (cm)\", \n",
    "    \"Best score\": round(study.best_value, 3), \n",
    "    \"F1\": eval_metrics[1],\n",
    "    \"Recall\": eval_metrics[2],\n",
    "    \"Precision\": eval_metrics[3],\n",
    "    \"Best parameters\": study.best_params,\n",
    "    }\n",
    "\n",
    "trials_dictionaries.append(trials_dict)\n",
    "print(\"X, y\")\n",
    "print(f\"Score: {round(study.best_value, 3)}\")\n",
    "print(f\"Best parameters: {study.best_params}\")\n",
    "print(f\"F1: {round(eval_metrics[1], 3)}\")\n",
    "print(f\"Recall: {round(eval_metrics[2], 3)}\")\n",
    "print(f\"Precision: {round(eval_metrics[3], 3)}\")"
   ]
  },
  {
   "cell_type": "code",
   "execution_count": null,
   "metadata": {},
   "outputs": [],
   "source": []
  }
 ],
 "metadata": {
  "kernelspec": {
   "display_name": "venv",
   "language": "python",
   "name": "python3"
  },
  "language_info": {
   "codemirror_mode": {
    "name": "ipython",
    "version": 3
   },
   "file_extension": ".py",
   "mimetype": "text/x-python",
   "name": "python",
   "nbconvert_exporter": "python",
   "pygments_lexer": "ipython3",
   "version": "3.11.2"
  },
  "orig_nbformat": 4
 },
 "nbformat": 4,
 "nbformat_minor": 2
}
