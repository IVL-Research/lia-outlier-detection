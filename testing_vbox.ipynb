{
 "cells": [
  {
   "cell_type": "code",
   "execution_count": 17,
   "metadata": {},
   "outputs": [],
   "source": [
    "#!/usr/bin/env python\n",
    "# coding: utf-8\n",
    "\n",
    "import sys\n",
    "import os\n",
    "import matplotlib.pyplot as plt\n",
    "import glob\n",
    "\n",
    "from datetime import datetime\n",
    "from datetime import timedelta\n",
    "from plotly.subplots import make_subplots\n",
    "import plotly.graph_objs as go\n",
    "from ipywidgets import interactive, HBox, VBox\n",
    "# import keras\n",
    "import pandas as pd\n",
    "import numpy as np\n",
    "import random\n",
    "from dash import Dash, dcc, html, Input, Output\n",
    "import plotly.express as px\n",
    "\n",
    "class interactive_data_chooser:\n",
    "    \"\"\"\n",
    "    Class for selecting data graphically and displaying it\n",
    "    \"\"\"\n",
    "    def __init__(self, df, columns):\n",
    "        # we don't need this dataframe, make a df_copy instead?\n",
    "        self.outlier_df = pd.DataFrame()\n",
    "\n",
    "        # self.df = df\n",
    "        self.df_copy = df.copy()\n",
    "        self.columns = columns\n",
    "        self.df_copy[\"manual_outlier\"] = -1\n",
    "        self.df_copy[\"model_outlier\"] = 0\n",
    "    \n",
    "    def activate_plot(self):\n",
    "        \"\"\"\n",
    "        Display interactive plot where images (data points in the plot)\n",
    "        can be selected using box select or lasso select. \n",
    "        Selected values are stored in the global dataframe outlier_df\n",
    "        \"\"\"\n",
    "        self.df_copy.reset_index(inplace=True,drop=True)\n",
    "        numeric_df = self.df_copy.select_dtypes(include=np.number)\n",
    "        numeric_columns = numeric_df.columns\n",
    "        self.f = go.FigureWidget([go.Scatter(y = self.df_copy[self.columns[0]], x = self.df_copy[self.columns[1]], mode = 'markers',\n",
    "                                       selected_marker_color = \"red\", \n",
    "                                             marker=dict(color=numeric_df[numeric_columns[0]],\n",
    "                                                        colorbar=dict(thickness=10), colorscale=[\"blue\", \"green\", \"red\"]))])\n",
    "        # Somewhere in this method: if manual_outlier not \"NaN\" and manual_outlier not model_outlier:\n",
    "        # print manual_outlier\n",
    "        \n",
    "        scatter = self.f.data[0]\n",
    "        \n",
    "        scatter.marker.opacity = 0.5\n",
    "        \n",
    "        axis_dropdowns = interactive(self.update_axes, yaxis = self.columns, xaxis = self.columns, color = numeric_columns)\n",
    "        scatter.on_selection(self.selection_fn)\n",
    "        \n",
    "        # Put everything together\n",
    "        return VBox((HBox(axis_dropdowns.children),self.f))\n",
    "    \n",
    "    def update_axes(self, xaxis, yaxis,color):\n",
    "        scatter = self.f.data[0]\n",
    "        scatter.x = self.df_copy[xaxis]\n",
    "        scatter.y = self.df_copy[yaxis]\n",
    "        scatter.marker.color = self.df_copy[color]\n",
    "        with self.f.batch_update():\n",
    "            self.f.layout.xaxis.title = xaxis\n",
    "            self.f.layout.yaxis.title = yaxis\n",
    "\n",
    "        # self.outlier_df = pd.DataFrame(columns=self.df_copy.columns.values)\n",
    "\n",
    "    def selection_fn(self,trace,points,selector):\n",
    "        \"\"\"\n",
    "        Keeping track of points manually selected and change values in self.outlier_df[\"manual_outlier\"].\n",
    "        Value for points not manually selected is -1. If selected to be an outlier, value is set to 1.\n",
    "        If selected again not to be an outlier, value is set to 0.\n",
    "\n",
    "        Previous value is stored in temp_df if user chooses to undo selection. \n",
    "        \"\"\"\n",
    "        temp_df = self.df_copy.loc[points.point_inds]\n",
    "        \n",
    "        last_selected = len(temp_df)\n",
    "        \n",
    "        for i in temp_df.iterrows():\n",
    "            idx = i[0]\n",
    "            # Remember when combining with model that manual_outlier should override model_outlier\n",
    "            # in the plot if manual_outlier value is not -1. Do a plot_outlier column.\n",
    "            temp_df.at[idx, \"last_selected\"] = last_selected\n",
    "            # This is needed for keeping track of the changes\n",
    "            temp_df.at[idx, \"manual_outlier\"] = 1 if self.df_copy.at[idx, \"manual_outlier\"] != 1 else 0\n",
    "            # This is needed for displaying values in the plot\n",
    "            self.df_copy.at[idx, \"manual_outlier\"] = 1 if self.df_copy.at[idx, \"manual_outlier\"] != 1 else 0\n",
    "\n",
    "        self.outlier_df = pd.concat([self.outlier_df, temp_df], ignore_index=False, axis=0)\n",
    "        # Kom ihåg att ändra i metodbeskrivningen\n",
    "        # Fundera på vilka som behöver vara klassvariabler\n",
    "        \n",
    "        print(f\"Selected {last_selected} new points. Total: {len(self.outlier_df)}\")\n",
    "        drop_duplicates = self.outlier_df.drop_duplicates(subset=[\"x\", \"y1\"], keep=\"last\")\n",
    "        drop_duplicates.sort_values(by=[\"x\"], inplace=True)\n",
    "        print(f\"Unique points selected ({len(drop_duplicates)}):\")\n",
    "        for i in drop_duplicates.iterrows():\n",
    "            outlier = \"yes\" if i[1][3] == 1 else \"no\"\n",
    "            print(f\"x: {int(i[1][0])}, y1: {int(i[1][1])}, outlier: {outlier}\")\n",
    "\n",
    "        print(\"update_layout()\")\n",
    "        self.f.update_layout(overwrite=True)\n",
    "\n",
    "\n",
    "    def clear_selection(self):\n",
    "        self.outlier_df = self.outlier_df.iloc[0:0]\n",
    "    \n",
    "    def show_selected(self):\n",
    "        for index, row in self.outlier_df.iterrows():\n",
    "            plt.figure()\n",
    "            plt.imshow(plt.imread(row['file']))\n",
    "            plt.title(f\"{row['time']}, wl: {row['wl']}, turb_s: {row['turb_sensor']}, turb_p: {row['turb_post']}\")\n",
    "\n",
    "    # create train model function based on outlier status in self.df\n",
    "\n",
    "    # visualize result in graph\n",
    "\n",
    "    # function to mark point as non-outlier DONE\n",
    "\n",
    "    # button to undo choice\n",
    "\n",
    "    # button to confirm (then train model), disable if not choosen areas == 1\n",
    "\n",
    "def create_fake_df(n):\n",
    "    \"\"\"\n",
    "    Creates a dataframe with n rows and columns \"x\", \"y1\" and \"y2\". \n",
    "    The data are integers, 0-100.\n",
    "    \"\"\"\n",
    "    x = []\n",
    "    y1 = []\n",
    "    y2 = []\n",
    "\n",
    "    for _ in range(n):    \n",
    "        x_int = random.randint(0, 100)\n",
    "        x.append(x_int)\n",
    "        y1_int = random.randint(0, 100)\n",
    "        y1.append(y1_int)\n",
    "        y2_int = random.randint(0, 100)\n",
    "        y2.append(y2_int)\n",
    "\n",
    "    int_dict = {\"x\": x, \"y1\": y1, \"y2\": y2}\n",
    "    df = pd.DataFrame(int_dict)\n",
    "    return df"
   ]
  },
  {
   "cell_type": "code",
   "execution_count": 18,
   "metadata": {},
   "outputs": [
    {
     "data": {
      "application/vnd.jupyter.widget-view+json": {
       "model_id": "63caac60c9fe45b8a744b0250ad2d6be",
       "version_major": 2,
       "version_minor": 0
      },
      "text/plain": [
       "VBox(children=(HBox(children=(Dropdown(description='xaxis', options=('x', 'y1', 'y2'), value='x'), Dropdown(de…"
      ]
     },
     "execution_count": 18,
     "metadata": {},
     "output_type": "execute_result"
    },
    {
     "name": "stdout",
     "output_type": "stream",
     "text": [
      "Selected 2 new points. Total: 2\n",
      "Unique points selected:\n",
      "x: 18, y1: 76, outlier: yes\n",
      "x: 26, y1: 68, outlier: yes\n",
      "update_layout()\n",
      "Selected 2 new points. Total: 4\n",
      "Unique points selected:\n",
      "x: 18, y1: 76, outlier: yes\n",
      "x: 18, y1: 38, outlier: yes\n",
      "x: 26, y1: 68, outlier: yes\n",
      "x: 26, y1: 12, outlier: yes\n",
      "update_layout()\n",
      "Selected 2 new points. Total: 6\n",
      "Unique points selected:\n",
      "x: 18, y1: 76, outlier: no\n",
      "x: 18, y1: 38, outlier: no\n",
      "x: 26, y1: 68, outlier: yes\n",
      "x: 26, y1: 12, outlier: yes\n",
      "update_layout()\n"
     ]
    },
    {
     "name": "stderr",
     "output_type": "stream",
     "text": [
      "C:\\Users\\johanna4303\\AppData\\Local\\Temp\\ipykernel_23816\\2083280655.py:100: SettingWithCopyWarning:\n",
      "\n",
      "\n",
      "A value is trying to be set on a copy of a slice from a DataFrame\n",
      "\n",
      "See the caveats in the documentation: https://pandas.pydata.org/pandas-docs/stable/user_guide/indexing.html#returning-a-view-versus-a-copy\n",
      "\n"
     ]
    }
   ],
   "source": [
    "#!/usr/bin/env python\n",
    "# coding: utf-8\n",
    "\n",
    "from dash import Dash, dcc, html, Input, Output\n",
    "import plotly.express as px\n",
    "\n",
    "\n",
    "df = create_fake_df(15)\n",
    "chooser = interactive_data_chooser(df, df.columns)\n",
    "chooser.activate_plot()\n"
   ]
  },
  {
   "cell_type": "code",
   "execution_count": 3,
   "metadata": {},
   "outputs": [
    {
     "data": {
      "application/vnd.jupyter.widget-view+json": {
       "model_id": "3d1147d889cb41f68d92e06e6ca8c541",
       "version_major": 2,
       "version_minor": 0
      },
      "text/plain": [
       "VBox(children=(HBox(children=(Dropdown(description='xaxis', options=('x', 'y1', 'y2'), value='x'), Dropdown(de…"
      ]
     },
     "execution_count": 3,
     "metadata": {},
     "output_type": "execute_result"
    }
   ],
   "source": [
    "chooser.activate_plot()"
   ]
  }
 ],
 "metadata": {
  "kernelspec": {
   "display_name": "venv",
   "language": "python",
   "name": "python3"
  },
  "language_info": {
   "codemirror_mode": {
    "name": "ipython",
    "version": 3
   },
   "file_extension": ".py",
   "mimetype": "text/x-python",
   "name": "python",
   "nbconvert_exporter": "python",
   "pygments_lexer": "ipython3",
   "version": "3.11.2"
  },
  "orig_nbformat": 4,
  "vscode": {
   "interpreter": {
    "hash": "80012d8e32ffc63016233ad2f4a2a527f20cadf1ddc05e8297dcaeb58aebe3af"
   }
  }
 },
 "nbformat": 4,
 "nbformat_minor": 2
}
