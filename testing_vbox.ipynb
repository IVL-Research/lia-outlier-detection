{
 "cells": [
  {
   "cell_type": "code",
   "execution_count": 1,
   "metadata": {},
   "outputs": [
    {
     "data": {
      "application/vnd.jupyter.widget-view+json": {
       "model_id": "4e3ef011d9b0482fb7adce58e947c43e",
       "version_major": 2,
       "version_minor": 0
      },
      "text/plain": [
       "VBox(children=(HBox(children=(Dropdown(description='xaxis', options=('x', 'y1', 'y2'), value='x'), Dropdown(de…"
      ]
     },
     "execution_count": 1,
     "metadata": {},
     "output_type": "execute_result"
    },
    {
     "name": "stdout",
     "output_type": "stream",
     "text": [
      "     x   y1  y2  manual_outlier  model_outlier\n",
      "0   98    3   9              -1              0\n",
      "1   59   27  48              -1              0\n",
      "2   76    0   5              -1              0\n",
      "3   22   59  30              -1              0\n",
      "4   27   30   3              -1              0\n",
      "5   83   79  22              -1              0\n",
      "6   16   85  55              -1              0\n",
      "7   15   57  20              -1              0\n",
      "8   29   98  39               1              0\n",
      "9   29   27  67              -1              0\n",
      "10  69   69  33              -1              0\n",
      "11  89   52  40              -1              0\n",
      "12  52   66  93              -1              0\n",
      "13  68   62  76              -1              0\n",
      "14  30   91  24               1              0\n",
      "15  92   62  17              -1              0\n",
      "16  86   79  41              -1              0\n",
      "17  85   90  58              -1              0\n",
      "18   7   76   3              -1              0\n",
      "19  62   90  61              -1              0\n",
      "20  15   39  19              -1              0\n",
      "21  33   22  40              -1              0\n",
      "22  73    9  54              -1              0\n",
      "23  95   73  45              -1              0\n",
      "24  81   23  36              -1              0\n",
      "25   7   19  88              -1              0\n",
      "26  31   26  29              -1              0\n",
      "27   4   53  63              -1              0\n",
      "28  97  100  95              -1              0\n",
      "29  27   68  56              -1              0\n",
      "30  10   74  95              -1              0\n",
      "31  67   16  13              -1              0\n",
      "32  58   84  66              -1              0\n",
      "Selected 2 new points. Total: 2\n",
      "     x   y1  y2  manual_outlier  model_outlier\n",
      "0   98    3   9              -1              0\n",
      "1   59   27  48              -1              0\n",
      "2   76    0   5              -1              0\n",
      "3   22   59  30              -1              0\n",
      "4   27   30   3              -1              0\n",
      "5   83   79  22              -1              0\n",
      "6   16   85  55              -1              0\n",
      "7   15   57  20              -1              0\n",
      "8   29   98  39               1              0\n",
      "9   29   27  67              -1              0\n",
      "10  69   69  33              -1              0\n",
      "11  89   52  40              -1              0\n",
      "12  52   66  93              -1              0\n",
      "13  68   62  76              -1              0\n",
      "14  30   91  24               0              0\n",
      "15  92   62  17              -1              0\n",
      "16  86   79  41              -1              0\n",
      "17  85   90  58              -1              0\n",
      "18   7   76   3              -1              0\n",
      "19  62   90  61              -1              0\n",
      "20  15   39  19              -1              0\n",
      "21  33   22  40              -1              0\n",
      "22  73    9  54              -1              0\n",
      "23  95   73  45              -1              0\n",
      "24  81   23  36              -1              0\n",
      "25   7   19  88              -1              0\n",
      "26  31   26  29              -1              0\n",
      "27   4   53  63              -1              0\n",
      "28  97  100  95              -1              0\n",
      "29  27   68  56              -1              0\n",
      "30  10   74  95              -1              0\n",
      "31  67   16  13              -1              0\n",
      "32  58   84  66              -1              0\n",
      "Selected 1 new points. Total: 3\n"
     ]
    }
   ],
   "source": [
    "#!/usr/bin/env python\n",
    "# coding: utf-8\n",
    "from data_chooser import interactive_data_chooser, create_fake_df\n",
    "\n",
    "\n",
    "from dash import Dash, dcc, html, Input, Output\n",
    "import plotly.express as px\n",
    "\n",
    "\n",
    "df = create_fake_df(33)\n",
    "\n",
    "chooser = interactive_data_chooser(df, df.columns)\n",
    "chooser.activate_plot()\n"
   ]
  },
  {
   "cell_type": "code",
   "execution_count": 22,
   "metadata": {},
   "outputs": [
    {
     "data": {
      "text/html": [
       "<div>\n",
       "<style scoped>\n",
       "    .dataframe tbody tr th:only-of-type {\n",
       "        vertical-align: middle;\n",
       "    }\n",
       "\n",
       "    .dataframe tbody tr th {\n",
       "        vertical-align: top;\n",
       "    }\n",
       "\n",
       "    .dataframe thead th {\n",
       "        text-align: right;\n",
       "    }\n",
       "</style>\n",
       "<table border=\"1\" class=\"dataframe\">\n",
       "  <thead>\n",
       "    <tr style=\"text-align: right;\">\n",
       "      <th></th>\n",
       "      <th>x</th>\n",
       "      <th>y1</th>\n",
       "      <th>y2</th>\n",
       "    </tr>\n",
       "  </thead>\n",
       "  <tbody>\n",
       "  </tbody>\n",
       "</table>\n",
       "</div>"
      ],
      "text/plain": [
       "Empty DataFrame\n",
       "Columns: [x, y1, y2]\n",
       "Index: []"
      ]
     },
     "execution_count": 22,
     "metadata": {},
     "output_type": "execute_result"
    }
   ],
   "source": [
    "chooser.outlier_df"
   ]
  },
  {
   "cell_type": "code",
   "execution_count": null,
   "metadata": {},
   "outputs": [],
   "source": []
  }
 ],
 "metadata": {
  "kernelspec": {
   "display_name": "venv",
   "language": "python",
   "name": "python3"
  },
  "language_info": {
   "codemirror_mode": {
    "name": "ipython",
    "version": 3
   },
   "file_extension": ".py",
   "mimetype": "text/x-python",
   "name": "python",
   "nbconvert_exporter": "python",
   "pygments_lexer": "ipython3",
   "version": "3.11.2"
  },
  "orig_nbformat": 4,
  "vscode": {
   "interpreter": {
    "hash": "80012d8e32ffc63016233ad2f4a2a527f20cadf1ddc05e8297dcaeb58aebe3af"
   }
  }
 },
 "nbformat": 4,
 "nbformat_minor": 2
}
